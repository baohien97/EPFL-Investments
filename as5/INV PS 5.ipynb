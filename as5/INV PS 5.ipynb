{
 "cells": [
  {
   "cell_type": "code",
   "execution_count": 39,
   "metadata": {},
   "outputs": [],
   "source": [
    "import numpy as np\n",
    "import pandas as pd\n",
    "import random as random\n",
    "import matplotlib.pyplot as plt\n",
    "from scipy import stats \n",
    "from datetime import datetime\n",
    "import wrds\n",
    "import statsmodels.api as sm\n",
    "from sympy.solvers import solve\n",
    "from sympy import Symbol\n",
    "# import statsmodels.api as sm\n",
    "#db = wrds.Connection(wrds_username = 'hienle') \n"
   ]
  },
  {
   "cell_type": "markdown",
   "metadata": {},
   "source": [
    "## exercise 1"
   ]
  },
  {
   "cell_type": "markdown",
   "metadata": {},
   "source": [
    "a)"
   ]
  },
  {
   "cell_type": "code",
   "execution_count": 169,
   "metadata": {},
   "outputs": [
    {
     "name": "stdout",
     "output_type": "stream",
     "text": "A is equal to 54.44444444444446\nB is equal to 5.477778\nC is equal to 0.583048 \n\nTANGENCY PORTFOLIO:\nw_t is equal to\n[0.54249548 0.24954792 0.2079566 ]\n\nmu is equal to 0.107884\nvar_t is equal to 0.020024\nsharp ratio_t is equal to 0.621059\n"
    }
   ],
   "source": [
    "sigma = np.array([ [ 0.15**2,       0.2*0.15*0.25, 0.2*0.15*0.3 ], \n",
    "                   [ 0.2*0.15*0.25, 0.25**2,       0.2*0.25*0.3 ], \n",
    "                   [ 0.2*0.15*0.3,  0.2*0.3*0.25,  0.3**2       ] ])\n",
    "inv_sigma = np.linalg.inv(sigma)\n",
    "mu_o = np.array( [0.09, 0.12, 0.14] )\n",
    "mu_v = mu_o.transpose()\n",
    "ones_o = np.array([1,1,1])\n",
    "ones_v = ones_o.transpose()\n",
    "R0 = 0.02\n",
    "m = 1.25\n",
    "\n",
    "A = ones_o.dot(inv_sigma.dot(ones_v))\n",
    "B = ones_o.dot(inv_sigma.dot(mu_v))\n",
    "C = mu_o.dot(inv_sigma.dot(mu_v))\n",
    "delta = A*C-B**2\n",
    "s = 'A'\n",
    "print(f\"{s} is equal to {A}\")\n",
    "print(\"B is equal to %f\" %(B))\n",
    "print(\"C is equal to %f \\n\" %(C))\n",
    "\n",
    "# tangency portfolio\n",
    "w_t = (inv_sigma.dot(mu_v - R0 * ones_v)) / (B - A * R0)\n",
    "print(\"TANGENCY PORTFOLIO:\")\n",
    "print(\"w_t is equal to\")\n",
    "print(w_t)\n",
    "\n",
    "mu_t = (C - B * R0) / (B - A * R0)\n",
    "print(\"\\nmu is equal to %f\" %(mu_t))\n",
    "\n",
    "var_t = (C-2*R0*B+R0**2*A) / ((B-A*R0)**2)\n",
    "print(\"var_t is equal to %f\" %(var_t))\n",
    "\n",
    "sr_t = np.sqrt(C-2*R0*B+A*R0**2)\n",
    "print(\"sharp ratio_t is equal to %f\" %(sr_t))\n"
   ]
  },
  {
   "cell_type": "markdown",
   "metadata": {},
   "source": [
    "b)"
   ]
  },
  {
   "cell_type": "code",
   "execution_count": 170,
   "metadata": {},
   "outputs": [
    {
     "name": "stdout",
     "output_type": "stream",
     "text": "\nZERO BETA PORTFOLIO:\nw_z is equal to\n[ 2.61862471 -0.54656179 -1.07206293]\n\nmu is equal to 0.020000\nvar_z is equal to 0.221974\nsharp ratio_t is equal to 0.000000\n"
    }
   ],
   "source": [
    "# zero beta portfolio\n",
    "mu_z = R0\n",
    "w_min = (inv_sigma.dot(ones_v))/(ones_o.dot(inv_sigma.dot(ones_v)))\n",
    "w_slope = (inv_sigma.dot(mu_v))/(ones_o.dot(inv_sigma.dot(mu_v)))\n",
    "w_z = ((A*mu_z-B)*B)*w_slope/delta+((C-B*mu_z)*A)*w_min/delta\n",
    "var_z = w_z.transpose().dot(sigma.dot(w_z))\n",
    "sr_z = 0\n",
    "\n",
    "print(\"\\nZERO BETA PORTFOLIO:\")\n",
    "print(\"w_z is equal to\")\n",
    "print(w_z)\n",
    "print(\"\\nmu is equal to %f\" %(mu_z))\n",
    "print(\"var_z is equal to %f\" %(var_z))\n",
    "print(\"sharp ratio_t is equal to %f\" %(sr_z))"
   ]
  },
  {
   "cell_type": "markdown",
   "metadata": {},
   "source": [
    "c)"
   ]
  },
  {
   "cell_type": "code",
   "execution_count": 171,
   "metadata": {},
   "outputs": [],
   "source": [
    "a = np.linspace(0.25,5,200)\n",
    "a_s = (sr_t)/(m*np.sqrt(var_t)) # a*\n",
    "\n",
    "# compute the optimal portfolio. two cases:\n",
    "\n",
    "# first case: UNCONSTRAINT (lamda=0 and a>a*)\n",
    "x_u_z = 0*np.ones((1,200))\n",
    "x_u_t = np.divide(sr_t/np.sqrt(var_t)*np.ones((1,200)),a)\n",
    "mu_u = R0+x_u_t*(mu_t-R0)\n",
    "var_u = x_u_t**2*var_t\n",
    "sr_u = [sr_t]*len(a)\n",
    "\n",
    "\n",
    "# second case: CONSTRAINT (lamda>0 and m-x_c_t-x_c_z=0)\n",
    "x_c_t = np.divide( mu_t-R0+a*m*var_z,\n",
    "                   a*(var_t+var_z))\n",
    "x_c_z = np.divide( -mu_t+R0+a*m*var_t,\n",
    "                   a*(var_t+var_z))\n",
    "mu_c = R0+x_c_t*(mu_t-R0)\n",
    "var_c = x_c_t**2*var_t+x_c_z**2*var_z\n",
    "sr_c = (mu_c-R0)/np.sqrt(var_c)"
   ]
  },
  {
   "cell_type": "markdown",
   "metadata": {},
   "source": [
    "e) Plot the sharp ratio"
   ]
  },
  {
   "cell_type": "code",
   "execution_count": 172,
   "metadata": {},
   "outputs": [
    {
     "data": {
      "image/png": "[encoded data removed]",
      "image/svg+xml": "<?xml version=\"1.0\" encoding=\"utf-8\" standalone=\"no\"?>\n<!DOCTYPE svg PUBLIC \"-//W3C//DTD SVG 1.1//EN\"\n  \"http://www.w3.org/Graphics/SVG/1.1/DTD/svg11.dtd\">\n<!-- Created with matplotlib (https://matplotlib.org/) -->\n<svg height=\"277.314375pt\" version=\"1.1\" viewBox=\"0 0 392.14375 277.314375\" width=\"392.14375pt\" xmlns=\"http://www.w3.org/2000/svg\" xmlns:xlink=\"http://www.w3.org/1999/xlink\">\n <defs>\n  <style type=\"text/css\">\n*{stroke-linecap:butt;stroke-linejoin:round;}\n  </style>\n </defs>\n <g id=\"figure_1\">\n  <g id=\"patch_1\">\n   <path d=\"M 0 277.314375 \nL 392.14375 277.314375 \nL 392.14375 0 \nL 0 0 \nz\n\" style=\"fill:none;\"/>\n  </g>\n  <g id=\"axes_1\">\n   <g id=\"patch_2\">\n    <path d=\"M 50.14375 239.758125 \nL 384.94375 239.758125 \nL 384.94375 22.318125 \nL 50.14375 22.318125 \nz\n\" style=\"fill:#ffffff;\"/>\n   </g>\n   <g id=\"matplotlib.axis_1\">\n    <g id=\"xtick_1\">\n     <g id=\"line2d_1\">\n      <defs>\n       <path d=\"M 0 0 \nL 0 3.5 \n\" id=\"m6c874ab712\" style=\"stroke:#000000;stroke-width:0.8;\"/>\n      </defs>\n      <g>\n       <use style=\"stroke:#000000;stroke-width:0.8;\" x=\"113.419348\" xlink:href=\"#m6c874ab712\" y=\"239.758125\"/>\n      </g>\n     </g>\n     <g id=\"text_1\">\n      <!-- 1 -->\n      <defs>\n       <path d=\"M 12.40625 8.296875 \nL 28.515625 8.296875 \nL 28.515625 63.921875 \nL 10.984375 60.40625 \nL 10.984375 69.390625 \nL 28.421875 72.90625 \nL 38.28125 72.90625 \nL 38.28125 8.296875 \nL 54.390625 8.296875 \nL 54.390625 0 \nL 12.40625 0 \nz\n\" id=\"DejaVuSans-49\"/>\n      </defs>\n      <g transform=\"translate(110.238098 254.356562)scale(0.1 -0.1)\">\n       <use xlink:href=\"#DejaVuSans-49\"/>\n      </g>\n     </g>\n    </g>\n    <g id=\"xtick_2\">\n     <g id=\"line2d_2\">\n      <g>\n       <use style=\"stroke:#000000;stroke-width:0.8;\" x=\"177.495903\" xlink:href=\"#m6c874ab712\" y=\"239.758125\"/>\n      </g>\n     </g>\n     <g id=\"text_2\">\n      <!-- 2 -->\n      <defs>\n       <path d=\"M 19.1875 8.296875 \nL 53.609375 8.296875 \nL 53.609375 0 \nL 7.328125 0 \nL 7.328125 8.296875 \nQ 12.9375 14.109375 22.625 23.890625 \nQ 32.328125 33.6875 34.8125 36.53125 \nQ 39.546875 41.84375 41.421875 45.53125 \nQ 43.3125 49.21875 43.3125 52.78125 \nQ 43.3125 58.59375 39.234375 62.25 \nQ 35.15625 65.921875 28.609375 65.921875 \nQ 23.96875 65.921875 18.8125 64.3125 \nQ 13.671875 62.703125 7.8125 59.421875 \nL 7.8125 69.390625 \nQ 13.765625 71.78125 18.9375 73 \nQ 24.125 74.21875 28.421875 74.21875 \nQ 39.75 74.21875 46.484375 68.546875 \nQ 53.21875 62.890625 53.21875 53.421875 \nQ 53.21875 48.921875 51.53125 44.890625 \nQ 49.859375 40.875 45.40625 35.40625 \nQ 44.1875 33.984375 37.640625 27.21875 \nQ 31.109375 20.453125 19.1875 8.296875 \nz\n\" id=\"DejaVuSans-50\"/>\n      </defs>\n      <g transform=\"translate(174.314653 254.356562)scale(0.1 -0.1)\">\n       <use xlink:href=\"#DejaVuSans-50\"/>\n      </g>\n     </g>\n    </g>\n    <g id=\"xtick_3\">\n     <g id=\"line2d_3\">\n      <g>\n       <use style=\"stroke:#000000;stroke-width:0.8;\" x=\"241.572458\" xlink:href=\"#m6c874ab712\" y=\"239.758125\"/>\n      </g>\n     </g>\n     <g id=\"text_3\">\n      <!-- 3 -->\n      <defs>\n       <path d=\"M 40.578125 39.3125 \nQ 47.65625 37.796875 51.625 33 \nQ 55.609375 28.21875 55.609375 21.1875 \nQ 55.609375 10.40625 48.1875 4.484375 \nQ 40.765625 -1.421875 27.09375 -1.421875 \nQ 22.515625 -1.421875 17.65625 -0.515625 \nQ 12.796875 0.390625 7.625 2.203125 \nL 7.625 11.71875 \nQ 11.71875 9.328125 16.59375 8.109375 \nQ 21.484375 6.890625 26.8125 6.890625 \nQ 36.078125 6.890625 40.9375 10.546875 \nQ 45.796875 14.203125 45.796875 21.1875 \nQ 45.796875 27.640625 41.28125 31.265625 \nQ 36.765625 34.90625 28.71875 34.90625 \nL 20.21875 34.90625 \nL 20.21875 43.015625 \nL 29.109375 43.015625 \nQ 36.375 43.015625 40.234375 45.921875 \nQ 44.09375 48.828125 44.09375 54.296875 \nQ 44.09375 59.90625 40.109375 62.90625 \nQ 36.140625 65.921875 28.71875 65.921875 \nQ 24.65625 65.921875 20.015625 65.03125 \nQ 15.375 64.15625 9.8125 62.3125 \nL 9.8125 71.09375 \nQ 15.4375 72.65625 20.34375 73.4375 \nQ 25.25 74.21875 29.59375 74.21875 \nQ 40.828125 74.21875 47.359375 69.109375 \nQ 53.90625 64.015625 53.90625 55.328125 \nQ 53.90625 49.265625 50.4375 45.09375 \nQ 46.96875 40.921875 40.578125 39.3125 \nz\n\" id=\"DejaVuSans-51\"/>\n      </defs>\n      <g transform=\"translate(238.391208 254.356562)scale(0.1 -0.1)\">\n       <use xlink:href=\"#DejaVuSans-51\"/>\n      </g>\n     </g>\n    </g>\n    <g id=\"xtick_4\">\n     <g id=\"line2d_4\">\n      <g>\n       <use style=\"stroke:#000000;stroke-width:0.8;\" x=\"305.649013\" xlink:href=\"#m6c874ab712\" y=\"239.758125\"/>\n      </g>\n     </g>\n     <g id=\"text_4\">\n      <!-- 4 -->\n      <defs>\n       <path d=\"M 37.796875 64.3125 \nL 12.890625 25.390625 \nL 37.796875 25.390625 \nz\nM 35.203125 72.90625 \nL 47.609375 72.90625 \nL 47.609375 25.390625 \nL 58.015625 25.390625 \nL 58.015625 17.1875 \nL 47.609375 17.1875 \nL 47.609375 0 \nL 37.796875 0 \nL 37.796875 17.1875 \nL 4.890625 17.1875 \nL 4.890625 26.703125 \nz\n\" id=\"DejaVuSans-52\"/>\n      </defs>\n      <g transform=\"translate(302.467763 254.356562)scale(0.1 -0.1)\">\n       <use xlink:href=\"#DejaVuSans-52\"/>\n      </g>\n     </g>\n    </g>\n    <g id=\"xtick_5\">\n     <g id=\"line2d_5\">\n      <g>\n       <use style=\"stroke:#000000;stroke-width:0.8;\" x=\"369.725568\" xlink:href=\"#m6c874ab712\" y=\"239.758125\"/>\n      </g>\n     </g>\n     <g id=\"text_5\">\n      <!-- 5 -->\n      <defs>\n       <path d=\"M 10.796875 72.90625 \nL 49.515625 72.90625 \nL 49.515625 64.59375 \nL 19.828125 64.59375 \nL 19.828125 46.734375 \nQ 21.96875 47.46875 24.109375 47.828125 \nQ 26.265625 48.1875 28.421875 48.1875 \nQ 40.625 48.1875 47.75 41.5 \nQ 54.890625 34.8125 54.890625 23.390625 \nQ 54.890625 11.625 47.5625 5.09375 \nQ 40.234375 -1.421875 26.90625 -1.421875 \nQ 22.3125 -1.421875 17.546875 -0.640625 \nQ 12.796875 0.140625 7.71875 1.703125 \nL 7.71875 11.625 \nQ 12.109375 9.234375 16.796875 8.0625 \nQ 21.484375 6.890625 26.703125 6.890625 \nQ 35.15625 6.890625 40.078125 11.328125 \nQ 45.015625 15.765625 45.015625 23.390625 \nQ 45.015625 31 40.078125 35.4375 \nQ 35.15625 39.890625 26.703125 39.890625 \nQ 22.75 39.890625 18.8125 39.015625 \nQ 14.890625 38.140625 10.796875 36.28125 \nz\n\" id=\"DejaVuSans-53\"/>\n      </defs>\n      <g transform=\"translate(366.544318 254.356562)scale(0.1 -0.1)\">\n       <use xlink:href=\"#DejaVuSans-53\"/>\n      </g>\n     </g>\n    </g>\n    <g id=\"text_6\">\n     <!-- risk aversion level -->\n     <defs>\n      <path d=\"M 41.109375 46.296875 \nQ 39.59375 47.171875 37.8125 47.578125 \nQ 36.03125 48 33.890625 48 \nQ 26.265625 48 22.1875 43.046875 \nQ 18.109375 38.09375 18.109375 28.8125 \nL 18.109375 0 \nL 9.078125 0 \nL 9.078125 54.6875 \nL 18.109375 54.6875 \nL 18.109375 46.1875 \nQ 20.953125 51.171875 25.484375 53.578125 \nQ 30.03125 56 36.53125 56 \nQ 37.453125 56 38.578125 55.875 \nQ 39.703125 55.765625 41.0625 55.515625 \nz\n\" id=\"DejaVuSans-114\"/>\n      <path d=\"M 9.421875 54.6875 \nL 18.40625 54.6875 \nL 18.40625 0 \nL 9.421875 0 \nz\nM 9.421875 75.984375 \nL 18.40625 75.984375 \nL 18.40625 64.59375 \nL 9.421875 64.59375 \nz\n\" id=\"DejaVuSans-105\"/>\n      <path d=\"M 44.28125 53.078125 \nL 44.28125 44.578125 \nQ 40.484375 46.53125 36.375 47.5 \nQ 32.28125 48.484375 27.875 48.484375 \nQ 21.1875 48.484375 17.84375 46.4375 \nQ 14.5 44.390625 14.5 40.28125 \nQ 14.5 37.15625 16.890625 35.375 \nQ 19.28125 33.59375 26.515625 31.984375 \nL 29.59375 31.296875 \nQ 39.15625 29.25 43.1875 25.515625 \nQ 47.21875 21.78125 47.21875 15.09375 \nQ 47.21875 7.46875 41.1875 3.015625 \nQ 35.15625 -1.421875 24.609375 -1.421875 \nQ 20.21875 -1.421875 15.453125 -0.5625 \nQ 10.6875 0.296875 5.421875 2 \nL 5.421875 11.28125 \nQ 10.40625 8.6875 15.234375 7.390625 \nQ 20.0625 6.109375 24.8125 6.109375 \nQ 31.15625 6.109375 34.5625 8.28125 \nQ 37.984375 10.453125 37.984375 14.40625 \nQ 37.984375 18.0625 35.515625 20.015625 \nQ 33.0625 21.96875 24.703125 23.78125 \nL 21.578125 24.515625 \nQ 13.234375 26.265625 9.515625 29.90625 \nQ 5.8125 33.546875 5.8125 39.890625 \nQ 5.8125 47.609375 11.28125 51.796875 \nQ 16.75 56 26.8125 56 \nQ 31.78125 56 36.171875 55.265625 \nQ 40.578125 54.546875 44.28125 53.078125 \nz\n\" id=\"DejaVuSans-115\"/>\n      <path d=\"M 9.078125 75.984375 \nL 18.109375 75.984375 \nL 18.109375 31.109375 \nL 44.921875 54.6875 \nL 56.390625 54.6875 \nL 27.390625 29.109375 \nL 57.625 0 \nL 45.90625 0 \nL 18.109375 26.703125 \nL 18.109375 0 \nL 9.078125 0 \nz\n\" id=\"DejaVuSans-107\"/>\n      <path id=\"DejaVuSans-32\"/>\n      <path d=\"M 34.28125 27.484375 \nQ 23.390625 27.484375 19.1875 25 \nQ 14.984375 22.515625 14.984375 16.5 \nQ 14.984375 11.71875 18.140625 8.90625 \nQ 21.296875 6.109375 26.703125 6.109375 \nQ 34.1875 6.109375 38.703125 11.40625 \nQ 43.21875 16.703125 43.21875 25.484375 \nL 43.21875 27.484375 \nz\nM 52.203125 31.203125 \nL 52.203125 0 \nL 43.21875 0 \nL 43.21875 8.296875 \nQ 40.140625 3.328125 35.546875 0.953125 \nQ 30.953125 -1.421875 24.3125 -1.421875 \nQ 15.921875 -1.421875 10.953125 3.296875 \nQ 6 8.015625 6 15.921875 \nQ 6 25.140625 12.171875 29.828125 \nQ 18.359375 34.515625 30.609375 34.515625 \nL 43.21875 34.515625 \nL 43.21875 35.40625 \nQ 43.21875 41.609375 39.140625 45 \nQ 35.0625 48.390625 27.6875 48.390625 \nQ 23 48.390625 18.546875 47.265625 \nQ 14.109375 46.140625 10.015625 43.890625 \nL 10.015625 52.203125 \nQ 14.9375 54.109375 19.578125 55.046875 \nQ 24.21875 56 28.609375 56 \nQ 40.484375 56 46.34375 49.84375 \nQ 52.203125 43.703125 52.203125 31.203125 \nz\n\" id=\"DejaVuSans-97\"/>\n      <path d=\"M 2.984375 54.6875 \nL 12.5 54.6875 \nL 29.59375 8.796875 \nL 46.6875 54.6875 \nL 56.203125 54.6875 \nL 35.6875 0 \nL 23.484375 0 \nz\n\" id=\"DejaVuSans-118\"/>\n      <path d=\"M 56.203125 29.59375 \nL 56.203125 25.203125 \nL 14.890625 25.203125 \nQ 15.484375 15.921875 20.484375 11.0625 \nQ 25.484375 6.203125 34.421875 6.203125 \nQ 39.59375 6.203125 44.453125 7.46875 \nQ 49.3125 8.734375 54.109375 11.28125 \nL 54.109375 2.78125 \nQ 49.265625 0.734375 44.1875 -0.34375 \nQ 39.109375 -1.421875 33.890625 -1.421875 \nQ 20.796875 -1.421875 13.15625 6.1875 \nQ 5.515625 13.8125 5.515625 26.8125 \nQ 5.515625 40.234375 12.765625 48.109375 \nQ 20.015625 56 32.328125 56 \nQ 43.359375 56 49.78125 48.890625 \nQ 56.203125 41.796875 56.203125 29.59375 \nz\nM 47.21875 32.234375 \nQ 47.125 39.59375 43.09375 43.984375 \nQ 39.0625 48.390625 32.421875 48.390625 \nQ 24.90625 48.390625 20.390625 44.140625 \nQ 15.875 39.890625 15.1875 32.171875 \nz\n\" id=\"DejaVuSans-101\"/>\n      <path d=\"M 30.609375 48.390625 \nQ 23.390625 48.390625 19.1875 42.75 \nQ 14.984375 37.109375 14.984375 27.296875 \nQ 14.984375 17.484375 19.15625 11.84375 \nQ 23.34375 6.203125 30.609375 6.203125 \nQ 37.796875 6.203125 41.984375 11.859375 \nQ 46.1875 17.53125 46.1875 27.296875 \nQ 46.1875 37.015625 41.984375 42.703125 \nQ 37.796875 48.390625 30.609375 48.390625 \nz\nM 30.609375 56 \nQ 42.328125 56 49.015625 48.375 \nQ 55.71875 40.765625 55.71875 27.296875 \nQ 55.71875 13.875 49.015625 6.21875 \nQ 42.328125 -1.421875 30.609375 -1.421875 \nQ 18.84375 -1.421875 12.171875 6.21875 \nQ 5.515625 13.875 5.515625 27.296875 \nQ 5.515625 40.765625 12.171875 48.375 \nQ 18.84375 56 30.609375 56 \nz\n\" id=\"DejaVuSans-111\"/>\n      <path d=\"M 54.890625 33.015625 \nL 54.890625 0 \nL 45.90625 0 \nL 45.90625 32.71875 \nQ 45.90625 40.484375 42.875 44.328125 \nQ 39.84375 48.1875 33.796875 48.1875 \nQ 26.515625 48.1875 22.3125 43.546875 \nQ 18.109375 38.921875 18.109375 30.90625 \nL 18.109375 0 \nL 9.078125 0 \nL 9.078125 54.6875 \nL 18.109375 54.6875 \nL 18.109375 46.1875 \nQ 21.34375 51.125 25.703125 53.5625 \nQ 30.078125 56 35.796875 56 \nQ 45.21875 56 50.046875 50.171875 \nQ 54.890625 44.34375 54.890625 33.015625 \nz\n\" id=\"DejaVuSans-110\"/>\n      <path d=\"M 9.421875 75.984375 \nL 18.40625 75.984375 \nL 18.40625 0 \nL 9.421875 0 \nz\n\" id=\"DejaVuSans-108\"/>\n     </defs>\n     <g transform=\"translate(172.153125 268.034687)scale(0.1 -0.1)\">\n      <use xlink:href=\"#DejaVuSans-114\"/>\n      <use x=\"41.113281\" xlink:href=\"#DejaVuSans-105\"/>\n      <use x=\"68.896484\" xlink:href=\"#DejaVuSans-115\"/>\n      <use x=\"120.996094\" xlink:href=\"#DejaVuSans-107\"/>\n      <use x=\"178.90625\" xlink:href=\"#DejaVuSans-32\"/>\n      <use x=\"210.693359\" xlink:href=\"#DejaVuSans-97\"/>\n      <use x=\"271.972656\" xlink:href=\"#DejaVuSans-118\"/>\n      <use x=\"331.152344\" xlink:href=\"#DejaVuSans-101\"/>\n      <use x=\"392.675781\" xlink:href=\"#DejaVuSans-114\"/>\n      <use x=\"433.789062\" xlink:href=\"#DejaVuSans-115\"/>\n      <use x=\"485.888672\" xlink:href=\"#DejaVuSans-105\"/>\n      <use x=\"513.671875\" xlink:href=\"#DejaVuSans-111\"/>\n      <use x=\"574.853516\" xlink:href=\"#DejaVuSans-110\"/>\n      <use x=\"638.232422\" xlink:href=\"#DejaVuSans-32\"/>\n      <use x=\"670.019531\" xlink:href=\"#DejaVuSans-108\"/>\n      <use x=\"697.802734\" xlink:href=\"#DejaVuSans-101\"/>\n      <use x=\"759.326172\" xlink:href=\"#DejaVuSans-118\"/>\n      <use x=\"818.505859\" xlink:href=\"#DejaVuSans-101\"/>\n      <use x=\"880.029297\" xlink:href=\"#DejaVuSans-108\"/>\n     </g>\n    </g>\n   </g>\n   <g id=\"matplotlib.axis_2\">\n    <g id=\"ytick_1\">\n     <g id=\"line2d_6\">\n      <defs>\n       <path d=\"M 0 0 \nL -3.5 0 \n\" id=\"m88dbe7d81c\" style=\"stroke:#000000;stroke-width:0.8;\"/>\n      </defs>\n      <g>\n       <use style=\"stroke:#000000;stroke-width:0.8;\" x=\"50.14375\" xlink:href=\"#m88dbe7d81c\" y=\"236.912975\"/>\n      </g>\n     </g>\n     <g id=\"text_7\">\n      <!-- 0.30 -->\n      <defs>\n       <path d=\"M 31.78125 66.40625 \nQ 24.171875 66.40625 20.328125 58.90625 \nQ 16.5 51.421875 16.5 36.375 \nQ 16.5 21.390625 20.328125 13.890625 \nQ 24.171875 6.390625 31.78125 6.390625 \nQ 39.453125 6.390625 43.28125 13.890625 \nQ 47.125 21.390625 47.125 36.375 \nQ 47.125 51.421875 43.28125 58.90625 \nQ 39.453125 66.40625 31.78125 66.40625 \nz\nM 31.78125 74.21875 \nQ 44.046875 74.21875 50.515625 64.515625 \nQ 56.984375 54.828125 56.984375 36.375 \nQ 56.984375 17.96875 50.515625 8.265625 \nQ 44.046875 -1.421875 31.78125 -1.421875 \nQ 19.53125 -1.421875 13.0625 8.265625 \nQ 6.59375 17.96875 6.59375 36.375 \nQ 6.59375 54.828125 13.0625 64.515625 \nQ 19.53125 74.21875 31.78125 74.21875 \nz\n\" id=\"DejaVuSans-48\"/>\n       <path d=\"M 10.6875 12.40625 \nL 21 12.40625 \nL 21 0 \nL 10.6875 0 \nz\n\" id=\"DejaVuSans-46\"/>\n      </defs>\n      <g transform=\"translate(20.878125 240.712194)scale(0.1 -0.1)\">\n       <use xlink:href=\"#DejaVuSans-48\"/>\n       <use x=\"63.623047\" xlink:href=\"#DejaVuSans-46\"/>\n       <use x=\"95.410156\" xlink:href=\"#DejaVuSans-51\"/>\n       <use x=\"159.033203\" xlink:href=\"#DejaVuSans-48\"/>\n      </g>\n     </g>\n    </g>\n    <g id=\"ytick_2\">\n     <g id=\"line2d_7\">\n      <g>\n       <use style=\"stroke:#000000;stroke-width:0.8;\" x=\"50.14375\" xlink:href=\"#m88dbe7d81c\" y=\"205.032353\"/>\n      </g>\n     </g>\n     <g id=\"text_8\">\n      <!-- 0.35 -->\n      <g transform=\"translate(20.878125 208.831572)scale(0.1 -0.1)\">\n       <use xlink:href=\"#DejaVuSans-48\"/>\n       <use x=\"63.623047\" xlink:href=\"#DejaVuSans-46\"/>\n       <use x=\"95.410156\" xlink:href=\"#DejaVuSans-51\"/>\n       <use x=\"159.033203\" xlink:href=\"#DejaVuSans-53\"/>\n      </g>\n     </g>\n    </g>\n    <g id=\"ytick_3\">\n     <g id=\"line2d_8\">\n      <g>\n       <use style=\"stroke:#000000;stroke-width:0.8;\" x=\"50.14375\" xlink:href=\"#m88dbe7d81c\" y=\"173.151731\"/>\n      </g>\n     </g>\n     <g id=\"text_9\">\n      <!-- 0.40 -->\n      <g transform=\"translate(20.878125 176.95095)scale(0.1 -0.1)\">\n       <use xlink:href=\"#DejaVuSans-48\"/>\n       <use x=\"63.623047\" xlink:href=\"#DejaVuSans-46\"/>\n       <use x=\"95.410156\" xlink:href=\"#DejaVuSans-52\"/>\n       <use x=\"159.033203\" xlink:href=\"#DejaVuSans-48\"/>\n      </g>\n     </g>\n    </g>\n    <g id=\"ytick_4\">\n     <g id=\"line2d_9\">\n      <g>\n       <use style=\"stroke:#000000;stroke-width:0.8;\" x=\"50.14375\" xlink:href=\"#m88dbe7d81c\" y=\"141.271109\"/>\n      </g>\n     </g>\n     <g id=\"text_10\">\n      <!-- 0.45 -->\n      <g transform=\"translate(20.878125 145.070328)scale(0.1 -0.1)\">\n       <use xlink:href=\"#DejaVuSans-48\"/>\n       <use x=\"63.623047\" xlink:href=\"#DejaVuSans-46\"/>\n       <use x=\"95.410156\" xlink:href=\"#DejaVuSans-52\"/>\n       <use x=\"159.033203\" xlink:href=\"#DejaVuSans-53\"/>\n      </g>\n     </g>\n    </g>\n    <g id=\"ytick_5\">\n     <g id=\"line2d_10\">\n      <g>\n       <use style=\"stroke:#000000;stroke-width:0.8;\" x=\"50.14375\" xlink:href=\"#m88dbe7d81c\" y=\"109.390488\"/>\n      </g>\n     </g>\n     <g id=\"text_11\">\n      <!-- 0.50 -->\n      <g transform=\"translate(20.878125 113.189706)scale(0.1 -0.1)\">\n       <use xlink:href=\"#DejaVuSans-48\"/>\n       <use x=\"63.623047\" xlink:href=\"#DejaVuSans-46\"/>\n       <use x=\"95.410156\" xlink:href=\"#DejaVuSans-53\"/>\n       <use x=\"159.033203\" xlink:href=\"#DejaVuSans-48\"/>\n      </g>\n     </g>\n    </g>\n    <g id=\"ytick_6\">\n     <g id=\"line2d_11\">\n      <g>\n       <use style=\"stroke:#000000;stroke-width:0.8;\" x=\"50.14375\" xlink:href=\"#m88dbe7d81c\" y=\"77.509866\"/>\n      </g>\n     </g>\n     <g id=\"text_12\">\n      <!-- 0.55 -->\n      <g transform=\"translate(20.878125 81.309084)scale(0.1 -0.1)\">\n       <use xlink:href=\"#DejaVuSans-48\"/>\n       <use x=\"63.623047\" xlink:href=\"#DejaVuSans-46\"/>\n       <use x=\"95.410156\" xlink:href=\"#DejaVuSans-53\"/>\n       <use x=\"159.033203\" xlink:href=\"#DejaVuSans-53\"/>\n      </g>\n     </g>\n    </g>\n    <g id=\"ytick_7\">\n     <g id=\"line2d_12\">\n      <g>\n       <use style=\"stroke:#000000;stroke-width:0.8;\" x=\"50.14375\" xlink:href=\"#m88dbe7d81c\" y=\"45.629244\"/>\n      </g>\n     </g>\n     <g id=\"text_13\">\n      <!-- 0.60 -->\n      <defs>\n       <path d=\"M 33.015625 40.375 \nQ 26.375 40.375 22.484375 35.828125 \nQ 18.609375 31.296875 18.609375 23.390625 \nQ 18.609375 15.53125 22.484375 10.953125 \nQ 26.375 6.390625 33.015625 6.390625 \nQ 39.65625 6.390625 43.53125 10.953125 \nQ 47.40625 15.53125 47.40625 23.390625 \nQ 47.40625 31.296875 43.53125 35.828125 \nQ 39.65625 40.375 33.015625 40.375 \nz\nM 52.59375 71.296875 \nL 52.59375 62.3125 \nQ 48.875 64.0625 45.09375 64.984375 \nQ 41.3125 65.921875 37.59375 65.921875 \nQ 27.828125 65.921875 22.671875 59.328125 \nQ 17.53125 52.734375 16.796875 39.40625 \nQ 19.671875 43.65625 24.015625 45.921875 \nQ 28.375 48.1875 33.59375 48.1875 \nQ 44.578125 48.1875 50.953125 41.515625 \nQ 57.328125 34.859375 57.328125 23.390625 \nQ 57.328125 12.15625 50.6875 5.359375 \nQ 44.046875 -1.421875 33.015625 -1.421875 \nQ 20.359375 -1.421875 13.671875 8.265625 \nQ 6.984375 17.96875 6.984375 36.375 \nQ 6.984375 53.65625 15.1875 63.9375 \nQ 23.390625 74.21875 37.203125 74.21875 \nQ 40.921875 74.21875 44.703125 73.484375 \nQ 48.484375 72.75 52.59375 71.296875 \nz\n\" id=\"DejaVuSans-54\"/>\n      </defs>\n      <g transform=\"translate(20.878125 49.428463)scale(0.1 -0.1)\">\n       <use xlink:href=\"#DejaVuSans-48\"/>\n       <use x=\"63.623047\" xlink:href=\"#DejaVuSans-46\"/>\n       <use x=\"95.410156\" xlink:href=\"#DejaVuSans-54\"/>\n       <use x=\"159.033203\" xlink:href=\"#DejaVuSans-48\"/>\n      </g>\n     </g>\n    </g>\n    <g id=\"text_14\">\n     <!-- sharpe ratio -->\n     <defs>\n      <path d=\"M 54.890625 33.015625 \nL 54.890625 0 \nL 45.90625 0 \nL 45.90625 32.71875 \nQ 45.90625 40.484375 42.875 44.328125 \nQ 39.84375 48.1875 33.796875 48.1875 \nQ 26.515625 48.1875 22.3125 43.546875 \nQ 18.109375 38.921875 18.109375 30.90625 \nL 18.109375 0 \nL 9.078125 0 \nL 9.078125 75.984375 \nL 18.109375 75.984375 \nL 18.109375 46.1875 \nQ 21.34375 51.125 25.703125 53.5625 \nQ 30.078125 56 35.796875 56 \nQ 45.21875 56 50.046875 50.171875 \nQ 54.890625 44.34375 54.890625 33.015625 \nz\n\" id=\"DejaVuSans-104\"/>\n      <path d=\"M 18.109375 8.203125 \nL 18.109375 -20.796875 \nL 9.078125 -20.796875 \nL 9.078125 54.6875 \nL 18.109375 54.6875 \nL 18.109375 46.390625 \nQ 20.953125 51.265625 25.265625 53.625 \nQ 29.59375 56 35.59375 56 \nQ 45.5625 56 51.78125 48.09375 \nQ 58.015625 40.1875 58.015625 27.296875 \nQ 58.015625 14.40625 51.78125 6.484375 \nQ 45.5625 -1.421875 35.59375 -1.421875 \nQ 29.59375 -1.421875 25.265625 0.953125 \nQ 20.953125 3.328125 18.109375 8.203125 \nz\nM 48.6875 27.296875 \nQ 48.6875 37.203125 44.609375 42.84375 \nQ 40.53125 48.484375 33.40625 48.484375 \nQ 26.265625 48.484375 22.1875 42.84375 \nQ 18.109375 37.203125 18.109375 27.296875 \nQ 18.109375 17.390625 22.1875 11.75 \nQ 26.265625 6.109375 33.40625 6.109375 \nQ 40.53125 6.109375 44.609375 11.75 \nQ 48.6875 17.390625 48.6875 27.296875 \nz\n\" id=\"DejaVuSans-112\"/>\n      <path d=\"M 18.3125 70.21875 \nL 18.3125 54.6875 \nL 36.8125 54.6875 \nL 36.8125 47.703125 \nL 18.3125 47.703125 \nL 18.3125 18.015625 \nQ 18.3125 11.328125 20.140625 9.421875 \nQ 21.96875 7.515625 27.59375 7.515625 \nL 36.8125 7.515625 \nL 36.8125 0 \nL 27.59375 0 \nQ 17.1875 0 13.234375 3.875 \nQ 9.28125 7.765625 9.28125 18.015625 \nL 9.28125 47.703125 \nL 2.6875 47.703125 \nL 2.6875 54.6875 \nL 9.28125 54.6875 \nL 9.28125 70.21875 \nz\n\" id=\"DejaVuSans-116\"/>\n     </defs>\n     <g transform=\"translate(14.798438 161.299062)rotate(-90)scale(0.1 -0.1)\">\n      <use xlink:href=\"#DejaVuSans-115\"/>\n      <use x=\"52.099609\" xlink:href=\"#DejaVuSans-104\"/>\n      <use x=\"115.478516\" xlink:href=\"#DejaVuSans-97\"/>\n      <use x=\"176.757812\" xlink:href=\"#DejaVuSans-114\"/>\n      <use x=\"217.871094\" xlink:href=\"#DejaVuSans-112\"/>\n      <use x=\"281.347656\" xlink:href=\"#DejaVuSans-101\"/>\n      <use x=\"342.871094\" xlink:href=\"#DejaVuSans-32\"/>\n      <use x=\"374.658203\" xlink:href=\"#DejaVuSans-114\"/>\n      <use x=\"415.771484\" xlink:href=\"#DejaVuSans-97\"/>\n      <use x=\"477.050781\" xlink:href=\"#DejaVuSans-116\"/>\n      <use x=\"516.259766\" xlink:href=\"#DejaVuSans-105\"/>\n      <use x=\"544.042969\" xlink:href=\"#DejaVuSans-111\"/>\n     </g>\n    </g>\n   </g>\n   <g id=\"line2d_13\">\n    <path clip-path=\"url(#p3715e302c1)\" d=\"M 65.361932 32.201761 \nL 369.725568 32.201761 \nL 369.725568 32.201761 \n\" style=\"fill:none;stroke:#1f77b4;stroke-linecap:square;stroke-width:1.5;\"/>\n   </g>\n   <g id=\"line2d_14\">\n    <path clip-path=\"url(#p3715e302c1)\" d=\"M 65.361932 229.874489 \nL 69.950328 208.60945 \nL 73.009259 195.326097 \nL 76.06819 182.785096 \nL 79.127121 170.995923 \nL 82.186052 159.956844 \nL 85.244983 149.656489 \nL 88.303914 140.075524 \nL 91.362845 131.188316 \nL 94.421776 122.964495 \nL 97.480708 115.370382 \nL 100.539639 108.370222 \nL 103.59857 101.927238 \nL 106.657501 96.004485 \nL 109.716432 90.565528 \nL 112.775363 85.574963 \nL 115.834294 80.99879 \nL 118.893225 76.804676 \nL 121.952156 72.962118 \nL 125.011087 69.44253 \nL 128.070018 66.219269 \nL 131.128949 63.267616 \nL 134.18788 60.564722 \nL 137.246811 58.089535 \nL 140.305742 55.822706 \nL 144.894138 52.774726 \nL 149.482535 50.102285 \nL 154.070931 47.758469 \nL 158.659328 45.702365 \nL 163.247724 43.898333 \nL 167.836121 42.315344 \nL 172.424517 40.926387 \nL 178.54238 39.336066 \nL 184.660242 38.001661 \nL 190.778104 36.883531 \nL 198.425431 35.740109 \nL 206.072759 34.830252 \nL 215.249552 33.987342 \nL 224.426345 33.361565 \nL 235.132603 32.846096 \nL 247.368327 32.473739 \nL 262.662983 32.246246 \nL 282.546034 32.201761 \nL 369.725568 32.201761 \nL 369.725568 32.201761 \n\" style=\"fill:none;stroke:#ff7f0e;stroke-linecap:square;stroke-width:1.5;\"/>\n   </g>\n   <g id=\"line2d_15\">\n    <defs>\n     <path d=\"M 0 -3 \nL -0.673542 -0.927051 \nL -2.85317 -0.927051 \nL -1.089814 0.354102 \nL -1.763356 2.427051 \nL -0 1.145898 \nL 1.763356 2.427051 \nL 1.089814 0.354102 \nL 2.85317 -0.927051 \nL 0.673542 -0.927051 \nz\n\" id=\"m58ad81d5e0\" style=\"stroke:#ff0000;stroke-linejoin:bevel;\"/>\n    </defs>\n    <g clip-path=\"url(#p3715e302c1)\">\n     <use style=\"fill:#ff0000;stroke:#ff0000;stroke-linejoin:bevel;\" x=\"274.322697\" xlink:href=\"#m58ad81d5e0\" y=\"32.201761\"/>\n    </g>\n   </g>\n   <g id=\"patch_3\">\n    <path d=\"M 50.14375 239.758125 \nL 50.14375 22.318125 \n\" style=\"fill:none;stroke:#000000;stroke-linecap:square;stroke-linejoin:miter;stroke-width:0.8;\"/>\n   </g>\n   <g id=\"patch_4\">\n    <path d=\"M 384.94375 239.758125 \nL 384.94375 22.318125 \n\" style=\"fill:none;stroke:#000000;stroke-linecap:square;stroke-linejoin:miter;stroke-width:0.8;\"/>\n   </g>\n   <g id=\"patch_5\">\n    <path d=\"M 50.14375 239.758125 \nL 384.94375 239.758125 \n\" style=\"fill:none;stroke:#000000;stroke-linecap:square;stroke-linejoin:miter;stroke-width:0.8;\"/>\n   </g>\n   <g id=\"patch_6\">\n    <path d=\"M 50.14375 22.318125 \nL 384.94375 22.318125 \n\" style=\"fill:none;stroke:#000000;stroke-linecap:square;stroke-linejoin:miter;stroke-width:0.8;\"/>\n   </g>\n   <g id=\"text_15\">\n    <!-- a* -->\n    <defs>\n     <path d=\"M 47.015625 60.890625 \nL 29.5 51.421875 \nL 47.015625 41.890625 \nL 44.1875 37.109375 \nL 27.78125 47.015625 \nL 27.78125 28.609375 \nL 22.21875 28.609375 \nL 22.21875 47.015625 \nL 5.8125 37.109375 \nL 2.984375 41.890625 \nL 20.515625 51.421875 \nL 2.984375 60.890625 \nL 5.8125 65.71875 \nL 22.21875 55.8125 \nL 22.21875 74.21875 \nL 27.78125 74.21875 \nL 27.78125 55.8125 \nL 44.1875 65.71875 \nz\n\" id=\"DejaVuSans-42\"/>\n    </defs>\n    <g style=\"fill:#ff0000;\" transform=\"translate(274.322697 45.272816)scale(0.1 -0.1)\">\n     <use xlink:href=\"#DejaVuSans-97\"/>\n     <use x=\"61.279297\" xlink:href=\"#DejaVuSans-42\"/>\n    </g>\n   </g>\n   <g id=\"text_16\">\n    <!-- Sharpe Ratio -->\n    <defs>\n     <path d=\"M 53.515625 70.515625 \nL 53.515625 60.890625 \nQ 47.90625 63.578125 42.921875 64.890625 \nQ 37.9375 66.21875 33.296875 66.21875 \nQ 25.25 66.21875 20.875 63.09375 \nQ 16.5 59.96875 16.5 54.203125 \nQ 16.5 49.359375 19.40625 46.890625 \nQ 22.3125 44.4375 30.421875 42.921875 \nL 36.375 41.703125 \nQ 47.40625 39.59375 52.65625 34.296875 \nQ 57.90625 29 57.90625 20.125 \nQ 57.90625 9.515625 50.796875 4.046875 \nQ 43.703125 -1.421875 29.984375 -1.421875 \nQ 24.8125 -1.421875 18.96875 -0.25 \nQ 13.140625 0.921875 6.890625 3.21875 \nL 6.890625 13.375 \nQ 12.890625 10.015625 18.65625 8.296875 \nQ 24.421875 6.59375 29.984375 6.59375 \nQ 38.421875 6.59375 43.015625 9.90625 \nQ 47.609375 13.234375 47.609375 19.390625 \nQ 47.609375 24.75 44.3125 27.78125 \nQ 41.015625 30.8125 33.5 32.328125 \nL 27.484375 33.5 \nQ 16.453125 35.6875 11.515625 40.375 \nQ 6.59375 45.0625 6.59375 53.421875 \nQ 6.59375 63.09375 13.40625 68.65625 \nQ 20.21875 74.21875 32.171875 74.21875 \nQ 37.3125 74.21875 42.625 73.28125 \nQ 47.953125 72.359375 53.515625 70.515625 \nz\n\" id=\"DejaVuSans-83\"/>\n     <path d=\"M 44.390625 34.1875 \nQ 47.5625 33.109375 50.5625 29.59375 \nQ 53.5625 26.078125 56.59375 19.921875 \nL 66.609375 0 \nL 56 0 \nL 46.6875 18.703125 \nQ 43.0625 26.03125 39.671875 28.421875 \nQ 36.28125 30.8125 30.421875 30.8125 \nL 19.671875 30.8125 \nL 19.671875 0 \nL 9.8125 0 \nL 9.8125 72.90625 \nL 32.078125 72.90625 \nQ 44.578125 72.90625 50.734375 67.671875 \nQ 56.890625 62.453125 56.890625 51.90625 \nQ 56.890625 45.015625 53.6875 40.46875 \nQ 50.484375 35.9375 44.390625 34.1875 \nz\nM 19.671875 64.796875 \nL 19.671875 38.921875 \nL 32.078125 38.921875 \nQ 39.203125 38.921875 42.84375 42.21875 \nQ 46.484375 45.515625 46.484375 51.90625 \nQ 46.484375 58.296875 42.84375 61.546875 \nQ 39.203125 64.796875 32.078125 64.796875 \nz\n\" id=\"DejaVuSans-82\"/>\n    </defs>\n    <g transform=\"translate(178.846563 16.318125)scale(0.12 -0.12)\">\n     <use xlink:href=\"#DejaVuSans-83\"/>\n     <use x=\"63.476562\" xlink:href=\"#DejaVuSans-104\"/>\n     <use x=\"126.855469\" xlink:href=\"#DejaVuSans-97\"/>\n     <use x=\"188.134766\" xlink:href=\"#DejaVuSans-114\"/>\n     <use x=\"229.248047\" xlink:href=\"#DejaVuSans-112\"/>\n     <use x=\"292.724609\" xlink:href=\"#DejaVuSans-101\"/>\n     <use x=\"354.248047\" xlink:href=\"#DejaVuSans-32\"/>\n     <use x=\"386.035156\" xlink:href=\"#DejaVuSans-82\"/>\n     <use x=\"455.486328\" xlink:href=\"#DejaVuSans-97\"/>\n     <use x=\"516.765625\" xlink:href=\"#DejaVuSans-116\"/>\n     <use x=\"555.974609\" xlink:href=\"#DejaVuSans-105\"/>\n     <use x=\"583.757812\" xlink:href=\"#DejaVuSans-111\"/>\n    </g>\n   </g>\n   <g id=\"legend_1\">\n    <g id=\"patch_7\">\n     <path d=\"M 231.134375 234.758125 \nL 377.94375 234.758125 \nQ 379.94375 234.758125 379.94375 232.758125 \nL 379.94375 189.72375 \nQ 379.94375 187.72375 377.94375 187.72375 \nL 231.134375 187.72375 \nQ 229.134375 187.72375 229.134375 189.72375 \nL 229.134375 232.758125 \nQ 229.134375 234.758125 231.134375 234.758125 \nz\n\" style=\"fill:#ffffff;opacity:0.8;stroke:#cccccc;stroke-linejoin:miter;\"/>\n    </g>\n    <g id=\"line2d_16\">\n     <path d=\"M 233.134375 195.822187 \nL 253.134375 195.822187 \n\" style=\"fill:none;stroke:#1f77b4;stroke-linecap:square;stroke-width:1.5;\"/>\n    </g>\n    <g id=\"line2d_17\"/>\n    <g id=\"text_17\">\n     <!-- Unconstraned portfolio -->\n     <defs>\n      <path d=\"M 8.6875 72.90625 \nL 18.609375 72.90625 \nL 18.609375 28.609375 \nQ 18.609375 16.890625 22.84375 11.734375 \nQ 27.09375 6.59375 36.625 6.59375 \nQ 46.09375 6.59375 50.34375 11.734375 \nQ 54.59375 16.890625 54.59375 28.609375 \nL 54.59375 72.90625 \nL 64.5 72.90625 \nL 64.5 27.390625 \nQ 64.5 13.140625 57.4375 5.859375 \nQ 50.390625 -1.421875 36.625 -1.421875 \nQ 22.796875 -1.421875 15.734375 5.859375 \nQ 8.6875 13.140625 8.6875 27.390625 \nz\n\" id=\"DejaVuSans-85\"/>\n      <path d=\"M 48.78125 52.59375 \nL 48.78125 44.1875 \nQ 44.96875 46.296875 41.140625 47.34375 \nQ 37.3125 48.390625 33.40625 48.390625 \nQ 24.65625 48.390625 19.8125 42.84375 \nQ 14.984375 37.3125 14.984375 27.296875 \nQ 14.984375 17.28125 19.8125 11.734375 \nQ 24.65625 6.203125 33.40625 6.203125 \nQ 37.3125 6.203125 41.140625 7.25 \nQ 44.96875 8.296875 48.78125 10.40625 \nL 48.78125 2.09375 \nQ 45.015625 0.34375 40.984375 -0.53125 \nQ 36.96875 -1.421875 32.421875 -1.421875 \nQ 20.0625 -1.421875 12.78125 6.34375 \nQ 5.515625 14.109375 5.515625 27.296875 \nQ 5.515625 40.671875 12.859375 48.328125 \nQ 20.21875 56 33.015625 56 \nQ 37.15625 56 41.109375 55.140625 \nQ 45.0625 54.296875 48.78125 52.59375 \nz\n\" id=\"DejaVuSans-99\"/>\n      <path d=\"M 45.40625 46.390625 \nL 45.40625 75.984375 \nL 54.390625 75.984375 \nL 54.390625 0 \nL 45.40625 0 \nL 45.40625 8.203125 \nQ 42.578125 3.328125 38.25 0.953125 \nQ 33.9375 -1.421875 27.875 -1.421875 \nQ 17.96875 -1.421875 11.734375 6.484375 \nQ 5.515625 14.40625 5.515625 27.296875 \nQ 5.515625 40.1875 11.734375 48.09375 \nQ 17.96875 56 27.875 56 \nQ 33.9375 56 38.25 53.625 \nQ 42.578125 51.265625 45.40625 46.390625 \nz\nM 14.796875 27.296875 \nQ 14.796875 17.390625 18.875 11.75 \nQ 22.953125 6.109375 30.078125 6.109375 \nQ 37.203125 6.109375 41.296875 11.75 \nQ 45.40625 17.390625 45.40625 27.296875 \nQ 45.40625 37.203125 41.296875 42.84375 \nQ 37.203125 48.484375 30.078125 48.484375 \nQ 22.953125 48.484375 18.875 42.84375 \nQ 14.796875 37.203125 14.796875 27.296875 \nz\n\" id=\"DejaVuSans-100\"/>\n      <path d=\"M 37.109375 75.984375 \nL 37.109375 68.5 \nL 28.515625 68.5 \nQ 23.6875 68.5 21.796875 66.546875 \nQ 19.921875 64.59375 19.921875 59.515625 \nL 19.921875 54.6875 \nL 34.71875 54.6875 \nL 34.71875 47.703125 \nL 19.921875 47.703125 \nL 19.921875 0 \nL 10.890625 0 \nL 10.890625 47.703125 \nL 2.296875 47.703125 \nL 2.296875 54.6875 \nL 10.890625 54.6875 \nL 10.890625 58.5 \nQ 10.890625 67.625 15.140625 71.796875 \nQ 19.390625 75.984375 28.609375 75.984375 \nz\n\" id=\"DejaVuSans-102\"/>\n     </defs>\n     <g transform=\"translate(261.134375 199.322187)scale(0.1 -0.1)\">\n      <use xlink:href=\"#DejaVuSans-85\"/>\n      <use x=\"73.193359\" xlink:href=\"#DejaVuSans-110\"/>\n      <use x=\"136.572266\" xlink:href=\"#DejaVuSans-99\"/>\n      <use x=\"191.552734\" xlink:href=\"#DejaVuSans-111\"/>\n      <use x=\"252.734375\" xlink:href=\"#DejaVuSans-110\"/>\n      <use x=\"316.113281\" xlink:href=\"#DejaVuSans-115\"/>\n      <use x=\"368.212891\" xlink:href=\"#DejaVuSans-116\"/>\n      <use x=\"407.421875\" xlink:href=\"#DejaVuSans-114\"/>\n      <use x=\"448.535156\" xlink:href=\"#DejaVuSans-97\"/>\n      <use x=\"509.814453\" xlink:href=\"#DejaVuSans-110\"/>\n      <use x=\"573.193359\" xlink:href=\"#DejaVuSans-101\"/>\n      <use x=\"634.716797\" xlink:href=\"#DejaVuSans-100\"/>\n      <use x=\"698.193359\" xlink:href=\"#DejaVuSans-32\"/>\n      <use x=\"729.980469\" xlink:href=\"#DejaVuSans-112\"/>\n      <use x=\"793.457031\" xlink:href=\"#DejaVuSans-111\"/>\n      <use x=\"854.638672\" xlink:href=\"#DejaVuSans-114\"/>\n      <use x=\"895.751953\" xlink:href=\"#DejaVuSans-116\"/>\n      <use x=\"934.960938\" xlink:href=\"#DejaVuSans-102\"/>\n      <use x=\"970.166016\" xlink:href=\"#DejaVuSans-111\"/>\n      <use x=\"1031.347656\" xlink:href=\"#DejaVuSans-108\"/>\n      <use x=\"1059.130859\" xlink:href=\"#DejaVuSans-105\"/>\n      <use x=\"1086.914062\" xlink:href=\"#DejaVuSans-111\"/>\n     </g>\n    </g>\n    <g id=\"line2d_18\">\n     <path d=\"M 233.134375 210.500312 \nL 253.134375 210.500312 \n\" style=\"fill:none;stroke:#ff7f0e;stroke-linecap:square;stroke-width:1.5;\"/>\n    </g>\n    <g id=\"line2d_19\"/>\n    <g id=\"text_18\">\n     <!-- Constraned porfolio -->\n     <defs>\n      <path d=\"M 64.40625 67.28125 \nL 64.40625 56.890625 \nQ 59.421875 61.53125 53.78125 63.8125 \nQ 48.140625 66.109375 41.796875 66.109375 \nQ 29.296875 66.109375 22.65625 58.46875 \nQ 16.015625 50.828125 16.015625 36.375 \nQ 16.015625 21.96875 22.65625 14.328125 \nQ 29.296875 6.6875 41.796875 6.6875 \nQ 48.140625 6.6875 53.78125 8.984375 \nQ 59.421875 11.28125 64.40625 15.921875 \nL 64.40625 5.609375 \nQ 59.234375 2.09375 53.4375 0.328125 \nQ 47.65625 -1.421875 41.21875 -1.421875 \nQ 24.65625 -1.421875 15.125 8.703125 \nQ 5.609375 18.84375 5.609375 36.375 \nQ 5.609375 53.953125 15.125 64.078125 \nQ 24.65625 74.21875 41.21875 74.21875 \nQ 47.75 74.21875 53.53125 72.484375 \nQ 59.328125 70.75 64.40625 67.28125 \nz\n\" id=\"DejaVuSans-67\"/>\n     </defs>\n     <g transform=\"translate(261.134375 214.000312)scale(0.1 -0.1)\">\n      <use xlink:href=\"#DejaVuSans-67\"/>\n      <use x=\"69.824219\" xlink:href=\"#DejaVuSans-111\"/>\n      <use x=\"131.005859\" xlink:href=\"#DejaVuSans-110\"/>\n      <use x=\"194.384766\" xlink:href=\"#DejaVuSans-115\"/>\n      <use x=\"246.484375\" xlink:href=\"#DejaVuSans-116\"/>\n      <use x=\"285.693359\" xlink:href=\"#DejaVuSans-114\"/>\n      <use x=\"326.806641\" xlink:href=\"#DejaVuSans-97\"/>\n      <use x=\"388.085938\" xlink:href=\"#DejaVuSans-110\"/>\n      <use x=\"451.464844\" xlink:href=\"#DejaVuSans-101\"/>\n      <use x=\"512.988281\" xlink:href=\"#DejaVuSans-100\"/>\n      <use x=\"576.464844\" xlink:href=\"#DejaVuSans-32\"/>\n      <use x=\"608.251953\" xlink:href=\"#DejaVuSans-112\"/>\n      <use x=\"671.728516\" xlink:href=\"#DejaVuSans-111\"/>\n      <use x=\"732.910156\" xlink:href=\"#DejaVuSans-114\"/>\n      <use x=\"774.023438\" xlink:href=\"#DejaVuSans-102\"/>\n      <use x=\"809.228516\" xlink:href=\"#DejaVuSans-111\"/>\n      <use x=\"870.410156\" xlink:href=\"#DejaVuSans-108\"/>\n      <use x=\"898.193359\" xlink:href=\"#DejaVuSans-105\"/>\n      <use x=\"925.976562\" xlink:href=\"#DejaVuSans-111\"/>\n     </g>\n    </g>\n    <g id=\"line2d_20\"/>\n    <g id=\"line2d_21\">\n     <g>\n      <use style=\"fill:#ff0000;stroke:#ff0000;stroke-linejoin:bevel;\" x=\"243.134375\" xlink:href=\"#m58ad81d5e0\" y=\"225.178437\"/>\n     </g>\n    </g>\n    <g id=\"text_19\">\n     <!-- Cut-off level a* -->\n     <defs>\n      <path d=\"M 8.5 21.578125 \nL 8.5 54.6875 \nL 17.484375 54.6875 \nL 17.484375 21.921875 \nQ 17.484375 14.15625 20.5 10.265625 \nQ 23.53125 6.390625 29.59375 6.390625 \nQ 36.859375 6.390625 41.078125 11.03125 \nQ 45.3125 15.671875 45.3125 23.6875 \nL 45.3125 54.6875 \nL 54.296875 54.6875 \nL 54.296875 0 \nL 45.3125 0 \nL 45.3125 8.40625 \nQ 42.046875 3.421875 37.71875 1 \nQ 33.40625 -1.421875 27.6875 -1.421875 \nQ 18.265625 -1.421875 13.375 4.4375 \nQ 8.5 10.296875 8.5 21.578125 \nz\nM 31.109375 56 \nz\n\" id=\"DejaVuSans-117\"/>\n      <path d=\"M 4.890625 31.390625 \nL 31.203125 31.390625 \nL 31.203125 23.390625 \nL 4.890625 23.390625 \nz\n\" id=\"DejaVuSans-45\"/>\n     </defs>\n     <g transform=\"translate(261.134375 228.678437)scale(0.1 -0.1)\">\n      <use xlink:href=\"#DejaVuSans-67\"/>\n      <use x=\"69.824219\" xlink:href=\"#DejaVuSans-117\"/>\n      <use x=\"133.203125\" xlink:href=\"#DejaVuSans-116\"/>\n      <use x=\"172.412109\" xlink:href=\"#DejaVuSans-45\"/>\n      <use x=\"208.511719\" xlink:href=\"#DejaVuSans-111\"/>\n      <use x=\"269.693359\" xlink:href=\"#DejaVuSans-102\"/>\n      <use x=\"304.898438\" xlink:href=\"#DejaVuSans-102\"/>\n      <use x=\"340.103516\" xlink:href=\"#DejaVuSans-32\"/>\n      <use x=\"371.890625\" xlink:href=\"#DejaVuSans-108\"/>\n      <use x=\"399.673828\" xlink:href=\"#DejaVuSans-101\"/>\n      <use x=\"461.197266\" xlink:href=\"#DejaVuSans-118\"/>\n      <use x=\"520.376953\" xlink:href=\"#DejaVuSans-101\"/>\n      <use x=\"581.900391\" xlink:href=\"#DejaVuSans-108\"/>\n      <use x=\"609.683594\" xlink:href=\"#DejaVuSans-32\"/>\n      <use x=\"641.470703\" xlink:href=\"#DejaVuSans-97\"/>\n      <use x=\"702.75\" xlink:href=\"#DejaVuSans-42\"/>\n     </g>\n    </g>\n   </g>\n  </g>\n </g>\n <defs>\n  <clipPath id=\"p3715e302c1\">\n   <rect height=\"217.44\" width=\"334.8\" x=\"50.14375\" y=\"22.318125\"/>\n  </clipPath>\n </defs>\n</svg>\n",
      "text/plain": "<Figure size 432x288 with 1 Axes>"
     },
     "metadata": {
      "needs_background": "light"
     },
     "output_type": "display_data"
    }
   ],
   "source": [
    "# cycle on a to divide the cases:\n",
    "sr = []\n",
    "for i, point in enumerate(a):\n",
    "    if point < a_s: # constrained case\n",
    "        sr.append(sr_c[i])\n",
    "    else: # unconstrained case\n",
    "        sr.append(sr_u[i])\n",
    "\n",
    "plt.plot(a,sr_u, label='Unconstraned portfolio')\n",
    "#plt.plot(a,sr_c)\n",
    "plt.plot(a,sr, label='Constraned porfolio')\n",
    "plt.plot(a_s,sr_t,'*', color='r', label='Cut-off level a*')\n",
    "plt.text(a_s, sr_t-0.0205, 'a*', color='r')\n",
    "plt.xlabel('risk aversion level')\n",
    "plt.title('Sharpe Ratio')\n",
    "plt.ylabel('sharpe ratio')\n",
    "plt.legend()\n",
    "plt.show()"
   ]
  },
  {
   "cell_type": "markdown",
   "metadata": {},
   "source": [
    "# exercise 3"
   ]
  },
  {
   "cell_type": "code",
   "execution_count": 2,
   "metadata": {},
   "outputs": [
    {
     "data": {
      "text/html": "<div>\n<style scoped>\n    .dataframe tbody tr th:only-of-type {\n        vertical-align: middle;\n    }\n\n    .dataframe tbody tr th {\n        vertical-align: top;\n    }\n\n    .dataframe thead th {\n        text-align: right;\n    }\n</style>\n<table border=\"1\" class=\"dataframe\">\n  <thead>\n    <tr style=\"text-align: right;\">\n      <th></th>\n      <th>Unnamed: 0</th>\n      <th>Mkt-RF</th>\n      <th>SMB</th>\n      <th>HML</th>\n      <th>RF</th>\n    </tr>\n  </thead>\n  <tbody>\n    <tr>\n      <td>0</td>\n      <td>1976.01</td>\n      <td>0.1216</td>\n      <td>0.0480</td>\n      <td>0.0858</td>\n      <td>0.0047</td>\n    </tr>\n    <tr>\n      <td>1</td>\n      <td>1976.02</td>\n      <td>0.0032</td>\n      <td>0.0703</td>\n      <td>0.0578</td>\n      <td>0.0034</td>\n    </tr>\n    <tr>\n      <td>2</td>\n      <td>1976.03</td>\n      <td>0.0232</td>\n      <td>-0.0117</td>\n      <td>-0.0004</td>\n      <td>0.0040</td>\n    </tr>\n    <tr>\n      <td>3</td>\n      <td>1976.04</td>\n      <td>-0.0149</td>\n      <td>-0.0003</td>\n      <td>-0.0006</td>\n      <td>0.0042</td>\n    </tr>\n    <tr>\n      <td>4</td>\n      <td>1976.05</td>\n      <td>-0.0134</td>\n      <td>-0.0124</td>\n      <td>-0.0132</td>\n      <td>0.0037</td>\n    </tr>\n  </tbody>\n</table>\n</div>",
      "text/plain": "   Unnamed: 0  Mkt-RF     SMB     HML      RF\n0     1976.01  0.1216  0.0480  0.0858  0.0047\n1     1976.02  0.0032  0.0703  0.0578  0.0034\n2     1976.03  0.0232 -0.0117 -0.0004  0.0040\n3     1976.04 -0.0149 -0.0003 -0.0006  0.0042\n4     1976.05 -0.0134 -0.0124 -0.0132  0.0037"
     },
     "execution_count": 2,
     "metadata": {},
     "output_type": "execute_result"
    }
   ],
   "source": [
    "# Berkshire Hathaway \n",
    "#BRK = db.raw_sql(\"select date,ret from crsp.dsf where permno in (17778) and date >='1976-01-01' and date<='2019-12-31'\")\n",
    "ff_100=pd.read_csv(\"F-F_Research_Data_Factors.csv\", sep=\",\")\n",
    "ff_5_100=pd.read_csv(\"F-F_Research_Data_5_Factors_2X3.csv\", sep=\",\")\n",
    "ff_5=ff_5_100/100\n",
    "ff=ff_100/100\n",
    "ff_mom=(pd.read_csv(\"ffm.CSV\", sep=\",\"))/100\n",
    "average_rf=(np.mean(ff['RF'])*12)\n",
    "ff.head()\n",
    "#len(BRK)\n",
    "\n",
    "#BRK"
   ]
  },
  {
   "cell_type": "code",
   "execution_count": 3,
   "metadata": {},
   "outputs": [],
   "source": [
    "#BRK.to_csv(\"brk_as5_ex3.csv\")\n",
    "BRK = pd.read_csv(\"brk_as5_ex3.csv\").set_index([\"date\"]).sort_index()[[\"ret\"]]#.dropna()\n"
   ]
  },
  {
   "cell_type": "markdown",
   "execution_count": null,
   "metadata": {},
   "outputs": [],
   "source": [
    "## PART B"
   ]
  },
  {
   "cell_type": "code",
   "execution_count": 4,
   "metadata": {},
   "outputs": [
    {
     "name": "stdout",
     "output_type": "stream",
     "text": "Berkshire Hathaway:\nBerkshire Hathaway's annualized excess returns mean: ret    0.182903\ndtype: float64\nBerkshire Hathaway's execss annualized returns' standard deviation: ret    0.241099\ndtype: float64\nBerkshire's annualized returns' Sharpe Ratio: ret    0.758621\ndtype: float64\n \nMarket:\nThe Market's annualized excess returns mean 0.08009149338374288\nThe Market's annualized excess returns' standard deviation 0.15118876622527921\nThe Market's annualized returns' Sharpe Ratio 0.5297450027762137\n \nSMB:\nThe SMB's annualized excess returns mean 0.0231833648393195\nThe SMB's annualized excess returns' standard deviation 0.10267887836666106\nThe SMB's annualized returns' Sharpe Ratio 0.22578513914549084\n \nHML:\nThe HML's annualized excess returns mean 0.02913799621928169\nThe HML's annualized excess returns' standard deviation 0.09994134805358647\nThe HML's annualized returns' Sharpe Ratio 0.29155096250711465\n \nMOM:\nThe MOM's annualized excess returns mean Mom    0.074268\ndtype: float64\nThe MOM's annualized excess returns' standard deviation Mom    0.150003\ndtype: float64\nThe MOM's annualized returns' Sharpe Ratio Mom    0.495112\ndtype: float64\n"
    }
   ],
   "source": [
    "print(\"Berkshire Hathaway:\")\n",
    "print(\"Berkshire Hathaway's annualized excess returns mean:\",np.mean(BRK)*252-average_rf)\n",
    "print(\"Berkshire Hathaway's execss annualized returns' standard deviation:\",np.std(BRK)*np.sqrt(252))\n",
    "print(\"Berkshire's annualized returns' Sharpe Ratio:\",((np.mean(BRK)*252)-average_rf)/(np.std(BRK)*np.sqrt(252)))\n",
    "print(\" \")\n",
    "print(\"Market:\")\n",
    "print(\"The Market's annualized excess returns mean\",np.mean(ff['Mkt-RF'])*12)\n",
    "print(\"The Market's annualized excess returns' standard deviation\",np.std(ff['Mkt-RF'])*np.sqrt(12))\n",
    "print(\"The Market's annualized returns' Sharpe Ratio\",np.mean(ff['Mkt-RF'])/np.std(ff['Mkt-RF'])*np.sqrt(12))\n",
    "print(\" \")\n",
    "print(\"SMB:\")\n",
    "print(\"The SMB's annualized excess returns mean\",np.mean(ff['SMB'])*12)\n",
    "print(\"The SMB's annualized excess returns' standard deviation\",np.std(ff['SMB'])*np.sqrt(12))\n",
    "print(\"The SMB's annualized returns' Sharpe Ratio\",np.mean(ff['SMB'])/np.std(ff['SMB'])*np.sqrt(12))\n",
    "print(\" \")\n",
    "print(\"HML:\")\n",
    "print(\"The HML's annualized excess returns mean\",np.mean(ff['HML'])*12)\n",
    "print(\"The HML's annualized excess returns' standard deviation\",np.std(ff['HML'])*np.sqrt(12))\n",
    "print(\"The HML's annualized returns' Sharpe Ratio\",np.mean(ff['HML'])/np.std(ff['HML'])*np.sqrt(12))\n",
    "print(\" \")\n",
    "print(\"MOM:\")\n",
    "print(\"The MOM's annualized excess returns mean\",np.mean((ff_mom)*12))\n",
    "print(\"The MOM's annualized excess returns' standard deviation\",np.std(ff_mom)*np.sqrt(12))\n",
    "print(\"The MOM's annualized returns' Sharpe Ratio\",np.mean(ff_mom)/np.std(ff_mom)*np.sqrt(12))"
   ]
  },
  {
   "cell_type": "markdown",
   "execution_count": null,
   "metadata": {},
   "outputs": [],
   "source": [
    "## PART C"
   ]
  },
  {
   "cell_type": "code",
   "execution_count": 5,
   "metadata": {},
   "outputs": [],
   "source": [
    "BRK.index = pd.DatetimeIndex(BRK.index)\n",
    "BRK_monthly = BRK.resample(\"1m\").mean()*21 #take the first or last return of each month, or choose another function\n",
    "BRK_monthly.index = BRK_monthly.index.to_period(\"m\")\n",
    "\n"
   ]
  },
  {
   "cell_type": "code",
   "execution_count": 6,
   "metadata": {},
   "outputs": [
    {
     "data": {
      "text/plain": "ret    0.020351\ndtype: float64"
     },
     "execution_count": 6,
     "metadata": {},
     "output_type": "execute_result"
    }
   ],
   "source": [
    "np.mean(BRK_monthly)"
   ]
  },
  {
   "cell_type": "code",
   "execution_count": 7,
   "metadata": {},
   "outputs": [
    {
     "data": {
      "text/plain": "519"
     },
     "execution_count": 7,
     "metadata": {},
     "output_type": "execute_result"
    }
   ],
   "source": [
    "\n",
    "ff = ff.iloc[9:528]\n",
    "len(ff)"
   ]
  },
  {
   "cell_type": "code",
   "execution_count": 8,
   "metadata": {},
   "outputs": [
    {
     "data": {
      "text/plain": "519"
     },
     "execution_count": 8,
     "metadata": {},
     "output_type": "execute_result"
    }
   ],
   "source": [
    "ff_mom = ff_mom.iloc[9:528]\n",
    "ff_mom.index = ff.index\n",
    "len(ff_mom)"
   ]
  },
  {
   "cell_type": "code",
   "execution_count": 9,
   "metadata": {},
   "outputs": [],
   "source": [
    "ff_5.index = ff.index\n",
    "ff_3m=pd.concat([ff, ff_mom], axis=1)\n",
    "ff_5m=pd.concat([ff_5, ff_mom], axis=1)\n",
    "ff_5m.columns\n",
    "R_e_brk=pd.DataFrame((np.array(BRK_monthly['ret']) - np.array(ff['RF'])),columns=['BRK'])\n",
    "R_e_brk.index = ff.index\n",
    "R_e_brk_95=R_e_brk.iloc[:231]"
   ]
  },
  {
   "cell_type": "code",
   "execution_count": 81,
   "metadata": {},
   "outputs": [],
   "source": [
    "def ols(covariates,flag,year,regressand='BRK'):\n",
    " if year == 2019:  \n",
    "    y=R_e_brk['BRK']\n",
    "    X=flag[covariates]\n",
    "    X=sm.add_constant(X)\n",
    "    reg=sm.OLS(y,X).fit()\n",
    "    print(reg.summary())\n",
    "    print(\"The corresponding Information Ratio is\",np.divide(reg.params[0],np.sqrt\n",
    "(reg.mse_resid))*np.sqrt(12))\n",
    "    return  reg.params[0], reg.mse_resid,reg.params[1:]\n",
    " elif year == 1995:\n",
    "    y= y=R_e_brk_95['BRK']\n",
    "    X=flag[covariates]\n",
    "    X=sm.add_constant(X)\n",
    "    reg=sm.OLS(y,X).fit()\n",
    "    print(reg.summary())\n",
    "    print(\"The corresponding Information Ratio is\",np.divide(reg.params[0],np.sqrt(reg.mse_resid))*np.sqrt(12))\n",
    " "
   ]
  },
  {
   "cell_type": "code",
   "execution_count": 11,
   "metadata": {},
   "outputs": [
    {
     "name": "stdout",
     "output_type": "stream",
     "text": "OLS Regression Results                            \n==============================================================================\nDep. Variable:                    BRK   R-squared:                       0.160\nModel:                            OLS   Adj. R-squared:                  0.158\nMethod:                 Least Squares   F-statistic:                     98.19\nDate:                Thu, 19 Mar 2020   Prob (F-statistic):           2.62e-21\nTime:                        20:52:56   Log-Likelihood:                 673.82\nNo. Observations:                 519   AIC:                            -1344.\nDf Residuals:                     517   BIC:                            -1335.\nDf Model:                           1                                         \nCovariance Type:            nonrobust                                         \n==============================================================================\n                 coef    std err          t      P>|t|      [0.025      0.975]\n------------------------------------------------------------------------------\nconst          0.0124      0.003      4.234      0.000       0.007       0.018\nMkt-RF         0.6586      0.066      9.909      0.000       0.528       0.789\n==============================================================================\nOmnibus:                      376.984   Durbin-Watson:                   1.638\nProb(Omnibus):                  0.000   Jarque-Bera (JB):            11979.170\nSkew:                           2.744   Prob(JB):                         0.00\nKurtosis:                      25.888   Cond. No.                         22.9\n==============================================================================\n\nWarnings:\n[1] Standard Errors assume that the covariance matrix of the errors is correctly specified.\nThe corresponding Information Ratio is 0.6508124085770653\n"
    },
    {
     "data": {
      "text/plain": "(0.012434271755032167, 0.004380365060052388)"
     },
     "execution_count": 11,
     "metadata": {},
     "output_type": "execute_result"
    }
   ],
   "source": [
    "ols('Mkt-RF',ff_3m,2019)\n"
   ]
  },
  {
   "cell_type": "code",
   "execution_count": 12,
   "metadata": {},
   "outputs": [
    {
     "name": "stdout",
     "output_type": "stream",
     "text": "OLS Regression Results                            \n==============================================================================\nDep. Variable:                    BRK   R-squared:                       0.214\nModel:                            OLS   Adj. R-squared:                  0.210\nMethod:                 Least Squares   F-statistic:                     46.79\nDate:                Thu, 19 Mar 2020   Prob (F-statistic):           9.38e-27\nTime:                        20:52:56   Log-Likelihood:                 691.24\nNo. Observations:                 519   AIC:                            -1374.\nDf Residuals:                     515   BIC:                            -1357.\nDf Model:                           3                                         \nCovariance Type:            nonrobust                                         \n==============================================================================\n                 coef    std err          t      P>|t|      [0.025      0.975]\n------------------------------------------------------------------------------\nconst          0.0110      0.003      3.834      0.000       0.005       0.017\nMkt-RF         0.7899      0.068     11.599      0.000       0.656       0.924\nSMB           -0.2796      0.100     -2.804      0.005      -0.476      -0.084\nHML            0.4839      0.104      4.655      0.000       0.280       0.688\n==============================================================================\nOmnibus:                      401.206   Durbin-Watson:                   1.641\nProb(Omnibus):                  0.000   Jarque-Bera (JB):            14131.260\nSkew:                           2.983   Prob(JB):                         0.00\nKurtosis:                      27.857   Cond. No.                         39.6\n==============================================================================\n\nWarnings:\n[1] Standard Errors assume that the covariance matrix of the errors is correctly specified.\nThe corresponding Information Ratio is 0.5946632638274936\n"
    },
    {
     "data": {
      "text/plain": "(0.011007696832103581, 0.0041117996537650935)"
     },
     "execution_count": 12,
     "metadata": {},
     "output_type": "execute_result"
    }
   ],
   "source": [
    "ols(['Mkt-RF','SMB','HML'],ff_3m,2019)"
   ]
  },
  {
   "cell_type": "code",
   "execution_count": 13,
   "metadata": {},
   "outputs": [
    {
     "name": "stdout",
     "output_type": "stream",
     "text": "OLS Regression Results                            \n==============================================================================\nDep. Variable:                    BRK   R-squared:                       0.215\nModel:                            OLS   Adj. R-squared:                  0.209\nMethod:                 Least Squares   F-statistic:                     35.25\nDate:                Thu, 19 Mar 2020   Prob (F-statistic):           4.98e-26\nTime:                        20:52:56   Log-Likelihood:                 691.60\nNo. Observations:                 519   AIC:                            -1373.\nDf Residuals:                     514   BIC:                            -1352.\nDf Model:                           4                                         \nCovariance Type:            nonrobust                                         \n==============================================================================\n                 coef    std err          t      P>|t|      [0.025      0.975]\n------------------------------------------------------------------------------\nconst          0.0105      0.003      3.602      0.000       0.005       0.016\nMkt-RF         0.8012      0.069     11.537      0.000       0.665       0.938\nSMB           -0.2845      0.100     -2.848      0.005      -0.481      -0.088\nHML            0.5068      0.108      4.712      0.000       0.295       0.718\nMom            0.0564      0.068      0.834      0.404      -0.076       0.189\n==============================================================================\nOmnibus:                      401.375   Durbin-Watson:                   1.641\nProb(Omnibus):                  0.000   Jarque-Bera (JB):            14109.195\nSkew:                           2.986   Prob(JB):                         0.00\nKurtosis:                      27.835   Cond. No.                         40.7\n==============================================================================\n\nWarnings:\n[1] Standard Errors assume that the covariance matrix of the errors is correctly specified.\nThe corresponding Information Ratio is 0.5692419829409094\n"
    },
    {
     "data": {
      "text/plain": "(0.010540236215039661, 0.004114225466774229)"
     },
     "execution_count": 13,
     "metadata": {},
     "output_type": "execute_result"
    }
   ],
   "source": [
    "ols(['Mkt-RF','SMB','HML','Mom'],ff_3m,2019)"
   ]
  },
  {
   "cell_type": "code",
   "execution_count": 111,
   "metadata": {},
   "outputs": [
    {
     "name": "stdout",
     "output_type": "stream",
     "text": "OLS Regression Results                            \n==============================================================================\nDep. Variable:                    BRK   R-squared:                       0.222\nModel:                            OLS   Adj. R-squared:                  0.213\nMethod:                 Least Squares   F-statistic:                     24.42\nDate:                Thu, 19 Mar 2020   Prob (F-statistic):           1.78e-25\nTime:                        21:48:19   Log-Likelihood:                 694.00\nNo. Observations:                 519   AIC:                            -1374.\nDf Residuals:                     512   BIC:                            -1344.\nDf Model:                           6                                         \nCovariance Type:            nonrobust                                         \n==============================================================================\n                 coef    std err          t      P>|t|      [0.025      0.975]\n------------------------------------------------------------------------------\nconst          0.0093      0.003      3.098      0.002       0.003       0.015\nMkt-RF         0.8210      0.073     11.178      0.000       0.677       0.965\nSMB           -0.1594      0.109     -1.468      0.143      -0.373       0.054\nHML            0.5351      0.145      3.679      0.000       0.249       0.821\nRMW            0.3448      0.142      2.431      0.015       0.066       0.623\nCMA           -0.0677      0.213     -0.317      0.751      -0.487       0.351\nMom            0.0328      0.069      0.476      0.634      -0.103       0.168\n==============================================================================\nOmnibus:                      411.161   Durbin-Watson:                   1.638\nProb(Omnibus):                  0.000   Jarque-Bera (JB):            15375.195\nSkew:                           3.077   Prob(JB):                         0.00\nKurtosis:                      28.944   Cond. No.                         86.4\n==============================================================================\n\nWarnings:\n[1] Standard Errors assume that the covariance matrix of the errors is correctly specified.\nThe corresponding Information Ratio is 0.5026280066325507\n"
    }
   ],
   "source": [
    "alfa, residual, beta_i =ols(['Mkt-RF','SMB','HML','RMW', 'CMA','Mom'],ff_5m,2019)"
   ]
  },
  {
   "cell_type": "markdown",
   "metadata": {},
   "source": [
    "## Part G"
   ]
  },
  {
   "cell_type": "code",
   "execution_count": 112,
   "metadata": {},
   "outputs": [],
   "source": [
    "\n",
    "factors=ff_5m.drop(['Unnamed: 0','RF'],axis=1)\n",
    "mean_factors=pd.DataFrame(factors.mean()).T\n",
    "varfactors=factors.cov()\n",
    "varfactors_inv = pd.DataFrame(np.linalg.pinv(varfactors.values), varfactors.columns, varfactors.index)\n",
    "weights_f=mean_factors.dot(varfactors_inv)\n",
    "weights_brk=alfa/residual\n",
    "weights_f\n",
    "var_f=(weights_f.dot(varfactors)).dot(weights_f.T)\n",
    "var_brk=weights_brk*residual*weights_brk\n",
    "var_f=var_f.to_numpy()\n",
    "weights_fn=weights_f.to_numpy()\n",
    "beta_i=beta_i.to_numpy()"
   ]
  },
  {
   "cell_type": "code",
   "execution_count": 114,
   "metadata": {},
   "outputs": [],
   "source": [
    "a=Symbol('a')\n",
    "aversion=solve(-0.04+(1/a)*(var_brk+var_f),a)"
   ]
  },
  {
   "cell_type": "code",
   "execution_count": 176,
   "metadata": {},
   "outputs": [
    {
     "data": {
      "text/html": "<table border=\"1\" class=\"dataframe\">\n  <thead>\n    <tr style=\"text-align: right;\">\n      <th></th>\n      <th>weight</th>\n    </tr>\n  </thead>\n  <tbody>\n    <tr>\n      <th>Mkt-RF</th>\n      <td>1.23780360157084</td>\n    </tr>\n    <tr>\n      <th>SMB</th>\n      <td>1.02484529905805</td>\n    </tr>\n    <tr>\n      <th>HML</th>\n      <td>-0.278067668467825</td>\n    </tr>\n    <tr>\n      <th>RMW</th>\n      <td>2.39365325513903</td>\n    </tr>\n    <tr>\n      <th>CMA</th>\n      <td>2.96415348813385</td>\n    </tr>\n    <tr>\n      <th>Mom</th>\n      <td>0.865315587643230</td>\n    </tr>\n    <tr>\n      <th>rf</th>\n      <td>-0.339991760985985</td>\n    </tr>\n    <tr>\n      <th>BRK</th>\n      <td>0.570781741002945</td>\n    </tr>\n  </tbody>\n</table>",
      "text/plain": "<IPython.core.display.HTML object>"
     },
     "metadata": {},
     "output_type": "display_data"
    }
   ],
   "source": [
    "weight_a_brk=weights_brk/aversion\n",
    "weight_a_f=(weights_fn/aversion) -beta_i*weight_a_brk\n",
    "weight_a_f=(pd.DataFrame(weight_a_f,weights_f.T.columns, weights_f.T.index))\n",
    "weight_a_rf=(1-weight_a_f['Mkt-RF']-weight_a_brk*(1-beta_i[0])).T\n",
    "weight_a_rf=pd.DataFrame(weight_a_rf).T\n",
    "weight_a_rf.columns=['weight']\n",
    "weight_a_rf.index=['rf']\n",
    "weight_a_f=weight_a_f.T\n",
    "weight_a_f.columns=['weight']\n",
    "weight_a_brk=pd.DataFrame(weight_a_brk)\n",
    "weight_a_brk.columns=['weight']\n",
    "weight_a_brk.index=['BRK']\n",
    "frames=[weight_a_f,weight_a_rf,weight_a_brk]\n",
    "weights=pd.concat(frames)\n",
    "\n",
    "from IPython.core.display import HTML\n",
    "display(HTML(weights.to_html()))"
   ]
  },
  {
   "cell_type": "code",
   "execution_count": null,
   "metadata": {},
   "outputs": [],
   "source": [
    "print('the efficent portfolio is composed by:')"
   ]
  },
  {
   "cell_type": "markdown",
   "metadata": {},
   "source": [
    "## PART H"
   ]
  },
  {
   "cell_type": "code",
   "execution_count": 105,
   "metadata": {},
   "outputs": [],
   "source": [
    "ff3_95 = ff_3m.iloc[:231]\n",
    "ff5_95 = ff_5m.iloc[:231]\n"
   ]
  },
  {
   "cell_type": "code",
   "execution_count": 122,
   "metadata": {},
   "outputs": [
    {
     "name": "stdout",
     "output_type": "stream",
     "text": "Berkshire Hathaway:\nBerkshire Hathaway's annualized excess returns mean: 0.3233963700407888\nBerkshire Hathaway's execss annualized returns' standard deviation: 0.30606055744907673\nBerkshire's annualized returns' Sharpe Ratio: 1.0566417729099127\n"
    }
   ],
   "source": [
    "print(\"Berkshire Hathaway:\")\n",
    "print(\"Berkshire Hathaway's annualized excess returns mean:\",np.mean(R_e_brk_95['BRK']*12))\n",
    "print(\"Berkshire Hathaway's execss annualized returns' standard deviation:\",np.std(R_e_brk_95['BRK'])*np.sqrt(12))\n",
    "print(\"Berkshire's annualized returns' Sharpe Ratio:\",((np.mean(R_e_brk_95['BRK']))/(np.std(R_e_brk_95['BRK']))*np.sqrt(12)))"
   ]
  },
  {
   "cell_type": "code",
   "execution_count": 107,
   "metadata": {},
   "outputs": [
    {
     "name": "stdout",
     "output_type": "stream",
     "text": "OLS Regression Results                            \n==============================================================================\nDep. Variable:                    BRK   R-squared:                       0.180\nModel:                            OLS   Adj. R-squared:                  0.177\nMethod:                 Least Squares   F-statistic:                     50.38\nDate:                Wed, 18 Mar 2020   Prob (F-statistic):           1.58e-11\nTime:                        22:50:24   Log-Likelihood:                 255.70\nNo. Observations:                 231   AIC:                            -507.4\nDf Residuals:                     229   BIC:                            -500.5\nDf Model:                           1                                         \nCovariance Type:            nonrobust                                         \n==============================================================================\n                 coef    std err          t      P>|t|      [0.025      0.975]\n------------------------------------------------------------------------------\nconst          0.0215      0.005      4.020      0.000       0.011       0.032\nMkt-RF         0.8643      0.122      7.098      0.000       0.624       1.104\n==============================================================================\nOmnibus:                      189.915   Durbin-Watson:                   1.491\nProb(Omnibus):                  0.000   Jarque-Bera (JB):             4364.216\nSkew:                           2.978   Prob(JB):                         0.00\nKurtosis:                      23.444   Cond. No.                         23.0\n==============================================================================\n\nWarnings:\n[1] Standard Errors assume that the covariance matrix of the errors is correctly specified.\nThe corresponding Information Ratio is 0.9258941346732417\n"
    }
   ],
   "source": [
    "ols('Mkt-RF',ff3_95,1995)"
   ]
  },
  {
   "cell_type": "code",
   "execution_count": 108,
   "metadata": {},
   "outputs": [
    {
     "name": "stdout",
     "output_type": "stream",
     "text": "OLS Regression Results                            \n==============================================================================\nDep. Variable:                    BRK   R-squared:                       0.200\nModel:                            OLS   Adj. R-squared:                  0.189\nMethod:                 Least Squares   F-statistic:                     18.89\nDate:                Wed, 18 Mar 2020   Prob (F-statistic):           5.69e-11\nTime:                        22:50:24   Log-Likelihood:                 258.47\nNo. Observations:                 231   AIC:                            -508.9\nDf Residuals:                     227   BIC:                            -495.2\nDf Model:                           3                                         \nCovariance Type:            nonrobust                                         \n==============================================================================\n                 coef    std err          t      P>|t|      [0.025      0.975]\n------------------------------------------------------------------------------\nconst          0.0182      0.005      3.320      0.001       0.007       0.029\nMkt-RF         0.9822      0.140      7.009      0.000       0.706       1.258\nSMB            0.1948      0.223      0.873      0.384      -0.245       0.634\nHML            0.5369      0.239      2.242      0.026       0.065       1.009\n==============================================================================\nOmnibus:                      189.068   Durbin-Watson:                   1.523\nProb(Omnibus):                  0.000   Jarque-Bera (JB):             4180.392\nSkew:                           2.975   Prob(JB):                         0.00\nKurtosis:                      22.973   Cond. No.                         47.8\n==============================================================================\n\nWarnings:\n[1] Standard Errors assume that the covariance matrix of the errors is correctly specified.\nThe corresponding Information Ratio is 0.7907517206515153\n"
    }
   ],
   "source": [
    "ols(['Mkt-RF','SMB','HML'],ff3_95,1995)"
   ]
  },
  {
   "cell_type": "code",
   "execution_count": 86,
   "metadata": {},
   "outputs": [
    {
     "name": "stdout",
     "output_type": "stream",
     "text": "OLS Regression Results                            \n==============================================================================\nDep. Variable:                    BRK   R-squared:                       0.200\nModel:                            OLS   Adj. R-squared:                  0.186\nMethod:                 Least Squares   F-statistic:                     14.10\nDate:                Wed, 18 Mar 2020   Prob (F-statistic):           2.74e-10\nTime:                        22:44:08   Log-Likelihood:                 258.47\nNo. Observations:                 231   AIC:                            -506.9\nDf Residuals:                     226   BIC:                            -489.7\nDf Model:                           4                                         \nCovariance Type:            nonrobust                                         \n==============================================================================\n                 coef    std err          t      P>|t|      [0.025      0.975]\n------------------------------------------------------------------------------\nconst          0.0182      0.006      3.170      0.002       0.007       0.029\nMkt-RF         0.9817      0.142      6.927      0.000       0.702       1.261\nSMB            0.1947      0.224      0.871      0.385      -0.246       0.635\nHML            0.5381      0.243      2.214      0.028       0.059       1.017\nMom            0.0053      0.171      0.031      0.976      -0.332       0.342\n==============================================================================\nOmnibus:                      189.104   Durbin-Watson:                   1.523\nProb(Omnibus):                  0.000   Jarque-Bera (JB):             4181.790\nSkew:                           2.976   Prob(JB):                         0.00\nKurtosis:                      22.976   Cond. No.                         48.5\n==============================================================================\n\nWarnings:\n[1] Standard Errors assume that the covariance matrix of the errors is correctly specified.\nThe corresponding Information Ratio is 0.7868623519832864\n"
    }
   ],
   "source": [
    "ols(['Mkt-RF','SMB','HML','Mom'],ff3_95,1995)"
   ]
  },
  {
   "cell_type": "code",
   "execution_count": 87,
   "metadata": {},
   "outputs": [
    {
     "name": "stdout",
     "output_type": "stream",
     "text": "OLS Regression Results                            \n==============================================================================\nDep. Variable:                    BRK   R-squared:                       0.201\nModel:                            OLS   Adj. R-squared:                  0.179\nMethod:                 Least Squares   F-statistic:                     9.369\nDate:                Wed, 18 Mar 2020   Prob (F-statistic):           3.57e-09\nTime:                        22:45:03   Log-Likelihood:                 258.59\nNo. Observations:                 231   AIC:                            -503.2\nDf Residuals:                     224   BIC:                            -479.1\nDf Model:                           6                                         \nCovariance Type:            nonrobust                                         \n==============================================================================\n                 coef    std err          t      P>|t|      [0.025      0.975]\n------------------------------------------------------------------------------\nconst          0.0188      0.006      3.038      0.003       0.007       0.031\nMkt-RF         0.9682      0.146      6.646      0.000       0.681       1.255\nSMB            0.1647      0.231      0.714      0.476      -0.290       0.620\nHML            0.6926      0.365      1.896      0.059      -0.027       1.413\nRMW           -0.0374      0.467     -0.080      0.936      -0.957       0.882\nCMA           -0.3414      0.532     -0.641      0.522      -1.391       0.708\nMom            0.0252      0.177      0.142      0.887      -0.324       0.374\n==============================================================================\nOmnibus:                      185.920   Durbin-Watson:                   1.530\nProb(Omnibus):                  0.000   Jarque-Bera (JB):             3982.779\nSkew:                           2.912   Prob(JB):                         0.00\nKurtosis:                      22.490   Cond. No.                         114.\n==============================================================================\n\nWarnings:\n[1] Standard Errors assume that the covariance matrix of the errors is correctly specified.\nThe corresponding Information Ratio is 0.8097058594889107\n"
    }
   ],
   "source": [
    "ols(['Mkt-RF','SMB','HML','RMW', 'CMA','Mom'],ff5_95,1995)"
   ]
  },
  {
   "cell_type": "code",
   "execution_count": null,
   "metadata": {},
   "outputs": [],
   "source": []
  }
 ],
 "metadata": {
  "kernelspec": {
   "display_name": "Python 3",
   "language": "python",
   "name": "python3"
  },
  "language_info": {
   "codemirror_mode": {
    "name": "ipython",
    "version": 3
   },
   "file_extension": ".py",
   "mimetype": "text/x-python",
   "name": "python",
   "nbconvert_exporter": "python",
   "pygments_lexer": "ipython3",
   "version": "3.7.4-final"
  }
 },
 "nbformat": 4,
 "nbformat_minor": 2
}