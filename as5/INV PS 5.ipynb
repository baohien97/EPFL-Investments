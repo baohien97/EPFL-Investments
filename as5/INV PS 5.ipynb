{
 "cells": [
  {
   "cell_type": "code",
   "execution_count": 30,
   "metadata": {},
   "outputs": [],
   "source": [
    "import numpy as np\n",
    "import pandas as pd\n",
    "import random as random\n",
    "import matplotlib.pyplot as plt\n",
    "from scipy import stats \n",
    "from datetime import datetime\n",
    "import wrds\n",
    "import statsmodels.api as sm\n",
    "# import statsmodels.api as sm\n",
    "#db = wrds.Connection(wrds_username = 'hienle') \n"
   ]
  },
  {
   "cell_type": "code",
   "execution_count": 31,
   "metadata": {},
   "outputs": [
    {
     "data": {
      "text/html": "<div>\n<style scoped>\n    .dataframe tbody tr th:only-of-type {\n        vertical-align: middle;\n    }\n\n    .dataframe tbody tr th {\n        vertical-align: top;\n    }\n\n    .dataframe thead th {\n        text-align: right;\n    }\n</style>\n<table border=\"1\" class=\"dataframe\">\n  <thead>\n    <tr style=\"text-align: right;\">\n      <th></th>\n      <th>Unnamed: 0</th>\n      <th>Mkt-RF</th>\n      <th>SMB</th>\n      <th>HML</th>\n      <th>RF</th>\n    </tr>\n  </thead>\n  <tbody>\n    <tr>\n      <td>0</td>\n      <td>1976.01</td>\n      <td>0.1216</td>\n      <td>0.0480</td>\n      <td>0.0858</td>\n      <td>0.0047</td>\n    </tr>\n    <tr>\n      <td>1</td>\n      <td>1976.02</td>\n      <td>0.0032</td>\n      <td>0.0703</td>\n      <td>0.0578</td>\n      <td>0.0034</td>\n    </tr>\n    <tr>\n      <td>2</td>\n      <td>1976.03</td>\n      <td>0.0232</td>\n      <td>-0.0117</td>\n      <td>-0.0004</td>\n      <td>0.0040</td>\n    </tr>\n    <tr>\n      <td>3</td>\n      <td>1976.04</td>\n      <td>-0.0149</td>\n      <td>-0.0003</td>\n      <td>-0.0006</td>\n      <td>0.0042</td>\n    </tr>\n    <tr>\n      <td>4</td>\n      <td>1976.05</td>\n      <td>-0.0134</td>\n      <td>-0.0124</td>\n      <td>-0.0132</td>\n      <td>0.0037</td>\n    </tr>\n  </tbody>\n</table>\n</div>",
      "text/plain": "   Unnamed: 0  Mkt-RF     SMB     HML      RF\n0     1976.01  0.1216  0.0480  0.0858  0.0047\n1     1976.02  0.0032  0.0703  0.0578  0.0034\n2     1976.03  0.0232 -0.0117 -0.0004  0.0040\n3     1976.04 -0.0149 -0.0003 -0.0006  0.0042\n4     1976.05 -0.0134 -0.0124 -0.0132  0.0037"
     },
     "execution_count": 31,
     "metadata": {},
     "output_type": "execute_result"
    }
   ],
   "source": [
    "# Berkshire Hathaway \n",
    "#BRK = db.raw_sql(\"select date,ret from crsp.dsf where permno in (17778) and date >='1976-01-01' and date<='2019-12-31'\")\n",
    "ff_100=pd.read_csv(\"F-F_Research_Data_Factors.csv\", sep=\",\")\n",
    "ff_5_100=pd.read_csv(\"F-F_Research_Data_5_Factors_2X3.csv\", sep=\",\")\n",
    "ff_5=ff_5_100/100\n",
    "ff=ff_100/100\n",
    "ff_mom=(pd.read_csv(\"ffm.CSV\", sep=\",\"))/100\n",
    "average_rf=(np.mean(ff['RF'])*12)\n",
    "ff.head()\n",
    "#len(BRK)\n",
    "\n",
    "#BRK"
   ]
  },
  {
   "cell_type": "code",
   "execution_count": 32,
   "metadata": {},
   "outputs": [],
   "source": [
    "#BRK.to_csv(\"brk_as5_ex3.csv\")\n",
    "BRK = pd.read_csv(\"brk_as5_ex3.csv\").set_index([\"date\"]).sort_index()[[\"ret\"]]#.dropna()\n"
   ]
  },
  {
   "cell_type": "markdown",
   "execution_count": null,
   "metadata": {},
   "outputs": [],
   "source": [
    "## PART B"
   ]
  },
  {
   "cell_type": "code",
   "execution_count": 33,
   "metadata": {},
   "outputs": [
    {
     "name": "stdout",
     "output_type": "stream",
     "text": "Berkshire Hathaway:\nBerkshire Hathaway's annualized excess returns mean: ret    0.182903\ndtype: float64\nBerkshire Hathaway's execss annualized returns' standard deviation: ret    0.241099\ndtype: float64\nBerkshire's annualized returns' Sharpe Ratio: ret    0.758621\ndtype: float64\n \nMarket:\nThe Market's annualized excess returns mean 0.08009149338374288\nThe Market's annualized excess returns' standard deviation 0.15118876622527921\nThe Market's annualized returns' Sharpe Ratio 0.5297450027762137\n \nSMB:\nThe SMB's annualized excess returns mean 0.0231833648393195\nThe SMB's annualized excess returns' standard deviation 0.10267887836666106\nThe SMB's annualized returns' Sharpe Ratio 0.22578513914549084\n \nHML:\nThe HML's annualized excess returns mean 0.02913799621928169\nThe HML's annualized excess returns' standard deviation 0.09994134805358647\nThe HML's annualized returns' Sharpe Ratio 0.29155096250711465\n \nMOM:\nThe MOM's annualized excess returns mean Mom    0.074268\ndtype: float64\nThe MOM's annualized excess returns' standard deviation Mom    0.150003\ndtype: float64\nThe MOM's annualized returns' Sharpe Ratio Mom    0.495112\ndtype: float64\n"
    }
   ],
   "source": [
    "print(\"Berkshire Hathaway:\")\n",
    "print(\"Berkshire Hathaway's annualized excess returns mean:\",np.mean(BRK)*252-average_rf)\n",
    "print(\"Berkshire Hathaway's execss annualized returns' standard deviation:\",np.std(BRK)*np.sqrt(252))\n",
    "print(\"Berkshire's annualized returns' Sharpe Ratio:\",((np.mean(BRK)*252)-average_rf)/(np.std(BRK)*np.sqrt(252)))\n",
    "print(\" \")\n",
    "print(\"Market:\")\n",
    "print(\"The Market's annualized excess returns mean\",np.mean(ff['Mkt-RF'])*12)\n",
    "print(\"The Market's annualized excess returns' standard deviation\",np.std(ff['Mkt-RF'])*np.sqrt(12))\n",
    "print(\"The Market's annualized returns' Sharpe Ratio\",np.mean(ff['Mkt-RF'])/np.std(ff['Mkt-RF'])*np.sqrt(12))\n",
    "print(\" \")\n",
    "print(\"SMB:\")\n",
    "print(\"The SMB's annualized excess returns mean\",np.mean(ff['SMB'])*12)\n",
    "print(\"The SMB's annualized excess returns' standard deviation\",np.std(ff['SMB'])*np.sqrt(12))\n",
    "print(\"The SMB's annualized returns' Sharpe Ratio\",np.mean(ff['SMB'])/np.std(ff['SMB'])*np.sqrt(12))\n",
    "print(\" \")\n",
    "print(\"HML:\")\n",
    "print(\"The HML's annualized excess returns mean\",np.mean(ff['HML'])*12)\n",
    "print(\"The HML's annualized excess returns' standard deviation\",np.std(ff['HML'])*np.sqrt(12))\n",
    "print(\"The HML's annualized returns' Sharpe Ratio\",np.mean(ff['HML'])/np.std(ff['HML'])*np.sqrt(12))\n",
    "print(\" \")\n",
    "print(\"MOM:\")\n",
    "print(\"The MOM's annualized excess returns mean\",np.mean((ff_mom)*12))\n",
    "print(\"The MOM's annualized excess returns' standard deviation\",np.std(ff_mom)*np.sqrt(12))\n",
    "print(\"The MOM's annualized returns' Sharpe Ratio\",np.mean(ff_mom)/np.std(ff_mom)*np.sqrt(12))"
   ]
  },
  {
   "cell_type": "markdown",
   "execution_count": null,
   "metadata": {},
   "outputs": [],
   "source": [
    "## PART C"
   ]
  },
  {
   "cell_type": "code",
   "execution_count": 34,
   "metadata": {},
   "outputs": [],
   "source": [
    "BRK.index = pd.DatetimeIndex(BRK.index)\n",
    "BRK_monthly = BRK.resample(\"1m\").mean()*21 #take the first or last return of each month, or choose another function\n",
    "BRK_monthly.index = BRK_monthly.index.to_period(\"m\")\n",
    "\n"
   ]
  },
  {
   "cell_type": "code",
   "execution_count": 35,
   "metadata": {},
   "outputs": [
    {
     "data": {
      "text/plain": "ret    0.020351\ndtype: float64"
     },
     "execution_count": 35,
     "metadata": {},
     "output_type": "execute_result"
    }
   ],
   "source": [
    "np.mean(BRK_monthly)"
   ]
  },
  {
   "cell_type": "code",
   "execution_count": 36,
   "metadata": {},
   "outputs": [
    {
     "data": {
      "text/plain": "519"
     },
     "execution_count": 36,
     "metadata": {},
     "output_type": "execute_result"
    }
   ],
   "source": [
    "\n",
    "ff = ff.iloc[9:528]\n",
    "len(ff)"
   ]
  },
  {
   "cell_type": "code",
   "execution_count": 37,
   "metadata": {},
   "outputs": [
    {
     "data": {
      "text/plain": "519"
     },
     "execution_count": 37,
     "metadata": {},
     "output_type": "execute_result"
    }
   ],
   "source": [
    "ff_mom = ff_mom.iloc[9:528]\n",
    "ff_mom.index = ff.index\n",
    "len(ff_mom)"
   ]
  },
  {
   "cell_type": "code",
   "execution_count": 38,
   "metadata": {},
   "outputs": [
    {
     "data": {
      "text/plain": "Index(['Unnamed: 0', 'Mkt-RF', 'SMB', 'HML', 'RMW', 'CMA', 'RF', 'Mom'], dtype='object')"
     },
     "execution_count": 38,
     "metadata": {},
     "output_type": "execute_result"
    }
   ],
   "source": [
    "ff_5.index = ff.index\n",
    "ff_3m=pd.concat([ff, ff_mom], axis=1)\n",
    "ff_5m=pd.concat([ff_5, ff_mom], axis=1)\n",
    "ff_5m.columns"
   ]
  },
  {
   "cell_type": "code",
   "execution_count": 39,
   "metadata": {},
   "outputs": [],
   "source": [
    "def ols(covariates,flag,regressand='BRK'):\n",
    "    y=R_e_brk['BRK']\n",
    "    X=flag[covariates]\n",
    "    X=sm.add_constant(X)\n",
    "    reg=sm.OLS(y,X).fit()\n",
    "    print(reg.summary())\n",
    "    print(\"The corresponding Information Ratio is\",np.divide(reg.params[0],np.sqrt(reg.mse_resid))*np.sqrt(12))\n",
    "    #elif flag==ff_5m:\n",
    "       # X=ff_3m[covariates]\n",
    "        #X=sm.add_constant(X)\n",
    "        #reg=sm.OLS(y,X).fit()\n",
    "        #print(reg.summary())\n",
    "        #print(\"The corresponding Information Ratio is\",np.divide(reg.params[0],np.sqrt(reg.mse_resid))*np.sqrt(12))\n"
   ]
  },
  {
   "cell_type": "code",
   "execution_count": 40,
   "metadata": {},
   "outputs": [
    {
     "name": "stdout",
     "output_type": "stream",
     "text": "OLS Regression Results                            \n==============================================================================\nDep. Variable:                    BRK   R-squared:                       0.160\nModel:                            OLS   Adj. R-squared:                  0.158\nMethod:                 Least Squares   F-statistic:                     98.19\nDate:                Wed, 18 Mar 2020   Prob (F-statistic):           2.62e-21\nTime:                        22:23:26   Log-Likelihood:                 673.82\nNo. Observations:                 519   AIC:                            -1344.\nDf Residuals:                     517   BIC:                            -1335.\nDf Model:                           1                                         \nCovariance Type:            nonrobust                                         \n==============================================================================\n                 coef    std err          t      P>|t|      [0.025      0.975]\n------------------------------------------------------------------------------\nconst          0.0124      0.003      4.234      0.000       0.007       0.018\nMkt-RF         0.6586      0.066      9.909      0.000       0.528       0.789\n==============================================================================\nOmnibus:                      376.984   Durbin-Watson:                   1.638\nProb(Omnibus):                  0.000   Jarque-Bera (JB):            11979.170\nSkew:                           2.744   Prob(JB):                         0.00\nKurtosis:                      25.888   Cond. No.                         22.9\n==============================================================================\n\nWarnings:\n[1] Standard Errors assume that the covariance matrix of the errors is correctly specified.\nThe corresponding Information Ratio is 0.6508124085770653\n"
    }
   ],
   "source": [
    "R_e_brk=pd.DataFrame((np.array(BRK_monthly['ret']) - np.array(ff['RF'])),columns=['BRK'])\n",
    "R_e_brk.index = ff.index\n",
    "ols('Mkt-RF',ff_3m)\n"
   ]
  },
  {
   "cell_type": "code",
   "execution_count": 41,
   "metadata": {},
   "outputs": [
    {
     "name": "stdout",
     "output_type": "stream",
     "text": "OLS Regression Results                            \n==============================================================================\nDep. Variable:                    BRK   R-squared:                       0.214\nModel:                            OLS   Adj. R-squared:                  0.210\nMethod:                 Least Squares   F-statistic:                     46.79\nDate:                Wed, 18 Mar 2020   Prob (F-statistic):           9.38e-27\nTime:                        22:23:26   Log-Likelihood:                 691.24\nNo. Observations:                 519   AIC:                            -1374.\nDf Residuals:                     515   BIC:                            -1357.\nDf Model:                           3                                         \nCovariance Type:            nonrobust                                         \n==============================================================================\n                 coef    std err          t      P>|t|      [0.025      0.975]\n------------------------------------------------------------------------------\nconst          0.0110      0.003      3.834      0.000       0.005       0.017\nMkt-RF         0.7899      0.068     11.599      0.000       0.656       0.924\nSMB           -0.2796      0.100     -2.804      0.005      -0.476      -0.084\nHML            0.4839      0.104      4.655      0.000       0.280       0.688\n==============================================================================\nOmnibus:                      401.206   Durbin-Watson:                   1.641\nProb(Omnibus):                  0.000   Jarque-Bera (JB):            14131.260\nSkew:                           2.983   Prob(JB):                         0.00\nKurtosis:                      27.857   Cond. No.                         39.6\n==============================================================================\n\nWarnings:\n[1] Standard Errors assume that the covariance matrix of the errors is correctly specified.\nThe corresponding Information Ratio is 0.5946632638274936\n"
    }
   ],
   "source": [
    "ols(['Mkt-RF','SMB','HML'],ff_3m)"
   ]
  },
  {
   "cell_type": "code",
   "execution_count": 42,
   "metadata": {},
   "outputs": [
    {
     "name": "stdout",
     "output_type": "stream",
     "text": "OLS Regression Results                            \n==============================================================================\nDep. Variable:                    BRK   R-squared:                       0.215\nModel:                            OLS   Adj. R-squared:                  0.209\nMethod:                 Least Squares   F-statistic:                     35.25\nDate:                Wed, 18 Mar 2020   Prob (F-statistic):           4.98e-26\nTime:                        22:23:27   Log-Likelihood:                 691.60\nNo. Observations:                 519   AIC:                            -1373.\nDf Residuals:                     514   BIC:                            -1352.\nDf Model:                           4                                         \nCovariance Type:            nonrobust                                         \n==============================================================================\n                 coef    std err          t      P>|t|      [0.025      0.975]\n------------------------------------------------------------------------------\nconst          0.0105      0.003      3.602      0.000       0.005       0.016\nMkt-RF         0.8012      0.069     11.537      0.000       0.665       0.938\nSMB           -0.2845      0.100     -2.848      0.005      -0.481      -0.088\nHML            0.5068      0.108      4.712      0.000       0.295       0.718\nMom            0.0564      0.068      0.834      0.404      -0.076       0.189\n==============================================================================\nOmnibus:                      401.375   Durbin-Watson:                   1.641\nProb(Omnibus):                  0.000   Jarque-Bera (JB):            14109.195\nSkew:                           2.986   Prob(JB):                         0.00\nKurtosis:                      27.835   Cond. No.                         40.7\n==============================================================================\n\nWarnings:\n[1] Standard Errors assume that the covariance matrix of the errors is correctly specified.\nThe corresponding Information Ratio is 0.5692419829409094\n"
    }
   ],
   "source": [
    "ols(['Mkt-RF','SMB','HML','Mom'],ff_3m)"
   ]
  },
  {
   "cell_type": "code",
   "execution_count": 43,
   "metadata": {},
   "outputs": [
    {
     "name": "stdout",
     "output_type": "stream",
     "text": "OLS Regression Results                            \n==============================================================================\nDep. Variable:                    BRK   R-squared:                       0.222\nModel:                            OLS   Adj. R-squared:                  0.213\nMethod:                 Least Squares   F-statistic:                     24.42\nDate:                Wed, 18 Mar 2020   Prob (F-statistic):           1.78e-25\nTime:                        22:23:27   Log-Likelihood:                 694.00\nNo. Observations:                 519   AIC:                            -1374.\nDf Residuals:                     512   BIC:                            -1344.\nDf Model:                           6                                         \nCovariance Type:            nonrobust                                         \n==============================================================================\n                 coef    std err          t      P>|t|      [0.025      0.975]\n------------------------------------------------------------------------------\nconst          0.0093      0.003      3.098      0.002       0.003       0.015\nMkt-RF         0.8210      0.073     11.178      0.000       0.677       0.965\nSMB           -0.1594      0.109     -1.468      0.143      -0.373       0.054\nHML            0.5351      0.145      3.679      0.000       0.249       0.821\nRMW            0.3448      0.142      2.431      0.015       0.066       0.623\nCMA           -0.0677      0.213     -0.317      0.751      -0.487       0.351\nMom            0.0328      0.069      0.476      0.634      -0.103       0.168\n==============================================================================\nOmnibus:                      411.161   Durbin-Watson:                   1.638\nProb(Omnibus):                  0.000   Jarque-Bera (JB):            15375.195\nSkew:                           3.077   Prob(JB):                         0.00\nKurtosis:                      28.944   Cond. No.                         86.4\n==============================================================================\n\nWarnings:\n[1] Standard Errors assume that the covariance matrix of the errors is correctly specified.\nThe corresponding Information Ratio is 0.5026280066325507\n"
    }
   ],
   "source": [
    "ols(['Mkt-RF','SMB','HML','RMW', 'CMA','Mom'],ff_5m)"
   ]
  },
  {
   "cell_type": "code",
   "execution_count": null,
   "metadata": {},
   "outputs": [],
   "source": []
  },
  {
   "cell_type": "code",
   "execution_count": 23,
   "metadata": {},
   "outputs": [],
   "source": [
    "##PART H"
   ]
  },
  {
   "cell_type": "code",
   "execution_count": 53,
   "metadata": {},
   "outputs": [],
   "source": [
    "ff3_95 = ff_3m.iloc[:231]\n",
    "ff5_95 = ff_5m.iloc[:231]"
   ]
  },
  {
   "cell_type": "code",
   "execution_count": null,
   "metadata": {},
   "outputs": [],
   "source": []
  }
 ],
 "metadata": {
  "kernelspec": {
   "display_name": "Python 3",
   "language": "python",
   "name": "python3"
  },
  "language_info": {
   "codemirror_mode": {
    "name": "ipython",
    "version": 3
   },
   "file_extension": ".py",
   "mimetype": "text/x-python",
   "name": "python",
   "nbconvert_exporter": "python",
   "pygments_lexer": "ipython3",
   "version": "3.7.4-final"
  }
 },
 "nbformat": 4,
 "nbformat_minor": 2
}