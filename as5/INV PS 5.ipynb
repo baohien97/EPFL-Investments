{
 "cells": [
  {
   "cell_type": "code",
   "execution_count": 90,
   "metadata": {},
   "outputs": [],
   "source": [
    "import numpy as np\n",
    "import pandas as pd\n",
    "import random as random\n",
    "import matplotlib.pyplot as plt\n",
    "from scipy import stats \n",
    "from datetime import datetime\n",
    "import wrds\n",
    "import statsmodels.api as sm\n",
    "# import statsmodels.api as sm\n",
    "#db = wrds.Connection(wrds_username = 'hienle') \n"
   ]
  },
  {
   "cell_type": "code",
   "execution_count": 91,
   "metadata": {},
   "outputs": [
    {
     "data": {
      "text/html": "<div>\n<style scoped>\n    .dataframe tbody tr th:only-of-type {\n        vertical-align: middle;\n    }\n\n    .dataframe tbody tr th {\n        vertical-align: top;\n    }\n\n    .dataframe thead th {\n        text-align: right;\n    }\n</style>\n<table border=\"1\" class=\"dataframe\">\n  <thead>\n    <tr style=\"text-align: right;\">\n      <th></th>\n      <th>Unnamed: 0</th>\n      <th>Mkt-RF</th>\n      <th>SMB</th>\n      <th>HML</th>\n      <th>RF</th>\n    </tr>\n  </thead>\n  <tbody>\n    <tr>\n      <td>0</td>\n      <td>1976.01</td>\n      <td>0.1216</td>\n      <td>0.0480</td>\n      <td>0.0858</td>\n      <td>0.0047</td>\n    </tr>\n    <tr>\n      <td>1</td>\n      <td>1976.02</td>\n      <td>0.0032</td>\n      <td>0.0703</td>\n      <td>0.0578</td>\n      <td>0.0034</td>\n    </tr>\n    <tr>\n      <td>2</td>\n      <td>1976.03</td>\n      <td>0.0232</td>\n      <td>-0.0117</td>\n      <td>-0.0004</td>\n      <td>0.0040</td>\n    </tr>\n    <tr>\n      <td>3</td>\n      <td>1976.04</td>\n      <td>-0.0149</td>\n      <td>-0.0003</td>\n      <td>-0.0006</td>\n      <td>0.0042</td>\n    </tr>\n    <tr>\n      <td>4</td>\n      <td>1976.05</td>\n      <td>-0.0134</td>\n      <td>-0.0124</td>\n      <td>-0.0132</td>\n      <td>0.0037</td>\n    </tr>\n  </tbody>\n</table>\n</div>",
      "text/plain": "   Unnamed: 0  Mkt-RF     SMB     HML      RF\n0     1976.01  0.1216  0.0480  0.0858  0.0047\n1     1976.02  0.0032  0.0703  0.0578  0.0034\n2     1976.03  0.0232 -0.0117 -0.0004  0.0040\n3     1976.04 -0.0149 -0.0003 -0.0006  0.0042\n4     1976.05 -0.0134 -0.0124 -0.0132  0.0037"
     },
     "execution_count": 91,
     "metadata": {},
     "output_type": "execute_result"
    }
   ],
   "source": [
    "# Berkshire Hathaway \n",
    "#BRK = db.raw_sql(\"select date,ret from crsp.dsf where permno in (17778) and date >='1976-01-01' and date<='2019-12-31'\")\n",
    "ff_100=pd.read_csv(\"F-F_Research_Data_Factors.csv\", sep=\",\")\n",
    "ff_5_100=pd.read_csv(\"F-F_Research_Data_5_Factors_2X3.csv\", sep=\",\")\n",
    "ff_5=ff_5_100/100\n",
    "ff=ff_100/100\n",
    "ff_mom=(pd.read_csv(\"ffm.CSV\", sep=\",\"))/100\n",
    "average_rf=(np.mean(ff['RF'])*12)\n",
    "ff.head()\n",
    "#len(BRK)\n",
    "\n",
    "#BRK"
   ]
  },
  {
   "cell_type": "code",
   "execution_count": 92,
   "metadata": {},
   "outputs": [],
   "source": [
    "#BRK.to_csv(\"brk_as5_ex3.csv\")\n",
    "BRK = pd.read_csv(\"brk_as5_ex3.csv\").set_index([\"date\"]).sort_index()[[\"ret\"]]#.dropna()\n"
   ]
  },
  {
   "cell_type": "markdown",
   "execution_count": null,
   "metadata": {},
   "outputs": [],
   "source": [
    "## PART B"
   ]
  },
  {
   "cell_type": "code",
   "execution_count": 93,
   "metadata": {},
   "outputs": [
    {
     "name": "stdout",
     "output_type": "stream",
     "text": "Berkshire Hathaway:\nBerkshire Hathaway's annualized excess returns mean: ret    0.182903\ndtype: float64\nBerkshire Hathaway's execss annualized returns' standard deviation: ret    0.241099\ndtype: float64\nBerkshire's annualized returns' Sharpe Ratio: ret    0.758621\ndtype: float64\n \nMarket:\nThe Market's annualized excess returns mean 0.08009149338374288\nThe Market's annualized excess returns' standard deviation 0.15118876622527921\nThe Market's annualized returns' Sharpe Ratio 0.5297450027762137\n \nSMB:\nThe SMB's annualized excess returns mean 0.0231833648393195\nThe SMB's annualized excess returns' standard deviation 0.10267887836666106\nThe SMB's annualized returns' Sharpe Ratio 0.22578513914549084\n \nHML:\nThe HML's annualized excess returns mean 0.02913799621928169\nThe HML's annualized excess returns' standard deviation 0.09994134805358647\nThe HML's annualized returns' Sharpe Ratio 0.29155096250711465\n \nMOM:\nThe MOM's annualized excess returns mean Mom    0.074268\ndtype: float64\nThe MOM's annualized excess returns' standard deviation Mom    0.150003\ndtype: float64\nThe MOM's annualized returns' Sharpe Ratio Mom    0.495112\ndtype: float64\n"
    }
   ],
   "source": [
    "print(\"Berkshire Hathaway:\")\n",
    "print(\"Berkshire Hathaway's annualized excess returns mean:\",np.mean(BRK)*252-average_rf)\n",
    "print(\"Berkshire Hathaway's execss annualized returns' standard deviation:\",np.std(BRK)*np.sqrt(252))\n",
    "print(\"Berkshire's annualized returns' Sharpe Ratio:\",((np.mean(BRK)*252)-average_rf)/(np.std(BRK)*np.sqrt(252)))\n",
    "print(\" \")\n",
    "print(\"Market:\")\n",
    "print(\"The Market's annualized excess returns mean\",np.mean(ff['Mkt-RF'])*12)\n",
    "print(\"The Market's annualized excess returns' standard deviation\",np.std(ff['Mkt-RF'])*np.sqrt(12))\n",
    "print(\"The Market's annualized returns' Sharpe Ratio\",np.mean(ff['Mkt-RF'])/np.std(ff['Mkt-RF'])*np.sqrt(12))\n",
    "print(\" \")\n",
    "print(\"SMB:\")\n",
    "print(\"The SMB's annualized excess returns mean\",np.mean(ff['SMB'])*12)\n",
    "print(\"The SMB's annualized excess returns' standard deviation\",np.std(ff['SMB'])*np.sqrt(12))\n",
    "print(\"The SMB's annualized returns' Sharpe Ratio\",np.mean(ff['SMB'])/np.std(ff['SMB'])*np.sqrt(12))\n",
    "print(\" \")\n",
    "print(\"HML:\")\n",
    "print(\"The HML's annualized excess returns mean\",np.mean(ff['HML'])*12)\n",
    "print(\"The HML's annualized excess returns' standard deviation\",np.std(ff['HML'])*np.sqrt(12))\n",
    "print(\"The HML's annualized returns' Sharpe Ratio\",np.mean(ff['HML'])/np.std(ff['HML'])*np.sqrt(12))\n",
    "print(\" \")\n",
    "print(\"MOM:\")\n",
    "print(\"The MOM's annualized excess returns mean\",np.mean((ff_mom)*12))\n",
    "print(\"The MOM's annualized excess returns' standard deviation\",np.std(ff_mom)*np.sqrt(12))\n",
    "print(\"The MOM's annualized returns' Sharpe Ratio\",np.mean(ff_mom)/np.std(ff_mom)*np.sqrt(12))"
   ]
  },
  {
   "cell_type": "markdown",
   "execution_count": null,
   "metadata": {},
   "outputs": [],
   "source": [
    "## PART C"
   ]
  },
  {
   "cell_type": "code",
   "execution_count": 94,
   "metadata": {},
   "outputs": [],
   "source": [
    "BRK.index = pd.DatetimeIndex(BRK.index)\n",
    "BRK_monthly = BRK.resample(\"1m\").mean()*21 #take the first or last return of each month, or choose another function\n",
    "BRK_monthly.index = BRK_monthly.index.to_period(\"m\")\n",
    "\n"
   ]
  },
  {
   "cell_type": "code",
   "execution_count": 95,
   "metadata": {},
   "outputs": [
    {
     "data": {
      "text/plain": "ret    0.020351\ndtype: float64"
     },
     "execution_count": 95,
     "metadata": {},
     "output_type": "execute_result"
    }
   ],
   "source": [
    "np.mean(BRK_monthly)"
   ]
  },
  {
   "cell_type": "code",
   "execution_count": 96,
   "metadata": {},
   "outputs": [
    {
     "data": {
      "text/plain": "519"
     },
     "execution_count": 96,
     "metadata": {},
     "output_type": "execute_result"
    }
   ],
   "source": [
    "\n",
    "ff = ff.iloc[9:528]\n",
    "len(ff)"
   ]
  },
  {
   "cell_type": "code",
   "execution_count": 97,
   "metadata": {},
   "outputs": [
    {
     "data": {
      "text/plain": "519"
     },
     "execution_count": 97,
     "metadata": {},
     "output_type": "execute_result"
    }
   ],
   "source": [
    "ff_mom = ff_mom.iloc[9:528]\n",
    "ff_mom.index = ff.index\n",
    "len(ff_mom)"
   ]
  },
  {
   "cell_type": "code",
   "execution_count": 98,
   "metadata": {},
   "outputs": [],
   "source": [
    "ff_5.index = ff.index\n",
    "ff_3m=pd.concat([ff, ff_mom], axis=1)\n",
    "ff_5m=pd.concat([ff_5, ff_mom], axis=1)\n",
    "ff_5m.columns\n",
    "R_e_brk=pd.DataFrame((np.array(BRK_monthly['ret']) - np.array(ff['RF'])),columns=['BRK'])\n",
    "R_e_brk.index = ff.index\n",
    "R_e_brk_95=R_e_brk.iloc[:231]"
   ]
  },
  {
   "cell_type": "code",
   "execution_count": 99,
   "metadata": {},
   "outputs": [],
   "source": [
    "def ols(covariates,flag,year,regressand='BRK'):\n",
    " if year == 2019:  \n",
    "    y=R_e_brk['BRK']\n",
    "    X=flag[covariates]\n",
    "    X=sm.add_constant(X)\n",
    "    reg=sm.OLS(y,X).fit()\n",
    "    print(reg.summary())\n",
    "    print(\"The corresponding Information Ratio is\",np.divide(reg.params[0],np.sqrt(reg.mse_resid))*np.sqrt(12))\n",
    " elif year == 1995:\n",
    "    y= y=R_e_brk_95['BRK']\n",
    "    X=flag[covariates]\n",
    "    X=sm.add_constant(X)\n",
    "    reg=sm.OLS(y,X).fit()\n",
    "    print(reg.summary())\n",
    "    print(\"The corresponding Information Ratio is\",np.divide(reg.params[0],np.sqrt(reg.mse_resid))*np.sqrt(12))\n"
   ]
  },
  {
   "cell_type": "code",
   "execution_count": 100,
   "metadata": {},
   "outputs": [
    {
     "name": "stdout",
     "output_type": "stream",
     "text": "OLS Regression Results                            \n==============================================================================\nDep. Variable:                    BRK   R-squared:                       0.160\nModel:                            OLS   Adj. R-squared:                  0.158\nMethod:                 Least Squares   F-statistic:                     98.19\nDate:                Wed, 18 Mar 2020   Prob (F-statistic):           2.62e-21\nTime:                        22:50:23   Log-Likelihood:                 673.82\nNo. Observations:                 519   AIC:                            -1344.\nDf Residuals:                     517   BIC:                            -1335.\nDf Model:                           1                                         \nCovariance Type:            nonrobust                                         \n==============================================================================\n                 coef    std err          t      P>|t|      [0.025      0.975]\n------------------------------------------------------------------------------\nconst          0.0124      0.003      4.234      0.000       0.007       0.018\nMkt-RF         0.6586      0.066      9.909      0.000       0.528       0.789\n==============================================================================\nOmnibus:                      376.984   Durbin-Watson:                   1.638\nProb(Omnibus):                  0.000   Jarque-Bera (JB):            11979.170\nSkew:                           2.744   Prob(JB):                         0.00\nKurtosis:                      25.888   Cond. No.                         22.9\n==============================================================================\n\nWarnings:\n[1] Standard Errors assume that the covariance matrix of the errors is correctly specified.\nThe corresponding Information Ratio is 0.6508124085770653\n"
    }
   ],
   "source": [
    "ols('Mkt-RF',ff_3m,2019)\n"
   ]
  },
  {
   "cell_type": "code",
   "execution_count": 101,
   "metadata": {},
   "outputs": [
    {
     "name": "stdout",
     "output_type": "stream",
     "text": "OLS Regression Results                            \n==============================================================================\nDep. Variable:                    BRK   R-squared:                       0.214\nModel:                            OLS   Adj. R-squared:                  0.210\nMethod:                 Least Squares   F-statistic:                     46.79\nDate:                Wed, 18 Mar 2020   Prob (F-statistic):           9.38e-27\nTime:                        22:50:23   Log-Likelihood:                 691.24\nNo. Observations:                 519   AIC:                            -1374.\nDf Residuals:                     515   BIC:                            -1357.\nDf Model:                           3                                         \nCovariance Type:            nonrobust                                         \n==============================================================================\n                 coef    std err          t      P>|t|      [0.025      0.975]\n------------------------------------------------------------------------------\nconst          0.0110      0.003      3.834      0.000       0.005       0.017\nMkt-RF         0.7899      0.068     11.599      0.000       0.656       0.924\nSMB           -0.2796      0.100     -2.804      0.005      -0.476      -0.084\nHML            0.4839      0.104      4.655      0.000       0.280       0.688\n==============================================================================\nOmnibus:                      401.206   Durbin-Watson:                   1.641\nProb(Omnibus):                  0.000   Jarque-Bera (JB):            14131.260\nSkew:                           2.983   Prob(JB):                         0.00\nKurtosis:                      27.857   Cond. No.                         39.6\n==============================================================================\n\nWarnings:\n[1] Standard Errors assume that the covariance matrix of the errors is correctly specified.\nThe corresponding Information Ratio is 0.5946632638274936\n"
    }
   ],
   "source": [
    "ols(['Mkt-RF','SMB','HML'],ff_3m,2019)"
   ]
  },
  {
   "cell_type": "code",
   "execution_count": 102,
   "metadata": {},
   "outputs": [
    {
     "name": "stdout",
     "output_type": "stream",
     "text": "OLS Regression Results                            \n==============================================================================\nDep. Variable:                    BRK   R-squared:                       0.215\nModel:                            OLS   Adj. R-squared:                  0.209\nMethod:                 Least Squares   F-statistic:                     35.25\nDate:                Wed, 18 Mar 2020   Prob (F-statistic):           4.98e-26\nTime:                        22:50:23   Log-Likelihood:                 691.60\nNo. Observations:                 519   AIC:                            -1373.\nDf Residuals:                     514   BIC:                            -1352.\nDf Model:                           4                                         \nCovariance Type:            nonrobust                                         \n==============================================================================\n                 coef    std err          t      P>|t|      [0.025      0.975]\n------------------------------------------------------------------------------\nconst          0.0105      0.003      3.602      0.000       0.005       0.016\nMkt-RF         0.8012      0.069     11.537      0.000       0.665       0.938\nSMB           -0.2845      0.100     -2.848      0.005      -0.481      -0.088\nHML            0.5068      0.108      4.712      0.000       0.295       0.718\nMom            0.0564      0.068      0.834      0.404      -0.076       0.189\n==============================================================================\nOmnibus:                      401.375   Durbin-Watson:                   1.641\nProb(Omnibus):                  0.000   Jarque-Bera (JB):            14109.195\nSkew:                           2.986   Prob(JB):                         0.00\nKurtosis:                      27.835   Cond. No.                         40.7\n==============================================================================\n\nWarnings:\n[1] Standard Errors assume that the covariance matrix of the errors is correctly specified.\nThe corresponding Information Ratio is 0.5692419829409094\n"
    }
   ],
   "source": [
    "ols(['Mkt-RF','SMB','HML','Mom'],ff_3m,2019)"
   ]
  },
  {
   "cell_type": "code",
   "execution_count": 103,
   "metadata": {},
   "outputs": [
    {
     "name": "stdout",
     "output_type": "stream",
     "text": "OLS Regression Results                            \n==============================================================================\nDep. Variable:                    BRK   R-squared:                       0.222\nModel:                            OLS   Adj. R-squared:                  0.213\nMethod:                 Least Squares   F-statistic:                     24.42\nDate:                Wed, 18 Mar 2020   Prob (F-statistic):           1.78e-25\nTime:                        22:50:23   Log-Likelihood:                 694.00\nNo. Observations:                 519   AIC:                            -1374.\nDf Residuals:                     512   BIC:                            -1344.\nDf Model:                           6                                         \nCovariance Type:            nonrobust                                         \n==============================================================================\n                 coef    std err          t      P>|t|      [0.025      0.975]\n------------------------------------------------------------------------------\nconst          0.0093      0.003      3.098      0.002       0.003       0.015\nMkt-RF         0.8210      0.073     11.178      0.000       0.677       0.965\nSMB           -0.1594      0.109     -1.468      0.143      -0.373       0.054\nHML            0.5351      0.145      3.679      0.000       0.249       0.821\nRMW            0.3448      0.142      2.431      0.015       0.066       0.623\nCMA           -0.0677      0.213     -0.317      0.751      -0.487       0.351\nMom            0.0328      0.069      0.476      0.634      -0.103       0.168\n==============================================================================\nOmnibus:                      411.161   Durbin-Watson:                   1.638\nProb(Omnibus):                  0.000   Jarque-Bera (JB):            15375.195\nSkew:                           3.077   Prob(JB):                         0.00\nKurtosis:                      28.944   Cond. No.                         86.4\n==============================================================================\n\nWarnings:\n[1] Standard Errors assume that the covariance matrix of the errors is correctly specified.\nThe corresponding Information Ratio is 0.5026280066325507\n"
    }
   ],
   "source": [
    "ols(['Mkt-RF','SMB','HML','RMW', 'CMA','Mom'],ff_5m,2019)"
   ]
  },
  {
   "cell_type": "code",
   "execution_count": 104,
   "metadata": {},
   "outputs": [],
   "source": [
    "##PART H"
   ]
  },
  {
   "cell_type": "code",
   "execution_count": 105,
   "metadata": {},
   "outputs": [],
   "source": [
    "ff3_95 = ff_3m.iloc[:231]\n",
    "ff5_95 = ff_5m.iloc[:231]\n"
   ]
  },
  {
   "cell_type": "code",
   "execution_count": 122,
   "metadata": {},
   "outputs": [
    {
     "name": "stdout",
     "output_type": "stream",
     "text": "Berkshire Hathaway:\nBerkshire Hathaway's annualized excess returns mean: 0.3233963700407888\nBerkshire Hathaway's execss annualized returns' standard deviation: 0.30606055744907673\nBerkshire's annualized returns' Sharpe Ratio: 1.0566417729099127\n"
    }
   ],
   "source": [
    "print(\"Berkshire Hathaway:\")\n",
    "print(\"Berkshire Hathaway's annualized excess returns mean:\",np.mean(R_e_brk_95['BRK']*12))\n",
    "print(\"Berkshire Hathaway's execss annualized returns' standard deviation:\",np.std(R_e_brk_95['BRK'])*np.sqrt(12))\n",
    "print(\"Berkshire's annualized returns' Sharpe Ratio:\",((np.mean(R_e_brk_95['BRK']))/(np.std(R_e_brk_95['BRK']))*np.sqrt(12)))"
   ]
  },
  {
   "cell_type": "code",
   "execution_count": 107,
   "metadata": {},
   "outputs": [
    {
     "name": "stdout",
     "output_type": "stream",
     "text": "OLS Regression Results                            \n==============================================================================\nDep. Variable:                    BRK   R-squared:                       0.180\nModel:                            OLS   Adj. R-squared:                  0.177\nMethod:                 Least Squares   F-statistic:                     50.38\nDate:                Wed, 18 Mar 2020   Prob (F-statistic):           1.58e-11\nTime:                        22:50:24   Log-Likelihood:                 255.70\nNo. Observations:                 231   AIC:                            -507.4\nDf Residuals:                     229   BIC:                            -500.5\nDf Model:                           1                                         \nCovariance Type:            nonrobust                                         \n==============================================================================\n                 coef    std err          t      P>|t|      [0.025      0.975]\n------------------------------------------------------------------------------\nconst          0.0215      0.005      4.020      0.000       0.011       0.032\nMkt-RF         0.8643      0.122      7.098      0.000       0.624       1.104\n==============================================================================\nOmnibus:                      189.915   Durbin-Watson:                   1.491\nProb(Omnibus):                  0.000   Jarque-Bera (JB):             4364.216\nSkew:                           2.978   Prob(JB):                         0.00\nKurtosis:                      23.444   Cond. No.                         23.0\n==============================================================================\n\nWarnings:\n[1] Standard Errors assume that the covariance matrix of the errors is correctly specified.\nThe corresponding Information Ratio is 0.9258941346732417\n"
    }
   ],
   "source": [
    "ols('Mkt-RF',ff3_95,1995)"
   ]
  },
  {
   "cell_type": "code",
   "execution_count": 108,
   "metadata": {},
   "outputs": [
    {
     "name": "stdout",
     "output_type": "stream",
     "text": "OLS Regression Results                            \n==============================================================================\nDep. Variable:                    BRK   R-squared:                       0.200\nModel:                            OLS   Adj. R-squared:                  0.189\nMethod:                 Least Squares   F-statistic:                     18.89\nDate:                Wed, 18 Mar 2020   Prob (F-statistic):           5.69e-11\nTime:                        22:50:24   Log-Likelihood:                 258.47\nNo. Observations:                 231   AIC:                            -508.9\nDf Residuals:                     227   BIC:                            -495.2\nDf Model:                           3                                         \nCovariance Type:            nonrobust                                         \n==============================================================================\n                 coef    std err          t      P>|t|      [0.025      0.975]\n------------------------------------------------------------------------------\nconst          0.0182      0.005      3.320      0.001       0.007       0.029\nMkt-RF         0.9822      0.140      7.009      0.000       0.706       1.258\nSMB            0.1948      0.223      0.873      0.384      -0.245       0.634\nHML            0.5369      0.239      2.242      0.026       0.065       1.009\n==============================================================================\nOmnibus:                      189.068   Durbin-Watson:                   1.523\nProb(Omnibus):                  0.000   Jarque-Bera (JB):             4180.392\nSkew:                           2.975   Prob(JB):                         0.00\nKurtosis:                      22.973   Cond. No.                         47.8\n==============================================================================\n\nWarnings:\n[1] Standard Errors assume that the covariance matrix of the errors is correctly specified.\nThe corresponding Information Ratio is 0.7907517206515153\n"
    }
   ],
   "source": [
    "ols(['Mkt-RF','SMB','HML'],ff3_95,1995)"
   ]
  },
  {
   "cell_type": "code",
   "execution_count": 86,
   "metadata": {},
   "outputs": [
    {
     "name": "stdout",
     "output_type": "stream",
     "text": "OLS Regression Results                            \n==============================================================================\nDep. Variable:                    BRK   R-squared:                       0.200\nModel:                            OLS   Adj. R-squared:                  0.186\nMethod:                 Least Squares   F-statistic:                     14.10\nDate:                Wed, 18 Mar 2020   Prob (F-statistic):           2.74e-10\nTime:                        22:44:08   Log-Likelihood:                 258.47\nNo. Observations:                 231   AIC:                            -506.9\nDf Residuals:                     226   BIC:                            -489.7\nDf Model:                           4                                         \nCovariance Type:            nonrobust                                         \n==============================================================================\n                 coef    std err          t      P>|t|      [0.025      0.975]\n------------------------------------------------------------------------------\nconst          0.0182      0.006      3.170      0.002       0.007       0.029\nMkt-RF         0.9817      0.142      6.927      0.000       0.702       1.261\nSMB            0.1947      0.224      0.871      0.385      -0.246       0.635\nHML            0.5381      0.243      2.214      0.028       0.059       1.017\nMom            0.0053      0.171      0.031      0.976      -0.332       0.342\n==============================================================================\nOmnibus:                      189.104   Durbin-Watson:                   1.523\nProb(Omnibus):                  0.000   Jarque-Bera (JB):             4181.790\nSkew:                           2.976   Prob(JB):                         0.00\nKurtosis:                      22.976   Cond. No.                         48.5\n==============================================================================\n\nWarnings:\n[1] Standard Errors assume that the covariance matrix of the errors is correctly specified.\nThe corresponding Information Ratio is 0.7868623519832864\n"
    }
   ],
   "source": [
    "ols(['Mkt-RF','SMB','HML','Mom'],ff3_95,1995)"
   ]
  },
  {
   "cell_type": "code",
   "execution_count": 87,
   "metadata": {},
   "outputs": [
    {
     "name": "stdout",
     "output_type": "stream",
     "text": "OLS Regression Results                            \n==============================================================================\nDep. Variable:                    BRK   R-squared:                       0.201\nModel:                            OLS   Adj. R-squared:                  0.179\nMethod:                 Least Squares   F-statistic:                     9.369\nDate:                Wed, 18 Mar 2020   Prob (F-statistic):           3.57e-09\nTime:                        22:45:03   Log-Likelihood:                 258.59\nNo. Observations:                 231   AIC:                            -503.2\nDf Residuals:                     224   BIC:                            -479.1\nDf Model:                           6                                         \nCovariance Type:            nonrobust                                         \n==============================================================================\n                 coef    std err          t      P>|t|      [0.025      0.975]\n------------------------------------------------------------------------------\nconst          0.0188      0.006      3.038      0.003       0.007       0.031\nMkt-RF         0.9682      0.146      6.646      0.000       0.681       1.255\nSMB            0.1647      0.231      0.714      0.476      -0.290       0.620\nHML            0.6926      0.365      1.896      0.059      -0.027       1.413\nRMW           -0.0374      0.467     -0.080      0.936      -0.957       0.882\nCMA           -0.3414      0.532     -0.641      0.522      -1.391       0.708\nMom            0.0252      0.177      0.142      0.887      -0.324       0.374\n==============================================================================\nOmnibus:                      185.920   Durbin-Watson:                   1.530\nProb(Omnibus):                  0.000   Jarque-Bera (JB):             3982.779\nSkew:                           2.912   Prob(JB):                         0.00\nKurtosis:                      22.490   Cond. No.                         114.\n==============================================================================\n\nWarnings:\n[1] Standard Errors assume that the covariance matrix of the errors is correctly specified.\nThe corresponding Information Ratio is 0.8097058594889107\n"
    }
   ],
   "source": [
    "ols(['Mkt-RF','SMB','HML','RMW', 'CMA','Mom'],ff5_95,1995)"
   ]
  },
  {
   "cell_type": "code",
   "execution_count": null,
   "metadata": {},
   "outputs": [],
   "source": []
  }
 ],
 "metadata": {
  "kernelspec": {
   "display_name": "Python 3",
   "language": "python",
   "name": "python3"
  },
  "language_info": {
   "codemirror_mode": {
    "name": "ipython",
    "version": 3
   },
   "file_extension": ".py",
   "mimetype": "text/x-python",
   "name": "python",
   "nbconvert_exporter": "python",
   "pygments_lexer": "ipython3",
   "version": "3.7.4-final"
  }
 },
 "nbformat": 4,
 "nbformat_minor": 2
}