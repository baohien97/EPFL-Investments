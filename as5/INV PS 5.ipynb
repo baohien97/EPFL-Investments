{
 "cells": [
  {
   "cell_type": "code",
   "execution_count": 1,
   "metadata": {},
   "outputs": [],
   "source": [
    "import numpy as np\n",
    "import pandas as pd\n",
    "import random as random\n",
    "import matplotlib.pyplot as plt\n",
    "from scipy import stats \n",
    "from datetime import datetime\n",
    "import wrds\n",
    "import statsmodels.api as sm\n",
    "from sympy.solvers import solve\n",
    "from sympy import Symbol\n",
    "from statsmodels.stats.diagnostic import het_white\n",
    "from statsmodels.compat import lzip\n",
    "# import statsmodels.api as sm\n",
    "#db = wrds.Connection(wrds_username = 'hienle') \n"
   ]
  },
  {
   "cell_type": "markdown",
   "metadata": {},
   "source": [
    "## exercise 1"
   ]
  },
  {
   "cell_type": "markdown",
   "metadata": {},
   "source": [
    "a)"
   ]
  },
  {
   "cell_type": "code",
   "execution_count": 2,
   "metadata": {},
   "outputs": [
    {
     "name": "stdout",
     "output_type": "stream",
     "text": [
      "A is equal to 54.44444444444446\n",
      "B is equal to 5.477778\n",
      "C is equal to 0.583048 \n",
      "\n",
      "TANGENCY PORTFOLIO:\n",
      "w_t is equal to\n",
      "[0.4406682  0.28859447 0.27073733]\n",
      "\n",
      "mu is equal to 0.112195\n",
      "var_t is equal to 0.022571\n",
      "sharp ratio_t is equal to 0.413982\n"
     ]
    }
   ],
   "source": [
    "sigma = np.array([ [ 0.15**2,       0.2*0.15*0.25, 0.2*0.15*0.3 ], \n",
    "                   [ 0.2*0.15*0.25, 0.25**2,       0.2*0.25*0.3 ], \n",
    "                   [ 0.2*0.15*0.3,  0.2*0.3*0.25,  0.3**2       ] ])\n",
    "inv_sigma = np.linalg.inv(sigma)\n",
    "mu_o = np.array( [0.09, 0.12, 0.14] )\n",
    "mu_v = mu_o.transpose()\n",
    "ones_o = np.array([1,1,1])\n",
    "ones_v = ones_o.transpose()\n",
    "R0 = 0.05\n",
    "m = 1.25\n",
    "\n",
    "A = ones_o.dot(inv_sigma.dot(ones_v))\n",
    "B = ones_o.dot(inv_sigma.dot(mu_v))\n",
    "C = mu_o.dot(inv_sigma.dot(mu_v))\n",
    "delta = A*C-B**2\n",
    "s = 'A'\n",
    "print(f\"{s} is equal to {A}\")\n",
    "print(\"B is equal to %f\" %(B))\n",
    "print(\"C is equal to %f \\n\" %(C))\n",
    "\n",
    "# tangency portfolio\n",
    "w_t = (inv_sigma.dot(mu_v - R0 * ones_v)) / (B - A * R0)\n",
    "print(\"TANGENCY PORTFOLIO:\")\n",
    "print(\"w_t is equal to\")\n",
    "print(w_t)\n",
    "\n",
    "mu_t = (C - B * R0) / (B - A * R0)\n",
    "print(\"\\nmu is equal to %f\" %(mu_t))\n",
    "\n",
    "var_t = (C-2*R0*B+R0**2*A) / ((B-A*R0)**2)\n",
    "print(\"var_t is equal to %f\" %(var_t))\n",
    "\n",
    "sr_t = np.sqrt(C-2*R0*B+A*R0**2)\n",
    "print(\"sharp ratio_t is equal to %f\" %(sr_t))\n"
   ]
  },
  {
   "cell_type": "markdown",
   "metadata": {},
   "source": [
    "b)"
   ]
  },
  {
   "cell_type": "code",
   "execution_count": 3,
   "metadata": {},
   "outputs": [
    {
     "name": "stdout",
     "output_type": "stream",
     "text": [
      "\n",
      "ZERO BETA PORTFOLIO:\n",
      "w_z is equal to\n",
      "[ 1.90992134 -0.27480335 -0.63511799]\n",
      "\n",
      "mu is equal to 0.050000\n",
      "var_z is equal to 0.098628\n",
      "sharp ratio_t is equal to 0.000000\n"
     ]
    }
   ],
   "source": [
    "# zero beta portfolio\n",
    "mu_z = R0\n",
    "w_min = (inv_sigma.dot(ones_v))/(ones_o.dot(inv_sigma.dot(ones_v)))\n",
    "w_slope = (inv_sigma.dot(mu_v))/(ones_o.dot(inv_sigma.dot(mu_v)))\n",
    "w_z = ((A*mu_z-B)*B)*w_slope/delta+((C-B*mu_z)*A)*w_min/delta\n",
    "var_z = w_z.transpose().dot(sigma.dot(w_z))\n",
    "sr_z = 0\n",
    "\n",
    "print(\"\\nZERO BETA PORTFOLIO:\")\n",
    "print(\"w_z is equal to\")\n",
    "print(w_z)\n",
    "print(\"\\nmu is equal to %f\" %(mu_z))\n",
    "print(\"var_z is equal to %f\" %(var_z))\n",
    "print(\"sharp ratio_t is equal to %f\" %(sr_z))"
   ]
  },
  {
   "cell_type": "markdown",
   "metadata": {},
   "source": [
    "c)"
   ]
  },
  {
   "cell_type": "code",
   "execution_count": 4,
   "metadata": {},
   "outputs": [],
   "source": [
    "a = np.linspace(0.25,5,200)\n",
    "a_s = (sr_t)/(m*np.sqrt(var_t)) # a*\n",
    "\n",
    "# compute the optimal portfolio. two cases:\n",
    "\n",
    "# first case: UNCONSTRAINT (lamda=0 and a>a*)\n",
    "x_u_z = 0*np.ones((1,200))\n",
    "x_u_t = np.divide(sr_t/np.sqrt(var_t)*np.ones((1,200)),a)\n",
    "mu_u = R0+x_u_t*(mu_t-R0)\n",
    "var_u = x_u_t**2*var_t\n",
    "sr_u = [sr_t]*len(a)\n",
    "\n",
    "\n",
    "# second case: CONSTRAINT (lamda>0 and m-x_c_t-x_c_z=0)\n",
    "x_c_t = np.divide( mu_t-R0+a*m*var_z,\n",
    "                   a*(var_t+var_z))\n",
    "x_c_z = np.divide( -mu_t+R0+a*m*var_t,\n",
    "                   a*(var_t+var_z))\n",
    "mu_c = R0+x_c_t*(mu_t-R0)\n",
    "var_c = x_c_t**2*var_t+x_c_z**2*var_z\n",
    "sr_c = (mu_c-R0)/np.sqrt(var_c)"
   ]
  },
  {
   "cell_type": "markdown",
   "metadata": {},
   "source": [
    "e) Plot the sharp ratio"
   ]
  },
  {
   "cell_type": "code",
   "execution_count": 5,
   "metadata": {},
   "outputs": [
    {
     "data": {
      "image/png": "[encoded data removed]",
      "text/plain": [
       "<Figure size 432x288 with 1 Axes>"
      ]
     },
     "metadata": {
      "needs_background": "light"
     },
     "output_type": "display_data"
    }
   ],
   "source": [
    "# cycle on a to divide the cases:\n",
    "sr = []\n",
    "for i, point in enumerate(a):\n",
    "    if point < a_s: # constrained case\n",
    "        sr.append(sr_c[i])\n",
    "    else: # unconstrained case\n",
    "        sr.append(sr_u[i])\n",
    "\n",
    "plt.plot(a,sr_u, label='Unconstraned portfolio')\n",
    "#plt.plot(a,sr_c)\n",
    "plt.plot(a,sr, label='Constraned porfolio')\n",
    "plt.plot(a_s,sr_t,'*', color='r', label='Cut-off level a*')\n",
    "plt.text(a_s, sr_t-0.0205, 'a*', color='r')\n",
    "plt.xlabel('risk aversion level')\n",
    "plt.title('Sharpe Ratio')\n",
    "plt.ylabel('sharpe ratio')\n",
    "plt.legend()\n",
    "plt.show()"
   ]
  },
  {
   "cell_type": "markdown",
   "metadata": {},
   "source": [
    "# exercise 3"
   ]
  },
  {
   "cell_type": "code",
   "execution_count": 6,
   "metadata": {},
   "outputs": [
    {
     "data": {
      "text/html": [
       "<div>\n",
       "<style scoped>\n",
       "    .dataframe tbody tr th:only-of-type {\n",
       "        vertical-align: middle;\n",
       "    }\n",
       "\n",
       "    .dataframe tbody tr th {\n",
       "        vertical-align: top;\n",
       "    }\n",
       "\n",
       "    .dataframe thead th {\n",
       "        text-align: right;\n",
       "    }\n",
       "</style>\n",
       "<table border=\"1\" class=\"dataframe\">\n",
       "  <thead>\n",
       "    <tr style=\"text-align: right;\">\n",
       "      <th></th>\n",
       "      <th>Unnamed: 0</th>\n",
       "      <th>Mkt-RF</th>\n",
       "      <th>SMB</th>\n",
       "      <th>HML</th>\n",
       "      <th>RF</th>\n",
       "    </tr>\n",
       "  </thead>\n",
       "  <tbody>\n",
       "    <tr>\n",
       "      <th>0</th>\n",
       "      <td>1976.01</td>\n",
       "      <td>0.1216</td>\n",
       "      <td>0.0480</td>\n",
       "      <td>0.0858</td>\n",
       "      <td>0.0047</td>\n",
       "    </tr>\n",
       "    <tr>\n",
       "      <th>1</th>\n",
       "      <td>1976.02</td>\n",
       "      <td>0.0032</td>\n",
       "      <td>0.0703</td>\n",
       "      <td>0.0578</td>\n",
       "      <td>0.0034</td>\n",
       "    </tr>\n",
       "    <tr>\n",
       "      <th>2</th>\n",
       "      <td>1976.03</td>\n",
       "      <td>0.0232</td>\n",
       "      <td>-0.0117</td>\n",
       "      <td>-0.0004</td>\n",
       "      <td>0.0040</td>\n",
       "    </tr>\n",
       "    <tr>\n",
       "      <th>3</th>\n",
       "      <td>1976.04</td>\n",
       "      <td>-0.0149</td>\n",
       "      <td>-0.0003</td>\n",
       "      <td>-0.0006</td>\n",
       "      <td>0.0042</td>\n",
       "    </tr>\n",
       "    <tr>\n",
       "      <th>4</th>\n",
       "      <td>1976.05</td>\n",
       "      <td>-0.0134</td>\n",
       "      <td>-0.0124</td>\n",
       "      <td>-0.0132</td>\n",
       "      <td>0.0037</td>\n",
       "    </tr>\n",
       "  </tbody>\n",
       "</table>\n",
       "</div>"
      ],
      "text/plain": [
       "   Unnamed: 0  Mkt-RF     SMB     HML      RF\n",
       "0     1976.01  0.1216  0.0480  0.0858  0.0047\n",
       "1     1976.02  0.0032  0.0703  0.0578  0.0034\n",
       "2     1976.03  0.0232 -0.0117 -0.0004  0.0040\n",
       "3     1976.04 -0.0149 -0.0003 -0.0006  0.0042\n",
       "4     1976.05 -0.0134 -0.0124 -0.0132  0.0037"
      ]
     },
     "execution_count": 6,
     "metadata": {},
     "output_type": "execute_result"
    }
   ],
   "source": [
    "# Berkshire Hathaway \n",
    "#BRK = db.raw_sql(\"select date,ret from crsp.dsf where permno in (17778) and date >='1976-01-01' and date<='2019-12-31'\")\n",
    "ff_100=pd.read_csv(\"F-F_Research_Data_Factors.csv\", sep=\",\")\n",
    "ff_5_100=pd.read_csv(\"F-F_Research_Data_5_Factors_2X3.csv\", sep=\",\")\n",
    "ff_5=ff_5_100/100\n",
    "ff=ff_100/100\n",
    "ff_mom=(pd.read_csv(\"ffm.CSV\", sep=\",\"))/100\n",
    "average_rf=(np.mean(ff['RF'])*12)\n",
    "ff.head()\n",
    "#len(BRK)\n",
    "\n",
    "#BRK"
   ]
  },
  {
   "cell_type": "code",
   "execution_count": 7,
   "metadata": {},
   "outputs": [],
   "source": [
    "#BRK.to_csv(\"brk_as5_ex3.csv\")\n",
    "BRK = pd.read_csv(\"brk_as5_ex3.csv\").set_index([\"date\"]).sort_index()[[\"ret\"]]#.dropna()\n"
   ]
  },
  {
   "cell_type": "markdown",
   "metadata": {},
   "source": [
    "## PART B"
   ]
  },
  {
   "cell_type": "code",
   "execution_count": 8,
   "metadata": {},
   "outputs": [
    {
     "name": "stdout",
     "output_type": "stream",
     "text": [
      "Berkshire Hathaway:\n",
      "Berkshire Hathaway's annualized excess returns mean: ret    0.182903\n",
      "dtype: float64\n",
      "Berkshire Hathaway's execss annualized returns' standard deviation: ret    0.241099\n",
      "dtype: float64\n",
      "Berkshire's annualized returns' Sharpe Ratio: ret    0.758621\n",
      "dtype: float64\n",
      " \n",
      "Market:\n",
      "The Market's annualized excess returns mean 0.08009149338374291\n",
      "The Market's annualized excess returns' standard deviation 0.15118876622527927\n",
      "The Market's annualized returns' Sharpe Ratio 0.5297450027762138\n",
      " \n",
      "SMB:\n",
      "The SMB's annualized excess returns mean 0.023183364839319466\n",
      "The SMB's annualized excess returns' standard deviation 0.10267887836666102\n",
      "The SMB's annualized returns' Sharpe Ratio 0.2257851391454906\n",
      " \n",
      "HML:\n",
      "The HML's annualized excess returns mean 0.02913799621928166\n",
      "The HML's annualized excess returns' standard deviation 0.09994134805358648\n",
      "The HML's annualized returns' Sharpe Ratio 0.2915509625071144\n",
      " \n",
      "MOM:\n",
      "The MOM's annualized excess returns mean Mom    0.074268\n",
      "dtype: float64\n",
      "The MOM's annualized excess returns' standard deviation Mom    0.150003\n",
      "dtype: float64\n",
      "The MOM's annualized returns' Sharpe Ratio Mom    0.495112\n",
      "dtype: float64\n"
     ]
    }
   ],
   "source": [
    "print(\"Berkshire Hathaway:\")\n",
    "print(\"Berkshire Hathaway's annualized excess returns mean:\",np.mean(BRK)*252-average_rf)\n",
    "print(\"Berkshire Hathaway's execss annualized returns' standard deviation:\",np.std(BRK)*np.sqrt(252))\n",
    "print(\"Berkshire's annualized returns' Sharpe Ratio:\",((np.mean(BRK)*252)-average_rf)/(np.std(BRK)*np.sqrt(252)))\n",
    "print(\" \")\n",
    "print(\"Market:\")\n",
    "print(\"The Market's annualized excess returns mean\",np.mean(ff['Mkt-RF'])*12)\n",
    "print(\"The Market's annualized excess returns' standard deviation\",np.std(ff['Mkt-RF'])*np.sqrt(12))\n",
    "print(\"The Market's annualized returns' Sharpe Ratio\",np.mean(ff['Mkt-RF'])/np.std(ff['Mkt-RF'])*np.sqrt(12))\n",
    "print(\" \")\n",
    "print(\"SMB:\")\n",
    "print(\"The SMB's annualized excess returns mean\",np.mean(ff['SMB'])*12)\n",
    "print(\"The SMB's annualized excess returns' standard deviation\",np.std(ff['SMB'])*np.sqrt(12))\n",
    "print(\"The SMB's annualized returns' Sharpe Ratio\",np.mean(ff['SMB'])/np.std(ff['SMB'])*np.sqrt(12))\n",
    "print(\" \")\n",
    "print(\"HML:\")\n",
    "print(\"The HML's annualized excess returns mean\",np.mean(ff['HML'])*12)\n",
    "print(\"The HML's annualized excess returns' standard deviation\",np.std(ff['HML'])*np.sqrt(12))\n",
    "print(\"The HML's annualized returns' Sharpe Ratio\",np.mean(ff['HML'])/np.std(ff['HML'])*np.sqrt(12))\n",
    "print(\" \")\n",
    "print(\"MOM:\")\n",
    "print(\"The MOM's annualized excess returns mean\",np.mean((ff_mom)*12))\n",
    "print(\"The MOM's annualized excess returns' standard deviation\",np.std(ff_mom)*np.sqrt(12))\n",
    "print(\"The MOM's annualized returns' Sharpe Ratio\",np.mean(ff_mom)/np.std(ff_mom)*np.sqrt(12))"
   ]
  },
  {
   "cell_type": "markdown",
   "metadata": {},
   "source": [
    "## PART C"
   ]
  },
  {
   "cell_type": "code",
   "execution_count": 9,
   "metadata": {},
   "outputs": [],
   "source": [
    "BRK.index = pd.DatetimeIndex(BRK.index)\n",
    "BRK_monthly = BRK.resample(\"1m\").mean()*21 #take the first or last return of each month, or choose another function\n",
    "BRK_monthly.index = BRK_monthly.index.to_period(\"m\")\n",
    "\n"
   ]
  },
  {
   "cell_type": "code",
   "execution_count": 10,
   "metadata": {},
   "outputs": [
    {
     "data": {
      "text/plain": [
       "ret    0.020351\n",
       "dtype: float64"
      ]
     },
     "execution_count": 10,
     "metadata": {},
     "output_type": "execute_result"
    }
   ],
   "source": [
    "np.mean(BRK_monthly)"
   ]
  },
  {
   "cell_type": "code",
   "execution_count": 11,
   "metadata": {},
   "outputs": [
    {
     "data": {
      "text/plain": [
       "519"
      ]
     },
     "execution_count": 11,
     "metadata": {},
     "output_type": "execute_result"
    }
   ],
   "source": [
    "\n",
    "ff = ff.iloc[9:528]\n",
    "len(ff)"
   ]
  },
  {
   "cell_type": "code",
   "execution_count": 12,
   "metadata": {},
   "outputs": [
    {
     "data": {
      "text/plain": [
       "519"
      ]
     },
     "execution_count": 12,
     "metadata": {},
     "output_type": "execute_result"
    }
   ],
   "source": [
    "ff_mom = ff_mom.iloc[9:528]\n",
    "ff_mom.index = ff.index\n",
    "len(ff_mom)"
   ]
  },
  {
   "cell_type": "code",
   "execution_count": 13,
   "metadata": {},
   "outputs": [],
   "source": [
    "ff_5.index = ff.index\n",
    "ff_3m=pd.concat([ff, ff_mom], axis=1)\n",
    "ff_5m=pd.concat([ff_5, ff_mom], axis=1)\n",
    "ff_5m.columns\n",
    "R_e_brk=pd.DataFrame((np.array(BRK_monthly['ret']) - np.array(ff['RF'])),columns=['BRK'])\n",
    "R_e_brk.index = ff.index\n",
    "R_e_brk_95=R_e_brk.iloc[:231]"
   ]
  },
  {
   "cell_type": "code",
   "execution_count": 14,
   "metadata": {},
   "outputs": [],
   "source": [
    "def ols(covariates,flag,year,regressand='BRK'):\n",
    " if year == 2019:  \n",
    "    y=R_e_brk['BRK']\n",
    "    X=flag[covariates]\n",
    "    X=sm.add_constant(X)\n",
    "    reg=sm.OLS(y,X).fit()\n",
    "    print(reg.summary())\n",
    "    print(\"The corresponding Information Ratio is\",np.divide(reg.params[0],np.sqrt\n",
    "(reg.mse_resid))*np.sqrt(12))\n",
    "\n",
    "    return  reg.params[0], reg.mse_resid,reg.params[1:], reg.resid,X\n",
    " elif year == 1995:\n",
    "    y= y=R_e_brk_95['BRK']\n",
    "    X=flag[covariates]\n",
    "    X=sm.add_constant(X)\n",
    "    reg=sm.OLS(y,X).fit()\n",
    "    print(reg.summary())\n",
    "    print(\"The corresponding Information Ratio is\",np.divide(reg.params[0],np.sqrt(reg.mse_resid))*np.sqrt(12))\n",
    " "
   ]
  },
  {
   "cell_type": "code",
   "execution_count": 16,
   "metadata": {},
   "outputs": [
    {
     "data": {
      "text/html": [
       "<div>\n",
       "<style scoped>\n",
       "    .dataframe tbody tr th:only-of-type {\n",
       "        vertical-align: middle;\n",
       "    }\n",
       "\n",
       "    .dataframe tbody tr th {\n",
       "        vertical-align: top;\n",
       "    }\n",
       "\n",
       "    .dataframe thead th {\n",
       "        text-align: right;\n",
       "    }\n",
       "</style>\n",
       "<table border=\"1\" class=\"dataframe\">\n",
       "  <thead>\n",
       "    <tr style=\"text-align: right;\">\n",
       "      <th></th>\n",
       "      <th>Unnamed: 0</th>\n",
       "      <th>Mkt-RF</th>\n",
       "      <th>SMB</th>\n",
       "      <th>HML</th>\n",
       "      <th>RF</th>\n",
       "      <th>Mom</th>\n",
       "    </tr>\n",
       "  </thead>\n",
       "  <tbody>\n",
       "    <tr>\n",
       "      <th>9</th>\n",
       "      <td>1976.10</td>\n",
       "      <td>-0.0242</td>\n",
       "      <td>0.0025</td>\n",
       "      <td>-0.0013</td>\n",
       "      <td>0.0041</td>\n",
       "      <td>-0.0048</td>\n",
       "    </tr>\n",
       "    <tr>\n",
       "      <th>10</th>\n",
       "      <td>1976.11</td>\n",
       "      <td>0.0036</td>\n",
       "      <td>0.0232</td>\n",
       "      <td>0.0151</td>\n",
       "      <td>0.0040</td>\n",
       "      <td>0.0290</td>\n",
       "    </tr>\n",
       "    <tr>\n",
       "      <th>11</th>\n",
       "      <td>1976.12</td>\n",
       "      <td>0.0565</td>\n",
       "      <td>0.0301</td>\n",
       "      <td>0.0222</td>\n",
       "      <td>0.0040</td>\n",
       "      <td>0.0077</td>\n",
       "    </tr>\n",
       "    <tr>\n",
       "      <th>12</th>\n",
       "      <td>1977.01</td>\n",
       "      <td>-0.0405</td>\n",
       "      <td>0.0478</td>\n",
       "      <td>0.0426</td>\n",
       "      <td>0.0036</td>\n",
       "      <td>0.0398</td>\n",
       "    </tr>\n",
       "    <tr>\n",
       "      <th>13</th>\n",
       "      <td>1977.02</td>\n",
       "      <td>-0.0194</td>\n",
       "      <td>0.0108</td>\n",
       "      <td>0.0050</td>\n",
       "      <td>0.0035</td>\n",
       "      <td>0.0035</td>\n",
       "    </tr>\n",
       "    <tr>\n",
       "      <th>...</th>\n",
       "      <td>...</td>\n",
       "      <td>...</td>\n",
       "      <td>...</td>\n",
       "      <td>...</td>\n",
       "      <td>...</td>\n",
       "      <td>...</td>\n",
       "    </tr>\n",
       "    <tr>\n",
       "      <th>523</th>\n",
       "      <td>2019.08</td>\n",
       "      <td>-0.0258</td>\n",
       "      <td>-0.0241</td>\n",
       "      <td>-0.0499</td>\n",
       "      <td>0.0016</td>\n",
       "      <td>0.0760</td>\n",
       "    </tr>\n",
       "    <tr>\n",
       "      <th>524</th>\n",
       "      <td>2019.09</td>\n",
       "      <td>0.0144</td>\n",
       "      <td>-0.0090</td>\n",
       "      <td>0.0671</td>\n",
       "      <td>0.0018</td>\n",
       "      <td>-0.0685</td>\n",
       "    </tr>\n",
       "    <tr>\n",
       "      <th>525</th>\n",
       "      <td>2019.10</td>\n",
       "      <td>0.0206</td>\n",
       "      <td>0.0025</td>\n",
       "      <td>-0.0207</td>\n",
       "      <td>0.0015</td>\n",
       "      <td>0.0024</td>\n",
       "    </tr>\n",
       "    <tr>\n",
       "      <th>526</th>\n",
       "      <td>2019.11</td>\n",
       "      <td>0.0387</td>\n",
       "      <td>0.0087</td>\n",
       "      <td>-0.0186</td>\n",
       "      <td>0.0012</td>\n",
       "      <td>-0.0262</td>\n",
       "    </tr>\n",
       "    <tr>\n",
       "      <th>527</th>\n",
       "      <td>2019.12</td>\n",
       "      <td>0.0277</td>\n",
       "      <td>0.0068</td>\n",
       "      <td>0.0183</td>\n",
       "      <td>0.0014</td>\n",
       "      <td>-0.0213</td>\n",
       "    </tr>\n",
       "  </tbody>\n",
       "</table>\n",
       "<p>519 rows × 6 columns</p>\n",
       "</div>"
      ],
      "text/plain": [
       "     Unnamed: 0  Mkt-RF     SMB     HML      RF     Mom\n",
       "9       1976.10 -0.0242  0.0025 -0.0013  0.0041 -0.0048\n",
       "10      1976.11  0.0036  0.0232  0.0151  0.0040  0.0290\n",
       "11      1976.12  0.0565  0.0301  0.0222  0.0040  0.0077\n",
       "12      1977.01 -0.0405  0.0478  0.0426  0.0036  0.0398\n",
       "13      1977.02 -0.0194  0.0108  0.0050  0.0035  0.0035\n",
       "..          ...     ...     ...     ...     ...     ...\n",
       "523     2019.08 -0.0258 -0.0241 -0.0499  0.0016  0.0760\n",
       "524     2019.09  0.0144 -0.0090  0.0671  0.0018 -0.0685\n",
       "525     2019.10  0.0206  0.0025 -0.0207  0.0015  0.0024\n",
       "526     2019.11  0.0387  0.0087 -0.0186  0.0012 -0.0262\n",
       "527     2019.12  0.0277  0.0068  0.0183  0.0014 -0.0213\n",
       "\n",
       "[519 rows x 6 columns]"
      ]
     },
     "execution_count": 16,
     "metadata": {},
     "output_type": "execute_result"
    }
   ],
   "source": [
    "ff_3m"
   ]
  },
  {
   "cell_type": "code",
   "execution_count": 15,
   "metadata": {},
   "outputs": [
    {
     "name": "stdout",
     "output_type": "stream",
     "text": [
      "                            OLS Regression Results                            \n",
      "==============================================================================\n",
      "Dep. Variable:                    BRK   R-squared:                       0.160\n",
      "Model:                            OLS   Adj. R-squared:                  0.158\n",
      "Method:                 Least Squares   F-statistic:                     98.19\n",
      "Date:                Sat, 04 Apr 2020   Prob (F-statistic):           2.62e-21\n",
      "Time:                        00:02:38   Log-Likelihood:                 673.82\n",
      "No. Observations:                 519   AIC:                            -1344.\n",
      "Df Residuals:                     517   BIC:                            -1335.\n",
      "Df Model:                           1                                         \n",
      "Covariance Type:            nonrobust                                         \n",
      "==============================================================================\n",
      "                 coef    std err          t      P>|t|      [0.025      0.975]\n",
      "------------------------------------------------------------------------------\n",
      "const          0.0124      0.003      4.234      0.000       0.007       0.018\n",
      "Mkt-RF         0.6586      0.066      9.909      0.000       0.528       0.789\n",
      "==============================================================================\n",
      "Omnibus:                      376.984   Durbin-Watson:                   1.638\n",
      "Prob(Omnibus):                  0.000   Jarque-Bera (JB):            11979.170\n",
      "Skew:                           2.744   Prob(JB):                         0.00\n",
      "Kurtosis:                      25.888   Cond. No.                         22.9\n",
      "==============================================================================\n",
      "\n",
      "Warnings:\n",
      "[1] Standard Errors assume that the covariance matrix of the errors is correctly specified.\n",
      "The corresponding Information Ratio is 0.6508124085770653\n"
     ]
    }
   ],
   "source": [
    "alfa, residual, beta_i, res ,X = ols('Mkt-RF',ff_3m,2019)"
   ]
  },
  {
   "cell_type": "code",
   "execution_count": 17,
   "metadata": {},
   "outputs": [
    {
     "name": "stdout",
     "output_type": "stream",
     "text": [
      "OLS Regression Results                            \n",
      "==============================================================================\n",
      "Dep. Variable:                    BRK   R-squared:                       0.214\n",
      "Model:                            OLS   Adj. R-squared:                  0.210\n",
      "Method:                 Least Squares   F-statistic:                     46.79\n",
      "Date:                Mon, 23 Mar 2020   Prob (F-statistic):           9.38e-27\n",
      "Time:                        21:41:40   Log-Likelihood:                 691.24\n",
      "No. Observations:                 519   AIC:                            -1374.\n",
      "Df Residuals:                     515   BIC:                            -1357.\n",
      "Df Model:                           3                                         \n",
      "Covariance Type:            nonrobust                                         \n",
      "==============================================================================\n",
      "                 coef    std err          t      P>|t|      [0.025      0.975]\n",
      "------------------------------------------------------------------------------\n",
      "const          0.0110      0.003      3.834      0.000       0.005       0.017\n",
      "Mkt-RF         0.7899      0.068     11.599      0.000       0.656       0.924\n",
      "SMB           -0.2796      0.100     -2.804      0.005      -0.476      -0.084\n",
      "HML            0.4839      0.104      4.655      0.000       0.280       0.688\n",
      "==============================================================================\n",
      "Omnibus:                      401.206   Durbin-Watson:                   1.641\n",
      "Prob(Omnibus):                  0.000   Jarque-Bera (JB):            14131.260\n",
      "Skew:                           2.983   Prob(JB):                         0.00\n",
      "Kurtosis:                      27.857   Cond. No.                         39.6\n",
      "==============================================================================\n",
      "\n",
      "Warnings:\n",
      "[1] Standard Errors assume that the covariance matrix of the errors is correctly specified.\n",
      "The corresponding Information Ratio is 0.5946632638274936\n"
     ]
    }
   ],
   "source": [
    "alfa, residual, beta_i,res,X = ols(['Mkt-RF','SMB','HML'],ff_3m,2019)"
   ]
  },
  {
   "cell_type": "code",
   "execution_count": 18,
   "metadata": {},
   "outputs": [
    {
     "name": "stdout",
     "output_type": "stream",
     "text": [
      "OLS Regression Results                            \n",
      "==============================================================================\n",
      "Dep. Variable:                    BRK   R-squared:                       0.215\n",
      "Model:                            OLS   Adj. R-squared:                  0.209\n",
      "Method:                 Least Squares   F-statistic:                     35.25\n",
      "Date:                Mon, 23 Mar 2020   Prob (F-statistic):           4.98e-26\n",
      "Time:                        21:41:40   Log-Likelihood:                 691.60\n",
      "No. Observations:                 519   AIC:                            -1373.\n",
      "Df Residuals:                     514   BIC:                            -1352.\n",
      "Df Model:                           4                                         \n",
      "Covariance Type:            nonrobust                                         \n",
      "==============================================================================\n",
      "                 coef    std err          t      P>|t|      [0.025      0.975]\n",
      "------------------------------------------------------------------------------\n",
      "const          0.0105      0.003      3.602      0.000       0.005       0.016\n",
      "Mkt-RF         0.8012      0.069     11.537      0.000       0.665       0.938\n",
      "SMB           -0.2845      0.100     -2.848      0.005      -0.481      -0.088\n",
      "HML            0.5068      0.108      4.712      0.000       0.295       0.718\n",
      "Mom            0.0564      0.068      0.834      0.404      -0.076       0.189\n",
      "==============================================================================\n",
      "Omnibus:                      401.375   Durbin-Watson:                   1.641\n",
      "Prob(Omnibus):                  0.000   Jarque-Bera (JB):            14109.195\n",
      "Skew:                           2.986   Prob(JB):                         0.00\n",
      "Kurtosis:                      27.835   Cond. No.                         40.7\n",
      "==============================================================================\n",
      "\n",
      "Warnings:\n",
      "[1] Standard Errors assume that the covariance matrix of the errors is correctly specified.\n",
      "The corresponding Information Ratio is 0.5692419829409094\n"
     ]
    }
   ],
   "source": [
    "alfa, residual, beta_i,res,X = ols(['Mkt-RF','SMB','HML','Mom'],ff_3m,2019)"
   ]
  },
  {
   "cell_type": "code",
   "execution_count": 19,
   "metadata": {},
   "outputs": [
    {
     "name": "stdout",
     "output_type": "stream",
     "text": [
      "OLS Regression Results                            \n",
      "==============================================================================\n",
      "Dep. Variable:                    BRK   R-squared:                       0.222\n",
      "Model:                            OLS   Adj. R-squared:                  0.213\n",
      "Method:                 Least Squares   F-statistic:                     24.42\n",
      "Date:                Mon, 23 Mar 2020   Prob (F-statistic):           1.78e-25\n",
      "Time:                        21:41:40   Log-Likelihood:                 694.00\n",
      "No. Observations:                 519   AIC:                            -1374.\n",
      "Df Residuals:                     512   BIC:                            -1344.\n",
      "Df Model:                           6                                         \n",
      "Covariance Type:            nonrobust                                         \n",
      "==============================================================================\n",
      "                 coef    std err          t      P>|t|      [0.025      0.975]\n",
      "------------------------------------------------------------------------------\n",
      "const          0.0093      0.003      3.098      0.002       0.003       0.015\n",
      "Mkt-RF         0.8210      0.073     11.178      0.000       0.677       0.965\n",
      "SMB           -0.1594      0.109     -1.468      0.143      -0.373       0.054\n",
      "HML            0.5351      0.145      3.679      0.000       0.249       0.821\n",
      "RMW            0.3448      0.142      2.431      0.015       0.066       0.623\n",
      "CMA           -0.0677      0.213     -0.317      0.751      -0.487       0.351\n",
      "Mom            0.0328      0.069      0.476      0.634      -0.103       0.168\n",
      "==============================================================================\n",
      "Omnibus:                      411.161   Durbin-Watson:                   1.638\n",
      "Prob(Omnibus):                  0.000   Jarque-Bera (JB):            15375.195\n",
      "Skew:                           3.077   Prob(JB):                         0.00\n",
      "Kurtosis:                      28.944   Cond. No.                         86.4\n",
      "==============================================================================\n",
      "\n",
      "Warnings:\n",
      "[1] Standard Errors assume that the covariance matrix of the errors is correctly specified.\n",
      "The corresponding Information Ratio is 0.5026280066325507\n"
     ]
    }
   ],
   "source": [
    "alfa, residual, beta_i,res1,X1 = ols(['Mkt-RF','SMB','HML','RMW', 'CMA','Mom'],ff_5m,2019)"
   ]
  },
  {
   "cell_type": "markdown",
   "metadata": {},
   "source": [
    "Now we need to prove that our residuals' variances are not correlated. In order to do that, we build a statistical test (white-test) based on a LM test’s statistic.\n",
    "Therefore, our null hypotesis is that there is Heteroschedaticity.\n",
    "\\begin{cases}\n",
    "  H0: Omoscedasticity \\\\\n",
    "  H1: Heteroscedasticity\n",
    "\\end{cases}\n",
    "\n",
    "he LM test’s statistic follows the Chi-squared distribution with 6 degrees of freedom. (critical value= 12.592)"
   ]
  },
  {
   "cell_type": "code",
   "execution_count": 22,
   "metadata": {},
   "outputs": [
    {
     "name": "stdout",
     "output_type": "stream",
     "text": [
      "The LM test’s statistic: is 8.448684149275369 and the critical value: is 12.592\n",
      "We accept the null hypothesis \n"
     ]
    }
   ],
   "source": [
    "keys = [ 'LM test’s statistic:', 'critical value:']\n",
    "[a,b,F,pvalue] = het_white(res1, X1)\n",
    "print(f\"The {keys[0]} is {a} and the {keys[1]} is {12.592}\")\n",
    "if a <= 12.592 :\n",
    "    print(\"We accept the null hypothesis \")\n",
    "else:\n",
    "    print(\"We reject the null hypothesis\")\n"
   ]
  },
  {
   "cell_type": "markdown",
   "metadata": {},
   "source": [
    "## Part G"
   ]
  },
  {
   "cell_type": "code",
   "execution_count": 112,
   "metadata": {},
   "outputs": [],
   "source": [
    "\n",
    "factors=ff_5m.drop(['Unnamed: 0','RF'],axis=1)\n",
    "mean_factors=pd.DataFrame(factors.mean()).T\n",
    "varfactors=factors.cov()\n",
    "varfactors_inv = pd.DataFrame(np.linalg.pinv(varfactors.values), varfactors.columns, varfactors.index)\n",
    "weights_f=mean_factors.dot(varfactors_inv)\n",
    "weights_brk=alfa/residual\n",
    "weights_f\n",
    "var_f=(weights_f.dot(varfactors)).dot(weights_f.T)\n",
    "var_brk=weights_brk*residual*weights_brk\n",
    "var_f=var_f.to_numpy()\n",
    "weights_fn=weights_f.to_numpy()\n",
    "beta_i=beta_i.to_numpy()"
   ]
  },
  {
   "cell_type": "code",
   "execution_count": 114,
   "metadata": {},
   "outputs": [],
   "source": [
    "a=Symbol('a')\n",
    "aversion=solve(-0.04+(1/a)*(var_brk+var_f),a)"
   ]
  },
  {
   "cell_type": "code",
   "execution_count": 177,
   "metadata": {},
   "outputs": [
    {
     "data": {
      "text/html": [
       "<table border=\"1\" class=\"dataframe\">\n",
       "  <thead>\n",
       "    <tr style=\"text-align: right;\">\n",
       "      <th></th>\n",
       "      <th>weight</th>\n",
       "    </tr>\n",
       "  </thead>\n",
       "  <tbody>\n",
       "    <tr>\n",
       "      <th>Mkt-RF</th>\n",
       "      <td>1.23780360157084</td>\n",
       "    </tr>\n",
       "    <tr>\n",
       "      <th>SMB</th>\n",
       "      <td>1.02484529905805</td>\n",
       "    </tr>\n",
       "    <tr>\n",
       "      <th>HML</th>\n",
       "      <td>-0.278067668467825</td>\n",
       "    </tr>\n",
       "    <tr>\n",
       "      <th>RMW</th>\n",
       "      <td>2.39365325513903</td>\n",
       "    </tr>\n",
       "    <tr>\n",
       "      <th>CMA</th>\n",
       "      <td>2.96415348813385</td>\n",
       "    </tr>\n",
       "    <tr>\n",
       "      <th>Mom</th>\n",
       "      <td>0.865315587643230</td>\n",
       "    </tr>\n",
       "    <tr>\n",
       "      <th>rf</th>\n",
       "      <td>-0.339991760985985</td>\n",
       "    </tr>\n",
       "    <tr>\n",
       "      <th>BRK</th>\n",
       "      <td>0.570781741002945</td>\n",
       "    </tr>\n",
       "  </tbody>\n",
       "</table>"
      ],
      "text/plain": [
       "<IPython.core.display.HTML object>"
      ]
     },
     "metadata": {},
     "output_type": "display_data"
    }
   ],
   "source": [
    "weight_a_brk=weights_brk/aversion\n",
    "weight_a_f=(weights_fn/aversion) -beta_i*weight_a_brk\n",
    "weight_a_f=(pd.DataFrame(weight_a_f,weights_f.T.columns, weights_f.T.index))\n",
    "weight_a_rf=(1-weight_a_f['Mkt-RF']-weight_a_brk*(1-beta_i[0])).T\n",
    "weight_a_rf=pd.DataFrame(weight_a_rf).T\n",
    "weight_a_rf.columns=['weight']\n",
    "weight_a_rf.index=['rf']\n",
    "weight_a_f=weight_a_f.T\n",
    "weight_a_f.columns=['weight']\n",
    "weight_a_brk=pd.DataFrame(weight_a_brk)\n",
    "weight_a_brk.columns=['weight']\n",
    "weight_a_brk.index=['BRK']\n",
    "frames=[weight_a_f,weight_a_rf,weight_a_brk]\n",
    "weights=pd.concat(frames)\n",
    "from IPython.core.display import HTML\n",
    "display(HTML(weights.to_html()))"
   ]
  },
  {
   "cell_type": "code",
   "execution_count": null,
   "metadata": {},
   "outputs": [],
   "source": [
    "print('the efficent portfolio is composed by:')"
   ]
  },
  {
   "cell_type": "markdown",
   "metadata": {},
   "source": [
    "## PART H"
   ]
  },
  {
   "cell_type": "code",
   "execution_count": 105,
   "metadata": {},
   "outputs": [],
   "source": [
    "ff3_95 = ff_3m.iloc[:231]\n",
    "ff5_95 = ff_5m.iloc[:231]\n"
   ]
  },
  {
   "cell_type": "code",
   "execution_count": 122,
   "metadata": {},
   "outputs": [
    {
     "name": "stdout",
     "output_type": "stream",
     "text": [
      "Berkshire Hathaway:\n",
      "Berkshire Hathaway's annualized excess returns mean: 0.3233963700407888\n",
      "Berkshire Hathaway's execss annualized returns' standard deviation: 0.30606055744907673\n",
      "Berkshire's annualized returns' Sharpe Ratio: 1.0566417729099127\n"
     ]
    }
   ],
   "source": [
    "print(\"Berkshire Hathaway:\")\n",
    "print(\"Berkshire Hathaway's annualized excess returns mean:\",np.mean(R_e_brk_95['BRK']*12))\n",
    "print(\"Berkshire Hathaway's execss annualized returns' standard deviation:\",np.std(R_e_brk_95['BRK'])*np.sqrt(12))\n",
    "print(\"Berkshire's annualized returns' Sharpe Ratio:\",((np.mean(R_e_brk_95['BRK']))/(np.std(R_e_brk_95['BRK']))*np.sqrt(12)))"
   ]
  },
  {
   "cell_type": "code",
   "execution_count": 107,
   "metadata": {},
   "outputs": [
    {
     "name": "stdout",
     "output_type": "stream",
     "text": [
      "OLS Regression Results                            \n",
      "==============================================================================\n",
      "Dep. Variable:                    BRK   R-squared:                       0.180\n",
      "Model:                            OLS   Adj. R-squared:                  0.177\n",
      "Method:                 Least Squares   F-statistic:                     50.38\n",
      "Date:                Wed, 18 Mar 2020   Prob (F-statistic):           1.58e-11\n",
      "Time:                        22:50:24   Log-Likelihood:                 255.70\n",
      "No. Observations:                 231   AIC:                            -507.4\n",
      "Df Residuals:                     229   BIC:                            -500.5\n",
      "Df Model:                           1                                         \n",
      "Covariance Type:            nonrobust                                         \n",
      "==============================================================================\n",
      "                 coef    std err          t      P>|t|      [0.025      0.975]\n",
      "------------------------------------------------------------------------------\n",
      "const          0.0215      0.005      4.020      0.000       0.011       0.032\n",
      "Mkt-RF         0.8643      0.122      7.098      0.000       0.624       1.104\n",
      "==============================================================================\n",
      "Omnibus:                      189.915   Durbin-Watson:                   1.491\n",
      "Prob(Omnibus):                  0.000   Jarque-Bera (JB):             4364.216\n",
      "Skew:                           2.978   Prob(JB):                         0.00\n",
      "Kurtosis:                      23.444   Cond. No.                         23.0\n",
      "==============================================================================\n",
      "\n",
      "Warnings:\n",
      "[1] Standard Errors assume that the covariance matrix of the errors is correctly specified.\n",
      "The corresponding Information Ratio is 0.9258941346732417\n"
     ]
    }
   ],
   "source": [
    "ols('Mkt-RF',ff3_95,1995)"
   ]
  },
  {
   "cell_type": "code",
   "execution_count": 108,
   "metadata": {},
   "outputs": [
    {
     "name": "stdout",
     "output_type": "stream",
     "text": [
      "OLS Regression Results                            \n",
      "==============================================================================\n",
      "Dep. Variable:                    BRK   R-squared:                       0.200\n",
      "Model:                            OLS   Adj. R-squared:                  0.189\n",
      "Method:                 Least Squares   F-statistic:                     18.89\n",
      "Date:                Wed, 18 Mar 2020   Prob (F-statistic):           5.69e-11\n",
      "Time:                        22:50:24   Log-Likelihood:                 258.47\n",
      "No. Observations:                 231   AIC:                            -508.9\n",
      "Df Residuals:                     227   BIC:                            -495.2\n",
      "Df Model:                           3                                         \n",
      "Covariance Type:            nonrobust                                         \n",
      "==============================================================================\n",
      "                 coef    std err          t      P>|t|      [0.025      0.975]\n",
      "------------------------------------------------------------------------------\n",
      "const          0.0182      0.005      3.320      0.001       0.007       0.029\n",
      "Mkt-RF         0.9822      0.140      7.009      0.000       0.706       1.258\n",
      "SMB            0.1948      0.223      0.873      0.384      -0.245       0.634\n",
      "HML            0.5369      0.239      2.242      0.026       0.065       1.009\n",
      "==============================================================================\n",
      "Omnibus:                      189.068   Durbin-Watson:                   1.523\n",
      "Prob(Omnibus):                  0.000   Jarque-Bera (JB):             4180.392\n",
      "Skew:                           2.975   Prob(JB):                         0.00\n",
      "Kurtosis:                      22.973   Cond. No.                         47.8\n",
      "==============================================================================\n",
      "\n",
      "Warnings:\n",
      "[1] Standard Errors assume that the covariance matrix of the errors is correctly specified.\n",
      "The corresponding Information Ratio is 0.7907517206515153\n"
     ]
    }
   ],
   "source": [
    "ols(['Mkt-RF','SMB','HML'],ff3_95,1995)"
   ]
  },
  {
   "cell_type": "code",
   "execution_count": 86,
   "metadata": {},
   "outputs": [
    {
     "name": "stdout",
     "output_type": "stream",
     "text": [
      "OLS Regression Results                            \n",
      "==============================================================================\n",
      "Dep. Variable:                    BRK   R-squared:                       0.200\n",
      "Model:                            OLS   Adj. R-squared:                  0.186\n",
      "Method:                 Least Squares   F-statistic:                     14.10\n",
      "Date:                Wed, 18 Mar 2020   Prob (F-statistic):           2.74e-10\n",
      "Time:                        22:44:08   Log-Likelihood:                 258.47\n",
      "No. Observations:                 231   AIC:                            -506.9\n",
      "Df Residuals:                     226   BIC:                            -489.7\n",
      "Df Model:                           4                                         \n",
      "Covariance Type:            nonrobust                                         \n",
      "==============================================================================\n",
      "                 coef    std err          t      P>|t|      [0.025      0.975]\n",
      "------------------------------------------------------------------------------\n",
      "const          0.0182      0.006      3.170      0.002       0.007       0.029\n",
      "Mkt-RF         0.9817      0.142      6.927      0.000       0.702       1.261\n",
      "SMB            0.1947      0.224      0.871      0.385      -0.246       0.635\n",
      "HML            0.5381      0.243      2.214      0.028       0.059       1.017\n",
      "Mom            0.0053      0.171      0.031      0.976      -0.332       0.342\n",
      "==============================================================================\n",
      "Omnibus:                      189.104   Durbin-Watson:                   1.523\n",
      "Prob(Omnibus):                  0.000   Jarque-Bera (JB):             4181.790\n",
      "Skew:                           2.976   Prob(JB):                         0.00\n",
      "Kurtosis:                      22.976   Cond. No.                         48.5\n",
      "==============================================================================\n",
      "\n",
      "Warnings:\n",
      "[1] Standard Errors assume that the covariance matrix of the errors is correctly specified.\n",
      "The corresponding Information Ratio is 0.7868623519832864\n"
     ]
    }
   ],
   "source": [
    "ols(['Mkt-RF','SMB','HML','Mom'],ff3_95,1995)"
   ]
  },
  {
   "cell_type": "code",
   "execution_count": 87,
   "metadata": {},
   "outputs": [
    {
     "name": "stdout",
     "output_type": "stream",
     "text": [
      "OLS Regression Results                            \n",
      "==============================================================================\n",
      "Dep. Variable:                    BRK   R-squared:                       0.201\n",
      "Model:                            OLS   Adj. R-squared:                  0.179\n",
      "Method:                 Least Squares   F-statistic:                     9.369\n",
      "Date:                Wed, 18 Mar 2020   Prob (F-statistic):           3.57e-09\n",
      "Time:                        22:45:03   Log-Likelihood:                 258.59\n",
      "No. Observations:                 231   AIC:                            -503.2\n",
      "Df Residuals:                     224   BIC:                            -479.1\n",
      "Df Model:                           6                                         \n",
      "Covariance Type:            nonrobust                                         \n",
      "==============================================================================\n",
      "                 coef    std err          t      P>|t|      [0.025      0.975]\n",
      "------------------------------------------------------------------------------\n",
      "const          0.0188      0.006      3.038      0.003       0.007       0.031\n",
      "Mkt-RF         0.9682      0.146      6.646      0.000       0.681       1.255\n",
      "SMB            0.1647      0.231      0.714      0.476      -0.290       0.620\n",
      "HML            0.6926      0.365      1.896      0.059      -0.027       1.413\n",
      "RMW           -0.0374      0.467     -0.080      0.936      -0.957       0.882\n",
      "CMA           -0.3414      0.532     -0.641      0.522      -1.391       0.708\n",
      "Mom            0.0252      0.177      0.142      0.887      -0.324       0.374\n",
      "==============================================================================\n",
      "Omnibus:                      185.920   Durbin-Watson:                   1.530\n",
      "Prob(Omnibus):                  0.000   Jarque-Bera (JB):             3982.779\n",
      "Skew:                           2.912   Prob(JB):                         0.00\n",
      "Kurtosis:                      22.490   Cond. No.                         114.\n",
      "==============================================================================\n",
      "\n",
      "Warnings:\n",
      "[1] Standard Errors assume that the covariance matrix of the errors is correctly specified.\n",
      "The corresponding Information Ratio is 0.8097058594889107\n"
     ]
    }
   ],
   "source": [
    "ols(['Mkt-RF','SMB','HML','RMW', 'CMA','Mom'],ff5_95,1995)"
   ]
  },
  {
   "cell_type": "code",
   "execution_count": null,
   "metadata": {},
   "outputs": [],
   "source": []
  }
 ],
 "metadata": {
  "kernelspec": {
   "display_name": "Python 3",
   "language": "python",
   "name": "python3"
  },
  "language_info": {
   "codemirror_mode": {
    "name": "ipython",
    "version": 3
   },
   "file_extension": ".py",
   "mimetype": "text/x-python",
   "name": "python",
   "nbconvert_exporter": "python",
   "pygments_lexer": "ipython3",
   "version": "3.7.7"
  }
 },
 "nbformat": 4,
 "nbformat_minor": 4
}
