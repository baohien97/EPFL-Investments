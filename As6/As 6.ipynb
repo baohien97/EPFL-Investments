{
 "cells": [
  {
   "cell_type": "code",
   "execution_count": 227,
   "metadata": {},
   "outputs": [
    {
     "name": "stdout",
     "output_type": "stream",
     "text": [
      "Loading library list...\n",
      "Done\n"
     ]
    }
   ],
   "source": [
    "import numpy as np\n",
    "import pandas as pd\n",
    "import random as random\n",
    "import matplotlib.pyplot as plt\n",
    "from datetime import datetime\n",
    "import wrds\n",
    "import warnings\n",
    "from scipy import stats\n",
    "warnings.simplefilter(action='ignore', category=FutureWarning)\n",
    "\n",
    "db = wrds.Connection(wrds_username = 'anita97') "
   ]
  },
  {
   "cell_type": "markdown",
   "metadata": {},
   "source": [
    "## a)"
   ]
  },
  {
   "cell_type": "code",
   "execution_count": 228,
   "metadata": {},
   "outputs": [
    {
     "data": {
      "text/plain": [
       "'s = db.raw_sql(\"select a.permno, a.date,                   a.ret, a.shrout, a.prc                   from crsp.msf as a                   join crsp.msenames as b                   on a.permno = b.permno and b.namedt<=a.date                   and a.date<=b.nameendt                   where b.shrcd between (10) and (11)and                   a.date >=\\'2000-01-01\\' and a.date<=\\'2019-12-31\\'                  and b.exchcd between 1 and 2\")'"
      ]
     },
     "execution_count": 228,
     "metadata": {},
     "output_type": "execute_result"
    }
   ],
   "source": [
    "#import stocks\n",
    "'''s = db.raw_sql(\"select a.permno, a.date, \\\n",
    "                  a.ret, a.shrout, a.prc \\\n",
    "                  from crsp.msf as a \\\n",
    "                  join crsp.msenames as b \\\n",
    "                  on a.permno = b.permno and b.namedt<=a.date \\\n",
    "                  and a.date<=b.nameendt \\\n",
    "                  where b.shrcd between (10) and (11)and \\\n",
    "                  a.date >='2000-01-01' and a.date<='2019-12-31'\\\n",
    "                  and b.exchcd between 1 and 2\")'''"
   ]
  },
  {
   "cell_type": "code",
   "execution_count": 233,
   "metadata": {},
   "outputs": [],
   "source": [
    "#s.to_csv('as6.csv')\n",
    "stocks = pd.read_csv('as6.csv', index_col=0) # read the file"
   ]
  },
  {
   "cell_type": "markdown",
   "metadata": {},
   "source": [
    "For each value we want one value for each month. Firstly we trasform data column in month-year(format). Then, for each stock we chack that there is only one value for each month:"
   ]
  },
  {
   "cell_type": "code",
   "execution_count": 234,
   "metadata": {},
   "outputs": [
    {
     "data": {
      "text/html": [
       "<div>\n",
       "<style scoped>\n",
       "    .dataframe tbody tr th:only-of-type {\n",
       "        vertical-align: middle;\n",
       "    }\n",
       "\n",
       "    .dataframe tbody tr th {\n",
       "        vertical-align: top;\n",
       "    }\n",
       "\n",
       "    .dataframe thead th {\n",
       "        text-align: right;\n",
       "    }\n",
       "</style>\n",
       "<table border=\"1\" class=\"dataframe\">\n",
       "  <thead>\n",
       "    <tr style=\"text-align: right;\">\n",
       "      <th></th>\n",
       "      <th>permno</th>\n",
       "      <th>date</th>\n",
       "      <th>ret</th>\n",
       "      <th>shrout</th>\n",
       "      <th>prc</th>\n",
       "    </tr>\n",
       "  </thead>\n",
       "  <tbody>\n",
       "    <tr>\n",
       "      <th>0</th>\n",
       "      <td>10001.0</td>\n",
       "      <td>2009-12</td>\n",
       "      <td>0.162621</td>\n",
       "      <td>4361.0</td>\n",
       "      <td>10.3000</td>\n",
       "    </tr>\n",
       "    <tr>\n",
       "      <th>1</th>\n",
       "      <td>10001.0</td>\n",
       "      <td>2010-01</td>\n",
       "      <td>-0.018932</td>\n",
       "      <td>4361.0</td>\n",
       "      <td>10.0600</td>\n",
       "    </tr>\n",
       "    <tr>\n",
       "      <th>2</th>\n",
       "      <td>10001.0</td>\n",
       "      <td>2010-02</td>\n",
       "      <td>-0.000656</td>\n",
       "      <td>4361.0</td>\n",
       "      <td>10.0084</td>\n",
       "    </tr>\n",
       "    <tr>\n",
       "      <th>3</th>\n",
       "      <td>10001.0</td>\n",
       "      <td>2010-03</td>\n",
       "      <td>0.020643</td>\n",
       "      <td>4361.0</td>\n",
       "      <td>10.1700</td>\n",
       "    </tr>\n",
       "    <tr>\n",
       "      <th>4</th>\n",
       "      <td>10001.0</td>\n",
       "      <td>2010-04</td>\n",
       "      <td>0.124385</td>\n",
       "      <td>6070.0</td>\n",
       "      <td>11.3900</td>\n",
       "    </tr>\n",
       "  </tbody>\n",
       "</table>\n",
       "</div>"
      ],
      "text/plain": [
       "    permno     date       ret  shrout      prc\n",
       "0  10001.0  2009-12  0.162621  4361.0  10.3000\n",
       "1  10001.0  2010-01 -0.018932  4361.0  10.0600\n",
       "2  10001.0  2010-02 -0.000656  4361.0  10.0084\n",
       "3  10001.0  2010-03  0.020643  4361.0  10.1700\n",
       "4  10001.0  2010-04  0.124385  6070.0  11.3900"
      ]
     },
     "execution_count": 234,
     "metadata": {},
     "output_type": "execute_result"
    }
   ],
   "source": [
    "stocks.date = pd.DatetimeIndex(stocks.date) # data format\n",
    "stocks.date = stocks.date.dt.to_period('M') # data year-month\n",
    "stocks.head() # see data format"
   ]
  },
  {
   "cell_type": "markdown",
   "metadata": {},
   "source": [
    "PERMNO is a unique stock level identifier. While most of the companies have one class shares, some companies have more than one class shares traded at different prices, and this is the reason why a company can have more than one PERMNOs.\n",
    "\n",
    "We utilize permno as index:"
   ]
  },
  {
   "cell_type": "code",
   "execution_count": 235,
   "metadata": {},
   "outputs": [
    {
     "data": {
      "text/html": [
       "<div>\n",
       "<style scoped>\n",
       "    .dataframe tbody tr th:only-of-type {\n",
       "        vertical-align: middle;\n",
       "    }\n",
       "\n",
       "    .dataframe tbody tr th {\n",
       "        vertical-align: top;\n",
       "    }\n",
       "\n",
       "    .dataframe thead th {\n",
       "        text-align: right;\n",
       "    }\n",
       "</style>\n",
       "<table border=\"1\" class=\"dataframe\">\n",
       "  <thead>\n",
       "    <tr style=\"text-align: right;\">\n",
       "      <th></th>\n",
       "      <th>date</th>\n",
       "      <th>ret</th>\n",
       "      <th>shrout</th>\n",
       "      <th>prc</th>\n",
       "    </tr>\n",
       "    <tr>\n",
       "      <th>permno</th>\n",
       "      <th></th>\n",
       "      <th></th>\n",
       "      <th></th>\n",
       "      <th></th>\n",
       "    </tr>\n",
       "  </thead>\n",
       "  <tbody>\n",
       "    <tr>\n",
       "      <th>10001.0</th>\n",
       "      <td>2009-12</td>\n",
       "      <td>0.162621</td>\n",
       "      <td>4361.0</td>\n",
       "      <td>10.3000</td>\n",
       "    </tr>\n",
       "    <tr>\n",
       "      <th>10001.0</th>\n",
       "      <td>2010-01</td>\n",
       "      <td>-0.018932</td>\n",
       "      <td>4361.0</td>\n",
       "      <td>10.0600</td>\n",
       "    </tr>\n",
       "    <tr>\n",
       "      <th>10001.0</th>\n",
       "      <td>2010-02</td>\n",
       "      <td>-0.000656</td>\n",
       "      <td>4361.0</td>\n",
       "      <td>10.0084</td>\n",
       "    </tr>\n",
       "    <tr>\n",
       "      <th>10001.0</th>\n",
       "      <td>2010-03</td>\n",
       "      <td>0.020643</td>\n",
       "      <td>4361.0</td>\n",
       "      <td>10.1700</td>\n",
       "    </tr>\n",
       "    <tr>\n",
       "      <th>10001.0</th>\n",
       "      <td>2010-04</td>\n",
       "      <td>0.124385</td>\n",
       "      <td>6070.0</td>\n",
       "      <td>11.3900</td>\n",
       "    </tr>\n",
       "  </tbody>\n",
       "</table>\n",
       "</div>"
      ],
      "text/plain": [
       "            date       ret  shrout      prc\n",
       "permno                                     \n",
       "10001.0  2009-12  0.162621  4361.0  10.3000\n",
       "10001.0  2010-01 -0.018932  4361.0  10.0600\n",
       "10001.0  2010-02 -0.000656  4361.0  10.0084\n",
       "10001.0  2010-03  0.020643  4361.0  10.1700\n",
       "10001.0  2010-04  0.124385  6070.0  11.3900"
      ]
     },
     "execution_count": 235,
     "metadata": {},
     "output_type": "execute_result"
    }
   ],
   "source": [
    "stocks.sort_values(by='permno')\n",
    "stocks = stocks.drop_duplicates(['permno','date']) # delete duplicates\n",
    "stocks = stocks.set_index('permno') # set permno as index\n",
    "stocks.head()"
   ]
  },
  {
   "cell_type": "markdown",
   "metadata": {},
   "source": [
    "We have to delete all the stocks which have less than 240 observations. In order to do that, we can group all the stocks on permno (which identify one stock) and then count how many observations we have for each stock:"
   ]
  },
  {
   "cell_type": "code",
   "execution_count": 236,
   "metadata": {},
   "outputs": [
    {
     "name": "stdout",
     "output_type": "stream",
     "text": [
      "We have 4118 different stocks. Each has a certain number of observations:\n"
     ]
    },
    {
     "data": {
      "text/html": [
       "<div>\n",
       "<style scoped>\n",
       "    .dataframe tbody tr th:only-of-type {\n",
       "        vertical-align: middle;\n",
       "    }\n",
       "\n",
       "    .dataframe tbody tr th {\n",
       "        vertical-align: top;\n",
       "    }\n",
       "\n",
       "    .dataframe thead th {\n",
       "        text-align: right;\n",
       "    }\n",
       "</style>\n",
       "<table border=\"1\" class=\"dataframe\">\n",
       "  <thead>\n",
       "    <tr style=\"text-align: right;\">\n",
       "      <th></th>\n",
       "      <th>number of observations</th>\n",
       "    </tr>\n",
       "    <tr>\n",
       "      <th>permno</th>\n",
       "      <th></th>\n",
       "    </tr>\n",
       "  </thead>\n",
       "  <tbody>\n",
       "    <tr>\n",
       "      <th>10001.0</th>\n",
       "      <td>92</td>\n",
       "    </tr>\n",
       "    <tr>\n",
       "      <th>10028.0</th>\n",
       "      <td>140</td>\n",
       "    </tr>\n",
       "    <tr>\n",
       "      <th>10042.0</th>\n",
       "      <td>98</td>\n",
       "    </tr>\n",
       "    <tr>\n",
       "      <th>10051.0</th>\n",
       "      <td>233</td>\n",
       "    </tr>\n",
       "    <tr>\n",
       "      <th>10066.0</th>\n",
       "      <td>28</td>\n",
       "    </tr>\n",
       "  </tbody>\n",
       "</table>\n",
       "</div>"
      ],
      "text/plain": [
       "         number of observations\n",
       "permno                         \n",
       "10001.0                      92\n",
       "10028.0                     140\n",
       "10042.0                      98\n",
       "10051.0                     233\n",
       "10066.0                      28"
      ]
     },
     "execution_count": 236,
     "metadata": {},
     "output_type": "execute_result"
    }
   ],
   "source": [
    "count = []\n",
    "count = stocks.groupby('permno').count()\n",
    "# now in each column we have the number of observations. We can rename one of them\n",
    "count = count.rename(columns={\"date\":\"number of observations\"})\n",
    "count = count[['number of observations']]\n",
    "print(f\"We have {count.shape[0]} different stocks. Each has a certain number of observations:\")\n",
    "count.head()\n"
   ]
  },
  {
   "cell_type": "markdown",
   "metadata": {},
   "source": [
    "Now we delete  stocks with less than 240 observations:\n",
    "\n",
    "Note: This is equal to have only stocks with preciselt 240 observations. Because we want that they are traded EVERY mounth for 20 years: \n",
    "\n",
    "20 years*12 mounths = 240 observation. "
   ]
  },
  {
   "cell_type": "code",
   "execution_count": 237,
   "metadata": {},
   "outputs": [
    {
     "data": {
      "text/html": [
       "<div>\n",
       "<style scoped>\n",
       "    .dataframe tbody tr th:only-of-type {\n",
       "        vertical-align: middle;\n",
       "    }\n",
       "\n",
       "    .dataframe tbody tr th {\n",
       "        vertical-align: top;\n",
       "    }\n",
       "\n",
       "    .dataframe thead th {\n",
       "        text-align: right;\n",
       "    }\n",
       "</style>\n",
       "<table border=\"1\" class=\"dataframe\">\n",
       "  <thead>\n",
       "    <tr style=\"text-align: right;\">\n",
       "      <th></th>\n",
       "      <th>number of observations</th>\n",
       "    </tr>\n",
       "    <tr>\n",
       "      <th>permno</th>\n",
       "      <th></th>\n",
       "    </tr>\n",
       "  </thead>\n",
       "  <tbody>\n",
       "    <tr>\n",
       "      <th>10001.0</th>\n",
       "      <td>True</td>\n",
       "    </tr>\n",
       "    <tr>\n",
       "      <th>10028.0</th>\n",
       "      <td>True</td>\n",
       "    </tr>\n",
       "    <tr>\n",
       "      <th>10042.0</th>\n",
       "      <td>True</td>\n",
       "    </tr>\n",
       "    <tr>\n",
       "      <th>10051.0</th>\n",
       "      <td>True</td>\n",
       "    </tr>\n",
       "    <tr>\n",
       "      <th>10066.0</th>\n",
       "      <td>True</td>\n",
       "    </tr>\n",
       "  </tbody>\n",
       "</table>\n",
       "</div>"
      ],
      "text/plain": [
       "         number of observations\n",
       "permno                         \n",
       "10001.0                    True\n",
       "10028.0                    True\n",
       "10042.0                    True\n",
       "10051.0                    True\n",
       "10066.0                    True"
      ]
     },
     "execution_count": 237,
     "metadata": {},
     "output_type": "execute_result"
    }
   ],
   "source": [
    "decision = count[['number of observations']]!=240 # delete if true\n",
    "decision = decision.dropna() # drop NaN\n",
    "decision.head()"
   ]
  },
  {
   "cell_type": "code",
   "execution_count": 238,
   "metadata": {},
   "outputs": [
    {
     "name": "stdout",
     "output_type": "stream",
     "text": [
      "We delete 3479 stocks.\n"
     ]
    },
    {
     "data": {
      "text/html": [
       "<div>\n",
       "<style scoped>\n",
       "    .dataframe tbody tr th:only-of-type {\n",
       "        vertical-align: middle;\n",
       "    }\n",
       "\n",
       "    .dataframe tbody tr th {\n",
       "        vertical-align: top;\n",
       "    }\n",
       "\n",
       "    .dataframe thead th {\n",
       "        text-align: right;\n",
       "    }\n",
       "</style>\n",
       "<table border=\"1\" class=\"dataframe\">\n",
       "  <thead>\n",
       "    <tr style=\"text-align: right;\">\n",
       "      <th></th>\n",
       "      <th>date</th>\n",
       "      <th>ret</th>\n",
       "      <th>shrout</th>\n",
       "      <th>prc</th>\n",
       "    </tr>\n",
       "    <tr>\n",
       "      <th>permno</th>\n",
       "      <th></th>\n",
       "      <th></th>\n",
       "      <th></th>\n",
       "      <th></th>\n",
       "    </tr>\n",
       "  </thead>\n",
       "  <tbody>\n",
       "    <tr>\n",
       "      <th>10145.0</th>\n",
       "      <td>2000-01</td>\n",
       "      <td>-0.167931</td>\n",
       "      <td>789233.0</td>\n",
       "      <td>48.0000</td>\n",
       "    </tr>\n",
       "    <tr>\n",
       "      <th>10145.0</th>\n",
       "      <td>2000-02</td>\n",
       "      <td>0.006510</td>\n",
       "      <td>795134.0</td>\n",
       "      <td>48.1250</td>\n",
       "    </tr>\n",
       "    <tr>\n",
       "      <th>10145.0</th>\n",
       "      <td>2000-03</td>\n",
       "      <td>0.094805</td>\n",
       "      <td>796591.0</td>\n",
       "      <td>52.6875</td>\n",
       "    </tr>\n",
       "    <tr>\n",
       "      <th>10145.0</th>\n",
       "      <td>2000-04</td>\n",
       "      <td>0.062871</td>\n",
       "      <td>796591.0</td>\n",
       "      <td>56.0000</td>\n",
       "    </tr>\n",
       "    <tr>\n",
       "      <th>10145.0</th>\n",
       "      <td>2000-05</td>\n",
       "      <td>-0.020089</td>\n",
       "      <td>798161.0</td>\n",
       "      <td>54.6875</td>\n",
       "    </tr>\n",
       "  </tbody>\n",
       "</table>\n",
       "</div>"
      ],
      "text/plain": [
       "            date       ret    shrout      prc\n",
       "permno                                       \n",
       "10145.0  2000-01 -0.167931  789233.0  48.0000\n",
       "10145.0  2000-02  0.006510  795134.0  48.1250\n",
       "10145.0  2000-03  0.094805  796591.0  52.6875\n",
       "10145.0  2000-04  0.062871  796591.0  56.0000\n",
       "10145.0  2000-05 -0.020089  798161.0  54.6875"
      ]
     },
     "execution_count": 238,
     "metadata": {},
     "output_type": "execute_result"
    }
   ],
   "source": [
    "decision_true = decision[decision['number of observations']] # keep only true\n",
    "print(f\"We delete {decision_true.shape[0]} stocks.\")\n",
    "stocks_del = stocks.drop(index=decision_true.index) # drop\n",
    "stocks_del.head()"
   ]
  },
  {
   "cell_type": "markdown",
   "metadata": {},
   "source": [
    "We should have 639 stocks:"
   ]
  },
  {
   "cell_type": "code",
   "execution_count": 239,
   "metadata": {},
   "outputs": [
    {
     "name": "stdout",
     "output_type": "stream",
     "text": [
      "We have deleted 3479 and we are left with 639 stocks\n"
     ]
    }
   ],
   "source": [
    "# we have deleted decision_true\n",
    "# we are left with the rest of decision\n",
    "num_deleted = int(decision_true.count())\n",
    "num_left = int(decision.count()-decision_true.count())\n",
    "print(f\"We have deleted {num_deleted} and we are left with {num_left} stocks\")"
   ]
  },
  {
   "cell_type": "code",
   "execution_count": 240,
   "metadata": {},
   "outputs": [],
   "source": [
    "# import risk free rate\n",
    "risk_free = db.raw_sql(\"select mcaldt as date, tmytm as rf from crsp.tfz_mth_rf where kytreasnox = 2000001 and mcaldt>='2000-01-01' and mcaldt<='2019-12-31'\")\n",
    "risk_free_m = np.exp(np.divide(risk_free.rf, 1200)) -1\n",
    "rf = pd.DataFrame([risk_free.date, risk_free_m], index=['date', 'rf']).T\n",
    "\n",
    "# import market\n",
    "market = db.raw_sql(\"select date, vwretd from crsp.msi where date>='2000-01-01' and date<='2019-12-31'\")\n",
    "market_m = pd.DataFrame([market.date, market.vwretd.values], index=['date', 'mkt_ret']).T\n",
    "rm = market_m.set_index('date')"
   ]
  },
  {
   "cell_type": "code",
   "execution_count": 241,
   "metadata": {},
   "outputs": [
    {
     "data": {
      "text/html": [
       "<div>\n",
       "<style scoped>\n",
       "    .dataframe tbody tr th:only-of-type {\n",
       "        vertical-align: middle;\n",
       "    }\n",
       "\n",
       "    .dataframe tbody tr th {\n",
       "        vertical-align: top;\n",
       "    }\n",
       "\n",
       "    .dataframe thead th {\n",
       "        text-align: right;\n",
       "    }\n",
       "</style>\n",
       "<table border=\"1\" class=\"dataframe\">\n",
       "  <thead>\n",
       "    <tr style=\"text-align: right;\">\n",
       "      <th></th>\n",
       "      <th>rf</th>\n",
       "    </tr>\n",
       "    <tr>\n",
       "      <th>date</th>\n",
       "      <th></th>\n",
       "    </tr>\n",
       "  </thead>\n",
       "  <tbody>\n",
       "    <tr>\n",
       "      <th>2000-01</th>\n",
       "      <td>0.00449835</td>\n",
       "    </tr>\n",
       "    <tr>\n",
       "      <th>2000-02</th>\n",
       "      <td>0.00443834</td>\n",
       "    </tr>\n",
       "    <tr>\n",
       "      <th>2000-03</th>\n",
       "      <td>0.00489188</td>\n",
       "    </tr>\n",
       "    <tr>\n",
       "      <th>2000-04</th>\n",
       "      <td>0.00440126</td>\n",
       "    </tr>\n",
       "    <tr>\n",
       "      <th>2000-05</th>\n",
       "      <td>0.00390314</td>\n",
       "    </tr>\n",
       "  </tbody>\n",
       "</table>\n",
       "</div>"
      ],
      "text/plain": [
       "                 rf\n",
       "date               \n",
       "2000-01  0.00449835\n",
       "2000-02  0.00443834\n",
       "2000-03  0.00489188\n",
       "2000-04  0.00440126\n",
       "2000-05  0.00390314"
      ]
     },
     "execution_count": 241,
     "metadata": {},
     "output_type": "execute_result"
    }
   ],
   "source": [
    "rf.date = pd.DatetimeIndex(rf.date) # data format\n",
    "rf.date = rf.date.dt.to_period('M') # data year-month\n",
    "#rf = rf.drop('index')\n",
    "rf = rf.set_index('date')\n",
    "rf.head()"
   ]
  },
  {
   "cell_type": "code",
   "execution_count": 242,
   "metadata": {},
   "outputs": [
    {
     "data": {
      "text/html": [
       "<div>\n",
       "<style scoped>\n",
       "    .dataframe tbody tr th:only-of-type {\n",
       "        vertical-align: middle;\n",
       "    }\n",
       "\n",
       "    .dataframe tbody tr th {\n",
       "        vertical-align: top;\n",
       "    }\n",
       "\n",
       "    .dataframe thead th {\n",
       "        text-align: right;\n",
       "    }\n",
       "</style>\n",
       "<table border=\"1\" class=\"dataframe\">\n",
       "  <thead>\n",
       "    <tr style=\"text-align: right;\">\n",
       "      <th></th>\n",
       "      <th>mkt_ret</th>\n",
       "    </tr>\n",
       "    <tr>\n",
       "      <th>date</th>\n",
       "      <th></th>\n",
       "    </tr>\n",
       "  </thead>\n",
       "  <tbody>\n",
       "    <tr>\n",
       "      <th>2000-01</th>\n",
       "      <td>-0.0396243</td>\n",
       "    </tr>\n",
       "    <tr>\n",
       "      <th>2000-02</th>\n",
       "      <td>0.0317784</td>\n",
       "    </tr>\n",
       "    <tr>\n",
       "      <th>2000-03</th>\n",
       "      <td>0.0535007</td>\n",
       "    </tr>\n",
       "    <tr>\n",
       "      <th>2000-04</th>\n",
       "      <td>-0.059527</td>\n",
       "    </tr>\n",
       "    <tr>\n",
       "      <th>2000-05</th>\n",
       "      <td>-0.0388696</td>\n",
       "    </tr>\n",
       "  </tbody>\n",
       "</table>\n",
       "</div>"
      ],
      "text/plain": [
       "           mkt_ret\n",
       "date              \n",
       "2000-01 -0.0396243\n",
       "2000-02  0.0317784\n",
       "2000-03  0.0535007\n",
       "2000-04  -0.059527\n",
       "2000-05 -0.0388696"
      ]
     },
     "execution_count": 242,
     "metadata": {},
     "output_type": "execute_result"
    }
   ],
   "source": [
    "rm.index = pd.DatetimeIndex(rm.index) # data format\n",
    "rm.index = rm.index.to_period('M') # data year-month\n",
    "rm.head()"
   ]
  },
  {
   "cell_type": "markdown",
   "metadata": {},
   "source": [
    "We set a multiple index for the stocks:"
   ]
  },
  {
   "cell_type": "code",
   "execution_count": 243,
   "metadata": {},
   "outputs": [
    {
     "data": {
      "text/html": [
       "<div>\n",
       "<style scoped>\n",
       "    .dataframe tbody tr th:only-of-type {\n",
       "        vertical-align: middle;\n",
       "    }\n",
       "\n",
       "    .dataframe tbody tr th {\n",
       "        vertical-align: top;\n",
       "    }\n",
       "\n",
       "    .dataframe thead th {\n",
       "        text-align: right;\n",
       "    }\n",
       "</style>\n",
       "<table border=\"1\" class=\"dataframe\">\n",
       "  <thead>\n",
       "    <tr style=\"text-align: right;\">\n",
       "      <th></th>\n",
       "      <th></th>\n",
       "      <th>ret</th>\n",
       "      <th>shrout</th>\n",
       "      <th>prc</th>\n",
       "    </tr>\n",
       "    <tr>\n",
       "      <th>permno</th>\n",
       "      <th>date</th>\n",
       "      <th></th>\n",
       "      <th></th>\n",
       "      <th></th>\n",
       "    </tr>\n",
       "  </thead>\n",
       "  <tbody>\n",
       "    <tr>\n",
       "      <th rowspan=\"5\" valign=\"top\">10145.0</th>\n",
       "      <th>2000-01</th>\n",
       "      <td>-0.167931</td>\n",
       "      <td>789233.0</td>\n",
       "      <td>48.0000</td>\n",
       "    </tr>\n",
       "    <tr>\n",
       "      <th>2000-02</th>\n",
       "      <td>0.006510</td>\n",
       "      <td>795134.0</td>\n",
       "      <td>48.1250</td>\n",
       "    </tr>\n",
       "    <tr>\n",
       "      <th>2000-03</th>\n",
       "      <td>0.094805</td>\n",
       "      <td>796591.0</td>\n",
       "      <td>52.6875</td>\n",
       "    </tr>\n",
       "    <tr>\n",
       "      <th>2000-04</th>\n",
       "      <td>0.062871</td>\n",
       "      <td>796591.0</td>\n",
       "      <td>56.0000</td>\n",
       "    </tr>\n",
       "    <tr>\n",
       "      <th>2000-05</th>\n",
       "      <td>-0.020089</td>\n",
       "      <td>798161.0</td>\n",
       "      <td>54.6875</td>\n",
       "    </tr>\n",
       "  </tbody>\n",
       "</table>\n",
       "</div>"
      ],
      "text/plain": [
       "                      ret    shrout      prc\n",
       "permno  date                                \n",
       "10145.0 2000-01 -0.167931  789233.0  48.0000\n",
       "        2000-02  0.006510  795134.0  48.1250\n",
       "        2000-03  0.094805  796591.0  52.6875\n",
       "        2000-04  0.062871  796591.0  56.0000\n",
       "        2000-05 -0.020089  798161.0  54.6875"
      ]
     },
     "execution_count": 243,
     "metadata": {},
     "output_type": "execute_result"
    }
   ],
   "source": [
    "# change index: first permno then date\n",
    "ss_permno = stocks_del.reset_index()\n",
    "ss_permno = ss_permno.set_index(['permno','date']) # multiple index\n",
    "ss_permno = ss_permno.sort_values(by=['permno','date']) # sort\n",
    "ss_permno.head()"
   ]
  },
  {
   "cell_type": "code",
   "execution_count": 244,
   "metadata": {},
   "outputs": [
    {
     "data": {
      "text/html": [
       "<div>\n",
       "<style scoped>\n",
       "    .dataframe tbody tr th:only-of-type {\n",
       "        vertical-align: middle;\n",
       "    }\n",
       "\n",
       "    .dataframe tbody tr th {\n",
       "        vertical-align: top;\n",
       "    }\n",
       "\n",
       "    .dataframe thead th {\n",
       "        text-align: right;\n",
       "    }\n",
       "</style>\n",
       "<table border=\"1\" class=\"dataframe\">\n",
       "  <thead>\n",
       "    <tr style=\"text-align: right;\">\n",
       "      <th></th>\n",
       "      <th></th>\n",
       "      <th>ret</th>\n",
       "      <th>shrout</th>\n",
       "      <th>prc</th>\n",
       "    </tr>\n",
       "    <tr>\n",
       "      <th>date</th>\n",
       "      <th>permno</th>\n",
       "      <th></th>\n",
       "      <th></th>\n",
       "      <th></th>\n",
       "    </tr>\n",
       "  </thead>\n",
       "  <tbody>\n",
       "    <tr>\n",
       "      <th rowspan=\"5\" valign=\"top\">2000-01</th>\n",
       "      <th>10145.0</th>\n",
       "      <td>-0.167931</td>\n",
       "      <td>789233.0</td>\n",
       "      <td>48.0000</td>\n",
       "    </tr>\n",
       "    <tr>\n",
       "      <th>10294.0</th>\n",
       "      <td>-0.072816</td>\n",
       "      <td>4786.0</td>\n",
       "      <td>11.9375</td>\n",
       "    </tr>\n",
       "    <tr>\n",
       "      <th>10308.0</th>\n",
       "      <td>-0.038961</td>\n",
       "      <td>7040.0</td>\n",
       "      <td>27.7500</td>\n",
       "    </tr>\n",
       "    <tr>\n",
       "      <th>10516.0</th>\n",
       "      <td>-0.030928</td>\n",
       "      <td>608360.0</td>\n",
       "      <td>11.7500</td>\n",
       "    </tr>\n",
       "    <tr>\n",
       "      <th>10517.0</th>\n",
       "      <td>-0.078767</td>\n",
       "      <td>3830.0</td>\n",
       "      <td>-16.8125</td>\n",
       "    </tr>\n",
       "  </tbody>\n",
       "</table>\n",
       "</div>"
      ],
      "text/plain": [
       "                      ret    shrout      prc\n",
       "date    permno                              \n",
       "2000-01 10145.0 -0.167931  789233.0  48.0000\n",
       "        10294.0 -0.072816    4786.0  11.9375\n",
       "        10308.0 -0.038961    7040.0  27.7500\n",
       "        10516.0 -0.030928  608360.0  11.7500\n",
       "        10517.0 -0.078767    3830.0 -16.8125"
      ]
     },
     "execution_count": 244,
     "metadata": {},
     "output_type": "execute_result"
    }
   ],
   "source": [
    "# change index: first date then permno\n",
    "ss_date = ss_permno.reset_index()\n",
    "ss_date = ss_date.set_index(['date','permno']) # multiple index\n",
    "ss_date = ss_date.sort_values(by=['date','permno']) # sort\n",
    "ss_date.head()"
   ]
  },
  {
   "cell_type": "markdown",
   "metadata": {},
   "source": [
    "## b)"
   ]
  },
  {
   "cell_type": "markdown",
   "metadata": {},
   "source": [
    "Using the full sample, estimate the market beta for each stock:\n",
    "\n",
    "Beta = Cov (R,Rm) / var(Rm)"
   ]
  },
  {
   "cell_type": "code",
   "execution_count": 245,
   "metadata": {},
   "outputs": [],
   "source": [
    "# list of right permnos (no duplicates):\n",
    "list_permno = list(stocks_del.loc[~stocks_del.index.duplicated(keep='first')].index)"
   ]
  },
  {
   "cell_type": "code",
   "execution_count": 246,
   "metadata": {},
   "outputs": [],
   "source": [
    "market_beta = []\n",
    "\n",
    "#cycle for each stock (639 elemts)\n",
    "for i in list_permno: # (list_permno): \n",
    "        current_stock = stocks_del.loc[i] # long 240 because we have 240 observations for each stock\n",
    "        ret_cur_stock = current_stock.ret.values.astype(float) # 240 returns for each stock\n",
    "        rm_cur_stock = rm.loc[current_stock.date].mkt_ret.astype(float)\n",
    "        covariance = np.cov(ret_cur_stock, rm_cur_stock) # Cov(R,Rm)\n",
    "        var_market = covariance[1,1]\n",
    "        market_beta.append(covariance[0,1]/var_market)\n",
    "\n",
    "#market_beta"
   ]
  },
  {
   "cell_type": "markdown",
   "metadata": {},
   "source": [
    "Create a DataFrame where for each stock we have its beta"
   ]
  },
  {
   "cell_type": "code",
   "execution_count": 247,
   "metadata": {},
   "outputs": [
    {
     "data": {
      "text/html": [
       "<div>\n",
       "<style scoped>\n",
       "    .dataframe tbody tr th:only-of-type {\n",
       "        vertical-align: middle;\n",
       "    }\n",
       "\n",
       "    .dataframe tbody tr th {\n",
       "        vertical-align: top;\n",
       "    }\n",
       "\n",
       "    .dataframe thead th {\n",
       "        text-align: right;\n",
       "    }\n",
       "</style>\n",
       "<table border=\"1\" class=\"dataframe\">\n",
       "  <thead>\n",
       "    <tr style=\"text-align: right;\">\n",
       "      <th></th>\n",
       "      <th>beta</th>\n",
       "    </tr>\n",
       "  </thead>\n",
       "  <tbody>\n",
       "    <tr>\n",
       "      <th>10145.0</th>\n",
       "      <td>1.200190</td>\n",
       "    </tr>\n",
       "    <tr>\n",
       "      <th>10294.0</th>\n",
       "      <td>0.758752</td>\n",
       "    </tr>\n",
       "    <tr>\n",
       "      <th>10308.0</th>\n",
       "      <td>0.443625</td>\n",
       "    </tr>\n",
       "    <tr>\n",
       "      <th>10516.0</th>\n",
       "      <td>0.497710</td>\n",
       "    </tr>\n",
       "    <tr>\n",
       "      <th>10517.0</th>\n",
       "      <td>0.642811</td>\n",
       "    </tr>\n",
       "  </tbody>\n",
       "</table>\n",
       "</div>"
      ],
      "text/plain": [
       "             beta\n",
       "10145.0  1.200190\n",
       "10294.0  0.758752\n",
       "10308.0  0.443625\n",
       "10516.0  0.497710\n",
       "10517.0  0.642811"
      ]
     },
     "execution_count": 247,
     "metadata": {},
     "output_type": "execute_result"
    }
   ],
   "source": [
    "data = pd.DataFrame(market_beta, columns={'beta'}, index=list_permno) # for each stock we have its beta\n",
    "#data = data.mul(240) # multiplicate di merge the dataset\n",
    "data = data.sort_index()\n",
    "data.head()"
   ]
  },
  {
   "cell_type": "markdown",
   "metadata": {},
   "source": [
    "We add to the stocks dataframe our beta, creating a new column:"
   ]
  },
  {
   "cell_type": "code",
   "execution_count": 248,
   "metadata": {},
   "outputs": [
    {
     "data": {
      "text/html": [
       "<div>\n",
       "<style scoped>\n",
       "    .dataframe tbody tr th:only-of-type {\n",
       "        vertical-align: middle;\n",
       "    }\n",
       "\n",
       "    .dataframe tbody tr th {\n",
       "        vertical-align: top;\n",
       "    }\n",
       "\n",
       "    .dataframe thead th {\n",
       "        text-align: right;\n",
       "    }\n",
       "</style>\n",
       "<table border=\"1\" class=\"dataframe\">\n",
       "  <thead>\n",
       "    <tr style=\"text-align: right;\">\n",
       "      <th></th>\n",
       "      <th></th>\n",
       "      <th>ret</th>\n",
       "      <th>shrout</th>\n",
       "      <th>prc</th>\n",
       "      <th>beta</th>\n",
       "    </tr>\n",
       "    <tr>\n",
       "      <th>permno</th>\n",
       "      <th>date</th>\n",
       "      <th></th>\n",
       "      <th></th>\n",
       "      <th></th>\n",
       "      <th></th>\n",
       "    </tr>\n",
       "  </thead>\n",
       "  <tbody>\n",
       "    <tr>\n",
       "      <th rowspan=\"5\" valign=\"top\">10145.0</th>\n",
       "      <th>2000-01</th>\n",
       "      <td>-0.167931</td>\n",
       "      <td>789233.0</td>\n",
       "      <td>48.0000</td>\n",
       "      <td>1.20019</td>\n",
       "    </tr>\n",
       "    <tr>\n",
       "      <th>2000-02</th>\n",
       "      <td>0.006510</td>\n",
       "      <td>795134.0</td>\n",
       "      <td>48.1250</td>\n",
       "      <td>1.20019</td>\n",
       "    </tr>\n",
       "    <tr>\n",
       "      <th>2000-03</th>\n",
       "      <td>0.094805</td>\n",
       "      <td>796591.0</td>\n",
       "      <td>52.6875</td>\n",
       "      <td>1.20019</td>\n",
       "    </tr>\n",
       "    <tr>\n",
       "      <th>2000-04</th>\n",
       "      <td>0.062871</td>\n",
       "      <td>796591.0</td>\n",
       "      <td>56.0000</td>\n",
       "      <td>1.20019</td>\n",
       "    </tr>\n",
       "    <tr>\n",
       "      <th>2000-05</th>\n",
       "      <td>-0.020089</td>\n",
       "      <td>798161.0</td>\n",
       "      <td>54.6875</td>\n",
       "      <td>1.20019</td>\n",
       "    </tr>\n",
       "  </tbody>\n",
       "</table>\n",
       "</div>"
      ],
      "text/plain": [
       "                      ret    shrout      prc     beta\n",
       "permno  date                                         \n",
       "10145.0 2000-01 -0.167931  789233.0  48.0000  1.20019\n",
       "        2000-02  0.006510  795134.0  48.1250  1.20019\n",
       "        2000-03  0.094805  796591.0  52.6875  1.20019\n",
       "        2000-04  0.062871  796591.0  56.0000  1.20019\n",
       "        2000-05 -0.020089  798161.0  54.6875  1.20019"
      ]
     },
     "execution_count": 248,
     "metadata": {},
     "output_type": "execute_result"
    }
   ],
   "source": [
    "stocks_del = stocks_del.merge(data, left_index=True, right_index=True)\n",
    "stocks_del['permno'] = stocks_del.index\n",
    "stocks_with_beta = stocks_del.set_index(['permno','date']) # re-index\n",
    "stocks_with_beta.head()"
   ]
  },
  {
   "cell_type": "markdown",
   "metadata": {},
   "source": [
    "Sort stocks by beta into 10 decile portfolios"
   ]
  },
  {
   "cell_type": "code",
   "execution_count": 249,
   "metadata": {},
   "outputs": [
    {
     "data": {
      "text/html": [
       "<div>\n",
       "<style scoped>\n",
       "    .dataframe tbody tr th:only-of-type {\n",
       "        vertical-align: middle;\n",
       "    }\n",
       "\n",
       "    .dataframe tbody tr th {\n",
       "        vertical-align: top;\n",
       "    }\n",
       "\n",
       "    .dataframe thead th {\n",
       "        text-align: right;\n",
       "    }\n",
       "</style>\n",
       "<table border=\"1\" class=\"dataframe\">\n",
       "  <thead>\n",
       "    <tr style=\"text-align: right;\">\n",
       "      <th></th>\n",
       "      <th>decile</th>\n",
       "    </tr>\n",
       "  </thead>\n",
       "  <tbody>\n",
       "    <tr>\n",
       "      <th>10145.0</th>\n",
       "      <td>(1.151, 1.296]</td>\n",
       "    </tr>\n",
       "    <tr>\n",
       "      <th>10294.0</th>\n",
       "      <td>(0.744, 0.882]</td>\n",
       "    </tr>\n",
       "    <tr>\n",
       "      <th>10308.0</th>\n",
       "      <td>(0.425, 0.607]</td>\n",
       "    </tr>\n",
       "    <tr>\n",
       "      <th>10516.0</th>\n",
       "      <td>(0.425, 0.607]</td>\n",
       "    </tr>\n",
       "    <tr>\n",
       "      <th>10517.0</th>\n",
       "      <td>(0.607, 0.744]</td>\n",
       "    </tr>\n",
       "  </tbody>\n",
       "</table>\n",
       "</div>"
      ],
      "text/plain": [
       "                 decile\n",
       "10145.0  (1.151, 1.296]\n",
       "10294.0  (0.744, 0.882]\n",
       "10308.0  (0.425, 0.607]\n",
       "10516.0  (0.425, 0.607]\n",
       "10517.0  (0.607, 0.744]"
      ]
     },
     "execution_count": 249,
     "metadata": {},
     "output_type": "execute_result"
    }
   ],
   "source": [
    "decile = pd.DataFrame(pd.qcut(data.beta,10),index=list_permno, columns=[\"beta\"])\n",
    "decile = decile.rename(columns={'beta':'decile'})\n",
    "decile.head()"
   ]
  },
  {
   "cell_type": "markdown",
   "metadata": {},
   "source": [
    "At this point we should have 10 porfolios:"
   ]
  },
  {
   "cell_type": "code",
   "execution_count": 250,
   "metadata": {},
   "outputs": [
    {
     "name": "stdout",
     "output_type": "stream",
     "text": [
      "We have 10 portfolios\n"
     ]
    }
   ],
   "source": [
    "inters = pd.qcut(data.beta,10).values\n",
    "inters = list(dict.fromkeys(inters))\n",
    "#inters.sort()\n",
    "inters = [x for x in inters if str(x) != 'nan'] # drop NoN. We always put a control just to be sure\n",
    "print(f\"We have {len(inters)} portfolios\")"
   ]
  },
  {
   "cell_type": "code",
   "execution_count": 251,
   "metadata": {},
   "outputs": [],
   "source": [
    "group_decile = decile.sort_values(by=\"decile\") # sort for decile\n",
    "group_decile.reset_index(inplace=True)\n",
    "group_decile = group_decile.dropna() # drop NaN\n",
    "group_decile = group_decile.groupby(\"decile\")"
   ]
  },
  {
   "cell_type": "markdown",
   "metadata": {},
   "source": [
    "Equal weighted average return for each portfolio:"
   ]
  },
  {
   "cell_type": "code",
   "execution_count": 252,
   "metadata": {},
   "outputs": [],
   "source": [
    "ew_ret = [] \n",
    "avg_beta = []\n",
    "for i in inters:\n",
    "    stock_interval = group_decile.get_group(i)[\"index\"]\n",
    "    temp = stocks_del.loc[stock_interval] \n",
    "    group_date = temp.groupby('date').mean()\n",
    "    ew_ret.append(group_date.ret.mean()) # equal weighted => mean\n",
    "    avg_beta.append(data.loc[stock_interval].mean()[0])"
   ]
  },
  {
   "cell_type": "markdown",
   "metadata": {},
   "source": [
    "We create a dataframe to show the relation between beta and returns of our 10 portfolios"
   ]
  },
  {
   "cell_type": "code",
   "execution_count": 263,
   "metadata": {},
   "outputs": [
    {
     "data": {
      "text/html": [
       "<div>\n",
       "<style scoped>\n",
       "    .dataframe tbody tr th:only-of-type {\n",
       "        vertical-align: middle;\n",
       "    }\n",
       "\n",
       "    .dataframe tbody tr th {\n",
       "        vertical-align: top;\n",
       "    }\n",
       "\n",
       "    .dataframe thead th {\n",
       "        text-align: right;\n",
       "    }\n",
       "</style>\n",
       "<table border=\"1\" class=\"dataframe\">\n",
       "  <thead>\n",
       "    <tr style=\"text-align: right;\">\n",
       "      <th></th>\n",
       "      <th>ew_ret</th>\n",
       "    </tr>\n",
       "    <tr>\n",
       "      <th>avg_beta</th>\n",
       "      <th></th>\n",
       "    </tr>\n",
       "  </thead>\n",
       "  <tbody>\n",
       "    <tr>\n",
       "      <th>0.285315</th>\n",
       "      <td>0.010578</td>\n",
       "    </tr>\n",
       "    <tr>\n",
       "      <th>0.515390</th>\n",
       "      <td>0.011674</td>\n",
       "    </tr>\n",
       "    <tr>\n",
       "      <th>0.685130</th>\n",
       "      <td>0.011796</td>\n",
       "    </tr>\n",
       "    <tr>\n",
       "      <th>0.818324</th>\n",
       "      <td>0.012387</td>\n",
       "    </tr>\n",
       "    <tr>\n",
       "      <th>0.944647</th>\n",
       "      <td>0.012547</td>\n",
       "    </tr>\n",
       "    <tr>\n",
       "      <th>1.072443</th>\n",
       "      <td>0.011389</td>\n",
       "    </tr>\n",
       "    <tr>\n",
       "      <th>1.221790</th>\n",
       "      <td>0.011606</td>\n",
       "    </tr>\n",
       "    <tr>\n",
       "      <th>1.361476</th>\n",
       "      <td>0.013521</td>\n",
       "    </tr>\n",
       "    <tr>\n",
       "      <th>1.539029</th>\n",
       "      <td>0.012934</td>\n",
       "    </tr>\n",
       "    <tr>\n",
       "      <th>1.975603</th>\n",
       "      <td>0.013058</td>\n",
       "    </tr>\n",
       "  </tbody>\n",
       "</table>\n",
       "</div>"
      ],
      "text/plain": [
       "            ew_ret\n",
       "avg_beta          \n",
       "0.285315  0.010578\n",
       "0.515390  0.011674\n",
       "0.685130  0.011796\n",
       "0.818324  0.012387\n",
       "0.944647  0.012547\n",
       "1.072443  0.011389\n",
       "1.221790  0.011606\n",
       "1.361476  0.013521\n",
       "1.539029  0.012934\n",
       "1.975603  0.013058"
      ]
     },
     "execution_count": 263,
     "metadata": {},
     "output_type": "execute_result"
    }
   ],
   "source": [
    "ret = pd.DataFrame([ew_ret,avg_beta]).transpose() \n",
    "ret = ret.rename(columns={0:'ew_ret',1:'avg_beta'})\n",
    "ret = ret.sort_values(by='avg_beta')\n",
    "ret = ret.set_index('avg_beta')\n",
    "ret.head(10)"
   ]
  },
  {
   "cell_type": "code",
   "execution_count": 264,
   "metadata": {},
   "outputs": [
    {
     "name": "stdout",
     "output_type": "stream",
     "text": [
      "The market has a mean return of 0.005825365536250002 and \n",
      "the risk-free portfolio of 0.0013152996576685284.\n"
     ]
    }
   ],
   "source": [
    "rm_mean = rm.mkt_ret.mean() \n",
    "rf_mean = rf.rf.mean()\n",
    "excess_rm_rf = rm_mean-rf_mean\n",
    "print(f\"The market has a mean return of {rm_mean} and \\nthe risk-free portfolio of {rf_mean}.\")"
   ]
  },
  {
   "cell_type": "code",
   "execution_count": 267,
   "metadata": {},
   "outputs": [
    {
     "data": {
      "image/png": "[encoded data removed]",
      "text/plain": [
       "<Figure size 720x432 with 1 Axes>"
      ]
     },
     "metadata": {
      "needs_background": "light"
     },
     "output_type": "display_data"
    }
   ],
   "source": [
    "slope, intercept, r_value, p_value, std_err =  stats.linregress([avg_beta[i] for i in range(len(avg_beta))],ew_ret)\n",
    "plt.figure(figsize=(10,6))\n",
    "plt.plot(avg_beta, ew_ret, 'rx', label='Portfolios')\n",
    "#plt.plot(np.linspace(0,2.5,100), rf_mean + np.linspace(0,2.5,100)*excess_rm_rf, label='CAPM')\n",
    "plt.plot(np.linspace(0,2.5,100),np.linspace(0,2.5,100)*slope+intercept,label = 'Slope')\n",
    "plt.title('Return vs Beta')\n",
    "plt.xlabel('Average beta')\n",
    "plt.ylabel('Average return')\n",
    "plt.grid()\n",
    "plt.legend(loc='best')\n",
    "plt.show()"
   ]
  },
  {
   "cell_type": "code",
   "execution_count": 268,
   "metadata": {},
   "outputs": [
    {
     "data": {
      "image/png": "[encoded data removed]",
      "text/plain": [
       "<Figure size 720x432 with 1 Axes>"
      ]
     },
     "metadata": {
      "needs_background": "light"
     },
     "output_type": "display_data"
    }
   ],
   "source": [
    "slope, intercept, r_value, p_value, std_err =  stats.linregress([avg_beta[i] for i in range(len(avg_beta))],ew_ret)\n",
    "plt.figure(figsize=(10,6))\n",
    "plt.plot(avg_beta, ew_ret, 'rx', label='Portfolios')\n",
    "plt.plot(np.linspace(0,2.5,100), rf_mean + np.linspace(0,2.5,100)*excess_rm_rf, label='CAPM')\n",
    "plt.plot(np.linspace(0,2.5,100),np.linspace(0,2.5,100)*slope+intercept,label = 'Slope')\n",
    "plt.title('Return vs Beta')\n",
    "plt.xlabel('Average beta')\n",
    "plt.ylabel('Average return')\n",
    "plt.grid()\n",
    "plt.legend(loc='best')\n",
    "plt.show()"
   ]
  },
  {
   "cell_type": "code",
   "execution_count": null,
   "metadata": {},
   "outputs": [],
   "source": []
  },
  {
   "cell_type": "code",
   "execution_count": null,
   "metadata": {},
   "outputs": [],
   "source": []
  },
  {
   "cell_type": "code",
   "execution_count": null,
   "metadata": {},
   "outputs": [],
   "source": []
  },
  {
   "cell_type": "code",
   "execution_count": null,
   "metadata": {},
   "outputs": [],
   "source": []
  },
  {
   "cell_type": "code",
   "execution_count": null,
   "metadata": {},
   "outputs": [],
   "source": []
  }
 ],
 "metadata": {
  "kernelspec": {
   "display_name": "Python 3",
   "language": "python",
   "name": "python3"
  },
  "language_info": {
   "codemirror_mode": {
    "name": "ipython",
    "version": 3
   },
   "file_extension": ".py",
   "mimetype": "text/x-python",
   "name": "python",
   "nbconvert_exporter": "python",
   "pygments_lexer": "ipython3",
   "version": "3.7.7"
  }
 },
 "nbformat": 4,
 "nbformat_minor": 4
}
