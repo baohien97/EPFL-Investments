{
 "cells": [
  {
   "cell_type": "code",
   "execution_count": 2,
   "metadata": {},
   "outputs": [],
   "source": [
    "import numpy as np\n",
    "import pandas as pd\n",
    "import matplotlib.pyplot as plt\n",
    "import seaborn as sns"
   ]
  },
  {
   "cell_type": "markdown",
   "metadata": {},
   "source": [
    "### 1. Getting and transforming data\n",
    "\n",
    "The following involoves the process of retrieving data from the ```wrds``` server and treating as such that the different data sources are merged and exported to a file named \"as3_ex3_data.csv\")"
   ]
  },
  {
   "cell_type": "code",
   "execution_count": 3,
   "metadata": {},
   "outputs": [],
   "source": [
    "# import wrds\n",
    "# db = wrds.Connection(wrds_username='hienle')\n",
    "# db.create_pgpass_file()"
   ]
  },
  {
   "cell_type": "code",
   "execution_count": 4,
   "metadata": {},
   "outputs": [],
   "source": [
    "# See http://www.crsp.com/files/treasury_guide_0.pdf for more infos on the CRSP Treasury risk-\n",
    "# free rate database. Note that ”mcaldt” denotes the last quotation date of the relevant bond in a given month,\n",
    "# i.e. the the yield corresponding to January 31 is the yield that was promised in the beginning of January.\n",
    "# Note that the CRSP monthly risk-free rates are continuously compounded and annualized. Thus, you need to transform \n",
    "# them into simple and monthly rates, in order to use them in your portfolio construction (the\n",
    "# stock returns are already simple monthly returns) \n",
    "\n",
    "# vw_ret = db.raw_sql(\"select date,vwretd from crsp.msi where date>='1960-01-01' and date<='2019-12-31'\", \n",
    "#                           date_cols=[\"date\"]).rename(columns={\"vwretd\": \"ret\"})\n",
    "# vw_bonds = db.raw_sql(\"select caldt, b2ret \"\n",
    "# \"from crsp.mcti \"\n",
    "# \"where caldt>='1960-01-01'\"\n",
    "# \"and caldt<='2019-12-31'\", date_cols=[\"caldt\"]).rename(columns={\"caldt\": \"date\", \"b2ret\": \"ret\"})\n",
    "# tb_ret = db.raw_sql(\"select mcaldt, tmytm from crsp.tfz_mth_rf where kytreasnox = 2000001 and mcaldt>='1960-01-01'\\\n",
    "#                     and mcaldt <='2019-12-31'\").rename(columns={\"mcaldt\": \"date\", \"tmytm\": \"ret\"})\n",
    "# tb_ret[\"simp_ret\"] = (np.exp(tb_ret[\"ret\"]/12/100)-1) # de-annualise then de-compound the return"
   ]
  },
  {
   "cell_type": "code",
   "execution_count": 5,
   "metadata": {},
   "outputs": [],
   "source": [
    "# # the dates recorded in the three dfs are not synchronised\n",
    "# merged=pd.merge(pd.merge(vw_ret, vw_bonds, left_index=True, right_index=True), tb_ret, left_index=True, right_index=True)\n",
    "# merged.to_csv(\"as3_ex3_data.csv\")"
   ]
  },
  {
   "cell_type": "code",
   "execution_count": 6,
   "metadata": {},
   "outputs": [],
   "source": [
    "data = pd.read_csv(\"as3_ex3_data.csv\", index_col=0)"
   ]
  },
  {
   "cell_type": "markdown",
   "metadata": {},
   "source": [
    "### 2. Analysing"
   ]
  },
  {
   "cell_type": "markdown",
   "metadata": {},
   "source": [
    "#### 2.1. 100% risky and 100% riskless "
   ]
  },
  {
   "cell_type": "code",
   "execution_count": 7,
   "metadata": {},
   "outputs": [],
   "source": [
    "# these following two lines are redundant for now\n",
    "data[\"excess_ret_x\"] = data[\"ret_x\"] - data[\"simp_ret\"]\n",
    "data[\"excess_ret_y\"] = data[\"ret_y\"] - data[\"simp_ret\"]"
   ]
  },
  {
   "cell_type": "code",
   "execution_count": 8,
   "metadata": {},
   "outputs": [
    {
     "data": {
      "text/html": "<div>\n<style scoped>\n    .dataframe tbody tr th:only-of-type {\n        vertical-align: middle;\n    }\n\n    .dataframe tbody tr th {\n        vertical-align: top;\n    }\n\n    .dataframe thead th {\n        text-align: right;\n    }\n</style>\n<table border=\"1\" class=\"dataframe\">\n  <thead>\n    <tr style=\"text-align: right;\">\n      <th></th>\n      <th>date_x</th>\n      <th>ret_x</th>\n      <th>date_y</th>\n      <th>ret_y</th>\n      <th>date</th>\n      <th>ret</th>\n      <th>simp_ret</th>\n      <th>excess_ret_x</th>\n      <th>excess_ret_y</th>\n    </tr>\n  </thead>\n  <tbody>\n    <tr>\n      <td>0</td>\n      <td>1960-01-29</td>\n      <td>-0.066244</td>\n      <td>1960-01-29</td>\n      <td>0.009443</td>\n      <td>1960-01-29</td>\n      <td>3.427324</td>\n      <td>0.002860</td>\n      <td>-0.069104</td>\n      <td>0.006583</td>\n    </tr>\n    <tr>\n      <td>1</td>\n      <td>1960-02-29</td>\n      <td>0.014419</td>\n      <td>1960-02-29</td>\n      <td>0.008344</td>\n      <td>1960-02-29</td>\n      <td>3.808210</td>\n      <td>0.003179</td>\n      <td>0.011241</td>\n      <td>0.005165</td>\n    </tr>\n    <tr>\n      <td>2</td>\n      <td>1960-03-31</td>\n      <td>-0.012822</td>\n      <td>1960-03-31</td>\n      <td>0.014125</td>\n      <td>1960-03-31</td>\n      <td>2.537828</td>\n      <td>0.002117</td>\n      <td>-0.014939</td>\n      <td>0.012008</td>\n    </tr>\n    <tr>\n      <td>3</td>\n      <td>1960-04-29</td>\n      <td>-0.015271</td>\n      <td>1960-04-29</td>\n      <td>-0.003661</td>\n      <td>1960-04-29</td>\n      <td>2.893542</td>\n      <td>0.002414</td>\n      <td>-0.017685</td>\n      <td>-0.006075</td>\n    </tr>\n    <tr>\n      <td>4</td>\n      <td>1960-05-31</td>\n      <td>0.034098</td>\n      <td>1960-05-31</td>\n      <td>0.006015</td>\n      <td>1960-05-31</td>\n      <td>2.334168</td>\n      <td>0.001947</td>\n      <td>0.032151</td>\n      <td>0.004068</td>\n    </tr>\n    <tr>\n      <td>5</td>\n      <td>1960-06-30</td>\n      <td>0.022833</td>\n      <td>1960-06-30</td>\n      <td>0.008191</td>\n      <td>1960-06-30</td>\n      <td>1.725013</td>\n      <td>0.001439</td>\n      <td>0.021394</td>\n      <td>0.006752</td>\n    </tr>\n    <tr>\n      <td>6</td>\n      <td>1960-07-29</td>\n      <td>-0.022705</td>\n      <td>1960-07-29</td>\n      <td>0.015361</td>\n      <td>1960-07-29</td>\n      <td>1.750399</td>\n      <td>0.001460</td>\n      <td>-0.024164</td>\n      <td>0.013901</td>\n    </tr>\n    <tr>\n      <td>7</td>\n      <td>1960-08-31</td>\n      <td>0.032215</td>\n      <td>1960-08-31</td>\n      <td>0.008301</td>\n      <td>1960-08-31</td>\n      <td>2.004431</td>\n      <td>0.001672</td>\n      <td>0.030543</td>\n      <td>0.006629</td>\n    </tr>\n    <tr>\n      <td>8</td>\n      <td>1960-09-30</td>\n      <td>-0.058673</td>\n      <td>1960-09-30</td>\n      <td>0.002977</td>\n      <td>1960-09-30</td>\n      <td>2.446218</td>\n      <td>0.002041</td>\n      <td>-0.060714</td>\n      <td>0.000936</td>\n    </tr>\n    <tr>\n      <td>9</td>\n      <td>1960-10-31</td>\n      <td>-0.004705</td>\n      <td>1960-10-31</td>\n      <td>0.000336</td>\n      <td>1960-10-31</td>\n      <td>1.521809</td>\n      <td>0.001269</td>\n      <td>-0.005974</td>\n      <td>-0.000933</td>\n    </tr>\n  </tbody>\n</table>\n</div>",
      "text/plain": "       date_x     ret_x      date_y     ret_y        date       ret  simp_ret  \\\n0  1960-01-29 -0.066244  1960-01-29  0.009443  1960-01-29  3.427324  0.002860   \n1  1960-02-29  0.014419  1960-02-29  0.008344  1960-02-29  3.808210  0.003179   \n2  1960-03-31 -0.012822  1960-03-31  0.014125  1960-03-31  2.537828  0.002117   \n3  1960-04-29 -0.015271  1960-04-29 -0.003661  1960-04-29  2.893542  0.002414   \n4  1960-05-31  0.034098  1960-05-31  0.006015  1960-05-31  2.334168  0.001947   \n5  1960-06-30  0.022833  1960-06-30  0.008191  1960-06-30  1.725013  0.001439   \n6  1960-07-29 -0.022705  1960-07-29  0.015361  1960-07-29  1.750399  0.001460   \n7  1960-08-31  0.032215  1960-08-31  0.008301  1960-08-31  2.004431  0.001672   \n8  1960-09-30 -0.058673  1960-09-30  0.002977  1960-09-30  2.446218  0.002041   \n9  1960-10-31 -0.004705  1960-10-31  0.000336  1960-10-31  1.521809  0.001269   \n\n   excess_ret_x  excess_ret_y  \n0     -0.069104      0.006583  \n1      0.011241      0.005165  \n2     -0.014939      0.012008  \n3     -0.017685     -0.006075  \n4      0.032151      0.004068  \n5      0.021394      0.006752  \n6     -0.024164      0.013901  \n7      0.030543      0.006629  \n8     -0.060714      0.000936  \n9     -0.005974     -0.000933  "
     },
     "execution_count": 8,
     "metadata": {},
     "output_type": "execute_result"
    }
   ],
   "source": [
    "data.head(10)"
   ]
  },
  {
   "cell_type": "code",
   "execution_count": 9,
   "metadata": {},
   "outputs": [
    {
     "data": {
      "text/html": "<div>\n<style scoped>\n    .dataframe tbody tr th:only-of-type {\n        vertical-align: middle;\n    }\n\n    .dataframe tbody tr th {\n        vertical-align: top;\n    }\n\n    .dataframe thead th {\n        text-align: right;\n    }\n</style>\n<table border=\"1\" class=\"dataframe\">\n  <thead>\n    <tr style=\"text-align: right;\">\n      <th></th>\n      <th>vw_ret</th>\n      <th>vw_bonds</th>\n    </tr>\n  </thead>\n  <tbody>\n    <tr>\n      <td>mean_ret</td>\n      <td>0.00887733</td>\n      <td>0.00471796</td>\n    </tr>\n    <tr>\n      <td>std_ret</td>\n      <td>0.0434779</td>\n      <td>0.00815537</td>\n    </tr>\n    <tr>\n      <td>mean_excess_ret</td>\n      <td>0.0052512</td>\n      <td>0.00109184</td>\n    </tr>\n    <tr>\n      <td>sharpe_ratio</td>\n      <td>0.120779</td>\n      <td>0.13388</td>\n    </tr>\n  </tbody>\n</table>\n</div>",
      "text/plain": "                     vw_ret    vw_bonds\nmean_ret         0.00887733  0.00471796\nstd_ret           0.0434779  0.00815537\nmean_excess_ret   0.0052512  0.00109184\nsharpe_ratio       0.120779     0.13388"
     },
     "execution_count": 9,
     "metadata": {},
     "output_type": "execute_result"
    }
   ],
   "source": [
    "# Compute the mean return, standard deviation and correlation matrix for these\n",
    "# returns over the entire sample period. Using the 1-month T-Bill as the risk-free\n",
    "# rate to compute excess returns. To compute excess returns assume that the risk-\n",
    "# free rate is constant at the sample average of the T-Bill rate.\n",
    "\n",
    "d_returns = {\n",
    "    \"vw_ret\": data[\"ret_x\"],\n",
    "    \"vw_bonds\": data[\"ret_y\"],\n",
    "    #\"tb_ret\": tb_ret\n",
    "}\n",
    "summ_1 = pd.DataFrame(columns=d_returns.keys())\n",
    "\n",
    "for key,val in d_returns.items():\n",
    "    summ_1.at[\"mean_ret\", key] = np.mean(val)\n",
    "    summ_1.at[\"std_ret\", key] = np.std(val)\n",
    "    summ_1.at[\"mean_excess_ret\", key] = np.mean(val) - np.mean(data[\"simp_ret\"])        \n",
    "    summ_1.at[\"sharpe_ratio\", key] = summ_1.at[\"mean_excess_ret\", key]/(summ_1.at[\"std_ret\", key])\n",
    "    \n",
    "summ_1"
   ]
  },
  {
   "cell_type": "code",
   "execution_count": 10,
   "metadata": {},
   "outputs": [
    {
     "data": {
      "text/plain": "array([[ 1.        ,  0.09279471, -0.0217775 ],\n       [ 0.09279471,  1.        ,  0.24050124],\n       [-0.0217775 ,  0.24050124,  1.        ]])"
     },
     "execution_count": 10,
     "metadata": {},
     "output_type": "execute_result"
    }
   ],
   "source": [
    "# covariance and correlation matrix\n",
    "cov = np.cov(data[[\"ret_x\", \"ret_y\", \"simp_ret\"]].T)\n",
    "corr = np.corrcoef(data[[\"ret_x\", \"ret_y\", \"simp_ret\"]].T)\n",
    "corr"
   ]
  },
  {
   "cell_type": "code",
   "execution_count": 11,
   "metadata": {},
   "outputs": [
    {
     "data": {
      "text/plain": "array([[1.89295437e-03, 3.29487175e-05],\n       [3.29487175e-05, 6.66024877e-05]])"
     },
     "execution_count": 11,
     "metadata": {},
     "output_type": "execute_result"
    }
   ],
   "source": [
    "cov[:2,:2]"
   ]
  },
  {
   "cell_type": "code",
   "execution_count": 12,
   "metadata": {},
   "outputs": [],
   "source": [
    "# mu and sigma vectors of vw_ret and vw_bonds\n",
    "mu = np.array([np.mean(data[\"ret_x\"]), np.mean(data[\"ret_y\"])])\n",
    "sigma = cov[:2,:2]"
   ]
  },
  {
   "cell_type": "markdown",
   "metadata": {},
   "source": [
    "#### 2.2. Tangency portfolio\n",
    "$$\n",
    "\\mathrm{w}_{\\tan }=\\frac{\\Sigma^{-1}\\left(\\mu-R_{0} \\mathbf{1}\\right)}{B-A R_{0}}, \\quad \\mathrm{w}_{0, \\text { tan }}=0\n",
    "$$"
   ]
  },
  {
   "cell_type": "code",
   "execution_count": 13,
   "metadata": {},
   "outputs": [
    {
     "data": {
      "text/html": "<div>\n<style scoped>\n    .dataframe tbody tr th:only-of-type {\n        vertical-align: middle;\n    }\n\n    .dataframe tbody tr th {\n        vertical-align: top;\n    }\n\n    .dataframe thead th {\n        text-align: right;\n    }\n</style>\n<table border=\"1\" class=\"dataframe\">\n  <thead>\n    <tr style=\"text-align: right;\">\n      <th></th>\n      <th>vw_ret</th>\n      <th>vw_bonds</th>\n      <th>p_tan</th>\n    </tr>\n  </thead>\n  <tbody>\n    <tr>\n      <td>mean_ret</td>\n      <td>0.00887733</td>\n      <td>0.00471796</td>\n      <td>0.005309</td>\n    </tr>\n    <tr>\n      <td>std_ret</td>\n      <td>0.0434779</td>\n      <td>0.00815537</td>\n      <td>0.009762</td>\n    </tr>\n    <tr>\n      <td>mean_excess_ret</td>\n      <td>0.0052512</td>\n      <td>0.00109184</td>\n      <td>0.001683</td>\n    </tr>\n    <tr>\n      <td>sharpe_ratio</td>\n      <td>0.120779</td>\n      <td>0.13388</td>\n      <td>0.172410</td>\n    </tr>\n  </tbody>\n</table>\n</div>",
      "text/plain": "                     vw_ret    vw_bonds     p_tan\nmean_ret         0.00887733  0.00471796  0.005309\nstd_ret           0.0434779  0.00815537  0.009762\nmean_excess_ret   0.0052512  0.00109184  0.001683\nsharpe_ratio       0.120779     0.13388  0.172410"
     },
     "execution_count": 13,
     "metadata": {},
     "output_type": "execute_result"
    }
   ],
   "source": [
    "# numerator and denominator of tangency weights (portfolio)\n",
    "num = np.linalg.inv(sigma).dot(mu - np.mean(data[\"simp_ret\"]))\n",
    "denom = np.ones(2).T.dot(np.linalg.inv(sigma)).dot(mu) - \\\n",
    "np.ones(2).T.dot(np.linalg.inv(sigma)).dot(np.ones(2))*np.mean(data[\"simp_ret\"])\n",
    "\n",
    "w_tan = num/denom\n",
    "\n",
    "mu_tan = w_tan.T.dot(mu).reshape(1)[0]\n",
    "std_tan = np.sqrt(w_tan.T.dot(sigma).dot(w_tan)).reshape(1)[0]\n",
    "excess_tan = (w_tan.T.dot(mu) - np.mean(data[\"simp_ret\"])).reshape(1)[0]\n",
    "sharpe_tan = excess_tan / std_tan\n",
    "summ_1[\"p_tan\"] = [mu_tan, std_tan, excess_tan, sharpe_tan]\n",
    "summ_1"
   ]
  },
  {
   "cell_type": "markdown",
   "metadata": {},
   "source": [
    "#### 2.3. 60/40 portfolio"
   ]
  },
  {
   "cell_type": "code",
   "execution_count": 14,
   "metadata": {},
   "outputs": [
    {
     "data": {
      "text/html": "<div>\n<style scoped>\n    .dataframe tbody tr th:only-of-type {\n        vertical-align: middle;\n    }\n\n    .dataframe tbody tr th {\n        vertical-align: top;\n    }\n\n    .dataframe thead th {\n        text-align: right;\n    }\n</style>\n<table border=\"1\" class=\"dataframe\">\n  <thead>\n    <tr style=\"text-align: right;\">\n      <th></th>\n      <th>vw_ret</th>\n      <th>vw_bonds</th>\n      <th>p_tan</th>\n      <th>p_64</th>\n    </tr>\n  </thead>\n  <tbody>\n    <tr>\n      <td>mean_ret</td>\n      <td>0.00887733</td>\n      <td>0.00471796</td>\n      <td>0.005309</td>\n      <td>0.007214</td>\n    </tr>\n    <tr>\n      <td>std_ret</td>\n      <td>0.0434779</td>\n      <td>0.00815537</td>\n      <td>0.009762</td>\n      <td>0.026607</td>\n    </tr>\n    <tr>\n      <td>mean_excess_ret</td>\n      <td>0.0052512</td>\n      <td>0.00109184</td>\n      <td>0.001683</td>\n      <td>0.003587</td>\n    </tr>\n    <tr>\n      <td>sharpe_ratio</td>\n      <td>0.120779</td>\n      <td>0.13388</td>\n      <td>0.172410</td>\n      <td>0.134831</td>\n    </tr>\n  </tbody>\n</table>\n</div>",
      "text/plain": "                     vw_ret    vw_bonds     p_tan      p_64\nmean_ret         0.00887733  0.00471796  0.005309  0.007214\nstd_ret           0.0434779  0.00815537  0.009762  0.026607\nmean_excess_ret   0.0052512  0.00109184  0.001683  0.003587\nsharpe_ratio       0.120779     0.13388  0.172410  0.134831"
     },
     "execution_count": 14,
     "metadata": {},
     "output_type": "execute_result"
    }
   ],
   "source": [
    "w_64 = np.array([0.6, 0.4])\n",
    "mu_64 = w_64.T.dot(mu)\n",
    "std_64 = np.sqrt(w_64.T.dot(sigma).dot(w_64))\n",
    "excess_64 = mu_64 - np.mean(data[\"simp_ret\"])\n",
    "sharpe_64 = excess_64 / std_64\n",
    "\n",
    "summ_1[\"p_64\"] = [mu_64, std_64, excess_64, sharpe_64]\n",
    "summ_1"
   ]
  },
  {
   "cell_type": "markdown",
   "metadata": {},
   "source": [
    "#### 2.4. Risk-parity portfolio unlevered\n",
    "\n",
    "$$\n",
    "\\mathrm{w}_{\\mathrm{i}}=\\frac{1 / \\sigma_{\\mathrm{i}}}{\\sum\\left(\\frac{1}{\\sigma_{\\mathrm{k}}}\\right)}\n",
    "$$"
   ]
  },
  {
   "cell_type": "code",
   "execution_count": 15,
   "metadata": {},
   "outputs": [
    {
     "data": {
      "text/html": "<div>\n<style scoped>\n    .dataframe tbody tr th:only-of-type {\n        vertical-align: middle;\n    }\n\n    .dataframe tbody tr th {\n        vertical-align: top;\n    }\n\n    .dataframe thead th {\n        text-align: right;\n    }\n</style>\n<table border=\"1\" class=\"dataframe\">\n  <thead>\n    <tr style=\"text-align: right;\">\n      <th></th>\n      <th>vw_ret</th>\n      <th>vw_bonds</th>\n      <th>p_tan</th>\n      <th>p_64</th>\n      <th>p_rpu</th>\n    </tr>\n  </thead>\n  <tbody>\n    <tr>\n      <td>mean_ret</td>\n      <td>0.00887733</td>\n      <td>0.00471796</td>\n      <td>0.005309</td>\n      <td>0.007214</td>\n      <td>0.005375</td>\n    </tr>\n    <tr>\n      <td>std_ret</td>\n      <td>0.0434779</td>\n      <td>0.00815537</td>\n      <td>0.009762</td>\n      <td>0.026607</td>\n      <td>0.010159</td>\n    </tr>\n    <tr>\n      <td>mean_excess_ret</td>\n      <td>0.0052512</td>\n      <td>0.00109184</td>\n      <td>0.001683</td>\n      <td>0.003587</td>\n      <td>0.001749</td>\n    </tr>\n    <tr>\n      <td>sharpe_ratio</td>\n      <td>0.120779</td>\n      <td>0.13388</td>\n      <td>0.172410</td>\n      <td>0.134831</td>\n      <td>0.172136</td>\n    </tr>\n  </tbody>\n</table>\n</div>",
      "text/plain": "                     vw_ret    vw_bonds     p_tan      p_64     p_rpu\nmean_ret         0.00887733  0.00471796  0.005309  0.007214  0.005375\nstd_ret           0.0434779  0.00815537  0.009762  0.026607  0.010159\nmean_excess_ret   0.0052512  0.00109184  0.001683  0.003587  0.001749\nsharpe_ratio       0.120779     0.13388  0.172410  0.134831  0.172136"
     },
     "execution_count": 15,
     "metadata": {},
     "output_type": "execute_result"
    }
   ],
   "source": [
    "# Following AFP, also compute the mean, standard\n",
    "# deviation and Sharpe ratio of the RP-unlevered portfolio whose weights in stock\n",
    "# and bond are rescaled by a constant so that they sum up to 1 (so that the portfolio\n",
    "# does not hold the risk-free T-Bill). \n",
    "risks = np.array([summ_1[\"vw_ret\"][\"std_ret\"],summ_1[\"vw_bonds\"][\"std_ret\"]])\n",
    "\n",
    "w_rpu = (1/risks)/(1/risks).sum()\n",
    "mu_rpu = w_rpu.T.dot(mu).reshape(1)[0]\n",
    "std_rpu = np.sqrt(w_rpu.T.dot(sigma).dot(w_rpu)).reshape(1)[0]\n",
    "excess_rpu = mu_rpu - np.mean(data[\"simp_ret\"])\n",
    "sharpe_rpu = excess_rpu / std_rpu\n",
    "\n",
    "summ_1[\"p_rpu\"] = [mu_rpu, std_rpu, excess_rpu, sharpe_rpu]\n",
    "summ_1"
   ]
  },
  {
   "cell_type": "markdown",
   "metadata": {},
   "source": [
    "#### 2.5. Risk parity levered\n",
    "Compute the mean, standard deviation and Sharpe ratio of a risk-parity (RP)\n",
    "portfolio that holds stocks and bonds in proportion to the inverse of their (full-\n",
    "sample) volatility such that the portfolio’s (full sample) volatility is equal to the\n",
    "volatility of the 60/40 portfolio. \n",
    "\n",
    "$$\n",
    "\\mathrm{w}_{\\mathrm{i}}=\\frac{\\text { Target Volatility }}{\\sigma_{\\mathrm{i}}}\n",
    "$$"
   ]
  },
  {
   "cell_type": "code",
   "execution_count": 16,
   "metadata": {},
   "outputs": [
    {
     "data": {
      "text/html": "<div>\n<style scoped>\n    .dataframe tbody tr th:only-of-type {\n        vertical-align: middle;\n    }\n\n    .dataframe tbody tr th {\n        vertical-align: top;\n    }\n\n    .dataframe thead th {\n        text-align: right;\n    }\n</style>\n<table border=\"1\" class=\"dataframe\">\n  <thead>\n    <tr style=\"text-align: right;\">\n      <th></th>\n      <th>vw_ret</th>\n      <th>vw_bonds</th>\n      <th>p_tan</th>\n      <th>p_64</th>\n      <th>p_rpu</th>\n      <th>p_rpl</th>\n    </tr>\n  </thead>\n  <tbody>\n    <tr>\n      <td>mean_ret</td>\n      <td>0.00887733</td>\n      <td>0.00471796</td>\n      <td>0.005309</td>\n      <td>0.007214</td>\n      <td>0.005375</td>\n      <td>0.008206</td>\n    </tr>\n    <tr>\n      <td>std_ret</td>\n      <td>0.0434779</td>\n      <td>0.00815537</td>\n      <td>0.009762</td>\n      <td>0.026607</td>\n      <td>0.010159</td>\n      <td>0.026607</td>\n    </tr>\n    <tr>\n      <td>mean_excess_ret</td>\n      <td>0.0052512</td>\n      <td>0.00109184</td>\n      <td>0.001683</td>\n      <td>0.003587</td>\n      <td>0.001749</td>\n      <td>0.004580</td>\n    </tr>\n    <tr>\n      <td>sharpe_ratio</td>\n      <td>0.120779</td>\n      <td>0.13388</td>\n      <td>0.172410</td>\n      <td>0.134831</td>\n      <td>0.172136</td>\n      <td>0.172136</td>\n    </tr>\n  </tbody>\n</table>\n</div>",
      "text/plain": "                     vw_ret    vw_bonds     p_tan      p_64     p_rpu  \\\nmean_ret         0.00887733  0.00471796  0.005309  0.007214  0.005375   \nstd_ret           0.0434779  0.00815537  0.009762  0.026607  0.010159   \nmean_excess_ret   0.0052512  0.00109184  0.001683  0.003587  0.001749   \nsharpe_ratio       0.120779     0.13388  0.172410  0.134831  0.172136   \n\n                    p_rpl  \nmean_ret         0.008206  \nstd_ret          0.026607  \nmean_excess_ret  0.004580  \nsharpe_ratio     0.172136  "
     },
     "execution_count": 16,
     "metadata": {},
     "output_type": "execute_result"
    }
   ],
   "source": [
    "k = summ_1[\"p_64\"][\"std_ret\"]/summ_1[\"p_rpu\"][\"std_ret\"]\n",
    "                             \n",
    "w_rpl = k*w_rpu\n",
    "\n",
    "mu_rpl = w_rpl.T.dot(mu) + (1 - sum(w_rpl))*np.mean(data[\"simp_ret\"]) # slide 29 Lecture 2\n",
    "std_rpl = np.sqrt(w_rpl.T.dot(sigma).dot(w_rpl))\n",
    "excess_rpl = mu_rpl - np.mean(data[\"simp_ret\"]) \n",
    "sharpe_rpl = excess_rpl / std_rpl \n",
    "\n",
    "summ_1[\"p_rpl\"] = [mu_rpl, std_rpl, excess_rpl, sharpe_rpl]\n",
    "summ_1"
   ]
  },
  {
   "cell_type": "markdown",
   "metadata": {},
   "source": [
    "#### 2.6. Plot the efficient frontier"
   ]
  },
  {
   "cell_type": "code",
   "execution_count": 17,
   "metadata": {},
   "outputs": [
    {
     "data": {
      "image/png": "[encoded data removed]",
      "image/svg+xml": "<?xml version=\"1.0\" encoding=\"utf-8\" standalone=\"no\"?>\r\n<!DOCTYPE svg PUBLIC \"-//W3C//DTD SVG 1.1//EN\"\r\n  \"http://www.w3.org/Graphics/SVG/1.1/DTD/svg11.dtd\">\r\n<!-- Created with matplotlib (https://matplotlib.org/) -->\r\n<svg height=\"425.27625pt\" version=\"1.1\" viewBox=\"0 0 639.201562 425.27625\" width=\"639.201562pt\" xmlns=\"http://www.w3.org/2000/svg\" xmlns:xlink=\"http://www.w3.org/1999/xlink\">\r\n <defs>\r\n  <style type=\"text/css\">\r\n*{stroke-linecap:butt;stroke-linejoin:round;}\r\n  </style>\r\n </defs>\r\n <g id=\"figure_1\">\r\n  <g id=\"patch_1\">\r\n   <path d=\"M 0 425.27625 \r\nL 639.201562 425.27625 \r\nL 639.201562 0 \r\nL 0 0 \r\nz\r\n\" style=\"fill:none;\"/>\r\n  </g>\r\n  <g id=\"axes_1\">\r\n   <g id=\"patch_2\">\r\n    <path d=\"M 62.86875 387.72 \r\nL 620.86875 387.72 \r\nL 620.86875 7.2 \r\nL 62.86875 7.2 \r\nz\r\n\" style=\"fill:#ffffff;\"/>\r\n   </g>\r\n   <g id=\"matplotlib.axis_1\">\r\n    <g id=\"xtick_1\">\r\n     <g id=\"line2d_1\">\r\n      <defs>\r\n       <path d=\"M 0 0 \r\nL 0 3.5 \r\n\" id=\"mf04f635d4e\" style=\"stroke:#000000;stroke-width:0.8;\"/>\r\n      </defs>\r\n      <g>\r\n       <use style=\"stroke:#000000;stroke-width:0.8;\" x=\"62.86875\" xlink:href=\"#mf04f635d4e\" y=\"387.72\"/>\r\n      </g>\r\n     </g>\r\n     <g id=\"text_1\">\r\n      <!-- 0.00 -->\r\n      <defs>\r\n       <path d=\"M 31.78125 66.40625 \r\nQ 24.171875 66.40625 20.328125 58.90625 \r\nQ 16.5 51.421875 16.5 36.375 \r\nQ 16.5 21.390625 20.328125 13.890625 \r\nQ 24.171875 6.390625 31.78125 6.390625 \r\nQ 39.453125 6.390625 43.28125 13.890625 \r\nQ 47.125 21.390625 47.125 36.375 \r\nQ 47.125 51.421875 43.28125 58.90625 \r\nQ 39.453125 66.40625 31.78125 66.40625 \r\nz\r\nM 31.78125 74.21875 \r\nQ 44.046875 74.21875 50.515625 64.515625 \r\nQ 56.984375 54.828125 56.984375 36.375 \r\nQ 56.984375 17.96875 50.515625 8.265625 \r\nQ 44.046875 -1.421875 31.78125 -1.421875 \r\nQ 19.53125 -1.421875 13.0625 8.265625 \r\nQ 6.59375 17.96875 6.59375 36.375 \r\nQ 6.59375 54.828125 13.0625 64.515625 \r\nQ 19.53125 74.21875 31.78125 74.21875 \r\nz\r\n\" id=\"DejaVuSans-48\"/>\r\n       <path d=\"M 10.6875 12.40625 \r\nL 21 12.40625 \r\nL 21 0 \r\nL 10.6875 0 \r\nz\r\n\" id=\"DejaVuSans-46\"/>\r\n      </defs>\r\n      <g transform=\"translate(51.735938 402.318437)scale(0.1 -0.1)\">\r\n       <use xlink:href=\"#DejaVuSans-48\"/>\r\n       <use x=\"63.623047\" xlink:href=\"#DejaVuSans-46\"/>\r\n       <use x=\"95.410156\" xlink:href=\"#DejaVuSans-48\"/>\r\n       <use x=\"159.033203\" xlink:href=\"#DejaVuSans-48\"/>\r\n      </g>\r\n     </g>\r\n    </g>\r\n    <g id=\"xtick_2\">\r\n     <g id=\"line2d_2\">\r\n      <g>\r\n       <use style=\"stroke:#000000;stroke-width:0.8;\" x=\"174.46875\" xlink:href=\"#mf04f635d4e\" y=\"387.72\"/>\r\n      </g>\r\n     </g>\r\n     <g id=\"text_2\">\r\n      <!-- 0.02 -->\r\n      <defs>\r\n       <path d=\"M 19.1875 8.296875 \r\nL 53.609375 8.296875 \r\nL 53.609375 0 \r\nL 7.328125 0 \r\nL 7.328125 8.296875 \r\nQ 12.9375 14.109375 22.625 23.890625 \r\nQ 32.328125 33.6875 34.8125 36.53125 \r\nQ 39.546875 41.84375 41.421875 45.53125 \r\nQ 43.3125 49.21875 43.3125 52.78125 \r\nQ 43.3125 58.59375 39.234375 62.25 \r\nQ 35.15625 65.921875 28.609375 65.921875 \r\nQ 23.96875 65.921875 18.8125 64.3125 \r\nQ 13.671875 62.703125 7.8125 59.421875 \r\nL 7.8125 69.390625 \r\nQ 13.765625 71.78125 18.9375 73 \r\nQ 24.125 74.21875 28.421875 74.21875 \r\nQ 39.75 74.21875 46.484375 68.546875 \r\nQ 53.21875 62.890625 53.21875 53.421875 \r\nQ 53.21875 48.921875 51.53125 44.890625 \r\nQ 49.859375 40.875 45.40625 35.40625 \r\nQ 44.1875 33.984375 37.640625 27.21875 \r\nQ 31.109375 20.453125 19.1875 8.296875 \r\nz\r\n\" id=\"DejaVuSans-50\"/>\r\n      </defs>\r\n      <g transform=\"translate(163.335938 402.318437)scale(0.1 -0.1)\">\r\n       <use xlink:href=\"#DejaVuSans-48\"/>\r\n       <use x=\"63.623047\" xlink:href=\"#DejaVuSans-46\"/>\r\n       <use x=\"95.410156\" xlink:href=\"#DejaVuSans-48\"/>\r\n       <use x=\"159.033203\" xlink:href=\"#DejaVuSans-50\"/>\r\n      </g>\r\n     </g>\r\n    </g>\r\n    <g id=\"xtick_3\">\r\n     <g id=\"line2d_3\">\r\n      <g>\r\n       <use style=\"stroke:#000000;stroke-width:0.8;\" x=\"286.06875\" xlink:href=\"#mf04f635d4e\" y=\"387.72\"/>\r\n      </g>\r\n     </g>\r\n     <g id=\"text_3\">\r\n      <!-- 0.04 -->\r\n      <defs>\r\n       <path d=\"M 37.796875 64.3125 \r\nL 12.890625 25.390625 \r\nL 37.796875 25.390625 \r\nz\r\nM 35.203125 72.90625 \r\nL 47.609375 72.90625 \r\nL 47.609375 25.390625 \r\nL 58.015625 25.390625 \r\nL 58.015625 17.1875 \r\nL 47.609375 17.1875 \r\nL 47.609375 0 \r\nL 37.796875 0 \r\nL 37.796875 17.1875 \r\nL 4.890625 17.1875 \r\nL 4.890625 26.703125 \r\nz\r\n\" id=\"DejaVuSans-52\"/>\r\n      </defs>\r\n      <g transform=\"translate(274.935938 402.318437)scale(0.1 -0.1)\">\r\n       <use xlink:href=\"#DejaVuSans-48\"/>\r\n       <use x=\"63.623047\" xlink:href=\"#DejaVuSans-46\"/>\r\n       <use x=\"95.410156\" xlink:href=\"#DejaVuSans-48\"/>\r\n       <use x=\"159.033203\" xlink:href=\"#DejaVuSans-52\"/>\r\n      </g>\r\n     </g>\r\n    </g>\r\n    <g id=\"xtick_4\">\r\n     <g id=\"line2d_4\">\r\n      <g>\r\n       <use style=\"stroke:#000000;stroke-width:0.8;\" x=\"397.66875\" xlink:href=\"#mf04f635d4e\" y=\"387.72\"/>\r\n      </g>\r\n     </g>\r\n     <g id=\"text_4\">\r\n      <!-- 0.06 -->\r\n      <defs>\r\n       <path d=\"M 33.015625 40.375 \r\nQ 26.375 40.375 22.484375 35.828125 \r\nQ 18.609375 31.296875 18.609375 23.390625 \r\nQ 18.609375 15.53125 22.484375 10.953125 \r\nQ 26.375 6.390625 33.015625 6.390625 \r\nQ 39.65625 6.390625 43.53125 10.953125 \r\nQ 47.40625 15.53125 47.40625 23.390625 \r\nQ 47.40625 31.296875 43.53125 35.828125 \r\nQ 39.65625 40.375 33.015625 40.375 \r\nz\r\nM 52.59375 71.296875 \r\nL 52.59375 62.3125 \r\nQ 48.875 64.0625 45.09375 64.984375 \r\nQ 41.3125 65.921875 37.59375 65.921875 \r\nQ 27.828125 65.921875 22.671875 59.328125 \r\nQ 17.53125 52.734375 16.796875 39.40625 \r\nQ 19.671875 43.65625 24.015625 45.921875 \r\nQ 28.375 48.1875 33.59375 48.1875 \r\nQ 44.578125 48.1875 50.953125 41.515625 \r\nQ 57.328125 34.859375 57.328125 23.390625 \r\nQ 57.328125 12.15625 50.6875 5.359375 \r\nQ 44.046875 -1.421875 33.015625 -1.421875 \r\nQ 20.359375 -1.421875 13.671875 8.265625 \r\nQ 6.984375 17.96875 6.984375 36.375 \r\nQ 6.984375 53.65625 15.1875 63.9375 \r\nQ 23.390625 74.21875 37.203125 74.21875 \r\nQ 40.921875 74.21875 44.703125 73.484375 \r\nQ 48.484375 72.75 52.59375 71.296875 \r\nz\r\n\" id=\"DejaVuSans-54\"/>\r\n      </defs>\r\n      <g transform=\"translate(386.535938 402.318437)scale(0.1 -0.1)\">\r\n       <use xlink:href=\"#DejaVuSans-48\"/>\r\n       <use x=\"63.623047\" xlink:href=\"#DejaVuSans-46\"/>\r\n       <use x=\"95.410156\" xlink:href=\"#DejaVuSans-48\"/>\r\n       <use x=\"159.033203\" xlink:href=\"#DejaVuSans-54\"/>\r\n      </g>\r\n     </g>\r\n    </g>\r\n    <g id=\"xtick_5\">\r\n     <g id=\"line2d_5\">\r\n      <g>\r\n       <use style=\"stroke:#000000;stroke-width:0.8;\" x=\"509.26875\" xlink:href=\"#mf04f635d4e\" y=\"387.72\"/>\r\n      </g>\r\n     </g>\r\n     <g id=\"text_5\">\r\n      <!-- 0.08 -->\r\n      <defs>\r\n       <path d=\"M 31.78125 34.625 \r\nQ 24.75 34.625 20.71875 30.859375 \r\nQ 16.703125 27.09375 16.703125 20.515625 \r\nQ 16.703125 13.921875 20.71875 10.15625 \r\nQ 24.75 6.390625 31.78125 6.390625 \r\nQ 38.8125 6.390625 42.859375 10.171875 \r\nQ 46.921875 13.96875 46.921875 20.515625 \r\nQ 46.921875 27.09375 42.890625 30.859375 \r\nQ 38.875 34.625 31.78125 34.625 \r\nz\r\nM 21.921875 38.8125 \r\nQ 15.578125 40.375 12.03125 44.71875 \r\nQ 8.5 49.078125 8.5 55.328125 \r\nQ 8.5 64.0625 14.71875 69.140625 \r\nQ 20.953125 74.21875 31.78125 74.21875 \r\nQ 42.671875 74.21875 48.875 69.140625 \r\nQ 55.078125 64.0625 55.078125 55.328125 \r\nQ 55.078125 49.078125 51.53125 44.71875 \r\nQ 48 40.375 41.703125 38.8125 \r\nQ 48.828125 37.15625 52.796875 32.3125 \r\nQ 56.78125 27.484375 56.78125 20.515625 \r\nQ 56.78125 9.90625 50.3125 4.234375 \r\nQ 43.84375 -1.421875 31.78125 -1.421875 \r\nQ 19.734375 -1.421875 13.25 4.234375 \r\nQ 6.78125 9.90625 6.78125 20.515625 \r\nQ 6.78125 27.484375 10.78125 32.3125 \r\nQ 14.796875 37.15625 21.921875 38.8125 \r\nz\r\nM 18.3125 54.390625 \r\nQ 18.3125 48.734375 21.84375 45.5625 \r\nQ 25.390625 42.390625 31.78125 42.390625 \r\nQ 38.140625 42.390625 41.71875 45.5625 \r\nQ 45.3125 48.734375 45.3125 54.390625 \r\nQ 45.3125 60.0625 41.71875 63.234375 \r\nQ 38.140625 66.40625 31.78125 66.40625 \r\nQ 25.390625 66.40625 21.84375 63.234375 \r\nQ 18.3125 60.0625 18.3125 54.390625 \r\nz\r\n\" id=\"DejaVuSans-56\"/>\r\n      </defs>\r\n      <g transform=\"translate(498.135938 402.318437)scale(0.1 -0.1)\">\r\n       <use xlink:href=\"#DejaVuSans-48\"/>\r\n       <use x=\"63.623047\" xlink:href=\"#DejaVuSans-46\"/>\r\n       <use x=\"95.410156\" xlink:href=\"#DejaVuSans-48\"/>\r\n       <use x=\"159.033203\" xlink:href=\"#DejaVuSans-56\"/>\r\n      </g>\r\n     </g>\r\n    </g>\r\n    <g id=\"xtick_6\">\r\n     <g id=\"line2d_6\">\r\n      <g>\r\n       <use style=\"stroke:#000000;stroke-width:0.8;\" x=\"620.86875\" xlink:href=\"#mf04f635d4e\" y=\"387.72\"/>\r\n      </g>\r\n     </g>\r\n     <g id=\"text_6\">\r\n      <!-- 0.10 -->\r\n      <defs>\r\n       <path d=\"M 12.40625 8.296875 \r\nL 28.515625 8.296875 \r\nL 28.515625 63.921875 \r\nL 10.984375 60.40625 \r\nL 10.984375 69.390625 \r\nL 28.421875 72.90625 \r\nL 38.28125 72.90625 \r\nL 38.28125 8.296875 \r\nL 54.390625 8.296875 \r\nL 54.390625 0 \r\nL 12.40625 0 \r\nz\r\n\" id=\"DejaVuSans-49\"/>\r\n      </defs>\r\n      <g transform=\"translate(609.735937 402.318437)scale(0.1 -0.1)\">\r\n       <use xlink:href=\"#DejaVuSans-48\"/>\r\n       <use x=\"63.623047\" xlink:href=\"#DejaVuSans-46\"/>\r\n       <use x=\"95.410156\" xlink:href=\"#DejaVuSans-49\"/>\r\n       <use x=\"159.033203\" xlink:href=\"#DejaVuSans-48\"/>\r\n      </g>\r\n     </g>\r\n    </g>\r\n    <g id=\"text_7\">\r\n     <!-- Standard Deviation -->\r\n     <defs>\r\n      <path d=\"M 53.515625 70.515625 \r\nL 53.515625 60.890625 \r\nQ 47.90625 63.578125 42.921875 64.890625 \r\nQ 37.9375 66.21875 33.296875 66.21875 \r\nQ 25.25 66.21875 20.875 63.09375 \r\nQ 16.5 59.96875 16.5 54.203125 \r\nQ 16.5 49.359375 19.40625 46.890625 \r\nQ 22.3125 44.4375 30.421875 42.921875 \r\nL 36.375 41.703125 \r\nQ 47.40625 39.59375 52.65625 34.296875 \r\nQ 57.90625 29 57.90625 20.125 \r\nQ 57.90625 9.515625 50.796875 4.046875 \r\nQ 43.703125 -1.421875 29.984375 -1.421875 \r\nQ 24.8125 -1.421875 18.96875 -0.25 \r\nQ 13.140625 0.921875 6.890625 3.21875 \r\nL 6.890625 13.375 \r\nQ 12.890625 10.015625 18.65625 8.296875 \r\nQ 24.421875 6.59375 29.984375 6.59375 \r\nQ 38.421875 6.59375 43.015625 9.90625 \r\nQ 47.609375 13.234375 47.609375 19.390625 \r\nQ 47.609375 24.75 44.3125 27.78125 \r\nQ 41.015625 30.8125 33.5 32.328125 \r\nL 27.484375 33.5 \r\nQ 16.453125 35.6875 11.515625 40.375 \r\nQ 6.59375 45.0625 6.59375 53.421875 \r\nQ 6.59375 63.09375 13.40625 68.65625 \r\nQ 20.21875 74.21875 32.171875 74.21875 \r\nQ 37.3125 74.21875 42.625 73.28125 \r\nQ 47.953125 72.359375 53.515625 70.515625 \r\nz\r\n\" id=\"DejaVuSans-83\"/>\r\n      <path d=\"M 18.3125 70.21875 \r\nL 18.3125 54.6875 \r\nL 36.8125 54.6875 \r\nL 36.8125 47.703125 \r\nL 18.3125 47.703125 \r\nL 18.3125 18.015625 \r\nQ 18.3125 11.328125 20.140625 9.421875 \r\nQ 21.96875 7.515625 27.59375 7.515625 \r\nL 36.8125 7.515625 \r\nL 36.8125 0 \r\nL 27.59375 0 \r\nQ 17.1875 0 13.234375 3.875 \r\nQ 9.28125 7.765625 9.28125 18.015625 \r\nL 9.28125 47.703125 \r\nL 2.6875 47.703125 \r\nL 2.6875 54.6875 \r\nL 9.28125 54.6875 \r\nL 9.28125 70.21875 \r\nz\r\n\" id=\"DejaVuSans-116\"/>\r\n      <path d=\"M 34.28125 27.484375 \r\nQ 23.390625 27.484375 19.1875 25 \r\nQ 14.984375 22.515625 14.984375 16.5 \r\nQ 14.984375 11.71875 18.140625 8.90625 \r\nQ 21.296875 6.109375 26.703125 6.109375 \r\nQ 34.1875 6.109375 38.703125 11.40625 \r\nQ 43.21875 16.703125 43.21875 25.484375 \r\nL 43.21875 27.484375 \r\nz\r\nM 52.203125 31.203125 \r\nL 52.203125 0 \r\nL 43.21875 0 \r\nL 43.21875 8.296875 \r\nQ 40.140625 3.328125 35.546875 0.953125 \r\nQ 30.953125 -1.421875 24.3125 -1.421875 \r\nQ 15.921875 -1.421875 10.953125 3.296875 \r\nQ 6 8.015625 6 15.921875 \r\nQ 6 25.140625 12.171875 29.828125 \r\nQ 18.359375 34.515625 30.609375 34.515625 \r\nL 43.21875 34.515625 \r\nL 43.21875 35.40625 \r\nQ 43.21875 41.609375 39.140625 45 \r\nQ 35.0625 48.390625 27.6875 48.390625 \r\nQ 23 48.390625 18.546875 47.265625 \r\nQ 14.109375 46.140625 10.015625 43.890625 \r\nL 10.015625 52.203125 \r\nQ 14.9375 54.109375 19.578125 55.046875 \r\nQ 24.21875 56 28.609375 56 \r\nQ 40.484375 56 46.34375 49.84375 \r\nQ 52.203125 43.703125 52.203125 31.203125 \r\nz\r\n\" id=\"DejaVuSans-97\"/>\r\n      <path d=\"M 54.890625 33.015625 \r\nL 54.890625 0 \r\nL 45.90625 0 \r\nL 45.90625 32.71875 \r\nQ 45.90625 40.484375 42.875 44.328125 \r\nQ 39.84375 48.1875 33.796875 48.1875 \r\nQ 26.515625 48.1875 22.3125 43.546875 \r\nQ 18.109375 38.921875 18.109375 30.90625 \r\nL 18.109375 0 \r\nL 9.078125 0 \r\nL 9.078125 54.6875 \r\nL 18.109375 54.6875 \r\nL 18.109375 46.1875 \r\nQ 21.34375 51.125 25.703125 53.5625 \r\nQ 30.078125 56 35.796875 56 \r\nQ 45.21875 56 50.046875 50.171875 \r\nQ 54.890625 44.34375 54.890625 33.015625 \r\nz\r\n\" id=\"DejaVuSans-110\"/>\r\n      <path d=\"M 45.40625 46.390625 \r\nL 45.40625 75.984375 \r\nL 54.390625 75.984375 \r\nL 54.390625 0 \r\nL 45.40625 0 \r\nL 45.40625 8.203125 \r\nQ 42.578125 3.328125 38.25 0.953125 \r\nQ 33.9375 -1.421875 27.875 -1.421875 \r\nQ 17.96875 -1.421875 11.734375 6.484375 \r\nQ 5.515625 14.40625 5.515625 27.296875 \r\nQ 5.515625 40.1875 11.734375 48.09375 \r\nQ 17.96875 56 27.875 56 \r\nQ 33.9375 56 38.25 53.625 \r\nQ 42.578125 51.265625 45.40625 46.390625 \r\nz\r\nM 14.796875 27.296875 \r\nQ 14.796875 17.390625 18.875 11.75 \r\nQ 22.953125 6.109375 30.078125 6.109375 \r\nQ 37.203125 6.109375 41.296875 11.75 \r\nQ 45.40625 17.390625 45.40625 27.296875 \r\nQ 45.40625 37.203125 41.296875 42.84375 \r\nQ 37.203125 48.484375 30.078125 48.484375 \r\nQ 22.953125 48.484375 18.875 42.84375 \r\nQ 14.796875 37.203125 14.796875 27.296875 \r\nz\r\n\" id=\"DejaVuSans-100\"/>\r\n      <path d=\"M 41.109375 46.296875 \r\nQ 39.59375 47.171875 37.8125 47.578125 \r\nQ 36.03125 48 33.890625 48 \r\nQ 26.265625 48 22.1875 43.046875 \r\nQ 18.109375 38.09375 18.109375 28.8125 \r\nL 18.109375 0 \r\nL 9.078125 0 \r\nL 9.078125 54.6875 \r\nL 18.109375 54.6875 \r\nL 18.109375 46.1875 \r\nQ 20.953125 51.171875 25.484375 53.578125 \r\nQ 30.03125 56 36.53125 56 \r\nQ 37.453125 56 38.578125 55.875 \r\nQ 39.703125 55.765625 41.0625 55.515625 \r\nz\r\n\" id=\"DejaVuSans-114\"/>\r\n      <path id=\"DejaVuSans-32\"/>\r\n      <path d=\"M 19.671875 64.796875 \r\nL 19.671875 8.109375 \r\nL 31.59375 8.109375 \r\nQ 46.6875 8.109375 53.6875 14.9375 \r\nQ 60.6875 21.78125 60.6875 36.53125 \r\nQ 60.6875 51.171875 53.6875 57.984375 \r\nQ 46.6875 64.796875 31.59375 64.796875 \r\nz\r\nM 9.8125 72.90625 \r\nL 30.078125 72.90625 \r\nQ 51.265625 72.90625 61.171875 64.09375 \r\nQ 71.09375 55.28125 71.09375 36.53125 \r\nQ 71.09375 17.671875 61.125 8.828125 \r\nQ 51.171875 0 30.078125 0 \r\nL 9.8125 0 \r\nz\r\n\" id=\"DejaVuSans-68\"/>\r\n      <path d=\"M 56.203125 29.59375 \r\nL 56.203125 25.203125 \r\nL 14.890625 25.203125 \r\nQ 15.484375 15.921875 20.484375 11.0625 \r\nQ 25.484375 6.203125 34.421875 6.203125 \r\nQ 39.59375 6.203125 44.453125 7.46875 \r\nQ 49.3125 8.734375 54.109375 11.28125 \r\nL 54.109375 2.78125 \r\nQ 49.265625 0.734375 44.1875 -0.34375 \r\nQ 39.109375 -1.421875 33.890625 -1.421875 \r\nQ 20.796875 -1.421875 13.15625 6.1875 \r\nQ 5.515625 13.8125 5.515625 26.8125 \r\nQ 5.515625 40.234375 12.765625 48.109375 \r\nQ 20.015625 56 32.328125 56 \r\nQ 43.359375 56 49.78125 48.890625 \r\nQ 56.203125 41.796875 56.203125 29.59375 \r\nz\r\nM 47.21875 32.234375 \r\nQ 47.125 39.59375 43.09375 43.984375 \r\nQ 39.0625 48.390625 32.421875 48.390625 \r\nQ 24.90625 48.390625 20.390625 44.140625 \r\nQ 15.875 39.890625 15.1875 32.171875 \r\nz\r\n\" id=\"DejaVuSans-101\"/>\r\n      <path d=\"M 2.984375 54.6875 \r\nL 12.5 54.6875 \r\nL 29.59375 8.796875 \r\nL 46.6875 54.6875 \r\nL 56.203125 54.6875 \r\nL 35.6875 0 \r\nL 23.484375 0 \r\nz\r\n\" id=\"DejaVuSans-118\"/>\r\n      <path d=\"M 9.421875 54.6875 \r\nL 18.40625 54.6875 \r\nL 18.40625 0 \r\nL 9.421875 0 \r\nz\r\nM 9.421875 75.984375 \r\nL 18.40625 75.984375 \r\nL 18.40625 64.59375 \r\nL 9.421875 64.59375 \r\nz\r\n\" id=\"DejaVuSans-105\"/>\r\n      <path d=\"M 30.609375 48.390625 \r\nQ 23.390625 48.390625 19.1875 42.75 \r\nQ 14.984375 37.109375 14.984375 27.296875 \r\nQ 14.984375 17.484375 19.15625 11.84375 \r\nQ 23.34375 6.203125 30.609375 6.203125 \r\nQ 37.796875 6.203125 41.984375 11.859375 \r\nQ 46.1875 17.53125 46.1875 27.296875 \r\nQ 46.1875 37.015625 41.984375 42.703125 \r\nQ 37.796875 48.390625 30.609375 48.390625 \r\nz\r\nM 30.609375 56 \r\nQ 42.328125 56 49.015625 48.375 \r\nQ 55.71875 40.765625 55.71875 27.296875 \r\nQ 55.71875 13.875 49.015625 6.21875 \r\nQ 42.328125 -1.421875 30.609375 -1.421875 \r\nQ 18.84375 -1.421875 12.171875 6.21875 \r\nQ 5.515625 13.875 5.515625 27.296875 \r\nQ 5.515625 40.765625 12.171875 48.375 \r\nQ 18.84375 56 30.609375 56 \r\nz\r\n\" id=\"DejaVuSans-111\"/>\r\n     </defs>\r\n     <g transform=\"translate(293.528906 415.996562)scale(0.1 -0.1)\">\r\n      <use xlink:href=\"#DejaVuSans-83\"/>\r\n      <use x=\"63.476562\" xlink:href=\"#DejaVuSans-116\"/>\r\n      <use x=\"102.685547\" xlink:href=\"#DejaVuSans-97\"/>\r\n      <use x=\"163.964844\" xlink:href=\"#DejaVuSans-110\"/>\r\n      <use x=\"227.34375\" xlink:href=\"#DejaVuSans-100\"/>\r\n      <use x=\"290.820312\" xlink:href=\"#DejaVuSans-97\"/>\r\n      <use x=\"352.099609\" xlink:href=\"#DejaVuSans-114\"/>\r\n      <use x=\"393.197266\" xlink:href=\"#DejaVuSans-100\"/>\r\n      <use x=\"456.673828\" xlink:href=\"#DejaVuSans-32\"/>\r\n      <use x=\"488.460938\" xlink:href=\"#DejaVuSans-68\"/>\r\n      <use x=\"565.462891\" xlink:href=\"#DejaVuSans-101\"/>\r\n      <use x=\"626.986328\" xlink:href=\"#DejaVuSans-118\"/>\r\n      <use x=\"686.166016\" xlink:href=\"#DejaVuSans-105\"/>\r\n      <use x=\"713.949219\" xlink:href=\"#DejaVuSans-97\"/>\r\n      <use x=\"775.228516\" xlink:href=\"#DejaVuSans-116\"/>\r\n      <use x=\"814.4375\" xlink:href=\"#DejaVuSans-105\"/>\r\n      <use x=\"842.220703\" xlink:href=\"#DejaVuSans-111\"/>\r\n      <use x=\"903.402344\" xlink:href=\"#DejaVuSans-110\"/>\r\n     </g>\r\n    </g>\r\n   </g>\r\n   <g id=\"matplotlib.axis_2\">\r\n    <g id=\"ytick_1\">\r\n     <g id=\"line2d_7\">\r\n      <defs>\r\n       <path d=\"M 0 0 \r\nL -3.5 0 \r\n\" id=\"m4a2101b576\" style=\"stroke:#000000;stroke-width:0.8;\"/>\r\n      </defs>\r\n      <g>\r\n       <use style=\"stroke:#000000;stroke-width:0.8;\" x=\"62.86875\" xlink:href=\"#m4a2101b576\" y=\"344.305596\"/>\r\n      </g>\r\n     </g>\r\n     <g id=\"text_8\">\r\n      <!-- 0.0025 -->\r\n      <defs>\r\n       <path d=\"M 10.796875 72.90625 \r\nL 49.515625 72.90625 \r\nL 49.515625 64.59375 \r\nL 19.828125 64.59375 \r\nL 19.828125 46.734375 \r\nQ 21.96875 47.46875 24.109375 47.828125 \r\nQ 26.265625 48.1875 28.421875 48.1875 \r\nQ 40.625 48.1875 47.75 41.5 \r\nQ 54.890625 34.8125 54.890625 23.390625 \r\nQ 54.890625 11.625 47.5625 5.09375 \r\nQ 40.234375 -1.421875 26.90625 -1.421875 \r\nQ 22.3125 -1.421875 17.546875 -0.640625 \r\nQ 12.796875 0.140625 7.71875 1.703125 \r\nL 7.71875 11.625 \r\nQ 12.109375 9.234375 16.796875 8.0625 \r\nQ 21.484375 6.890625 26.703125 6.890625 \r\nQ 35.15625 6.890625 40.078125 11.328125 \r\nQ 45.015625 15.765625 45.015625 23.390625 \r\nQ 45.015625 31 40.078125 35.4375 \r\nQ 35.15625 39.890625 26.703125 39.890625 \r\nQ 22.75 39.890625 18.8125 39.015625 \r\nQ 14.890625 38.140625 10.796875 36.28125 \r\nz\r\n\" id=\"DejaVuSans-53\"/>\r\n      </defs>\r\n      <g transform=\"translate(20.878125 348.104815)scale(0.1 -0.1)\">\r\n       <use xlink:href=\"#DejaVuSans-48\"/>\r\n       <use x=\"63.623047\" xlink:href=\"#DejaVuSans-46\"/>\r\n       <use x=\"95.410156\" xlink:href=\"#DejaVuSans-48\"/>\r\n       <use x=\"159.033203\" xlink:href=\"#DejaVuSans-48\"/>\r\n       <use x=\"222.65625\" xlink:href=\"#DejaVuSans-50\"/>\r\n       <use x=\"286.279297\" xlink:href=\"#DejaVuSans-53\"/>\r\n      </g>\r\n     </g>\r\n    </g>\r\n    <g id=\"ytick_2\">\r\n     <g id=\"line2d_8\">\r\n      <g>\r\n       <use style=\"stroke:#000000;stroke-width:0.8;\" x=\"62.86875\" xlink:href=\"#m4a2101b576\" y=\"300.775528\"/>\r\n      </g>\r\n     </g>\r\n     <g id=\"text_9\">\r\n      <!-- 0.0050 -->\r\n      <g transform=\"translate(20.878125 304.574747)scale(0.1 -0.1)\">\r\n       <use xlink:href=\"#DejaVuSans-48\"/>\r\n       <use x=\"63.623047\" xlink:href=\"#DejaVuSans-46\"/>\r\n       <use x=\"95.410156\" xlink:href=\"#DejaVuSans-48\"/>\r\n       <use x=\"159.033203\" xlink:href=\"#DejaVuSans-48\"/>\r\n       <use x=\"222.65625\" xlink:href=\"#DejaVuSans-53\"/>\r\n       <use x=\"286.279297\" xlink:href=\"#DejaVuSans-48\"/>\r\n      </g>\r\n     </g>\r\n    </g>\r\n    <g id=\"ytick_3\">\r\n     <g id=\"line2d_9\">\r\n      <g>\r\n       <use style=\"stroke:#000000;stroke-width:0.8;\" x=\"62.86875\" xlink:href=\"#m4a2101b576\" y=\"257.245461\"/>\r\n      </g>\r\n     </g>\r\n     <g id=\"text_10\">\r\n      <!-- 0.0075 -->\r\n      <defs>\r\n       <path d=\"M 8.203125 72.90625 \r\nL 55.078125 72.90625 \r\nL 55.078125 68.703125 \r\nL 28.609375 0 \r\nL 18.3125 0 \r\nL 43.21875 64.59375 \r\nL 8.203125 64.59375 \r\nz\r\n\" id=\"DejaVuSans-55\"/>\r\n      </defs>\r\n      <g transform=\"translate(20.878125 261.044679)scale(0.1 -0.1)\">\r\n       <use xlink:href=\"#DejaVuSans-48\"/>\r\n       <use x=\"63.623047\" xlink:href=\"#DejaVuSans-46\"/>\r\n       <use x=\"95.410156\" xlink:href=\"#DejaVuSans-48\"/>\r\n       <use x=\"159.033203\" xlink:href=\"#DejaVuSans-48\"/>\r\n       <use x=\"222.65625\" xlink:href=\"#DejaVuSans-55\"/>\r\n       <use x=\"286.279297\" xlink:href=\"#DejaVuSans-53\"/>\r\n      </g>\r\n     </g>\r\n    </g>\r\n    <g id=\"ytick_4\">\r\n     <g id=\"line2d_10\">\r\n      <g>\r\n       <use style=\"stroke:#000000;stroke-width:0.8;\" x=\"62.86875\" xlink:href=\"#m4a2101b576\" y=\"213.715393\"/>\r\n      </g>\r\n     </g>\r\n     <g id=\"text_11\">\r\n      <!-- 0.0100 -->\r\n      <g transform=\"translate(20.878125 217.514612)scale(0.1 -0.1)\">\r\n       <use xlink:href=\"#DejaVuSans-48\"/>\r\n       <use x=\"63.623047\" xlink:href=\"#DejaVuSans-46\"/>\r\n       <use x=\"95.410156\" xlink:href=\"#DejaVuSans-48\"/>\r\n       <use x=\"159.033203\" xlink:href=\"#DejaVuSans-49\"/>\r\n       <use x=\"222.65625\" xlink:href=\"#DejaVuSans-48\"/>\r\n       <use x=\"286.279297\" xlink:href=\"#DejaVuSans-48\"/>\r\n      </g>\r\n     </g>\r\n    </g>\r\n    <g id=\"ytick_5\">\r\n     <g id=\"line2d_11\">\r\n      <g>\r\n       <use style=\"stroke:#000000;stroke-width:0.8;\" x=\"62.86875\" xlink:href=\"#m4a2101b576\" y=\"170.185325\"/>\r\n      </g>\r\n     </g>\r\n     <g id=\"text_12\">\r\n      <!-- 0.0125 -->\r\n      <g transform=\"translate(20.878125 173.984544)scale(0.1 -0.1)\">\r\n       <use xlink:href=\"#DejaVuSans-48\"/>\r\n       <use x=\"63.623047\" xlink:href=\"#DejaVuSans-46\"/>\r\n       <use x=\"95.410156\" xlink:href=\"#DejaVuSans-48\"/>\r\n       <use x=\"159.033203\" xlink:href=\"#DejaVuSans-49\"/>\r\n       <use x=\"222.65625\" xlink:href=\"#DejaVuSans-50\"/>\r\n       <use x=\"286.279297\" xlink:href=\"#DejaVuSans-53\"/>\r\n      </g>\r\n     </g>\r\n    </g>\r\n    <g id=\"ytick_6\">\r\n     <g id=\"line2d_12\">\r\n      <g>\r\n       <use style=\"stroke:#000000;stroke-width:0.8;\" x=\"62.86875\" xlink:href=\"#m4a2101b576\" y=\"126.655258\"/>\r\n      </g>\r\n     </g>\r\n     <g id=\"text_13\">\r\n      <!-- 0.0150 -->\r\n      <g transform=\"translate(20.878125 130.454477)scale(0.1 -0.1)\">\r\n       <use xlink:href=\"#DejaVuSans-48\"/>\r\n       <use x=\"63.623047\" xlink:href=\"#DejaVuSans-46\"/>\r\n       <use x=\"95.410156\" xlink:href=\"#DejaVuSans-48\"/>\r\n       <use x=\"159.033203\" xlink:href=\"#DejaVuSans-49\"/>\r\n       <use x=\"222.65625\" xlink:href=\"#DejaVuSans-53\"/>\r\n       <use x=\"286.279297\" xlink:href=\"#DejaVuSans-48\"/>\r\n      </g>\r\n     </g>\r\n    </g>\r\n    <g id=\"ytick_7\">\r\n     <g id=\"line2d_13\">\r\n      <g>\r\n       <use style=\"stroke:#000000;stroke-width:0.8;\" x=\"62.86875\" xlink:href=\"#m4a2101b576\" y=\"83.12519\"/>\r\n      </g>\r\n     </g>\r\n     <g id=\"text_14\">\r\n      <!-- 0.0175 -->\r\n      <g transform=\"translate(20.878125 86.924409)scale(0.1 -0.1)\">\r\n       <use xlink:href=\"#DejaVuSans-48\"/>\r\n       <use x=\"63.623047\" xlink:href=\"#DejaVuSans-46\"/>\r\n       <use x=\"95.410156\" xlink:href=\"#DejaVuSans-48\"/>\r\n       <use x=\"159.033203\" xlink:href=\"#DejaVuSans-49\"/>\r\n       <use x=\"222.65625\" xlink:href=\"#DejaVuSans-55\"/>\r\n       <use x=\"286.279297\" xlink:href=\"#DejaVuSans-53\"/>\r\n      </g>\r\n     </g>\r\n    </g>\r\n    <g id=\"ytick_8\">\r\n     <g id=\"line2d_14\">\r\n      <g>\r\n       <use style=\"stroke:#000000;stroke-width:0.8;\" x=\"62.86875\" xlink:href=\"#m4a2101b576\" y=\"39.595123\"/>\r\n      </g>\r\n     </g>\r\n     <g id=\"text_15\">\r\n      <!-- 0.0200 -->\r\n      <g transform=\"translate(20.878125 43.394341)scale(0.1 -0.1)\">\r\n       <use xlink:href=\"#DejaVuSans-48\"/>\r\n       <use x=\"63.623047\" xlink:href=\"#DejaVuSans-46\"/>\r\n       <use x=\"95.410156\" xlink:href=\"#DejaVuSans-48\"/>\r\n       <use x=\"159.033203\" xlink:href=\"#DejaVuSans-50\"/>\r\n       <use x=\"222.65625\" xlink:href=\"#DejaVuSans-48\"/>\r\n       <use x=\"286.279297\" xlink:href=\"#DejaVuSans-48\"/>\r\n      </g>\r\n     </g>\r\n    </g>\r\n    <g id=\"text_16\">\r\n     <!-- Expected Return -->\r\n     <defs>\r\n      <path d=\"M 9.8125 72.90625 \r\nL 55.90625 72.90625 \r\nL 55.90625 64.59375 \r\nL 19.671875 64.59375 \r\nL 19.671875 43.015625 \r\nL 54.390625 43.015625 \r\nL 54.390625 34.71875 \r\nL 19.671875 34.71875 \r\nL 19.671875 8.296875 \r\nL 56.78125 8.296875 \r\nL 56.78125 0 \r\nL 9.8125 0 \r\nz\r\n\" id=\"DejaVuSans-69\"/>\r\n      <path d=\"M 54.890625 54.6875 \r\nL 35.109375 28.078125 \r\nL 55.90625 0 \r\nL 45.3125 0 \r\nL 29.390625 21.484375 \r\nL 13.484375 0 \r\nL 2.875 0 \r\nL 24.125 28.609375 \r\nL 4.6875 54.6875 \r\nL 15.28125 54.6875 \r\nL 29.78125 35.203125 \r\nL 44.28125 54.6875 \r\nz\r\n\" id=\"DejaVuSans-120\"/>\r\n      <path d=\"M 18.109375 8.203125 \r\nL 18.109375 -20.796875 \r\nL 9.078125 -20.796875 \r\nL 9.078125 54.6875 \r\nL 18.109375 54.6875 \r\nL 18.109375 46.390625 \r\nQ 20.953125 51.265625 25.265625 53.625 \r\nQ 29.59375 56 35.59375 56 \r\nQ 45.5625 56 51.78125 48.09375 \r\nQ 58.015625 40.1875 58.015625 27.296875 \r\nQ 58.015625 14.40625 51.78125 6.484375 \r\nQ 45.5625 -1.421875 35.59375 -1.421875 \r\nQ 29.59375 -1.421875 25.265625 0.953125 \r\nQ 20.953125 3.328125 18.109375 8.203125 \r\nz\r\nM 48.6875 27.296875 \r\nQ 48.6875 37.203125 44.609375 42.84375 \r\nQ 40.53125 48.484375 33.40625 48.484375 \r\nQ 26.265625 48.484375 22.1875 42.84375 \r\nQ 18.109375 37.203125 18.109375 27.296875 \r\nQ 18.109375 17.390625 22.1875 11.75 \r\nQ 26.265625 6.109375 33.40625 6.109375 \r\nQ 40.53125 6.109375 44.609375 11.75 \r\nQ 48.6875 17.390625 48.6875 27.296875 \r\nz\r\n\" id=\"DejaVuSans-112\"/>\r\n      <path d=\"M 48.78125 52.59375 \r\nL 48.78125 44.1875 \r\nQ 44.96875 46.296875 41.140625 47.34375 \r\nQ 37.3125 48.390625 33.40625 48.390625 \r\nQ 24.65625 48.390625 19.8125 42.84375 \r\nQ 14.984375 37.3125 14.984375 27.296875 \r\nQ 14.984375 17.28125 19.8125 11.734375 \r\nQ 24.65625 6.203125 33.40625 6.203125 \r\nQ 37.3125 6.203125 41.140625 7.25 \r\nQ 44.96875 8.296875 48.78125 10.40625 \r\nL 48.78125 2.09375 \r\nQ 45.015625 0.34375 40.984375 -0.53125 \r\nQ 36.96875 -1.421875 32.421875 -1.421875 \r\nQ 20.0625 -1.421875 12.78125 6.34375 \r\nQ 5.515625 14.109375 5.515625 27.296875 \r\nQ 5.515625 40.671875 12.859375 48.328125 \r\nQ 20.21875 56 33.015625 56 \r\nQ 37.15625 56 41.109375 55.140625 \r\nQ 45.0625 54.296875 48.78125 52.59375 \r\nz\r\n\" id=\"DejaVuSans-99\"/>\r\n      <path d=\"M 44.390625 34.1875 \r\nQ 47.5625 33.109375 50.5625 29.59375 \r\nQ 53.5625 26.078125 56.59375 19.921875 \r\nL 66.609375 0 \r\nL 56 0 \r\nL 46.6875 18.703125 \r\nQ 43.0625 26.03125 39.671875 28.421875 \r\nQ 36.28125 30.8125 30.421875 30.8125 \r\nL 19.671875 30.8125 \r\nL 19.671875 0 \r\nL 9.8125 0 \r\nL 9.8125 72.90625 \r\nL 32.078125 72.90625 \r\nQ 44.578125 72.90625 50.734375 67.671875 \r\nQ 56.890625 62.453125 56.890625 51.90625 \r\nQ 56.890625 45.015625 53.6875 40.46875 \r\nQ 50.484375 35.9375 44.390625 34.1875 \r\nz\r\nM 19.671875 64.796875 \r\nL 19.671875 38.921875 \r\nL 32.078125 38.921875 \r\nQ 39.203125 38.921875 42.84375 42.21875 \r\nQ 46.484375 45.515625 46.484375 51.90625 \r\nQ 46.484375 58.296875 42.84375 61.546875 \r\nQ 39.203125 64.796875 32.078125 64.796875 \r\nz\r\n\" id=\"DejaVuSans-82\"/>\r\n      <path d=\"M 8.5 21.578125 \r\nL 8.5 54.6875 \r\nL 17.484375 54.6875 \r\nL 17.484375 21.921875 \r\nQ 17.484375 14.15625 20.5 10.265625 \r\nQ 23.53125 6.390625 29.59375 6.390625 \r\nQ 36.859375 6.390625 41.078125 11.03125 \r\nQ 45.3125 15.671875 45.3125 23.6875 \r\nL 45.3125 54.6875 \r\nL 54.296875 54.6875 \r\nL 54.296875 0 \r\nL 45.3125 0 \r\nL 45.3125 8.40625 \r\nQ 42.046875 3.421875 37.71875 1 \r\nQ 33.40625 -1.421875 27.6875 -1.421875 \r\nQ 18.265625 -1.421875 13.375 4.4375 \r\nQ 8.5 10.296875 8.5 21.578125 \r\nz\r\nM 31.109375 56 \r\nz\r\n\" id=\"DejaVuSans-117\"/>\r\n     </defs>\r\n     <g transform=\"translate(14.798438 239.27875)rotate(-90)scale(0.1 -0.1)\">\r\n      <use xlink:href=\"#DejaVuSans-69\"/>\r\n      <use x=\"63.183594\" xlink:href=\"#DejaVuSans-120\"/>\r\n      <use x=\"122.363281\" xlink:href=\"#DejaVuSans-112\"/>\r\n      <use x=\"185.839844\" xlink:href=\"#DejaVuSans-101\"/>\r\n      <use x=\"247.363281\" xlink:href=\"#DejaVuSans-99\"/>\r\n      <use x=\"302.34375\" xlink:href=\"#DejaVuSans-116\"/>\r\n      <use x=\"341.552734\" xlink:href=\"#DejaVuSans-101\"/>\r\n      <use x=\"403.076172\" xlink:href=\"#DejaVuSans-100\"/>\r\n      <use x=\"466.552734\" xlink:href=\"#DejaVuSans-32\"/>\r\n      <use x=\"498.339844\" xlink:href=\"#DejaVuSans-82\"/>\r\n      <use x=\"567.759766\" xlink:href=\"#DejaVuSans-101\"/>\r\n      <use x=\"629.283203\" xlink:href=\"#DejaVuSans-116\"/>\r\n      <use x=\"668.492188\" xlink:href=\"#DejaVuSans-117\"/>\r\n      <use x=\"731.871094\" xlink:href=\"#DejaVuSans-114\"/>\r\n      <use x=\"772.96875\" xlink:href=\"#DejaVuSans-110\"/>\r\n     </g>\r\n    </g>\r\n   </g>\r\n   <g id=\"line2d_15\">\r\n    <path clip-path=\"url(#p34c986bd49)\" d=\"M 288.829866 370.423636 \r\nL 233.902279 353.586781 \r\nL 197.983236 342.362211 \r\nL 172.923489 334.309803 \r\nL 155.385857 328.453505 \r\nL 142.874728 324.061282 \r\nL 133.108054 320.401096 \r\nL 125.928292 317.472948 \r\nL 120.542086 315.032824 \r\nL 116.742339 313.080724 \r\nL 113.876343 311.372638 \r\nL 111.821121 309.908563 \r\nL 110.42869 308.688501 \r\nL 109.355605 307.46844 \r\nL 108.742353 306.49239 \r\nL 108.356835 305.51634 \r\nL 108.204859 304.540291 \r\nL 108.288772 303.564241 \r\nL 108.607273 302.588192 \r\nL 109.155522 301.612142 \r\nL 110.151422 300.39208 \r\nL 111.472284 299.172018 \r\nL 113.449994 297.707944 \r\nL 115.810348 296.24387 \r\nL 118.982897 294.535783 \r\nL 123.072807 292.583684 \r\nL 128.744934 290.14356 \r\nL 136.180052 287.215411 \r\nL 145.485564 283.799238 \r\nL 158.140113 279.407015 \r\nL 175.048117 273.79473 \r\nL 197.863373 266.474358 \r\nL 229.051759 256.713862 \r\nL 274.299347 242.805156 \r\nL 341.00593 222.552127 \r\nL 445.519804 191.074529 \r\nL 619.752286 138.855877 \r\nL 640.201562 132.73714 \r\nL 640.201562 132.73714 \r\n\" style=\"fill:none;stroke:#1f77b4;stroke-linecap:square;stroke-width:1.5;\"/>\r\n   </g>\r\n   <g id=\"line2d_16\">\r\n    <path clip-path=\"url(#p34c986bd49)\" d=\"M 305.47527 233.263396 \r\n\" style=\"fill:none;stroke:#808080;stroke-linecap:square;stroke-width:1.5;\"/>\r\n    <defs>\r\n     <path d=\"M 0 3 \r\nC 0.795609 3 1.55874 2.683901 2.12132 2.12132 \r\nC 2.683901 1.55874 3 0.795609 3 0 \r\nC 3 -0.795609 2.683901 -1.55874 2.12132 -2.12132 \r\nC 1.55874 -2.683901 0.795609 -3 0 -3 \r\nC -0.795609 -3 -1.55874 -2.683901 -2.12132 -2.12132 \r\nC -2.683901 -1.55874 -3 -0.795609 -3 0 \r\nC -3 0.795609 -2.683901 1.55874 -2.12132 2.12132 \r\nC -1.55874 2.683901 -0.795609 3 0 3 \r\nz\r\n\" id=\"m183f1ebe01\" style=\"stroke:#808080;\"/>\r\n    </defs>\r\n    <g clip-path=\"url(#p34c986bd49)\">\r\n     <use style=\"fill:#808080;stroke:#808080;\" x=\"305.47527\" xlink:href=\"#m183f1ebe01\" y=\"233.263396\"/>\r\n    </g>\r\n   </g>\r\n   <g id=\"line2d_17\">\r\n    <path clip-path=\"url(#p34c986bd49)\" d=\"M 108.375689 305.686397 \r\n\" style=\"fill:none;stroke:#ff0000;stroke-linecap:square;stroke-width:1.5;\"/>\r\n    <defs>\r\n     <path d=\"M 0 3 \r\nC 0.795609 3 1.55874 2.683901 2.12132 2.12132 \r\nC 2.683901 1.55874 3 0.795609 3 0 \r\nC 3 -0.795609 2.683901 -1.55874 2.12132 -2.12132 \r\nC 1.55874 -2.683901 0.795609 -3 0 -3 \r\nC -0.795609 -3 -1.55874 -2.683901 -2.12132 -2.12132 \r\nC -2.683901 -1.55874 -3 -0.795609 -3 0 \r\nC -3 0.795609 -2.683901 1.55874 -2.12132 2.12132 \r\nC -1.55874 2.683901 -0.795609 3 0 3 \r\nz\r\n\" id=\"m595c22da77\" style=\"stroke:#ff0000;\"/>\r\n    </defs>\r\n    <g clip-path=\"url(#p34c986bd49)\">\r\n     <use style=\"fill:#ff0000;stroke:#ff0000;\" x=\"108.375689\" xlink:href=\"#m595c22da77\" y=\"305.686397\"/>\r\n    </g>\r\n   </g>\r\n   <g id=\"line2d_18\">\r\n    <path clip-path=\"url(#p34c986bd49)\" d=\"M 117.33936 295.392584 \r\n\" style=\"fill:none;stroke:#000000;stroke-linecap:square;stroke-width:1.5;\"/>\r\n    <defs>\r\n     <path d=\"M 0 3 \r\nC 0.795609 3 1.55874 2.683901 2.12132 2.12132 \r\nC 2.683901 1.55874 3 0.795609 3 0 \r\nC 3 -0.795609 2.683901 -1.55874 2.12132 -2.12132 \r\nC 1.55874 -2.683901 0.795609 -3 0 -3 \r\nC -0.795609 -3 -1.55874 -2.683901 -2.12132 -2.12132 \r\nC -2.683901 -1.55874 -3 -0.795609 -3 0 \r\nC -3 0.795609 -2.683901 1.55874 -2.12132 2.12132 \r\nC -1.55874 2.683901 -0.795609 3 0 3 \r\nz\r\n\" id=\"m31e27d1dae\" style=\"stroke:#000000;\"/>\r\n    </defs>\r\n    <g clip-path=\"url(#p34c986bd49)\">\r\n     <use style=\"stroke:#000000;\" x=\"117.33936\" xlink:href=\"#m31e27d1dae\" y=\"295.392584\"/>\r\n    </g>\r\n   </g>\r\n   <g id=\"line2d_19\">\r\n    <path clip-path=\"url(#p34c986bd49)\" d=\"M 211.336115 262.232596 \r\n\" style=\"fill:none;stroke:#00ffff;stroke-linecap:square;stroke-width:1.5;\"/>\r\n    <defs>\r\n     <path d=\"M 0 3 \r\nC 0.795609 3 1.55874 2.683901 2.12132 2.12132 \r\nC 2.683901 1.55874 3 0.795609 3 0 \r\nC 3 -0.795609 2.683901 -1.55874 2.12132 -2.12132 \r\nC 1.55874 -2.683901 0.795609 -3 0 -3 \r\nC -0.795609 -3 -1.55874 -2.683901 -2.12132 -2.12132 \r\nC -2.683901 -1.55874 -3 -0.795609 -3 0 \r\nC -3 0.795609 -2.683901 1.55874 -2.12132 2.12132 \r\nC -1.55874 2.683901 -0.795609 3 0 3 \r\nz\r\n\" id=\"m041fa8f81f\" style=\"stroke:#00ffff;\"/>\r\n    </defs>\r\n    <g clip-path=\"url(#p34c986bd49)\">\r\n     <use style=\"fill:#00ffff;stroke:#00ffff;\" x=\"211.336115\" xlink:href=\"#m041fa8f81f\" y=\"262.232596\"/>\r\n    </g>\r\n   </g>\r\n   <g id=\"line2d_20\">\r\n    <path clip-path=\"url(#p34c986bd49)\" d=\"M 119.558251 294.24733 \r\n\" style=\"fill:none;stroke:#ffc0cb;stroke-linecap:square;stroke-width:1.5;\"/>\r\n    <defs>\r\n     <path d=\"M 0 3 \r\nC 0.795609 3 1.55874 2.683901 2.12132 2.12132 \r\nC 2.683901 1.55874 3 0.795609 3 0 \r\nC 3 -0.795609 2.683901 -1.55874 2.12132 -2.12132 \r\nC 1.55874 -2.683901 0.795609 -3 0 -3 \r\nC -0.795609 -3 -1.55874 -2.683901 -2.12132 -2.12132 \r\nC -2.683901 -1.55874 -3 -0.795609 -3 0 \r\nC -3 0.795609 -2.683901 1.55874 -2.12132 2.12132 \r\nC -1.55874 2.683901 -0.795609 3 0 3 \r\nz\r\n\" id=\"ma45bac6fe8\" style=\"stroke:#ffc0cb;\"/>\r\n    </defs>\r\n    <g clip-path=\"url(#p34c986bd49)\">\r\n     <use style=\"fill:#ffc0cb;stroke:#ffc0cb;\" x=\"119.558251\" xlink:href=\"#ma45bac6fe8\" y=\"294.24733\"/>\r\n    </g>\r\n   </g>\r\n   <g id=\"line2d_21\">\r\n    <path clip-path=\"url(#p34c986bd49)\" d=\"M 211.336115 244.949829 \r\n\" style=\"fill:none;stroke:#ee82ee;stroke-linecap:square;stroke-width:1.5;\"/>\r\n    <defs>\r\n     <path d=\"M 0 3 \r\nC 0.795609 3 1.55874 2.683901 2.12132 2.12132 \r\nC 2.683901 1.55874 3 0.795609 3 0 \r\nC 3 -0.795609 2.683901 -1.55874 2.12132 -2.12132 \r\nC 1.55874 -2.683901 0.795609 -3 0 -3 \r\nC -0.795609 -3 -1.55874 -2.683901 -2.12132 -2.12132 \r\nC -2.683901 -1.55874 -3 -0.795609 -3 0 \r\nC -3 0.795609 -2.683901 1.55874 -2.12132 2.12132 \r\nC -1.55874 2.683901 -0.795609 3 0 3 \r\nz\r\n\" id=\"me4148bb16e\" style=\"stroke:#ee82ee;\"/>\r\n    </defs>\r\n    <g clip-path=\"url(#p34c986bd49)\">\r\n     <use style=\"fill:#ee82ee;stroke:#ee82ee;\" x=\"211.336115\" xlink:href=\"#me4148bb16e\" y=\"244.949829\"/>\r\n    </g>\r\n   </g>\r\n   <g id=\"line2d_22\">\r\n    <defs>\r\n     <path d=\"M 0 3 \r\nC 0.795609 3 1.55874 2.683901 2.12132 2.12132 \r\nC 2.683901 1.55874 3 0.795609 3 0 \r\nC 3 -0.795609 2.683901 -1.55874 2.12132 -2.12132 \r\nC 1.55874 -2.683901 0.795609 -3 0 -3 \r\nC -0.795609 -3 -1.55874 -2.683901 -2.12132 -2.12132 \r\nC -2.683901 -1.55874 -3 -0.795609 -3 0 \r\nC -3 0.795609 -2.683901 1.55874 -2.12132 2.12132 \r\nC -1.55874 2.683901 -0.795609 3 0 3 \r\nz\r\n\" id=\"m2c3e58a14b\" style=\"stroke:#0000ff;\"/>\r\n    </defs>\r\n    <g clip-path=\"url(#p34c986bd49)\">\r\n     <use style=\"fill:#0000ff;stroke:#0000ff;\" x=\"62.86875\" xlink:href=\"#m2c3e58a14b\" y=\"324.697492\"/>\r\n    </g>\r\n   </g>\r\n   <g id=\"line2d_23\">\r\n    <path clip-path=\"url(#p34c986bd49)\" d=\"M 62.86875 324.697492 \r\nL 620.86875 24.496364 \r\nL 620.86875 24.496364 \r\n\" style=\"fill:none;stroke:#ff7f0e;stroke-linecap:square;stroke-width:1.5;\"/>\r\n   </g>\r\n   <g id=\"patch_3\">\r\n    <path d=\"M 62.86875 387.72 \r\nL 62.86875 7.2 \r\n\" style=\"fill:none;stroke:#000000;stroke-linecap:square;stroke-linejoin:miter;stroke-width:0.8;\"/>\r\n   </g>\r\n   <g id=\"patch_4\">\r\n    <path d=\"M 620.86875 387.72 \r\nL 620.86875 7.2 \r\n\" style=\"fill:none;stroke:#000000;stroke-linecap:square;stroke-linejoin:miter;stroke-width:0.8;\"/>\r\n   </g>\r\n   <g id=\"patch_5\">\r\n    <path d=\"M 62.86875 387.72 \r\nL 620.86875 387.72 \r\n\" style=\"fill:none;stroke:#000000;stroke-linecap:square;stroke-linejoin:miter;stroke-width:0.8;\"/>\r\n   </g>\r\n   <g id=\"patch_6\">\r\n    <path d=\"M 62.86875 7.2 \r\nL 620.86875 7.2 \r\n\" style=\"fill:none;stroke:#000000;stroke-linecap:square;stroke-linejoin:miter;stroke-width:0.8;\"/>\r\n   </g>\r\n   <g id=\"text_17\">\r\n    <!-- vw_ret -->\r\n    <defs>\r\n     <path d=\"M 4.203125 54.6875 \r\nL 13.1875 54.6875 \r\nL 24.421875 12.015625 \r\nL 35.59375 54.6875 \r\nL 46.1875 54.6875 \r\nL 57.421875 12.015625 \r\nL 68.609375 54.6875 \r\nL 77.59375 54.6875 \r\nL 63.28125 0 \r\nL 52.6875 0 \r\nL 40.921875 44.828125 \r\nL 29.109375 0 \r\nL 18.5 0 \r\nz\r\n\" id=\"DejaVuSans-119\"/>\r\n     <path d=\"M 50.984375 -16.609375 \r\nL 50.984375 -23.578125 \r\nL -0.984375 -23.578125 \r\nL -0.984375 -16.609375 \r\nz\r\n\" id=\"DejaVuSans-95\"/>\r\n    </defs>\r\n    <g transform=\"translate(305.47527 233.263396)scale(0.1 -0.1)\">\r\n     <use xlink:href=\"#DejaVuSans-118\"/>\r\n     <use x=\"59.179688\" xlink:href=\"#DejaVuSans-119\"/>\r\n     <use x=\"140.966797\" xlink:href=\"#DejaVuSans-95\"/>\r\n     <use x=\"190.966797\" xlink:href=\"#DejaVuSans-114\"/>\r\n     <use x=\"232.048828\" xlink:href=\"#DejaVuSans-101\"/>\r\n     <use x=\"293.572266\" xlink:href=\"#DejaVuSans-116\"/>\r\n    </g>\r\n   </g>\r\n   <g id=\"text_18\">\r\n    <!-- vw_bonds -->\r\n    <defs>\r\n     <path d=\"M 48.6875 27.296875 \r\nQ 48.6875 37.203125 44.609375 42.84375 \r\nQ 40.53125 48.484375 33.40625 48.484375 \r\nQ 26.265625 48.484375 22.1875 42.84375 \r\nQ 18.109375 37.203125 18.109375 27.296875 \r\nQ 18.109375 17.390625 22.1875 11.75 \r\nQ 26.265625 6.109375 33.40625 6.109375 \r\nQ 40.53125 6.109375 44.609375 11.75 \r\nQ 48.6875 17.390625 48.6875 27.296875 \r\nz\r\nM 18.109375 46.390625 \r\nQ 20.953125 51.265625 25.265625 53.625 \r\nQ 29.59375 56 35.59375 56 \r\nQ 45.5625 56 51.78125 48.09375 \r\nQ 58.015625 40.1875 58.015625 27.296875 \r\nQ 58.015625 14.40625 51.78125 6.484375 \r\nQ 45.5625 -1.421875 35.59375 -1.421875 \r\nQ 29.59375 -1.421875 25.265625 0.953125 \r\nQ 20.953125 3.328125 18.109375 8.203125 \r\nL 18.109375 0 \r\nL 9.078125 0 \r\nL 9.078125 75.984375 \r\nL 18.109375 75.984375 \r\nz\r\n\" id=\"DejaVuSans-98\"/>\r\n     <path d=\"M 44.28125 53.078125 \r\nL 44.28125 44.578125 \r\nQ 40.484375 46.53125 36.375 47.5 \r\nQ 32.28125 48.484375 27.875 48.484375 \r\nQ 21.1875 48.484375 17.84375 46.4375 \r\nQ 14.5 44.390625 14.5 40.28125 \r\nQ 14.5 37.15625 16.890625 35.375 \r\nQ 19.28125 33.59375 26.515625 31.984375 \r\nL 29.59375 31.296875 \r\nQ 39.15625 29.25 43.1875 25.515625 \r\nQ 47.21875 21.78125 47.21875 15.09375 \r\nQ 47.21875 7.46875 41.1875 3.015625 \r\nQ 35.15625 -1.421875 24.609375 -1.421875 \r\nQ 20.21875 -1.421875 15.453125 -0.5625 \r\nQ 10.6875 0.296875 5.421875 2 \r\nL 5.421875 11.28125 \r\nQ 10.40625 8.6875 15.234375 7.390625 \r\nQ 20.0625 6.109375 24.8125 6.109375 \r\nQ 31.15625 6.109375 34.5625 8.28125 \r\nQ 37.984375 10.453125 37.984375 14.40625 \r\nQ 37.984375 18.0625 35.515625 20.015625 \r\nQ 33.0625 21.96875 24.703125 23.78125 \r\nL 21.578125 24.515625 \r\nQ 13.234375 26.265625 9.515625 29.90625 \r\nQ 5.8125 33.546875 5.8125 39.890625 \r\nQ 5.8125 47.609375 11.28125 51.796875 \r\nQ 16.75 56 26.8125 56 \r\nQ 31.78125 56 36.171875 55.265625 \r\nQ 40.578125 54.546875 44.28125 53.078125 \r\nz\r\n\" id=\"DejaVuSans-115\"/>\r\n    </defs>\r\n    <g transform=\"translate(108.375689 305.686397)scale(0.1 -0.1)\">\r\n     <use xlink:href=\"#DejaVuSans-118\"/>\r\n     <use x=\"59.179688\" xlink:href=\"#DejaVuSans-119\"/>\r\n     <use x=\"140.966797\" xlink:href=\"#DejaVuSans-95\"/>\r\n     <use x=\"190.966797\" xlink:href=\"#DejaVuSans-98\"/>\r\n     <use x=\"254.443359\" xlink:href=\"#DejaVuSans-111\"/>\r\n     <use x=\"315.625\" xlink:href=\"#DejaVuSans-110\"/>\r\n     <use x=\"379.003906\" xlink:href=\"#DejaVuSans-100\"/>\r\n     <use x=\"442.480469\" xlink:href=\"#DejaVuSans-115\"/>\r\n    </g>\r\n   </g>\r\n   <g id=\"text_19\">\r\n    <!-- p_tan -->\r\n    <g transform=\"translate(117.33936 295.392584)scale(0.1 -0.1)\">\r\n     <use xlink:href=\"#DejaVuSans-112\"/>\r\n     <use x=\"63.476562\" xlink:href=\"#DejaVuSans-95\"/>\r\n     <use x=\"113.476562\" xlink:href=\"#DejaVuSans-116\"/>\r\n     <use x=\"152.685547\" xlink:href=\"#DejaVuSans-97\"/>\r\n     <use x=\"213.964844\" xlink:href=\"#DejaVuSans-110\"/>\r\n    </g>\r\n   </g>\r\n   <g id=\"text_20\">\r\n    <!-- p_64 -->\r\n    <g transform=\"translate(211.336115 262.232596)scale(0.1 -0.1)\">\r\n     <use xlink:href=\"#DejaVuSans-112\"/>\r\n     <use x=\"63.476562\" xlink:href=\"#DejaVuSans-95\"/>\r\n     <use x=\"113.476562\" xlink:href=\"#DejaVuSans-54\"/>\r\n     <use x=\"177.099609\" xlink:href=\"#DejaVuSans-52\"/>\r\n    </g>\r\n   </g>\r\n   <g id=\"text_21\">\r\n    <!-- p_rpu -->\r\n    <g transform=\"translate(119.558251 294.24733)scale(0.1 -0.1)\">\r\n     <use xlink:href=\"#DejaVuSans-112\"/>\r\n     <use x=\"63.476562\" xlink:href=\"#DejaVuSans-95\"/>\r\n     <use x=\"113.476562\" xlink:href=\"#DejaVuSans-114\"/>\r\n     <use x=\"154.589844\" xlink:href=\"#DejaVuSans-112\"/>\r\n     <use x=\"218.066406\" xlink:href=\"#DejaVuSans-117\"/>\r\n    </g>\r\n   </g>\r\n   <g id=\"text_22\">\r\n    <!-- p_rpl -->\r\n    <defs>\r\n     <path d=\"M 9.421875 75.984375 \r\nL 18.40625 75.984375 \r\nL 18.40625 0 \r\nL 9.421875 0 \r\nz\r\n\" id=\"DejaVuSans-108\"/>\r\n    </defs>\r\n    <g transform=\"translate(211.336115 244.949829)scale(0.1 -0.1)\">\r\n     <use xlink:href=\"#DejaVuSans-112\"/>\r\n     <use x=\"63.476562\" xlink:href=\"#DejaVuSans-95\"/>\r\n     <use x=\"113.476562\" xlink:href=\"#DejaVuSans-114\"/>\r\n     <use x=\"154.589844\" xlink:href=\"#DejaVuSans-112\"/>\r\n     <use x=\"218.066406\" xlink:href=\"#DejaVuSans-108\"/>\r\n    </g>\r\n   </g>\r\n   <g id=\"text_23\">\r\n    <!-- Rf -->\r\n    <defs>\r\n     <path d=\"M 37.109375 75.984375 \r\nL 37.109375 68.5 \r\nL 28.515625 68.5 \r\nQ 23.6875 68.5 21.796875 66.546875 \r\nQ 19.921875 64.59375 19.921875 59.515625 \r\nL 19.921875 54.6875 \r\nL 34.71875 54.6875 \r\nL 34.71875 47.703125 \r\nL 19.921875 47.703125 \r\nL 19.921875 0 \r\nL 10.890625 0 \r\nL 10.890625 47.703125 \r\nL 2.296875 47.703125 \r\nL 2.296875 54.6875 \r\nL 10.890625 54.6875 \r\nL 10.890625 58.5 \r\nQ 10.890625 67.625 15.140625 71.796875 \r\nQ 19.390625 75.984375 28.609375 75.984375 \r\nz\r\n\" id=\"DejaVuSans-102\"/>\r\n    </defs>\r\n    <g transform=\"translate(62.86875 324.697492)scale(0.1 -0.1)\">\r\n     <use xlink:href=\"#DejaVuSans-82\"/>\r\n     <use x=\"69.482422\" xlink:href=\"#DejaVuSans-102\"/>\r\n    </g>\r\n   </g>\r\n  </g>\r\n </g>\r\n <defs>\r\n  <clipPath id=\"p34c986bd49\">\r\n   <rect height=\"380.52\" width=\"558\" x=\"62.86875\" y=\"7.2\"/>\r\n  </clipPath>\r\n </defs>\r\n</svg>\r\n",
      "text/plain": "<Figure size 720x504 with 1 Axes>"
     },
     "metadata": {
      "needs_background": "light"
     },
     "output_type": "display_data"
    }
   ],
   "source": [
    "# plot\n",
    "\n",
    "#frontier\n",
    "mu_theoretical = np.linspace(0.001,0.015,1000)\n",
    "A = np.ones(2)@(np.linalg.inv(sigma))@(np.ones(2))\n",
    "B = np.ones(2)@(np.linalg.inv(sigma))@(mu)\n",
    "C = mu@(np.linalg.inv(sigma))@(mu)\n",
    "delta = A*C - B**2\n",
    "\n",
    "#sigma of the tangency portfolio corresponding to each mu\n",
    "sig_tan = np.sqrt((A*np.multiply(mu_theoretical,mu_theoretical)-2*B*mu_theoretical+C)/delta) \n",
    "\n",
    "plt.figure(figsize=(10,7))\n",
    "\n",
    "plt.plot(sig_tan, mu_theoretical)\n",
    "plt.xlabel('Standard Deviation')\n",
    "plt.ylabel('Expected Return')\n",
    "plt.xlim(0, 0.1)\n",
    "\n",
    "portfolios = summ_1.columns #[p_tan\", \"p_64\", \"p_rpl\", \"p_rpu\"]\n",
    "all_means = summ_1[portfolios].loc[\"mean_ret\"].values\n",
    "all_stds = summ_1[portfolios].loc[\"std_ret\"].values\n",
    "colors = [\"grey\", \"red\", \"black\", \"cyan\", \"pink\", \"violet\"]\n",
    "for i in range(len(all_means)):\n",
    "    plt.plot(all_stds[i], all_means[i], c=colors[i], marker=\"o\")\n",
    "    plt.annotate(portfolios[i], xy=(all_stds[i], all_means[i]))\n",
    "plt.plot(0.0, np.mean(data[\"simp_ret\"]), \"bo\")\n",
    "plt.annotate(\"Rf\", xy=(0,np.mean(data[\"simp_ret\"])))\n",
    "\n",
    "sigma_theoretical = np.linspace(0, 0.1, 1000)\n",
    "grad = ((summ_1[\"p_tan\"][\"mean_ret\"] - np.mean(data[\"simp_ret\"]))/(summ_1[\"p_tan\"][\"std_ret\"]))\n",
    "\n",
    "plt.plot(sigma_theoretical, np.mean(data[\"simp_ret\"]) + grad*sigma_theoretical)\n",
    "plt.show()"
   ]
  },
  {
   "cell_type": "markdown",
   "metadata": {},
   "source": [
    "As we can see from the plot above, while the unlevered RP coincides with the tangency portfolio on the efficient frontier, the levered RP lies above the frontier. It holds the same risk with the 60/40 portfolio (by definition) and has a return that is higher than this portfolio and all the other risky-riskless portfolios.\n",
    "\n",
    "What explains the difference between the performances of the RP-levered and RP-unlevered portfolios is the different exposion to risk. The unlevered is less exposed to systematic risk since it does not use the r0, but for this reason it has a lower return. However, the sharp ratio is the same: they have the same explosure for unit of return."
   ]
  },
  {
   "cell_type": "markdown",
   "metadata": {},
   "source": [
    "### 3. Risk parity rolling\n"
   ]
  },
  {
   "cell_type": "code",
   "execution_count": 18,
   "metadata": {},
   "outputs": [],
   "source": [
    "# Following the notes of figure 1 in AFP (or of table 2 in AFP), note that their RP-\n",
    "# strategy is actually computed by rebalancing the portfolio at every month setting\n",
    "# the weights in each asset class equal to the inverse of its volatility, estimated\n",
    "# by using three-year monthly excess returns up to month t − 1. Compute the\n",
    "# returns to this ”rolling-window” RP-strategy. Choose portfolio weights again\n",
    "# such that the portfolio’s full sample volatility is equal to the volatility of the\n",
    "# 60/40 portfolio. Also compute the RP-unlevered strategy returns following AFP.\n",
    "# How do the performances of these ”rolling-window” RP strategies compare with\n",
    "# that of the ”full-window” strategies you estimated previously? Are they identical?\n",
    "# Why?\n",
    "\n",
    "# three year monthly access = 12 x 3 - 1 rolling window\n",
    "# extract relevant columns\n",
    "rets = data[[\"date_x\", \"ret_x\", \"ret_y\", \"simp_ret\"]].set_index(\"date_x\")\n",
    "rolling_mean = rets.rolling(window=12*3).mean().dropna()\n",
    "rolling_std = rets[[\"ret_x\",\"ret_y\"]].rolling(window=12*3).std().dropna()\n",
    "rolling_cov = rets[[\"ret_x\",\"ret_y\"]].rolling(window=12*3).cov().dropna()\n",
    "\n",
    "# tangency portfolio, 60/40 portfolio and risk-parity-(un)levered portfolio\n",
    "\n",
    "summ_dates= pd.DataFrame(columns=[\"p_tan\", \"p_64\", \"p_rpl\", \"p_rpu\"], \n",
    "                      index=rolling_mean.index)\n",
    "\n",
    "for date in rolling_mean.index:\n",
    "    summ_2 = pd.DataFrame(columns=[\"p_tan\", \"p_64\", \"p_rpl\", \"p_rpu\"], \n",
    "                      index=[\"mean_p\", \"std_p\", \"excess_ret\", \"sharpe_p\"])\n",
    "\n",
    "    sigma_p = np.array(rolling_cov.loc[date])\n",
    "    mu_p = np.array(rolling_mean[[\"ret_x\", \"ret_y\"]].loc[date])\n",
    "    A = np.ones(2).T.dot(np.linalg.inv(sigma_p)).dot(np.ones(2))\n",
    "    B = np.ones(2).T.dot(np.linalg.inv(sigma_p)).dot(mu_p)\n",
    "    C = mu_p.T.dot(np.linalg.inv(sigma_p)).dot(mu_p)\n",
    "    #delta = A*C - B**2\n",
    "    \n",
    "    w_tan = (np.linalg.inv(sigma_p).dot(mu_p - rolling_mean.simp_ret[date]))/(B - A*rolling_mean.simp_ret[date])\n",
    "    w_64 = np.array([0.6, 0.4])\n",
    "    w_rpu = (1/rolling_std.loc[date])/(1/rolling_std.loc[date]).sum()\n",
    "    \n",
    "    #std_64 = np.sqrt(w_64.T.dot(sigma_p).dot(w_64))\n",
    "    std_rpu = np.sqrt(w_rpu.T.dot(sigma_p).dot(w_rpu))\n",
    "    k_rpl = summ_1[\"p_64\"][\"std_ret\"]/std_rpu\n",
    "    w_rpl = np.array(k_rpl*w_rpu)\n",
    "    summ_dates[\"p_rpl\"][date] = w_rpl.T.dot(mu_p) + (1 - sum(w_rpl))*rets[\"simp_ret\"][date]\n",
    "    \n",
    "    for p,w in {\"p_tan\": w_tan, \"p_64\": w_64, \"p_rpu\": w_rpu}.items():\n",
    "        ret_p = w.T.dot(rets[[\"ret_x\", \"ret_y\"]].loc[date])\n",
    "        summ_dates[p][date] = ret_p   "
   ]
  },
  {
   "cell_type": "code",
   "execution_count": 19,
   "metadata": {},
   "outputs": [
    {
     "data": {
      "text/html": "<div>\n<style scoped>\n    .dataframe tbody tr th:only-of-type {\n        vertical-align: middle;\n    }\n\n    .dataframe tbody tr th {\n        vertical-align: top;\n    }\n\n    .dataframe thead th {\n        text-align: right;\n    }\n</style>\n<table border=\"1\" class=\"dataframe\">\n  <thead>\n    <tr style=\"text-align: right;\">\n      <th></th>\n      <th>p_tan</th>\n      <th>p_64</th>\n      <th>p_rpl</th>\n      <th>p_rpu</th>\n    </tr>\n  </thead>\n  <tbody>\n    <tr>\n      <td>mean_ret</td>\n      <td>0.006029</td>\n      <td>0.007352</td>\n      <td>0.010001</td>\n      <td>0.005237</td>\n    </tr>\n    <tr>\n      <td>std_ret</td>\n      <td>0.047171</td>\n      <td>0.026616</td>\n      <td>0.006979</td>\n      <td>0.009940</td>\n    </tr>\n    <tr>\n      <td>mean_excess_ret</td>\n      <td>0.002308</td>\n      <td>0.003630</td>\n      <td>0.006280</td>\n      <td>0.001515</td>\n    </tr>\n    <tr>\n      <td>sharpe_ratio</td>\n      <td>0.048924</td>\n      <td>0.136392</td>\n      <td>0.899817</td>\n      <td>0.152412</td>\n    </tr>\n  </tbody>\n</table>\n</div>",
      "text/plain": "                    p_tan      p_64     p_rpl     p_rpu\nmean_ret         0.006029  0.007352  0.010001  0.005237\nstd_ret          0.047171  0.026616  0.006979  0.009940\nmean_excess_ret  0.002308  0.003630  0.006280  0.001515\nsharpe_ratio     0.048924  0.136392  0.899817  0.152412"
     },
     "execution_count": 19,
     "metadata": {},
     "output_type": "execute_result"
    }
   ],
   "source": [
    "mean_excess_ret_rolling = summ_dates.mean() - rolling_mean.simp_ret.mean()\n",
    "tmp_dict = {\"mean_ret\": summ_dates.mean(), \"std_ret\": summ_dates.std(), \"mean_excess_ret\": mean_excess_ret_rolling,\n",
    "           \"sharpe_ratio\": mean_excess_ret_rolling/summ_dates.std()}\n",
    "summ_2 = pd.DataFrame(tmp_dict).T\n",
    "summ_2 # something is wrong!"
   ]
  },
  {
   "cell_type": "markdown",
   "metadata": {},
   "source": [
    "We only focus on the ```mean_ret``` row of RP-levered and RP-unlevered portfolios in the table above. What can be clearly noticed is that the levered case yields a return higher than that in the unlevered one."
   ]
  },
  {
   "cell_type": "markdown",
   "metadata": {},
   "source": [
    "### 4. Utility of investor who chooses the rolling strategy"
   ]
  },
  {
   "cell_type": "code",
   "execution_count": 20,
   "metadata": {},
   "outputs": [],
   "source": [
    "# Consider an investor who has mean-variance utility U = μ p − a 2 σ p 2 and a risk\n",
    "# aversion coefficient a of 6. Using the full-sample estimates of the means and\n",
    "# covariance matrix stocks and bonds, what is her optimal portfolio? What is its\n",
    "# expected return, standard deviation, and Sharpe ratio of her optimal portfolio?\n",
    "a = 6 # risk aversion(a/2)*vals[\"std_ret\"]**2\n",
    "lamb = (B-a)/A\n",
    "w_utility = (1/a)*(np.linalg.inv(sigma)).dot(mu - lamb)\n",
    "mu_utility = w_utility.T.dot(mu)\n",
    "std_utility = np.sqrt(w_utility.T.dot(sigma).dot(w_utility))\n",
    "excess_utility = mu_utility - np.mean(data[\"simp_ret\"])\n",
    "sharpe_utility = excess_utility/std_utility\n",
    "\n",
    "summ_utility = pd.DataFrame(data={\"mu_p\": mu_utility, \"std_p\": std_utility, \"excess_p\": excess_utility, \n",
    "                             \"sharpe_ratio\": sharpe_utility},index=[\"p_utility\"]).T"
   ]
  },
  {
   "cell_type": "code",
   "execution_count": 21,
   "metadata": {},
   "outputs": [
    {
     "name": "stdout",
     "output_type": "stream",
     "text": "the desired portfolio is one with the following weights assigned to the risky and risk-free asset, respectively: \n\n[0.49881272 6.96999865]\n\nand its important statistics are: \n\n              p_utility\nmu_p           0.037312\nstd_p          0.062735\nexcess_p       0.033686\nsharpe_ratio   0.536958\n"
    }
   ],
   "source": [
    "print(\"the desired portfolio is one with the following weights assigned to the risky and risk-free asset\\\n",
    ", respectively: \\n\")\n",
    "print(w_utility)\n",
    "\n",
    "print(\"\\nand its important statistics are: \\n\")\n",
    "print(summ_utility)"
   ]
  },
  {
   "cell_type": "code",
   "execution_count": 22,
   "metadata": {},
   "outputs": [],
   "source": [
    "# • If the mean-variance investor could in addition invest in either the ”full-window”\n",
    "# RP strategy or the ”rolling-window” RP strategy, would she want to do so? Ex-\n",
    "# plain what is AFP’s argument why risk-parity is actually a useful strategy.\n",
    "\n"
   ]
  },
  {
   "cell_type": "code",
   "execution_count": null,
   "metadata": {},
   "outputs": [],
   "source": []
  }
 ],
 "metadata": {
  "kernelspec": {
   "display_name": "Python 3",
   "language": "python",
   "name": "python3"
  },
  "language_info": {
   "codemirror_mode": {
    "name": "ipython",
    "version": 3
   },
   "file_extension": ".py",
   "mimetype": "text/x-python",
   "name": "python",
   "nbconvert_exporter": "python",
   "pygments_lexer": "ipython3",
   "version": "3.7.4-final"
  }
 },
 "nbformat": 4,
 "nbformat_minor": 2
}