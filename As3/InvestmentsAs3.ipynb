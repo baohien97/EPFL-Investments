{
 "cells": [
  {
   "cell_type": "code",
   "execution_count": 34,
   "metadata": {},
   "outputs": [],
   "source": [
    "import numpy as np\n",
    "import pandas as pd\n",
    "import matplotlib.pyplot as plt\n",
    "import seaborn as sns"
   ]
  },
  {
   "cell_type": "markdown",
   "metadata": {},
   "source": [
    "### 1. Getting and transforming data\n",
    "\n",
    "The following involoves the process of retrieving data from the ```wrds``` server and treating as such that the different data sources are merged and exported to a file named \"as3_ex3_data.csv\")"
   ]
  },
  {
   "cell_type": "code",
   "execution_count": 2,
   "metadata": {},
   "outputs": [],
   "source": [
    "# import wrds\n",
    "# db = wrds.Connection(wrds_username='hienle')\n",
    "# db.create_pgpass_file()"
   ]
  },
  {
   "cell_type": "code",
   "execution_count": 3,
   "metadata": {},
   "outputs": [],
   "source": [
    "# See http://www.crsp.com/files/treasury_guide_0.pdf for more infos on the CRSP Treasury risk-\n",
    "# free rate database. Note that ”mcaldt” denotes the last quotation date of the relevant bond in a given month,\n",
    "# i.e. the the yield corresponding to January 31 is the yield that was promised in the beginning of January.\n",
    "# Note that the CRSP monthly risk-free rates are continuously compounded and annualized. Thus, you need to transform \n",
    "# them into simple and monthly rates, in order to use them in your portfolio construction (the\n",
    "# stock returns are already simple monthly returns) \n",
    "\n",
    "# vw_ret = db.raw_sql(\"select date,vwretd from crsp.msi where date>='1960-01-01' and date<='2019-12-31'\", \n",
    "#                           date_cols=[\"date\"]).rename(columns={\"vwretd\": \"ret\"})\n",
    "# vw_bonds = db.raw_sql(\"select caldt, b2ret \"\n",
    "# \"from crsp.mcti \"\n",
    "# \"where caldt>='1960-01-01'\"\n",
    "# \"and caldt<='2019-12-31'\", date_cols=[\"caldt\"]).rename(columns={\"caldt\": \"date\", \"b2ret\": \"ret\"})\n",
    "# tb_ret = db.raw_sql(\"select mcaldt, tmytm from crsp.tfz_mth_rf where kytreasnox = 2000001 and mcaldt>='1960-01-01'\\\n",
    "#                     and mcaldt <='2019-12-31'\").rename(columns={\"mcaldt\": \"date\", \"tmytm\": \"ret\"})\n",
    "# tb_ret[\"simp_ret\"] = (np.exp(tb_ret[\"ret\"]/12/100)-1) # de-annualise then de-compound the return"
   ]
  },
  {
   "cell_type": "code",
   "execution_count": 4,
   "metadata": {
    "scrolled": true
   },
   "outputs": [],
   "source": [
    "# # the dates recorded in the three dfs are not synchronised\n",
    "# merged=pd.merge(pd.merge(vw_ret, vw_bonds, left_index=True, right_index=True), tb_ret, left_index=True, right_index=True)\n",
    "# merged.to_csv(\"as3_ex3_data.csv\")"
   ]
  },
  {
   "cell_type": "code",
   "execution_count": 5,
   "metadata": {},
   "outputs": [],
   "source": [
    "data = pd.read_csv(\"as3_ex3_data.csv\", index_col=0)"
   ]
  },
  {
   "cell_type": "markdown",
   "metadata": {},
   "source": [
    "### 2. Analysing"
   ]
  },
  {
   "cell_type": "markdown",
   "metadata": {},
   "source": [
    "#### 2.1. 100% risky and 100% riskless "
   ]
  },
  {
   "cell_type": "code",
   "execution_count": 6,
   "metadata": {
    "scrolled": true
   },
   "outputs": [],
   "source": [
    "# these following two lines are redundant for now\n",
    "data[\"excess_ret_x\"] = data[\"ret_x\"] - data[\"simp_ret\"]\n",
    "data[\"excess_ret_y\"] = data[\"ret_y\"] - data[\"simp_ret\"]"
   ]
  },
  {
   "cell_type": "code",
   "execution_count": 125,
   "metadata": {
    "scrolled": true
   },
   "outputs": [
    {
     "data": {
      "text/html": [
       "<div>\n",
       "<style scoped>\n",
       "    .dataframe tbody tr th:only-of-type {\n",
       "        vertical-align: middle;\n",
       "    }\n",
       "\n",
       "    .dataframe tbody tr th {\n",
       "        vertical-align: top;\n",
       "    }\n",
       "\n",
       "    .dataframe thead th {\n",
       "        text-align: right;\n",
       "    }\n",
       "</style>\n",
       "<table border=\"1\" class=\"dataframe\">\n",
       "  <thead>\n",
       "    <tr style=\"text-align: right;\">\n",
       "      <th></th>\n",
       "      <th>date_x</th>\n",
       "      <th>ret_x</th>\n",
       "      <th>date_y</th>\n",
       "      <th>ret_y</th>\n",
       "      <th>date</th>\n",
       "      <th>ret</th>\n",
       "      <th>simp_ret</th>\n",
       "      <th>excess_ret_x</th>\n",
       "      <th>excess_ret_y</th>\n",
       "    </tr>\n",
       "  </thead>\n",
       "  <tbody>\n",
       "    <tr>\n",
       "      <th>0</th>\n",
       "      <td>1960-01-29</td>\n",
       "      <td>-0.066244</td>\n",
       "      <td>1960-01-29</td>\n",
       "      <td>0.009443</td>\n",
       "      <td>1960-01-29</td>\n",
       "      <td>3.427324</td>\n",
       "      <td>0.002860</td>\n",
       "      <td>-0.069104</td>\n",
       "      <td>0.006583</td>\n",
       "    </tr>\n",
       "    <tr>\n",
       "      <th>1</th>\n",
       "      <td>1960-02-29</td>\n",
       "      <td>0.014419</td>\n",
       "      <td>1960-02-29</td>\n",
       "      <td>0.008344</td>\n",
       "      <td>1960-02-29</td>\n",
       "      <td>3.808210</td>\n",
       "      <td>0.003179</td>\n",
       "      <td>0.011241</td>\n",
       "      <td>0.005165</td>\n",
       "    </tr>\n",
       "    <tr>\n",
       "      <th>2</th>\n",
       "      <td>1960-03-31</td>\n",
       "      <td>-0.012822</td>\n",
       "      <td>1960-03-31</td>\n",
       "      <td>0.014125</td>\n",
       "      <td>1960-03-31</td>\n",
       "      <td>2.537828</td>\n",
       "      <td>0.002117</td>\n",
       "      <td>-0.014939</td>\n",
       "      <td>0.012008</td>\n",
       "    </tr>\n",
       "    <tr>\n",
       "      <th>3</th>\n",
       "      <td>1960-04-29</td>\n",
       "      <td>-0.015271</td>\n",
       "      <td>1960-04-29</td>\n",
       "      <td>-0.003661</td>\n",
       "      <td>1960-04-29</td>\n",
       "      <td>2.893542</td>\n",
       "      <td>0.002414</td>\n",
       "      <td>-0.017685</td>\n",
       "      <td>-0.006075</td>\n",
       "    </tr>\n",
       "    <tr>\n",
       "      <th>4</th>\n",
       "      <td>1960-05-31</td>\n",
       "      <td>0.034098</td>\n",
       "      <td>1960-05-31</td>\n",
       "      <td>0.006015</td>\n",
       "      <td>1960-05-31</td>\n",
       "      <td>2.334168</td>\n",
       "      <td>0.001947</td>\n",
       "      <td>0.032151</td>\n",
       "      <td>0.004068</td>\n",
       "    </tr>\n",
       "    <tr>\n",
       "      <th>5</th>\n",
       "      <td>1960-06-30</td>\n",
       "      <td>0.022833</td>\n",
       "      <td>1960-06-30</td>\n",
       "      <td>0.008191</td>\n",
       "      <td>1960-06-30</td>\n",
       "      <td>1.725013</td>\n",
       "      <td>0.001439</td>\n",
       "      <td>0.021394</td>\n",
       "      <td>0.006752</td>\n",
       "    </tr>\n",
       "    <tr>\n",
       "      <th>6</th>\n",
       "      <td>1960-07-29</td>\n",
       "      <td>-0.022705</td>\n",
       "      <td>1960-07-29</td>\n",
       "      <td>0.015361</td>\n",
       "      <td>1960-07-29</td>\n",
       "      <td>1.750399</td>\n",
       "      <td>0.001460</td>\n",
       "      <td>-0.024164</td>\n",
       "      <td>0.013901</td>\n",
       "    </tr>\n",
       "    <tr>\n",
       "      <th>7</th>\n",
       "      <td>1960-08-31</td>\n",
       "      <td>0.032215</td>\n",
       "      <td>1960-08-31</td>\n",
       "      <td>0.008301</td>\n",
       "      <td>1960-08-31</td>\n",
       "      <td>2.004431</td>\n",
       "      <td>0.001672</td>\n",
       "      <td>0.030543</td>\n",
       "      <td>0.006629</td>\n",
       "    </tr>\n",
       "    <tr>\n",
       "      <th>8</th>\n",
       "      <td>1960-09-30</td>\n",
       "      <td>-0.058673</td>\n",
       "      <td>1960-09-30</td>\n",
       "      <td>0.002977</td>\n",
       "      <td>1960-09-30</td>\n",
       "      <td>2.446218</td>\n",
       "      <td>0.002041</td>\n",
       "      <td>-0.060714</td>\n",
       "      <td>0.000936</td>\n",
       "    </tr>\n",
       "    <tr>\n",
       "      <th>9</th>\n",
       "      <td>1960-10-31</td>\n",
       "      <td>-0.004705</td>\n",
       "      <td>1960-10-31</td>\n",
       "      <td>0.000336</td>\n",
       "      <td>1960-10-31</td>\n",
       "      <td>1.521809</td>\n",
       "      <td>0.001269</td>\n",
       "      <td>-0.005974</td>\n",
       "      <td>-0.000933</td>\n",
       "    </tr>\n",
       "  </tbody>\n",
       "</table>\n",
       "</div>"
      ],
      "text/plain": [
       "       date_x     ret_x      date_y     ret_y        date       ret  simp_ret  \\\n",
       "0  1960-01-29 -0.066244  1960-01-29  0.009443  1960-01-29  3.427324  0.002860   \n",
       "1  1960-02-29  0.014419  1960-02-29  0.008344  1960-02-29  3.808210  0.003179   \n",
       "2  1960-03-31 -0.012822  1960-03-31  0.014125  1960-03-31  2.537828  0.002117   \n",
       "3  1960-04-29 -0.015271  1960-04-29 -0.003661  1960-04-29  2.893542  0.002414   \n",
       "4  1960-05-31  0.034098  1960-05-31  0.006015  1960-05-31  2.334168  0.001947   \n",
       "5  1960-06-30  0.022833  1960-06-30  0.008191  1960-06-30  1.725013  0.001439   \n",
       "6  1960-07-29 -0.022705  1960-07-29  0.015361  1960-07-29  1.750399  0.001460   \n",
       "7  1960-08-31  0.032215  1960-08-31  0.008301  1960-08-31  2.004431  0.001672   \n",
       "8  1960-09-30 -0.058673  1960-09-30  0.002977  1960-09-30  2.446218  0.002041   \n",
       "9  1960-10-31 -0.004705  1960-10-31  0.000336  1960-10-31  1.521809  0.001269   \n",
       "\n",
       "   excess_ret_x  excess_ret_y  \n",
       "0     -0.069104      0.006583  \n",
       "1      0.011241      0.005165  \n",
       "2     -0.014939      0.012008  \n",
       "3     -0.017685     -0.006075  \n",
       "4      0.032151      0.004068  \n",
       "5      0.021394      0.006752  \n",
       "6     -0.024164      0.013901  \n",
       "7      0.030543      0.006629  \n",
       "8     -0.060714      0.000936  \n",
       "9     -0.005974     -0.000933  "
      ]
     },
     "execution_count": 125,
     "metadata": {},
     "output_type": "execute_result"
    }
   ],
   "source": [
    "data.head(10)"
   ]
  },
  {
   "cell_type": "code",
   "execution_count": 126,
   "metadata": {},
   "outputs": [
    {
     "data": {
      "text/html": [
       "<div>\n",
       "<style scoped>\n",
       "    .dataframe tbody tr th:only-of-type {\n",
       "        vertical-align: middle;\n",
       "    }\n",
       "\n",
       "    .dataframe tbody tr th {\n",
       "        vertical-align: top;\n",
       "    }\n",
       "\n",
       "    .dataframe thead th {\n",
       "        text-align: right;\n",
       "    }\n",
       "</style>\n",
       "<table border=\"1\" class=\"dataframe\">\n",
       "  <thead>\n",
       "    <tr style=\"text-align: right;\">\n",
       "      <th></th>\n",
       "      <th>vw_ret</th>\n",
       "      <th>vw_bonds</th>\n",
       "    </tr>\n",
       "  </thead>\n",
       "  <tbody>\n",
       "    <tr>\n",
       "      <th>mean_ret</th>\n",
       "      <td>0.00887733</td>\n",
       "      <td>0.00471796</td>\n",
       "    </tr>\n",
       "    <tr>\n",
       "      <th>std_ret</th>\n",
       "      <td>0.0434779</td>\n",
       "      <td>0.00815537</td>\n",
       "    </tr>\n",
       "    <tr>\n",
       "      <th>mean_excess_ret</th>\n",
       "      <td>0.0052512</td>\n",
       "      <td>0.00109184</td>\n",
       "    </tr>\n",
       "    <tr>\n",
       "      <th>sharpe_ratio</th>\n",
       "      <td>0.120779</td>\n",
       "      <td>0.13388</td>\n",
       "    </tr>\n",
       "  </tbody>\n",
       "</table>\n",
       "</div>"
      ],
      "text/plain": [
       "                     vw_ret    vw_bonds\n",
       "mean_ret         0.00887733  0.00471796\n",
       "std_ret           0.0434779  0.00815537\n",
       "mean_excess_ret   0.0052512  0.00109184\n",
       "sharpe_ratio       0.120779     0.13388"
      ]
     },
     "execution_count": 126,
     "metadata": {},
     "output_type": "execute_result"
    }
   ],
   "source": [
    "# Compute the mean return, standard deviation and correlation matrix for these\n",
    "# returns over the entire sample period. Using the 1-month T-Bill as the risk-free\n",
    "# rate to compute excess returns. To compute excess returns assume that the risk-\n",
    "# free rate is constant at the sample average of the T-Bill rate.\n",
    "\n",
    "d_returns = {\n",
    "    \"vw_ret\": data[\"ret_x\"],\n",
    "    \"vw_bonds\": data[\"ret_y\"],\n",
    "    #\"tb_ret\": tb_ret\n",
    "}\n",
    "summ_1 = pd.DataFrame(columns=d_returns.keys())\n",
    "\n",
    "for key,val in d_returns.items():\n",
    "    summ_1.at[\"mean_ret\", key] = np.mean(val)\n",
    "    summ_1.at[\"std_ret\", key] = np.std(val)\n",
    "    summ_1.at[\"mean_excess_ret\", key] = np.mean(val) - np.mean(data[\"simp_ret\"])        \n",
    "    summ_1.at[\"sharpe_ratio\", key] = summ_1.at[\"mean_excess_ret\", key]/(summ_1.at[\"std_ret\", key])\n",
    "    \n",
    "summ_1"
   ]
  },
  {
   "cell_type": "code",
   "execution_count": 127,
   "metadata": {},
   "outputs": [
    {
     "data": {
      "text/plain": [
       "array([[ 1.        ,  0.09279471, -0.0217775 ],\n",
       "       [ 0.09279471,  1.        ,  0.24050124],\n",
       "       [-0.0217775 ,  0.24050124,  1.        ]])"
      ]
     },
     "execution_count": 127,
     "metadata": {},
     "output_type": "execute_result"
    }
   ],
   "source": [
    "# covariance and correlation matrix\n",
    "cov = np.cov(data[[\"ret_x\", \"ret_y\", \"simp_ret\"]].T)\n",
    "corr = np.corrcoef(data[[\"ret_x\", \"ret_y\", \"simp_ret\"]].T)\n",
    "corr"
   ]
  },
  {
   "cell_type": "code",
   "execution_count": 166,
   "metadata": {},
   "outputs": [],
   "source": [
    "# mu and sigma vectors of vw_ret and vw_bonds\n",
    "mu = np.array([np.mean(data[\"ret_x\"]), np.mean(data[\"ret_y\"])])\n",
    "sigma = cov[:2,:2]"
   ]
  },
  {
   "cell_type": "code",
   "execution_count": 172,
   "metadata": {},
   "outputs": [
    {
     "data": {
      "text/plain": [
       "49.88462391336384"
      ]
     },
     "execution_count": 172,
     "metadata": {},
     "output_type": "execute_result"
    }
   ],
   "source": [
    "np.sqrt(w_64.T.dot(np.linalg.inv(sigma).dot(w_64)))"
   ]
  },
  {
   "cell_type": "markdown",
   "metadata": {},
   "source": [
    "#### 2.2. Tangency portfolio\n",
    "$$\n",
    "\\mathrm{w}_{\\tan }=\\frac{\\Sigma^{-1}\\left(\\mu-R_{0} \\mathbf{1}\\right)}{B-A R_{0}}, \\quad \\mathrm{w}_{0, \\text { tan }}=0\n",
    "$$"
   ]
  },
  {
   "cell_type": "markdown",
   "metadata": {},
   "source": [
    "NOTE: The following formulae will be used from this point to calculate the mean/variance of the weighted portfolios.\n",
    "\n",
    "$$\n",
    "\\mu_{p}=w^{\\prime} \\mu; \\sigma_{p}^{2}=w^{\\prime} \\Sigma w \n",
    "$$\n"
   ]
  },
  {
   "cell_type": "code",
   "execution_count": 129,
   "metadata": {},
   "outputs": [],
   "source": [
    "# numerator and denominator of tangency weights (portfolio)\n",
    "num = np.linalg.inv(sigma).dot(mu - np.mean(data[\"simp_ret\"]))\n",
    "denom = np.ones(2).T.dot(np.linalg.inv(sigma)).dot(mu) - \\\n",
    "np.ones(2).T.dot(np.linalg.inv(sigma)).dot(np.ones(2))*np.mean(data[\"simp_ret\"])\n",
    "\n",
    "w_tan = num/denom\n",
    "\n",
    "mu_tan = w_tan.T.dot(mu).reshape(1)[0]\n",
    "std_tan = np.sqrt(w_tan.T.dot(sigma).dot(w_tan)).reshape(1)[0]\n",
    "excess_tan = (w_tan.T.dot(mu) - np.mean(data[\"simp_ret\"])).reshape(1)[0]\n",
    "sharpe_tan = excess_tan / std_tan\n",
    "summ_1[\"p_tan\"] = [mu_tan, std_tan, excess_tan, sharpe_tan]"
   ]
  },
  {
   "cell_type": "code",
   "execution_count": 130,
   "metadata": {},
   "outputs": [
    {
     "data": {
      "text/html": [
       "<div>\n",
       "<style scoped>\n",
       "    .dataframe tbody tr th:only-of-type {\n",
       "        vertical-align: middle;\n",
       "    }\n",
       "\n",
       "    .dataframe tbody tr th {\n",
       "        vertical-align: top;\n",
       "    }\n",
       "\n",
       "    .dataframe thead th {\n",
       "        text-align: right;\n",
       "    }\n",
       "</style>\n",
       "<table border=\"1\" class=\"dataframe\">\n",
       "  <thead>\n",
       "    <tr style=\"text-align: right;\">\n",
       "      <th></th>\n",
       "      <th>vw_ret</th>\n",
       "      <th>vw_bonds</th>\n",
       "      <th>p_tan</th>\n",
       "    </tr>\n",
       "  </thead>\n",
       "  <tbody>\n",
       "    <tr>\n",
       "      <th>mean_ret</th>\n",
       "      <td>0.00887733</td>\n",
       "      <td>0.00471796</td>\n",
       "      <td>0.005309</td>\n",
       "    </tr>\n",
       "    <tr>\n",
       "      <th>std_ret</th>\n",
       "      <td>0.0434779</td>\n",
       "      <td>0.00815537</td>\n",
       "      <td>0.009762</td>\n",
       "    </tr>\n",
       "    <tr>\n",
       "      <th>mean_excess_ret</th>\n",
       "      <td>0.0052512</td>\n",
       "      <td>0.00109184</td>\n",
       "      <td>0.001683</td>\n",
       "    </tr>\n",
       "    <tr>\n",
       "      <th>sharpe_ratio</th>\n",
       "      <td>0.120779</td>\n",
       "      <td>0.13388</td>\n",
       "      <td>0.172410</td>\n",
       "    </tr>\n",
       "  </tbody>\n",
       "</table>\n",
       "</div>"
      ],
      "text/plain": [
       "                     vw_ret    vw_bonds     p_tan\n",
       "mean_ret         0.00887733  0.00471796  0.005309\n",
       "std_ret           0.0434779  0.00815537  0.009762\n",
       "mean_excess_ret   0.0052512  0.00109184  0.001683\n",
       "sharpe_ratio       0.120779     0.13388  0.172410"
      ]
     },
     "execution_count": 130,
     "metadata": {},
     "output_type": "execute_result"
    }
   ],
   "source": [
    "summ_1"
   ]
  },
  {
   "cell_type": "markdown",
   "metadata": {},
   "source": [
    "#### 2.3. 60/40 portfolio"
   ]
  },
  {
   "cell_type": "code",
   "execution_count": 131,
   "metadata": {},
   "outputs": [
    {
     "data": {
      "text/html": [
       "<div>\n",
       "<style scoped>\n",
       "    .dataframe tbody tr th:only-of-type {\n",
       "        vertical-align: middle;\n",
       "    }\n",
       "\n",
       "    .dataframe tbody tr th {\n",
       "        vertical-align: top;\n",
       "    }\n",
       "\n",
       "    .dataframe thead th {\n",
       "        text-align: right;\n",
       "    }\n",
       "</style>\n",
       "<table border=\"1\" class=\"dataframe\">\n",
       "  <thead>\n",
       "    <tr style=\"text-align: right;\">\n",
       "      <th></th>\n",
       "      <th>vw_ret</th>\n",
       "      <th>vw_bonds</th>\n",
       "      <th>p_tan</th>\n",
       "      <th>p_64</th>\n",
       "    </tr>\n",
       "  </thead>\n",
       "  <tbody>\n",
       "    <tr>\n",
       "      <th>mean_ret</th>\n",
       "      <td>0.00887733</td>\n",
       "      <td>0.00471796</td>\n",
       "      <td>0.005309</td>\n",
       "      <td>0.007214</td>\n",
       "    </tr>\n",
       "    <tr>\n",
       "      <th>std_ret</th>\n",
       "      <td>0.0434779</td>\n",
       "      <td>0.00815537</td>\n",
       "      <td>0.009762</td>\n",
       "      <td>0.026607</td>\n",
       "    </tr>\n",
       "    <tr>\n",
       "      <th>mean_excess_ret</th>\n",
       "      <td>0.0052512</td>\n",
       "      <td>0.00109184</td>\n",
       "      <td>0.001683</td>\n",
       "      <td>0.003587</td>\n",
       "    </tr>\n",
       "    <tr>\n",
       "      <th>sharpe_ratio</th>\n",
       "      <td>0.120779</td>\n",
       "      <td>0.13388</td>\n",
       "      <td>0.172410</td>\n",
       "      <td>0.134831</td>\n",
       "    </tr>\n",
       "  </tbody>\n",
       "</table>\n",
       "</div>"
      ],
      "text/plain": [
       "                     vw_ret    vw_bonds     p_tan      p_64\n",
       "mean_ret         0.00887733  0.00471796  0.005309  0.007214\n",
       "std_ret           0.0434779  0.00815537  0.009762  0.026607\n",
       "mean_excess_ret   0.0052512  0.00109184  0.001683  0.003587\n",
       "sharpe_ratio       0.120779     0.13388  0.172410  0.134831"
      ]
     },
     "execution_count": 131,
     "metadata": {},
     "output_type": "execute_result"
    }
   ],
   "source": [
    "w_64 = np.array([0.6, 0.4])\n",
    "mu_64 = w_64.T.dot(mu)\n",
    "std_64 = np.sqrt(w_64.T.dot(sigma).dot(w_64))\n",
    "excess_64 = mu_64 - np.mean(data[\"simp_ret\"])\n",
    "sharpe_64 = excess_64 / std_64\n",
    "\n",
    "summ_1[\"p_64\"] = [mu_64, std_64, excess_64, sharpe_64]\n",
    "summ_1"
   ]
  },
  {
   "cell_type": "markdown",
   "metadata": {},
   "source": [
    "#### 2.4. Risk parity levered\n",
    "Compute the mean, standard deviation and Sharpe ratio of a risk-parity (RP)\n",
    "portfolio that holds stocks and bonds in proportion to the inverse of their (full-\n",
    "sample) volatility such that the portfolio’s (full sample) volatility is equal to the\n",
    "volatility of the 60/40 portfolio. \n",
    "\n",
    "$$\n",
    "\\mathrm{w}_{\\mathrm{i}}=\\frac{\\text { Target Volatility }}{\\sigma_{\\mathrm{i}}}\n",
    "$$"
   ]
  },
  {
   "cell_type": "code",
   "execution_count": 150,
   "metadata": {},
   "outputs": [
    {
     "data": {
      "text/html": [
       "<div>\n",
       "<style scoped>\n",
       "    .dataframe tbody tr th:only-of-type {\n",
       "        vertical-align: middle;\n",
       "    }\n",
       "\n",
       "    .dataframe tbody tr th {\n",
       "        vertical-align: top;\n",
       "    }\n",
       "\n",
       "    .dataframe thead th {\n",
       "        text-align: right;\n",
       "    }\n",
       "</style>\n",
       "<table border=\"1\" class=\"dataframe\">\n",
       "  <thead>\n",
       "    <tr style=\"text-align: right;\">\n",
       "      <th></th>\n",
       "      <th>vw_ret</th>\n",
       "      <th>vw_bonds</th>\n",
       "      <th>p_tan</th>\n",
       "      <th>p_64</th>\n",
       "      <th>p_rpl</th>\n",
       "    </tr>\n",
       "  </thead>\n",
       "  <tbody>\n",
       "    <tr>\n",
       "      <th>mean_ret</th>\n",
       "      <td>0.00887733</td>\n",
       "      <td>0.00471796</td>\n",
       "      <td>0.005309</td>\n",
       "      <td>0.007214</td>\n",
       "      <td>0.020825</td>\n",
       "    </tr>\n",
       "    <tr>\n",
       "      <th>std_ret</th>\n",
       "      <td>0.0434779</td>\n",
       "      <td>0.00815537</td>\n",
       "      <td>0.009762</td>\n",
       "      <td>0.026607</td>\n",
       "      <td>0.039363</td>\n",
       "    </tr>\n",
       "    <tr>\n",
       "      <th>mean_excess_ret</th>\n",
       "      <td>0.0052512</td>\n",
       "      <td>0.00109184</td>\n",
       "      <td>0.001683</td>\n",
       "      <td>0.003587</td>\n",
       "      <td>0.017199</td>\n",
       "    </tr>\n",
       "    <tr>\n",
       "      <th>sharpe_ratio</th>\n",
       "      <td>0.120779</td>\n",
       "      <td>0.13388</td>\n",
       "      <td>0.172410</td>\n",
       "      <td>0.134831</td>\n",
       "      <td>0.436938</td>\n",
       "    </tr>\n",
       "  </tbody>\n",
       "</table>\n",
       "</div>"
      ],
      "text/plain": [
       "                     vw_ret    vw_bonds     p_tan      p_64     p_rpl\n",
       "mean_ret         0.00887733  0.00471796  0.005309  0.007214  0.020825\n",
       "std_ret           0.0434779  0.00815537  0.009762  0.026607  0.039363\n",
       "mean_excess_ret   0.0052512  0.00109184  0.001683  0.003587  0.017199\n",
       "sharpe_ratio       0.120779     0.13388  0.172410  0.134831  0.436938"
      ]
     },
     "execution_count": 150,
     "metadata": {},
     "output_type": "execute_result"
    }
   ],
   "source": [
    "risks = np.array([summ_1[\"vw_ret\"][\"std_ret\"],summ_1[\"vw_bonds\"][\"std_ret\"]])\n",
    "w_rpl = summ_1[\"p_64\"][\"std_ret\"]/risks\n",
    "mu_rpl = w_rpl.T.dot(mu)\n",
    "std_rpl = np.sqrt(w_rpl.T.dot(sigma).dot(w_rpl))\n",
    "excess_rpl = mu_rpl - np.mean(data[\"simp_ret\"]) #?\n",
    "sharpe_rpl = excess_rpl / std_rpl #?\n",
    "\n",
    "summ_1[\"p_rpl\"] = [mu_rpl, std_rpl, excess_rpl, sharpe_rpl]\n",
    "summ_1"
   ]
  },
  {
   "cell_type": "markdown",
   "metadata": {},
   "source": [
    "#### 2.5. Risk-parity portfolio unlevered\n",
    "\n",
    "$$\n",
    "\\mathrm{w}_{\\mathrm{i}}=\\frac{1 / \\sigma_{\\mathrm{i}}}{\\sum\\left(\\frac{1}{\\sigma_{\\mathrm{k}}}\\right)}\n",
    "$$"
   ]
  },
  {
   "cell_type": "code",
   "execution_count": 151,
   "metadata": {},
   "outputs": [
    {
     "data": {
      "text/html": [
       "<div>\n",
       "<style scoped>\n",
       "    .dataframe tbody tr th:only-of-type {\n",
       "        vertical-align: middle;\n",
       "    }\n",
       "\n",
       "    .dataframe tbody tr th {\n",
       "        vertical-align: top;\n",
       "    }\n",
       "\n",
       "    .dataframe thead th {\n",
       "        text-align: right;\n",
       "    }\n",
       "</style>\n",
       "<table border=\"1\" class=\"dataframe\">\n",
       "  <thead>\n",
       "    <tr style=\"text-align: right;\">\n",
       "      <th></th>\n",
       "      <th>vw_ret</th>\n",
       "      <th>vw_bonds</th>\n",
       "      <th>p_tan</th>\n",
       "      <th>p_64</th>\n",
       "      <th>p_rpl</th>\n",
       "      <th>p_rpu</th>\n",
       "    </tr>\n",
       "  </thead>\n",
       "  <tbody>\n",
       "    <tr>\n",
       "      <th>mean_ret</th>\n",
       "      <td>0.00887733</td>\n",
       "      <td>0.00471796</td>\n",
       "      <td>0.005309</td>\n",
       "      <td>0.007214</td>\n",
       "      <td>0.020825</td>\n",
       "      <td>0.005375</td>\n",
       "    </tr>\n",
       "    <tr>\n",
       "      <th>std_ret</th>\n",
       "      <td>0.0434779</td>\n",
       "      <td>0.00815537</td>\n",
       "      <td>0.009762</td>\n",
       "      <td>0.026607</td>\n",
       "      <td>0.039363</td>\n",
       "      <td>0.010159</td>\n",
       "    </tr>\n",
       "    <tr>\n",
       "      <th>mean_excess_ret</th>\n",
       "      <td>0.0052512</td>\n",
       "      <td>0.00109184</td>\n",
       "      <td>0.001683</td>\n",
       "      <td>0.003587</td>\n",
       "      <td>0.017199</td>\n",
       "      <td>0.001749</td>\n",
       "    </tr>\n",
       "    <tr>\n",
       "      <th>sharpe_ratio</th>\n",
       "      <td>0.120779</td>\n",
       "      <td>0.13388</td>\n",
       "      <td>0.172410</td>\n",
       "      <td>0.134831</td>\n",
       "      <td>0.436938</td>\n",
       "      <td>0.172136</td>\n",
       "    </tr>\n",
       "  </tbody>\n",
       "</table>\n",
       "</div>"
      ],
      "text/plain": [
       "                     vw_ret    vw_bonds     p_tan      p_64     p_rpl  \\\n",
       "mean_ret         0.00887733  0.00471796  0.005309  0.007214  0.020825   \n",
       "std_ret           0.0434779  0.00815537  0.009762  0.026607  0.039363   \n",
       "mean_excess_ret   0.0052512  0.00109184  0.001683  0.003587  0.017199   \n",
       "sharpe_ratio       0.120779     0.13388  0.172410  0.134831  0.436938   \n",
       "\n",
       "                    p_rpu  \n",
       "mean_ret         0.005375  \n",
       "std_ret          0.010159  \n",
       "mean_excess_ret  0.001749  \n",
       "sharpe_ratio     0.172136  "
      ]
     },
     "execution_count": 151,
     "metadata": {},
     "output_type": "execute_result"
    }
   ],
   "source": [
    "# Following AFP, also compute the mean, standard\n",
    "# deviation and Sharpe ratio of the RP-unlevered portfolio whose weights in stock\n",
    "# and bond are rescaled by a constant so that they sum up to 1 (so that the portfolio\n",
    "# does not hold the risk-free T-Bill). \n",
    "\n",
    "w_rpu = (1/risks)/(1/risks).sum()\n",
    "mu_rpu = w_rpu.T.dot(mu).reshape(1)[0]\n",
    "std_rpu = np.sqrt(w_rpu.T.dot(sigma).dot(w_rpu)).reshape(1)[0]\n",
    "excess_rpu = mu_rpu - np.mean(data[\"simp_ret\"])\n",
    "sharpe_rpu = excess_rpu / std_rpu\n",
    "\n",
    "summ_1[\"p_rpu\"] = [mu_rpu, std_rpu, excess_rpu, sharpe_rpu]\n",
    "summ_1"
   ]
  },
  {
   "cell_type": "code",
   "execution_count": 121,
   "metadata": {},
   "outputs": [
    {
     "data": {
      "text/plain": [
       "array([0.043477870976818406, 0.008155365367769918, 0.00976175799369642,\n",
       "       0.026607054607986638, 0.039362519948004694, 0.010159408834492229],\n",
       "      dtype=object)"
      ]
     },
     "execution_count": 121,
     "metadata": {},
     "output_type": "execute_result"
    }
   ],
   "source": [
    "summ_1.loc[\"std_ret\"].values"
   ]
  },
  {
   "cell_type": "markdown",
   "metadata": {},
   "source": [
    "#### 2.6. Plot the efficient frontier"
   ]
  },
  {
   "cell_type": "code",
   "execution_count": 251,
   "metadata": {},
   "outputs": [
    {
     "data": {
      "text/plain": [
       "Text(0,0.00362612,'Rf')"
      ]
     },
     "execution_count": 251,
     "metadata": {},
     "output_type": "execute_result"
    },
    {
     "data": {
      "image/png": "[encoded data removed]",
      "text/plain": [
       "<Figure size 432x288 with 1 Axes>"
      ]
     },
     "metadata": {},
     "output_type": "display_data"
    }
   ],
   "source": [
    "# plot\n",
    "\n",
    "#frontier\n",
    "mu_theoretical = np.linspace(0.001,0.015,1000)\n",
    "A = np.ones(2).T.dot(np.linalg.inv(sigma)).dot(np.ones(2))\n",
    "B = np.ones(2).T.dot(np.linalg.inv(sigma)).dot(mu)\n",
    "C = mu.T.dot(np.linalg.inv(sigma)).dot(mu)\n",
    "delta = A*C - B**2\n",
    "\n",
    "#sigma of the tangency portfolio corresponding to each mu\n",
    "sig_tan = np.sqrt((A*np.multiply(mu_theoretical,mu_theoretical)-2*B*mu_theoretical+C)/delta) \n",
    "\n",
    "plt.plot(sig_tan, mu_theoretical)\n",
    "plt.xlabel('Standard Deviation')\n",
    "plt.ylabel('Expected Return')\n",
    "plt.xlim(0, 0.1)\n",
    "\n",
    "portfolios = [\"p_tan\", \"p_64\", \"p_rpl\", \"p_rpu\"]\n",
    "all_means = summ_1[portfolios].loc[\"mean_ret\"].values\n",
    "all_stds = summ_1[portfolios].loc[\"std_ret\"].values\n",
    "colors = [\"red\", \"black\", \"cyan\", \"pink\"]\n",
    "for i in range(len(all_means)):\n",
    "    plt.plot(all_stds[i], all_means[i], c=colors[i], marker=\"o\")\n",
    "    plt.annotate(portfolios[i], xy=(all_stds[i], all_means[i]))\n",
    "\n",
    "plt.plot(0.0, np.mean(data[\"simp_ret\"]), \"bo\")\n",
    "plt.annotate(\"Rf\", xy=(0,np.mean(data[\"simp_ret\"])))"
   ]
  },
  {
   "cell_type": "markdown",
   "metadata": {},
   "source": [
    "#### 2.7. Risk parity rolling\n"
   ]
  },
  {
   "cell_type": "code",
   "execution_count": 173,
   "metadata": {},
   "outputs": [],
   "source": [
    "# Following the notes of figure 1 in AFP (or of table 2 in AFP), note that their RP-\n",
    "# strategy is actually computed by rebalancing the portfolio at every month setting\n",
    "# the weights in each asset class equal to the inverse of its volatility, estimated\n",
    "# by using three-year monthly excess returns up to month t − 1. Compute the\n",
    "# returns to this ”rolling-window” RP-strategy. Choose portfolio weights again\n",
    "# such that the portfolio’s full sample volatility is equal to the volatility of the\n",
    "# 60/40 portfolio. Also compute the RP-unlevered strategy returns following AFP.\n",
    "# How do the performances of these ”rolling-window” RP strategies compare with\n",
    "# that of the ”full-window” strategies you estimated previously? Are they identical?\n",
    "# Why?\n",
    "\n",
    "# three year monthly access = 12 x 3 - 1 rolling window\n",
    "# extract relevant columns\n",
    "rets = data[[\"date_x\", \"ret_x\", \"ret_y\", \"simp_ret\"]].set_index(\"date_x\")\n",
    "rolling_mean = rets.rolling(window=12*3).mean().dropna()\n",
    "rolling_std = rets[[\"ret_x\",\"ret_y\"]].rolling(window=12*3).std().dropna()\n",
    "rolling_cov = rets[[\"ret_x\",\"ret_y\"]].rolling(window=12*3).cov().dropna()\n",
    "\n",
    "# tangency portfolio, 60/40 portfolio and risk-parity-(un)levered portfolio\n",
    "\n",
    "summ_dates= pd.DataFrame(columns=[\"p_tan\", \"p_64\", \"p_rpl\", \"p_rpu\"], \n",
    "                      index=rolling_mean.index)\n",
    "\n",
    "for date in rolling_mean.index:\n",
    "    summ_2 = pd.DataFrame(columns=[\"p_tan\", \"p_64\", \"p_rpl\", \"p_rpu\"], \n",
    "                      index=[\"mean_p\", \"std_p\", \"excess_ret\", \"sharpe_p\"])\n",
    "\n",
    "    sigma_p = np.array(rolling_cov.loc[date])\n",
    "    mu_p = np.array(rolling_mean[[\"ret_x\", \"ret_y\"]].loc[date])\n",
    "    A = np.ones(2).T.dot(np.linalg.inv(sigma_p)).dot(np.ones(2))\n",
    "    B = np.ones(2).T.dot(np.linalg.inv(sigma_p)).dot(mu_p)\n",
    "    C = mu_p.T.dot(np.linalg.inv(sigma_p)).dot(mu_p)\n",
    "    delta = A*C - B**2\n",
    "    \n",
    "    w_tan = (np.linalg.inv(sigma_p).dot(mu_p - rolling_mean.simp_ret[date]))/(B - A*rolling_mean.simp_ret[date])\n",
    "    w_64 = np.array([0.6, 0.4])\n",
    "    w_rpu = (1/rolling_std.loc[date])/(1/rolling_std.loc[date]).sum()\n",
    "    std_64 = np.sqrt(w_64.T.dot(sigma_p).dot(w_64))\n",
    "    w_rpl = std_64/rolling_std.loc[date]\n",
    "\n",
    "    for p,w in {\"p_tan\": w_tan, \"p_64\": w_64, \"p_rpl\": w_rpl, \"p_rpu\": w_rpu}.items():\n",
    "        ret_p = mu_p.T.dot(w)\n",
    "        summ_dates[p][date] = ret_p   "
   ]
  },
  {
   "cell_type": "code",
   "execution_count": 194,
   "metadata": {},
   "outputs": [],
   "source": [
    "mean_excess_ret_rolling = summ_dates.mean() - rolling_mean.simp_ret.mean()\n",
    "tmp_dict = {\"mean_ret\": summ_dates.mean(), \"std_ret\": summ_dates.std(), \"mean_excess_ret\": mean_excess_ret_rolling,\n",
    "           \"sharpe_ratio\": mean_excess_ret_rolling/summ_dates.std()}\n",
    "summ_2 = pd.DataFrame(tmp_dict).T"
   ]
  },
  {
   "cell_type": "code",
   "execution_count": 195,
   "metadata": {},
   "outputs": [
    {
     "data": {
      "text/html": [
       "<div>\n",
       "<style scoped>\n",
       "    .dataframe tbody tr th:only-of-type {\n",
       "        vertical-align: middle;\n",
       "    }\n",
       "\n",
       "    .dataframe tbody tr th {\n",
       "        vertical-align: top;\n",
       "    }\n",
       "\n",
       "    .dataframe thead th {\n",
       "        text-align: right;\n",
       "    }\n",
       "</style>\n",
       "<table border=\"1\" class=\"dataframe\">\n",
       "  <thead>\n",
       "    <tr style=\"text-align: right;\">\n",
       "      <th></th>\n",
       "      <th>p_tan</th>\n",
       "      <th>p_64</th>\n",
       "      <th>p_rpl</th>\n",
       "      <th>p_rpu</th>\n",
       "    </tr>\n",
       "  </thead>\n",
       "  <tbody>\n",
       "    <tr>\n",
       "      <th>mean_ret</th>\n",
       "      <td>0.003802</td>\n",
       "      <td>0.007264</td>\n",
       "      <td>0.025256</td>\n",
       "      <td>0.005283</td>\n",
       "    </tr>\n",
       "    <tr>\n",
       "      <th>std_ret</th>\n",
       "      <td>0.016514</td>\n",
       "      <td>0.004267</td>\n",
       "      <td>0.010776</td>\n",
       "      <td>0.002913</td>\n",
       "    </tr>\n",
       "    <tr>\n",
       "      <th>mean_excess_ret</th>\n",
       "      <td>0.000080</td>\n",
       "      <td>0.003542</td>\n",
       "      <td>0.021535</td>\n",
       "      <td>0.001561</td>\n",
       "    </tr>\n",
       "    <tr>\n",
       "      <th>sharpe_ratio</th>\n",
       "      <td>0.004848</td>\n",
       "      <td>0.830083</td>\n",
       "      <td>1.998369</td>\n",
       "      <td>0.535954</td>\n",
       "    </tr>\n",
       "  </tbody>\n",
       "</table>\n",
       "</div>"
      ],
      "text/plain": [
       "                    p_tan      p_64     p_rpl     p_rpu\n",
       "mean_ret         0.003802  0.007264  0.025256  0.005283\n",
       "std_ret          0.016514  0.004267  0.010776  0.002913\n",
       "mean_excess_ret  0.000080  0.003542  0.021535  0.001561\n",
       "sharpe_ratio     0.004848  0.830083  1.998369  0.535954"
      ]
     },
     "execution_count": 195,
     "metadata": {},
     "output_type": "execute_result"
    }
   ],
   "source": [
    "summ_2"
   ]
  },
  {
   "cell_type": "markdown",
   "metadata": {},
   "source": [
    "#### 2.8. Utility of investor who chooses the rolling strategy"
   ]
  },
  {
   "cell_type": "code",
   "execution_count": 209,
   "metadata": {},
   "outputs": [],
   "source": [
    "# Consider an investor who has mean-variance utility U = μ p − a 2 σ p 2 and a risk\n",
    "# aversion coefficient a of 6. Using the full-sample estimates of the means and\n",
    "# covariance matrix stocks and bonds, what is her optimal portfolio? What is its\n",
    "# expected return, standard deviation, and Sharpe ratio of her optimal portfolio?\n",
    "summ_utility = pd.DataFrame(index=summ_2.columns, columns=[\"utility\"])\n",
    "a = 6 # risk aversion(a/2)*vals[\"std_ret\"]**2\n",
    "\n",
    "for p,vals in summ_1[[\"p_tan\", \"p_64\", \"p_rpl\", \"p_rpu\"]].iteritems():\n",
    "    #print(vals)\n",
    "    summ_utility.loc[p] = vals[\"mean_ret\"] - (a/2)*vals[\"std_ret\"]**2"
   ]
  },
  {
   "cell_type": "code",
   "execution_count": 210,
   "metadata": {},
   "outputs": [
    {
     "data": {
      "text/html": [
       "<div>\n",
       "<style scoped>\n",
       "    .dataframe tbody tr th:only-of-type {\n",
       "        vertical-align: middle;\n",
       "    }\n",
       "\n",
       "    .dataframe tbody tr th {\n",
       "        vertical-align: top;\n",
       "    }\n",
       "\n",
       "    .dataframe thead th {\n",
       "        text-align: right;\n",
       "    }\n",
       "</style>\n",
       "<table border=\"1\" class=\"dataframe\">\n",
       "  <thead>\n",
       "    <tr style=\"text-align: right;\">\n",
       "      <th></th>\n",
       "      <th>utility</th>\n",
       "    </tr>\n",
       "  </thead>\n",
       "  <tbody>\n",
       "    <tr>\n",
       "      <th>p_tan</th>\n",
       "      <td>0.00502328</td>\n",
       "    </tr>\n",
       "    <tr>\n",
       "      <th>p_64</th>\n",
       "      <td>0.00508977</td>\n",
       "    </tr>\n",
       "    <tr>\n",
       "      <th>p_rpl</th>\n",
       "      <td>0.0161769</td>\n",
       "    </tr>\n",
       "    <tr>\n",
       "      <th>p_rpu</th>\n",
       "      <td>0.00506528</td>\n",
       "    </tr>\n",
       "  </tbody>\n",
       "</table>\n",
       "</div>"
      ],
      "text/plain": [
       "          utility\n",
       "p_tan  0.00502328\n",
       "p_64   0.00508977\n",
       "p_rpl   0.0161769\n",
       "p_rpu  0.00506528"
      ]
     },
     "execution_count": 210,
     "metadata": {},
     "output_type": "execute_result"
    }
   ],
   "source": [
    "summ_utility"
   ]
  },
  {
   "cell_type": "code",
   "execution_count": 80,
   "metadata": {},
   "outputs": [],
   "source": [
    "# • If the mean-variance investor could in addition invest in either the ”full-window”\n",
    "# to transform them into simple and monthly rates, in order to use them in your portfolio construction (the\n",
    "# stock returns are already simple monthly returns).\n",
    "# RP strategy or the ”rolling-window” RP strategy, would she want to do so? Ex-\n",
    "# plain what is AFP’s argument why risk-parity is actually a useful strategy."
   ]
  },
  {
   "cell_type": "code",
   "execution_count": null,
   "metadata": {},
   "outputs": [],
   "source": []
  }
 ],
 "metadata": {
  "kernelspec": {
   "display_name": "Python 3",
   "language": "python",
   "name": "python3"
  },
  "language_info": {
   "codemirror_mode": {
    "name": "ipython",
    "version": 3
   },
   "file_extension": ".py",
   "mimetype": "text/x-python",
   "name": "python",
   "nbconvert_exporter": "python",
   "pygments_lexer": "ipython3",
   "version": "3.6.6"
  }
 },
 "nbformat": 4,
 "nbformat_minor": 2
}
