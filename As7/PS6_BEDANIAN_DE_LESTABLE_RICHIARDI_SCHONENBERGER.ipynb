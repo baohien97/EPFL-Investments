{
 "cells": [
  {
   "cell_type": "markdown",
   "metadata": {},
   "source": [
    "# Assignment 6"
   ]
  },
  {
   "cell_type": "markdown",
   "metadata": {},
   "source": [
    "### a)"
   ]
  },
  {
   "cell_type": "code",
   "execution_count": 2,
   "metadata": {
    "scrolled": true
   },
   "outputs": [
    {
     "name": "stdout",
     "output_type": "stream",
     "text": [
      "Loading library list...\n",
      "Done\n"
     ]
    }
   ],
   "source": [
    "import numpy as np\n",
    "import pandas as pd\n",
    "import random as random\n",
    "import matplotlib.pyplot as plt\n",
    "import scipy.stats as ss\n",
    "from datetime import datetime\n",
    "from scipy import stats\n",
    "#goqhuB-1hafqe-dojvix\n",
    "import wrds\n",
    "db = wrds.Connection(wrds_username = 'anita97') "
   ]
  },
  {
   "cell_type": "code",
   "execution_count": 3,
   "metadata": {},
   "outputs": [
    {
     "data": {
      "text/html": [
       "<div>\n",
       "<style scoped>\n",
       "    .dataframe tbody tr th:only-of-type {\n",
       "        vertical-align: middle;\n",
       "    }\n",
       "\n",
       "    .dataframe tbody tr th {\n",
       "        vertical-align: top;\n",
       "    }\n",
       "\n",
       "    .dataframe thead th {\n",
       "        text-align: right;\n",
       "    }\n",
       "</style>\n",
       "<table border=\"1\" class=\"dataframe\">\n",
       "  <thead>\n",
       "    <tr style=\"text-align: right;\">\n",
       "      <th></th>\n",
       "      <th>permno</th>\n",
       "      <th>date</th>\n",
       "      <th>exchcd</th>\n",
       "      <th>ret</th>\n",
       "      <th>shrout</th>\n",
       "      <th>shrcd</th>\n",
       "      <th>prc</th>\n",
       "    </tr>\n",
       "  </thead>\n",
       "  <tbody>\n",
       "    <tr>\n",
       "      <th>0</th>\n",
       "      <td>10001.0</td>\n",
       "      <td>2009-12-31</td>\n",
       "      <td>2.0</td>\n",
       "      <td>0.162621</td>\n",
       "      <td>4361.0</td>\n",
       "      <td>11.0</td>\n",
       "      <td>10.3000</td>\n",
       "    </tr>\n",
       "    <tr>\n",
       "      <th>1</th>\n",
       "      <td>10001.0</td>\n",
       "      <td>2010-01-29</td>\n",
       "      <td>2.0</td>\n",
       "      <td>-0.018932</td>\n",
       "      <td>4361.0</td>\n",
       "      <td>11.0</td>\n",
       "      <td>10.0600</td>\n",
       "    </tr>\n",
       "    <tr>\n",
       "      <th>2</th>\n",
       "      <td>10001.0</td>\n",
       "      <td>2010-02-26</td>\n",
       "      <td>2.0</td>\n",
       "      <td>-0.000656</td>\n",
       "      <td>4361.0</td>\n",
       "      <td>11.0</td>\n",
       "      <td>10.0084</td>\n",
       "    </tr>\n",
       "    <tr>\n",
       "      <th>3</th>\n",
       "      <td>10001.0</td>\n",
       "      <td>2010-03-31</td>\n",
       "      <td>2.0</td>\n",
       "      <td>0.020643</td>\n",
       "      <td>4361.0</td>\n",
       "      <td>11.0</td>\n",
       "      <td>10.1700</td>\n",
       "    </tr>\n",
       "    <tr>\n",
       "      <th>4</th>\n",
       "      <td>10001.0</td>\n",
       "      <td>2010-04-30</td>\n",
       "      <td>2.0</td>\n",
       "      <td>0.124385</td>\n",
       "      <td>6070.0</td>\n",
       "      <td>11.0</td>\n",
       "      <td>11.3900</td>\n",
       "    </tr>\n",
       "  </tbody>\n",
       "</table>\n",
       "</div>"
      ],
      "text/plain": [
       "    permno        date  exchcd       ret  shrout  shrcd      prc\n",
       "0  10001.0  2009-12-31     2.0  0.162621  4361.0   11.0  10.3000\n",
       "1  10001.0  2010-01-29     2.0 -0.018932  4361.0   11.0  10.0600\n",
       "2  10001.0  2010-02-26     2.0 -0.000656  4361.0   11.0  10.0084\n",
       "3  10001.0  2010-03-31     2.0  0.020643  4361.0   11.0  10.1700\n",
       "4  10001.0  2010-04-30     2.0  0.124385  6070.0   11.0  11.3900"
      ]
     },
     "execution_count": 3,
     "metadata": {},
     "output_type": "execute_result"
    }
   ],
   "source": [
    "#import stocks\n",
    "stocks = db.raw_sql(\"select a.permno, a.date, b.exchcd, a.ret, a.shrout, b.shrcd, a.prc \\\n",
    "                  from crsp.msf as a \\\n",
    "                  join crsp.msenames as b \\\n",
    "                  on a.permno = b.permno and b.namedt <= a.date and a.date<=b.nameendt \\\n",
    "                  where b.shrcd between (10) and (11)and a.date >='2000-01-01' and a.date<='2019-12-31'\\\n",
    "                  and b.exchcd between 1 and 2\")\n",
    "stocks.head()"
   ]
  },
  {
   "cell_type": "code",
   "execution_count": 4,
   "metadata": {},
   "outputs": [],
   "source": [
    "# drop NA and shares with less than 24 observations \n",
    "#stocks = stocks.reset_index\n",
    "stocks = stocks.set_index('permno')\n",
    "x = stocks.groupby('permno').count()['ret'][lambda x: x>=240]\n",
    "selected_stocks=list(x.index)\n",
    "stocks=stocks.loc[selected_stocks]\n",
    "stocks=stocks.dropna()\n",
    "num_after = stocks.shape[0]\n",
    "stocks['prc'] = abs(stocks['prc'])"
   ]
  },
  {
   "cell_type": "code",
   "execution_count": 5,
   "metadata": {},
   "outputs": [
    {
     "data": {
      "text/html": [
       "<div>\n",
       "<style scoped>\n",
       "    .dataframe tbody tr th:only-of-type {\n",
       "        vertical-align: middle;\n",
       "    }\n",
       "\n",
       "    .dataframe tbody tr th {\n",
       "        vertical-align: top;\n",
       "    }\n",
       "\n",
       "    .dataframe thead th {\n",
       "        text-align: right;\n",
       "    }\n",
       "</style>\n",
       "<table border=\"1\" class=\"dataframe\">\n",
       "  <thead>\n",
       "    <tr style=\"text-align: right;\">\n",
       "      <th></th>\n",
       "      <th>date</th>\n",
       "      <th>rf</th>\n",
       "    </tr>\n",
       "  </thead>\n",
       "  <tbody>\n",
       "    <tr>\n",
       "      <th>0</th>\n",
       "      <td>2000-01-31</td>\n",
       "      <td>0.00449835</td>\n",
       "    </tr>\n",
       "    <tr>\n",
       "      <th>1</th>\n",
       "      <td>2000-02-29</td>\n",
       "      <td>0.00443834</td>\n",
       "    </tr>\n",
       "    <tr>\n",
       "      <th>2</th>\n",
       "      <td>2000-03-31</td>\n",
       "      <td>0.00489188</td>\n",
       "    </tr>\n",
       "    <tr>\n",
       "      <th>3</th>\n",
       "      <td>2000-04-28</td>\n",
       "      <td>0.00440126</td>\n",
       "    </tr>\n",
       "    <tr>\n",
       "      <th>4</th>\n",
       "      <td>2000-05-31</td>\n",
       "      <td>0.00390314</td>\n",
       "    </tr>\n",
       "  </tbody>\n",
       "</table>\n",
       "</div>"
      ],
      "text/plain": [
       "         date          rf\n",
       "0  2000-01-31  0.00449835\n",
       "1  2000-02-29  0.00443834\n",
       "2  2000-03-31  0.00489188\n",
       "3  2000-04-28  0.00440126\n",
       "4  2000-05-31  0.00390314"
      ]
     },
     "execution_count": 5,
     "metadata": {},
     "output_type": "execute_result"
    }
   ],
   "source": [
    "# import risk free rate\n",
    "RF = db.raw_sql(\"select mcaldt as date, tmytm as rf from crsp.tfz_mth_rf where kytreasnox = 2000001 and mcaldt>='2000-01-01' and mcaldt<='2019-12-31'\")\n",
    "Rf_monthly = np.exp(np.divide(RF.rf, 1200)) -1\n",
    "Rf = pd.DataFrame([RF.date, Rf_monthly], index=['date', 'rf']).T\n",
    "Rf.head()"
   ]
  },
  {
   "cell_type": "code",
   "execution_count": 6,
   "metadata": {},
   "outputs": [
    {
     "data": {
      "text/html": [
       "<div>\n",
       "<style scoped>\n",
       "    .dataframe tbody tr th:only-of-type {\n",
       "        vertical-align: middle;\n",
       "    }\n",
       "\n",
       "    .dataframe tbody tr th {\n",
       "        vertical-align: top;\n",
       "    }\n",
       "\n",
       "    .dataframe thead th {\n",
       "        text-align: right;\n",
       "    }\n",
       "</style>\n",
       "<table border=\"1\" class=\"dataframe\">\n",
       "  <thead>\n",
       "    <tr style=\"text-align: right;\">\n",
       "      <th></th>\n",
       "      <th>mkt_ret</th>\n",
       "    </tr>\n",
       "    <tr>\n",
       "      <th>date</th>\n",
       "      <th></th>\n",
       "    </tr>\n",
       "  </thead>\n",
       "  <tbody>\n",
       "    <tr>\n",
       "      <th>2000-01-31</th>\n",
       "      <td>-0.0396243</td>\n",
       "    </tr>\n",
       "    <tr>\n",
       "      <th>2000-02-29</th>\n",
       "      <td>0.0317784</td>\n",
       "    </tr>\n",
       "    <tr>\n",
       "      <th>2000-03-31</th>\n",
       "      <td>0.0535007</td>\n",
       "    </tr>\n",
       "    <tr>\n",
       "      <th>2000-04-28</th>\n",
       "      <td>-0.059527</td>\n",
       "    </tr>\n",
       "    <tr>\n",
       "      <th>2000-05-31</th>\n",
       "      <td>-0.0388696</td>\n",
       "    </tr>\n",
       "  </tbody>\n",
       "</table>\n",
       "</div>"
      ],
      "text/plain": [
       "              mkt_ret\n",
       "date                 \n",
       "2000-01-31 -0.0396243\n",
       "2000-02-29  0.0317784\n",
       "2000-03-31  0.0535007\n",
       "2000-04-28  -0.059527\n",
       "2000-05-31 -0.0388696"
      ]
     },
     "execution_count": 6,
     "metadata": {},
     "output_type": "execute_result"
    }
   ],
   "source": [
    "# import rm \n",
    "Rm = db.raw_sql(\"select date, vwretd from crsp.msi where date>='2000-01-01' and date<='2019-12-31'\")\n",
    "Rm = pd.DataFrame([Rm.date, Rm.vwretd.values], index=['date', 'mkt_ret']).T\n",
    "Rm = Rm.set_index('date')\n",
    "Rm.head()"
   ]
  },
  {
   "cell_type": "markdown",
   "metadata": {},
   "source": [
    "### b)"
   ]
  },
  {
   "cell_type": "code",
   "execution_count": 7,
   "metadata": {},
   "outputs": [],
   "source": [
    "beta_series=[]\n",
    "for i in selected_stocks:\n",
    "    current_stock=stocks.loc[i]\n",
    "    cov=np.cov((current_stock.ret.astype(float)), (Rm.loc[current_stock.date].mkt_ret.astype(float)))\n",
    "    beta_series.append(cov[0,1]/cov[1,1])\n"
   ]
  },
  {
   "cell_type": "code",
   "execution_count": 8,
   "metadata": {},
   "outputs": [
    {
     "data": {
      "text/html": [
       "<div>\n",
       "<style scoped>\n",
       "    .dataframe tbody tr th:only-of-type {\n",
       "        vertical-align: middle;\n",
       "    }\n",
       "\n",
       "    .dataframe tbody tr th {\n",
       "        vertical-align: top;\n",
       "    }\n",
       "\n",
       "    .dataframe thead th {\n",
       "        text-align: right;\n",
       "    }\n",
       "</style>\n",
       "<table border=\"1\" class=\"dataframe\">\n",
       "  <thead>\n",
       "    <tr style=\"text-align: right;\">\n",
       "      <th></th>\n",
       "      <th>beta</th>\n",
       "    </tr>\n",
       "  </thead>\n",
       "  <tbody>\n",
       "    <tr>\n",
       "      <th>10145.0</th>\n",
       "      <td>1.200190</td>\n",
       "    </tr>\n",
       "    <tr>\n",
       "      <th>10294.0</th>\n",
       "      <td>0.758752</td>\n",
       "    </tr>\n",
       "    <tr>\n",
       "      <th>10308.0</th>\n",
       "      <td>0.443625</td>\n",
       "    </tr>\n",
       "    <tr>\n",
       "      <th>10516.0</th>\n",
       "      <td>0.497710</td>\n",
       "    </tr>\n",
       "    <tr>\n",
       "      <th>10517.0</th>\n",
       "      <td>0.642811</td>\n",
       "    </tr>\n",
       "  </tbody>\n",
       "</table>\n",
       "</div>"
      ],
      "text/plain": [
       "             beta\n",
       "10145.0  1.200190\n",
       "10294.0  0.758752\n",
       "10308.0  0.443625\n",
       "10516.0  0.497710\n",
       "10517.0  0.642811"
      ]
     },
     "execution_count": 8,
     "metadata": {},
     "output_type": "execute_result"
    }
   ],
   "source": [
    "beta = pd.DataFrame(beta_series, index=selected_stocks, columns=[\"beta\"])\n",
    "beta.head()"
   ]
  },
  {
   "cell_type": "code",
   "execution_count": 9,
   "metadata": {},
   "outputs": [
    {
     "data": {
      "text/html": [
       "<div>\n",
       "<style scoped>\n",
       "    .dataframe tbody tr th:only-of-type {\n",
       "        vertical-align: middle;\n",
       "    }\n",
       "\n",
       "    .dataframe tbody tr th {\n",
       "        vertical-align: top;\n",
       "    }\n",
       "\n",
       "    .dataframe thead th {\n",
       "        text-align: right;\n",
       "    }\n",
       "</style>\n",
       "<table border=\"1\" class=\"dataframe\">\n",
       "  <thead>\n",
       "    <tr style=\"text-align: right;\">\n",
       "      <th></th>\n",
       "      <th>beta</th>\n",
       "    </tr>\n",
       "  </thead>\n",
       "  <tbody>\n",
       "    <tr>\n",
       "      <th>10145.0</th>\n",
       "      <td>(1.151, 1.296]</td>\n",
       "    </tr>\n",
       "    <tr>\n",
       "      <th>10294.0</th>\n",
       "      <td>(0.744, 0.882]</td>\n",
       "    </tr>\n",
       "    <tr>\n",
       "      <th>10308.0</th>\n",
       "      <td>(0.425, 0.607]</td>\n",
       "    </tr>\n",
       "    <tr>\n",
       "      <th>10516.0</th>\n",
       "      <td>(0.425, 0.607]</td>\n",
       "    </tr>\n",
       "    <tr>\n",
       "      <th>10517.0</th>\n",
       "      <td>(0.607, 0.744]</td>\n",
       "    </tr>\n",
       "  </tbody>\n",
       "</table>\n",
       "</div>"
      ],
      "text/plain": [
       "                   beta\n",
       "10145.0  (1.151, 1.296]\n",
       "10294.0  (0.744, 0.882]\n",
       "10308.0  (0.425, 0.607]\n",
       "10516.0  (0.425, 0.607]\n",
       "10517.0  (0.607, 0.744]"
      ]
     },
     "execution_count": 9,
     "metadata": {},
     "output_type": "execute_result"
    }
   ],
   "source": [
    "pd_decile = pd.DataFrame(pd.qcut(beta.beta,10),index=selected_stocks, columns=[\"beta\"])\n",
    "pd_decile.head()"
   ]
  },
  {
   "cell_type": "code",
   "execution_count": 10,
   "metadata": {},
   "outputs": [
    {
     "name": "stdout",
     "output_type": "stream",
     "text": [
      "<class 'list'>\n",
      "We have 10 portfolios\n"
     ]
    }
   ],
   "source": [
    "inters = pd.qcut(beta.beta,10).values\n",
    "inters = list(dict.fromkeys(inters))\n",
    "print(type(inters))\n",
    "inters.sort()\n",
    "print(f\"We have {len(inters)} portfolios\")"
   ]
  },
  {
   "cell_type": "code",
   "execution_count": 11,
   "metadata": {},
   "outputs": [],
   "source": [
    "pd_decile.sort_values(by=\"beta\")\n",
    "pd_decile.reset_index(inplace=True)\n",
    "group_by_decile = pd_decile.groupby(\"beta\")\n",
    " #group_by_decile.head()"
   ]
  },
  {
   "cell_type": "code",
   "execution_count": 12,
   "metadata": {},
   "outputs": [
    {
     "data": {
      "text/plain": [
       "[0.010578064200653155,\n",
       " 0.011673588307960777,\n",
       " 0.011795769574635148,\n",
       " 0.012387057064423928,\n",
       " 0.012546739651515667,\n",
       " 0.011388637649192823,\n",
       " 0.011605631100893162,\n",
       " 0.01352149839154229,\n",
       " 0.012934378870434981,\n",
       " 0.013057582155231165]"
      ]
     },
     "execution_count": 12,
     "metadata": {},
     "output_type": "execute_result"
    }
   ],
   "source": [
    "avg_returns = []\n",
    "avg_beta = []\n",
    "for i in inters:\n",
    "    stock_index_by_inderval = group_by_decile.get_group(i)[\"index\"]\n",
    "    temp = stocks.loc[stock_index_by_inderval]\n",
    "    group_by_date = temp.groupby('date').mean()\n",
    "    comp = group_by_date.ret\n",
    "    avg_returns.append(comp.mean())\n",
    "    avg_beta.append(beta.loc[stock_index_by_inderval].mean())\n",
    "avg_returns\n"
   ]
  },
  {
   "cell_type": "code",
   "execution_count": 13,
   "metadata": {},
   "outputs": [
    {
     "name": "stdout",
     "output_type": "stream",
     "text": [
      "The market has a mean return of 0.005825365536250002 and \n",
      "the risk-free portfolio of 0.0013152996576685284.\n"
     ]
    },
    {
     "data": {
      "image/png": "[encoded data removed]",
      "text/plain": [
       "<Figure size 720x432 with 1 Axes>"
      ]
     },
     "metadata": {
      "needs_background": "light"
     },
     "output_type": "display_data"
    }
   ],
   "source": [
    "avg_ret_m = Rm.mkt_ret.mean()\n",
    "avg_rf    = Rf.rf.mean()\n",
    "print(f\"The market has a mean return of {avg_ret_m} and \\nthe risk-free portfolio of {avg_rf}.\")\n",
    "slope, intercept, r_value, p_value, std_err = stats.linregress([avg_beta[i][0] for i in range(len(avg_beta))],avg_returns)\n",
    "plt.figure(figsize=(10,6))\n",
    "plt.plot(avg_beta, avg_returns, 'rx', label='Portfolios')\n",
    "plt.plot(np.linspace(0,2.5,100), avg_rf + np.linspace(0,2.5,100)*(avg_ret_m - avg_rf), label='CAPM')\n",
    "plt.plot(np.linspace(0,2.5,100),np.linspace(0,2.5,100)*slope+intercept,label = 'Slope')\n",
    "plt.title('Return vs Beta')\n",
    "plt.xlabel('Average beta')\n",
    "plt.ylabel('Average return')\n",
    "plt.grid()\n",
    "plt.legend(loc='best')\n",
    "plt.show()"
   ]
  },
  {
   "cell_type": "code",
   "execution_count": 14,
   "metadata": {},
   "outputs": [
    {
     "name": "stdout",
     "output_type": "stream",
     "text": [
      "Slope coefficient : 0.001322463948955196\n"
     ]
    }
   ],
   "source": [
    "print('Slope coefficient :',slope)"
   ]
  },
  {
   "cell_type": "markdown",
   "metadata": {},
   "source": [
    "from scipy.stats import t\n",
    "alpha = 0.05\n",
    "t_tabel = t.ppf(1 - alpha/2, len(simple_return) - 1)\n",
    "t_stat = (np.sqrt((len(simple_return)-1)) * average) / standard_deviation\n",
    "if np.abs(t_stat)>t_tabel:\n",
    "    print(\"We reject H0, t-stat :\",t_stat)\n",
    "else:\n",
    "    print(\"We can't reject H0 and the mean return is not statiscally different from 0, t-stat :\",t_stat)"
   ]
  },
  {
   "cell_type": "markdown",
   "metadata": {},
   "source": [
    "### c)"
   ]
  },
  {
   "cell_type": "code",
   "execution_count": 16,
   "metadata": {},
   "outputs": [
    {
     "name": "stdout",
     "output_type": "stream",
     "text": [
      "Average return :  0.0024795179545780087\n",
      "Standar deviation :  0.09158556279877916\n"
     ]
    }
   ],
   "source": [
    "idx_L = group_by_decile.get_group(inters[0])[\"index\"]\n",
    "idx_H = group_by_decile.get_group(inters[-1])[\"index\"]\n",
    "\n",
    "stock_low_beta = stocks.loc[idx_L]\n",
    "stock_high_beta = stocks.loc[idx_H]\n",
    "\n",
    "group_by_date_low = stock_low_beta.groupby('date').mean()\n",
    "group_by_date_high = stock_high_beta.groupby('date').mean()\n",
    "\n",
    "simple_return = group_by_date_high.ret - group_by_date_low.ret\n",
    "\n",
    "average = simple_return.mean()\n",
    "standard_deviation = simple_return.std()\n",
    "\n",
    "print('Average return : ',average)\n",
    "print('Standar deviation : ',standard_deviation)"
   ]
  },
  {
   "cell_type": "markdown",
   "metadata": {},
   "source": [
    "### d)"
   ]
  },
  {
   "cell_type": "code",
   "execution_count": 17,
   "metadata": {},
   "outputs": [],
   "source": [
    "stocks.insert(5, 'mkt_cap', stocks.prc * stocks.shrout)\n",
    "def wavg(group, avg_name, weight_name):\n",
    "    d = group[avg_name]\n",
    "    w = group[weight_name]\n",
    "    try:\n",
    "        return (d * w).sum() / w.sum()\n",
    "    except ZeroDivisionError:\n",
    "        return np.nan"
   ]
  },
  {
   "cell_type": "code",
   "execution_count": 19,
   "metadata": {},
   "outputs": [
    {
     "ename": "ValueError",
     "evalue": "cannot insert mrk_cap_lag, already exists",
     "output_type": "error",
     "traceback": [
      "\u001b[1;31m---------------------------------------------------------------------------\u001b[0m",
      "\u001b[1;31mValueError\u001b[0m                                Traceback (most recent call last)",
      "\u001b[1;32m<ipython-input-19-e1687ad5789c>\u001b[0m in \u001b[0;36m<module>\u001b[1;34m\u001b[0m\n\u001b[1;32m----> 1\u001b[1;33m \u001b[0mstocks\u001b[0m\u001b[1;33m.\u001b[0m\u001b[0minsert\u001b[0m\u001b[1;33m(\u001b[0m\u001b[1;36m7\u001b[0m\u001b[1;33m,\u001b[0m\u001b[1;34m'mrk_cap_lag'\u001b[0m\u001b[1;33m,\u001b[0m\u001b[0mstocks\u001b[0m\u001b[1;33m.\u001b[0m\u001b[0mgroupby\u001b[0m\u001b[1;33m(\u001b[0m\u001b[1;34m'permno'\u001b[0m\u001b[1;33m)\u001b[0m\u001b[1;33m[\u001b[0m\u001b[1;34m'mkt_cap'\u001b[0m\u001b[1;33m]\u001b[0m\u001b[1;33m.\u001b[0m\u001b[0mshift\u001b[0m\u001b[1;33m(\u001b[0m\u001b[1;36m1\u001b[0m\u001b[1;33m)\u001b[0m\u001b[1;33m)\u001b[0m\u001b[1;33m\u001b[0m\u001b[1;33m\u001b[0m\u001b[0m\n\u001b[0m\u001b[0;32m      2\u001b[0m \u001b[0mstocks_wavg\u001b[0m \u001b[1;33m=\u001b[0m \u001b[0mstocks\u001b[0m\u001b[1;33m.\u001b[0m\u001b[0mgroupby\u001b[0m\u001b[1;33m(\u001b[0m\u001b[1;34m'permno'\u001b[0m\u001b[1;33m)\u001b[0m\u001b[1;33m.\u001b[0m\u001b[0mmean\u001b[0m\u001b[1;33m(\u001b[0m\u001b[1;33m)\u001b[0m\u001b[1;33m\u001b[0m\u001b[1;33m\u001b[0m\u001b[0m\n\u001b[0;32m      3\u001b[0m \u001b[0mstocks_wavg\u001b[0m\u001b[1;33m.\u001b[0m\u001b[0minsert\u001b[0m\u001b[1;33m(\u001b[0m\u001b[1;36m6\u001b[0m\u001b[1;33m,\u001b[0m\u001b[1;34m'beta'\u001b[0m\u001b[1;33m,\u001b[0m\u001b[0mbeta\u001b[0m\u001b[1;33m)\u001b[0m\u001b[1;33m\u001b[0m\u001b[1;33m\u001b[0m\u001b[0m\n\u001b[0;32m      4\u001b[0m \u001b[0mstocks_wavg\u001b[0m\u001b[1;33m.\u001b[0m\u001b[0mhead\u001b[0m\u001b[1;33m(\u001b[0m\u001b[1;33m)\u001b[0m\u001b[1;33m\u001b[0m\u001b[1;33m\u001b[0m\u001b[0m\n",
      "\u001b[1;32m~\\Anaconda3\\envs\\investments\\lib\\site-packages\\pandas\\core\\frame.py\u001b[0m in \u001b[0;36minsert\u001b[1;34m(self, loc, column, value, allow_duplicates)\u001b[0m\n\u001b[0;32m   3494\u001b[0m         \u001b[0mself\u001b[0m\u001b[1;33m.\u001b[0m\u001b[0m_ensure_valid_index\u001b[0m\u001b[1;33m(\u001b[0m\u001b[0mvalue\u001b[0m\u001b[1;33m)\u001b[0m\u001b[1;33m\u001b[0m\u001b[1;33m\u001b[0m\u001b[0m\n\u001b[0;32m   3495\u001b[0m         \u001b[0mvalue\u001b[0m \u001b[1;33m=\u001b[0m \u001b[0mself\u001b[0m\u001b[1;33m.\u001b[0m\u001b[0m_sanitize_column\u001b[0m\u001b[1;33m(\u001b[0m\u001b[0mcolumn\u001b[0m\u001b[1;33m,\u001b[0m \u001b[0mvalue\u001b[0m\u001b[1;33m,\u001b[0m \u001b[0mbroadcast\u001b[0m\u001b[1;33m=\u001b[0m\u001b[1;32mFalse\u001b[0m\u001b[1;33m)\u001b[0m\u001b[1;33m\u001b[0m\u001b[1;33m\u001b[0m\u001b[0m\n\u001b[1;32m-> 3496\u001b[1;33m         \u001b[0mself\u001b[0m\u001b[1;33m.\u001b[0m\u001b[0m_data\u001b[0m\u001b[1;33m.\u001b[0m\u001b[0minsert\u001b[0m\u001b[1;33m(\u001b[0m\u001b[0mloc\u001b[0m\u001b[1;33m,\u001b[0m \u001b[0mcolumn\u001b[0m\u001b[1;33m,\u001b[0m \u001b[0mvalue\u001b[0m\u001b[1;33m,\u001b[0m \u001b[0mallow_duplicates\u001b[0m\u001b[1;33m=\u001b[0m\u001b[0mallow_duplicates\u001b[0m\u001b[1;33m)\u001b[0m\u001b[1;33m\u001b[0m\u001b[1;33m\u001b[0m\u001b[0m\n\u001b[0m\u001b[0;32m   3497\u001b[0m \u001b[1;33m\u001b[0m\u001b[0m\n\u001b[0;32m   3498\u001b[0m     \u001b[1;32mdef\u001b[0m \u001b[0massign\u001b[0m\u001b[1;33m(\u001b[0m\u001b[0mself\u001b[0m\u001b[1;33m,\u001b[0m \u001b[1;33m**\u001b[0m\u001b[0mkwargs\u001b[0m\u001b[1;33m)\u001b[0m \u001b[1;33m->\u001b[0m \u001b[1;34m\"DataFrame\"\u001b[0m\u001b[1;33m:\u001b[0m\u001b[1;33m\u001b[0m\u001b[1;33m\u001b[0m\u001b[0m\n",
      "\u001b[1;32m~\\Anaconda3\\envs\\investments\\lib\\site-packages\\pandas\\core\\internals\\managers.py\u001b[0m in \u001b[0;36minsert\u001b[1;34m(self, loc, item, value, allow_duplicates)\u001b[0m\n\u001b[0;32m   1171\u001b[0m         \u001b[1;32mif\u001b[0m \u001b[1;32mnot\u001b[0m \u001b[0mallow_duplicates\u001b[0m \u001b[1;32mand\u001b[0m \u001b[0mitem\u001b[0m \u001b[1;32min\u001b[0m \u001b[0mself\u001b[0m\u001b[1;33m.\u001b[0m\u001b[0mitems\u001b[0m\u001b[1;33m:\u001b[0m\u001b[1;33m\u001b[0m\u001b[1;33m\u001b[0m\u001b[0m\n\u001b[0;32m   1172\u001b[0m             \u001b[1;31m# Should this be a different kind of error??\u001b[0m\u001b[1;33m\u001b[0m\u001b[1;33m\u001b[0m\u001b[1;33m\u001b[0m\u001b[0m\n\u001b[1;32m-> 1173\u001b[1;33m             \u001b[1;32mraise\u001b[0m \u001b[0mValueError\u001b[0m\u001b[1;33m(\u001b[0m\u001b[1;34mf\"cannot insert {item}, already exists\"\u001b[0m\u001b[1;33m)\u001b[0m\u001b[1;33m\u001b[0m\u001b[1;33m\u001b[0m\u001b[0m\n\u001b[0m\u001b[0;32m   1174\u001b[0m \u001b[1;33m\u001b[0m\u001b[0m\n\u001b[0;32m   1175\u001b[0m         \u001b[1;32mif\u001b[0m \u001b[1;32mnot\u001b[0m \u001b[0misinstance\u001b[0m\u001b[1;33m(\u001b[0m\u001b[0mloc\u001b[0m\u001b[1;33m,\u001b[0m \u001b[0mint\u001b[0m\u001b[1;33m)\u001b[0m\u001b[1;33m:\u001b[0m\u001b[1;33m\u001b[0m\u001b[1;33m\u001b[0m\u001b[0m\n",
      "\u001b[1;31mValueError\u001b[0m: cannot insert mrk_cap_lag, already exists"
     ]
    }
   ],
   "source": [
    "stocks.insert(7,'mrk_cap_lag',stocks.groupby('permno')['mkt_cap'].shift(1))\n",
    "stocks_wavg = stocks.groupby('permno').mean()\n",
    "stocks_wavg.insert(6,'beta',beta)"
   ]
  },
  {
   "cell_type": "code",
   "execution_count": 21,
   "metadata": {},
   "outputs": [
    {
     "data": {
      "text/html": [
       "<div>\n",
       "<style scoped>\n",
       "    .dataframe tbody tr th:only-of-type {\n",
       "        vertical-align: middle;\n",
       "    }\n",
       "\n",
       "    .dataframe tbody tr th {\n",
       "        vertical-align: top;\n",
       "    }\n",
       "\n",
       "    .dataframe thead th {\n",
       "        text-align: right;\n",
       "    }\n",
       "</style>\n",
       "<table border=\"1\" class=\"dataframe\">\n",
       "  <thead>\n",
       "    <tr style=\"text-align: right;\">\n",
       "      <th></th>\n",
       "      <th>exchcd</th>\n",
       "      <th>ret</th>\n",
       "      <th>shrout</th>\n",
       "      <th>shrcd</th>\n",
       "      <th>mkt_cap</th>\n",
       "      <th>prc</th>\n",
       "      <th>beta</th>\n",
       "      <th>mrk_cap_lag</th>\n",
       "    </tr>\n",
       "    <tr>\n",
       "      <th>permno</th>\n",
       "      <th></th>\n",
       "      <th></th>\n",
       "      <th></th>\n",
       "      <th></th>\n",
       "      <th></th>\n",
       "      <th></th>\n",
       "      <th></th>\n",
       "      <th></th>\n",
       "    </tr>\n",
       "  </thead>\n",
       "  <tbody>\n",
       "    <tr>\n",
       "      <th>10145.0</th>\n",
       "      <td>1.0</td>\n",
       "      <td>0.010356</td>\n",
       "      <td>787067.300000</td>\n",
       "      <td>11.0</td>\n",
       "      <td>5.383612e+07</td>\n",
       "      <td>69.671583</td>\n",
       "      <td>1.200190</td>\n",
       "      <td>5.388216e+07</td>\n",
       "    </tr>\n",
       "    <tr>\n",
       "      <th>10294.0</th>\n",
       "      <td>1.0</td>\n",
       "      <td>0.008516</td>\n",
       "      <td>3408.062500</td>\n",
       "      <td>11.0</td>\n",
       "      <td>5.277517e+04</td>\n",
       "      <td>16.600359</td>\n",
       "      <td>0.758752</td>\n",
       "      <td>5.265302e+04</td>\n",
       "    </tr>\n",
       "    <tr>\n",
       "      <th>10308.0</th>\n",
       "      <td>2.0</td>\n",
       "      <td>0.010968</td>\n",
       "      <td>11220.216667</td>\n",
       "      <td>11.0</td>\n",
       "      <td>5.958930e+05</td>\n",
       "      <td>50.030000</td>\n",
       "      <td>0.443625</td>\n",
       "      <td>5.926666e+05</td>\n",
       "    </tr>\n",
       "    <tr>\n",
       "      <th>10516.0</th>\n",
       "      <td>1.0</td>\n",
       "      <td>0.010984</td>\n",
       "      <td>630102.508333</td>\n",
       "      <td>11.0</td>\n",
       "      <td>1.915516e+07</td>\n",
       "      <td>30.693188</td>\n",
       "      <td>0.497710</td>\n",
       "      <td>1.919784e+07</td>\n",
       "    </tr>\n",
       "    <tr>\n",
       "      <th>10517.0</th>\n",
       "      <td>1.0</td>\n",
       "      <td>0.014358</td>\n",
       "      <td>36869.454167</td>\n",
       "      <td>11.0</td>\n",
       "      <td>1.199527e+06</td>\n",
       "      <td>26.750365</td>\n",
       "      <td>0.642811</td>\n",
       "      <td>1.188500e+06</td>\n",
       "    </tr>\n",
       "  </tbody>\n",
       "</table>\n",
       "</div>"
      ],
      "text/plain": [
       "         exchcd       ret         shrout  shrcd       mkt_cap        prc  \\\n",
       "permno                                                                     \n",
       "10145.0     1.0  0.010356  787067.300000   11.0  5.383612e+07  69.671583   \n",
       "10294.0     1.0  0.008516    3408.062500   11.0  5.277517e+04  16.600359   \n",
       "10308.0     2.0  0.010968   11220.216667   11.0  5.958930e+05  50.030000   \n",
       "10516.0     1.0  0.010984  630102.508333   11.0  1.915516e+07  30.693188   \n",
       "10517.0     1.0  0.014358   36869.454167   11.0  1.199527e+06  26.750365   \n",
       "\n",
       "             beta   mrk_cap_lag  \n",
       "permno                           \n",
       "10145.0  1.200190  5.388216e+07  \n",
       "10294.0  0.758752  5.265302e+04  \n",
       "10308.0  0.443625  5.926666e+05  \n",
       "10516.0  0.497710  1.919784e+07  \n",
       "10517.0  0.642811  1.188500e+06  "
      ]
     },
     "execution_count": 21,
     "metadata": {},
     "output_type": "execute_result"
    }
   ],
   "source": [
    "stocks_wavg.head()"
   ]
  },
  {
   "cell_type": "code",
   "execution_count": 15,
   "metadata": {},
   "outputs": [
    {
     "ename": "NameError",
     "evalue": "name 'wavg' is not defined",
     "output_type": "error",
     "traceback": [
      "\u001b[1;31m---------------------------------------------------------------------------\u001b[0m",
      "\u001b[1;31mNameError\u001b[0m                                 Traceback (most recent call last)",
      "\u001b[1;32m<ipython-input-15-978381a93cd5>\u001b[0m in \u001b[0;36m<module>\u001b[1;34m\u001b[0m\n\u001b[0;32m      4\u001b[0m     \u001b[0mstock_index_by_inderval\u001b[0m \u001b[1;33m=\u001b[0m \u001b[0mgroup_by_decile\u001b[0m\u001b[1;33m.\u001b[0m\u001b[0mget_group\u001b[0m\u001b[1;33m(\u001b[0m\u001b[0mi\u001b[0m\u001b[1;33m)\u001b[0m\u001b[1;33m[\u001b[0m\u001b[1;34m\"index\"\u001b[0m\u001b[1;33m]\u001b[0m\u001b[1;33m\u001b[0m\u001b[1;33m\u001b[0m\u001b[0m\n\u001b[0;32m      5\u001b[0m     \u001b[0mwtemp\u001b[0m \u001b[1;33m=\u001b[0m \u001b[0mstocks\u001b[0m\u001b[1;33m.\u001b[0m\u001b[0mloc\u001b[0m\u001b[1;33m[\u001b[0m\u001b[0mstock_index_by_inderval\u001b[0m\u001b[1;33m]\u001b[0m\u001b[1;33m\u001b[0m\u001b[1;33m\u001b[0m\u001b[0m\n\u001b[1;32m----> 6\u001b[1;33m     \u001b[0mwgroup_by_date\u001b[0m \u001b[1;33m=\u001b[0m \u001b[0mwtemp\u001b[0m\u001b[1;33m.\u001b[0m\u001b[0mgroupby\u001b[0m\u001b[1;33m(\u001b[0m\u001b[1;34m'date'\u001b[0m\u001b[1;33m)\u001b[0m\u001b[1;33m.\u001b[0m\u001b[0mapply\u001b[0m\u001b[1;33m(\u001b[0m\u001b[0mwavg\u001b[0m\u001b[1;33m,\u001b[0m \u001b[1;34m'ret'\u001b[0m\u001b[1;33m,\u001b[0m \u001b[1;34m'mrk_cap_lag'\u001b[0m\u001b[1;33m)\u001b[0m\u001b[1;33m\u001b[0m\u001b[1;33m\u001b[0m\u001b[0m\n\u001b[0m\u001b[0;32m      7\u001b[0m     \u001b[0mw_avg_returns\u001b[0m\u001b[1;33m.\u001b[0m\u001b[0mappend\u001b[0m\u001b[1;33m(\u001b[0m\u001b[0mwgroup_by_date\u001b[0m\u001b[1;33m.\u001b[0m\u001b[0mmean\u001b[0m\u001b[1;33m(\u001b[0m\u001b[1;33m)\u001b[0m\u001b[1;33m)\u001b[0m\u001b[1;33m\u001b[0m\u001b[1;33m\u001b[0m\u001b[0m\n\u001b[0;32m      8\u001b[0m     \u001b[0mw_avg_beta\u001b[0m\u001b[1;33m.\u001b[0m\u001b[0mappend\u001b[0m\u001b[1;33m(\u001b[0m\u001b[0mstocks_wavg\u001b[0m\u001b[1;33m.\u001b[0m\u001b[0mbeta\u001b[0m\u001b[1;33m.\u001b[0m\u001b[0mloc\u001b[0m\u001b[1;33m[\u001b[0m\u001b[0mstock_index_by_inderval\u001b[0m\u001b[1;33m]\u001b[0m\u001b[1;33m.\u001b[0m\u001b[0mmean\u001b[0m\u001b[1;33m(\u001b[0m\u001b[1;33m)\u001b[0m\u001b[1;33m)\u001b[0m\u001b[1;33m\u001b[0m\u001b[1;33m\u001b[0m\u001b[0m\n",
      "\u001b[1;31mNameError\u001b[0m: name 'wavg' is not defined"
     ]
    }
   ],
   "source": [
    "w_avg_returns = []\n",
    "w_avg_beta = []\n",
    "for i in inters:\n",
    "    stock_index_by_inderval = group_by_decile.get_group(i)[\"index\"]\n",
    "    wtemp = stocks.loc[stock_index_by_inderval]\n",
    "    wgroup_by_date = wtemp.groupby('date').apply(wavg, 'ret', 'mrk_cap_lag')\n",
    "    w_avg_returns.append(wgroup_by_date.mean())\n",
    "    w_avg_beta.append(stocks_wavg.beta.loc[stock_index_by_inderval].mean())"
   ]
  },
  {
   "cell_type": "code",
   "execution_count": null,
   "metadata": {},
   "outputs": [],
   "source": [
    "slope, intercept, r_value, p_value, std_err = stats.linregress(w_avg_beta,w_avg_returns)\n",
    "plt.figure(figsize=(10,6))\n",
    "plt.plot(w_avg_beta, w_avg_returns, 'ro', label='Portfolios')\n",
    "plt.plot(np.linspace(0,2.5,100), avg_rf + np.linspace(0,2.5,100)*(avg_ret_m - avg_rf), label='CAPM')\n",
    "plt.plot(np.linspace(0,2.5,100),np.linspace(0,2.5,100)*slope+intercept,label = 'Slope')\n",
    "plt.title('Return vs Beta')\n",
    "plt.xlabel('Average beta')\n",
    "plt.ylabel('Average return')\n",
    "plt.grid()\n",
    "plt.legend(loc='best')\n",
    "plt.show()"
   ]
  },
  {
   "cell_type": "code",
   "execution_count": 48,
   "metadata": {},
   "outputs": [
    {
     "data": {
      "text/plain": [
       "-0.003075309148491093"
      ]
     },
     "metadata": {},
     "output_type": "display_data"
    },
    {
     "data": {
      "text/plain": [
       "0.07981568753132572"
      ]
     },
     "metadata": {},
     "output_type": "display_data"
    }
   ],
   "source": [
    "w_stock_low_beta = stocks.loc[idx_L].groupby('date').apply(wavg,'ret','mrk_cap_lag')\n",
    "w_stock_high_beta = stocks.loc[idx_H].groupby('date').apply(wavg,'ret','mrk_cap_lag')\n",
    "\n",
    "w_group_by_date_low = w_stock_low_beta.groupby('date').mean()\n",
    "w_group_by_date_high = w_stock_high_beta.groupby('date').mean()\n",
    "\n",
    "w_simple_return = w_group_by_date_high - w_group_by_date_low\n",
    "w_average = w_simple_return.mean()\n",
    "w_standard_deviation = w_simple_return.std()\n",
    "\n",
    "display(w_average)\n",
    "display(w_standard_deviation)"
   ]
  },
  {
   "cell_type": "code",
   "execution_count": 49,
   "metadata": {},
   "outputs": [
    {
     "name": "stdout",
     "output_type": "stream",
     "text": [
      "Slope coefficient : -0.0016223147191898996\n"
     ]
    }
   ],
   "source": [
    "print('Slope coefficient :',slope)"
   ]
  },
  {
   "cell_type": "code",
   "execution_count": 50,
   "metadata": {},
   "outputs": [
    {
     "name": "stdout",
     "output_type": "stream",
     "text": [
      "We can't reject H0 and the mean return is not statiscally different from 0, t-stat : 0.4969973131749323\n"
     ]
    }
   ],
   "source": [
    "from scipy.stats import t\n",
    "alpha = 0.05\n",
    "w_t_stat = (np.sqrt((len(w_simple_return)-1)) * w_average) / w_standard_deviation\n",
    "\n",
    "if np.abs(w_t_stat)>t_tabel:\n",
    "    print(\"We reject H0, t-stat :\",t_stat)\n",
    "else:\n",
    "    print(\"We can't reject H0 and the mean return is not statiscally different from 0, t-stat :\",t_stat)"
   ]
  },
  {
   "cell_type": "markdown",
   "metadata": {},
   "source": [
    "### e)"
   ]
  },
  {
   "cell_type": "markdown",
   "metadata": {},
   "source": [
    "beta_series=[]\n",
    "for i in selected_stocks:\n",
    "    current_stock=stocks.loc[i]\n",
    "    current_stck = pd.DataFrame({'date':current_stock.date,'ret':current_stock.ret})\n",
    "    current_stck.set_index('date',inplace = True)\n",
    "    current_stck = pd.merge(current_stck,Rm,left_index = True, right_index = True )\n",
    "    cov = current_stck.rolling(24).cov\n",
    "    #import pdb; pdb.set_trace()\n",
    "    beta_series.append(cov[0,1]/cov[1,1])"
   ]
  },
  {
   "cell_type": "markdown",
   "metadata": {},
   "source": [
    "### f)"
   ]
  },
  {
   "cell_type": "code",
   "execution_count": null,
   "metadata": {},
   "outputs": [],
   "source": []
  },
  {
   "cell_type": "markdown",
   "metadata": {},
   "source": [
    "### g)"
   ]
  },
  {
   "cell_type": "code",
   "execution_count": null,
   "metadata": {},
   "outputs": [],
   "source": [
    "dic = {'date':[],'permno':[],'ret':[],'weight':[]}\n",
    "df =pd.DataFrame(dic)\n",
    "dic2 = {i:df for i in range(0,10)}"
   ]
  },
  {
   "cell_type": "code",
   "execution_count": null,
   "metadata": {},
   "outputs": [],
   "source": [
    "stocks1 = stocks.copy()\n",
    "stocks1.reset_index(inplace=True)\n",
    "list_date = np.sort([date for date in stocks1['date'].values])\n",
    "list_date = list(set(list_date))\n",
    "\n",
    "for k in range(1,len(list_date)):\n",
    "    date = list_date[k]\n",
    "    date_0 = list_date[k-1]\n",
    "    df_date_0 = stocks1.loc[stocks1['date'] == date_0] \n",
    "    df_date = stocks1.loc[stocks1['date'] == date]\n",
    "    df_date.set_index('permno',inplace=True)\n",
    "    df_date_0.set_index('permno',inplace=True)\n",
    "    inters = pd.qcut(df_date.weight,10).values\n",
    "    inters = list(dict.fromkeys(inters))\n",
    "    inters.sort()\n",
    "    pd_decile = pd.DataFrame(pd.qcut(df_date.weight,10),index=df_date.index, columns=[\"weight\"])\n",
    "    pd_decile.sort_values(by=\"weight\")\n",
    "    pd_decile.reset_index(inplace=True)\n",
    "    group_by_decile = pd_decile.groupby(\"weight\")\n",
    "    #print(group_by_decile.head(5))\n",
    "    df_date.drop(columns='weight', inplace = True)\n",
    "    df_date_0 = df_date_0.weight\n",
    "    df_date = pd.concat([df_date,df_date_0],axis=0)\n",
    "    import pdb; pdb.set_trace()\n",
    "    print(df_date.head(4))\n",
    "    if k > 0:\n",
    "        break  "
   ]
  },
  {
   "cell_type": "code",
   "execution_count": null,
   "metadata": {},
   "outputs": [],
   "source": [
    "df_date_0.head(5)"
   ]
  },
  {
   "cell_type": "code",
   "execution_count": null,
   "metadata": {},
   "outputs": [],
   "source": [
    "    #for i in inters:\n",
    "    #stock_index_by_inderval = group_by_decile.get_group(i)[\"index\"]\n",
    "     #   temp = stocks.loc[stock_index_by_inderval]\n",
    "beta = pd.DataFrame(beta_series, index=selected_stocks, columns=[\"val\"])\n",
    "pd_decile = pd.DataFrame(pd.qcut(beta.val,10),index=selected_stocks, columns=[\"val\"])\n",
    "inters = pd.qcut(beta.val,10).values\n",
    "inters = list(dict.fromkeys(inters))\n",
    "inters.sort()\n",
    "pd_decile.sort_values(by=\"val\")\n",
    "pd_decile.reset_index(inplace=True)\n",
    "group_by_decile = pd_decile.groupby(\"val\")"
   ]
  },
  {
   "cell_type": "code",
   "execution_count": null,
   "metadata": {},
   "outputs": [],
   "source": []
  }
 ],
 "metadata": {
  "kernelspec": {
   "display_name": "Python 3",
   "language": "python",
   "name": "python3"
  },
  "language_info": {
   "codemirror_mode": {
    "name": "ipython",
    "version": 3
   },
   "file_extension": ".py",
   "mimetype": "text/x-python",
   "name": "python",
   "nbconvert_exporter": "python",
   "pygments_lexer": "ipython3",
   "version": "3.7.7"
  }
 },
 "nbformat": 4,
 "nbformat_minor": 4
}
