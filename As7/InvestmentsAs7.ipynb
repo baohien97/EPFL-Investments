{
 "cells": [
  {
   "cell_type": "markdown",
   "metadata": {},
   "source": [
    "## Investments Assignment 7\n",
    "\n",
    "#### Anita Mezzetti, Hien Le, Francesco Maizza"
   ]
  },
  {
   "cell_type": "code",
   "execution_count": 561,
   "metadata": {},
   "outputs": [
    {
     "name": "stdout",
     "output_type": "stream",
     "text": [
      "Loading library list...\n",
      "Done\n"
     ]
    }
   ],
   "source": [
    "import numpy as np\n",
    "import pandas as pd\n",
    "pd.options.mode.chained_assignment = None  # default='warn'\n",
    "import random as random\n",
    "import matplotlib.pyplot as plt\n",
    "import statsmodels.formula.api as smf\n",
    "from datetime import datetime\n",
    "import statsmodels.api as sm\n",
    "import wrds\n",
    "import warnings\n",
    "from scipy import stats\n",
    "warnings.simplefilter(action='ignore', category=FutureWarning)\n",
    "#warnings.simplefilter(action='ignore', category=SettingWithCopyWarning)\n",
    "db = wrds.Connection(wrds_username = 'anita97') "
   ]
  },
  {
   "cell_type": "markdown",
   "metadata": {},
   "source": [
    "## a)"
   ]
  },
  {
   "cell_type": "code",
   "execution_count": 436,
   "metadata": {},
   "outputs": [],
   "source": [
    "#import stocks\n",
    "'''s = db.raw_sql(\"select a.permno, a.date, b.exchcd, \\\n",
    "                  a.ret, b.shrcd, a.shrout, a.prc \\\n",
    "                  from crsp.msf as a \\\n",
    "                  join crsp.msenames as b \\\n",
    "                  on a.permno = b.permno and b.namedt<=a.date \\\n",
    "                  and a.date<=b.nameendt \\\n",
    "                  where b.shrcd between (10) and (11) and \\\n",
    "                  a.date >='2000-01-01' and a.date<='2019-12-31'\\\n",
    "                  and b.exchcd between 1 and 2\")'''\n",
    "\n",
    "#s.to_csv('as7.csv')\n",
    "stocks = pd.read_csv('as7.csv', index_col=0) # read the file"
   ]
  },
  {
   "cell_type": "markdown",
   "metadata": {},
   "source": [
    "For each value we want one value for each month. Firstly we trasform data column in month-year(format). Then, for each stock we chack that there is only one value for each month:"
   ]
  },
  {
   "cell_type": "code",
   "execution_count": 437,
   "metadata": {},
   "outputs": [],
   "source": [
    "stocks.date = pd.DatetimeIndex(stocks.date) # data format\n",
    "stocks.date = stocks.date.dt.to_period('M') # data year-month\n",
    "stocks = stocks.drop_duplicates(['permno','date']) # delete duplicates\n",
    "stocks.sort_values(by=['permno','date'])\n",
    "stocks = stocks.set_index('permno') # set permno as index"
   ]
  },
  {
   "cell_type": "code",
   "execution_count": 438,
   "metadata": {},
   "outputs": [
    {
     "data": {
      "text/html": [
       "<div>\n",
       "<style scoped>\n",
       "    .dataframe tbody tr th:only-of-type {\n",
       "        vertical-align: middle;\n",
       "    }\n",
       "\n",
       "    .dataframe tbody tr th {\n",
       "        vertical-align: top;\n",
       "    }\n",
       "\n",
       "    .dataframe thead th {\n",
       "        text-align: right;\n",
       "    }\n",
       "</style>\n",
       "<table border=\"1\" class=\"dataframe\">\n",
       "  <thead>\n",
       "    <tr style=\"text-align: right;\">\n",
       "      <th></th>\n",
       "      <th></th>\n",
       "      <th>exchcd</th>\n",
       "      <th>ret</th>\n",
       "      <th>shrout</th>\n",
       "      <th>shrcd</th>\n",
       "      <th>prc</th>\n",
       "    </tr>\n",
       "    <tr>\n",
       "      <th>permno</th>\n",
       "      <th>date</th>\n",
       "      <th></th>\n",
       "      <th></th>\n",
       "      <th></th>\n",
       "      <th></th>\n",
       "      <th></th>\n",
       "    </tr>\n",
       "  </thead>\n",
       "  <tbody>\n",
       "    <tr>\n",
       "      <th rowspan=\"5\" valign=\"top\">10001.0</th>\n",
       "      <th>2009-12</th>\n",
       "      <td>2.0</td>\n",
       "      <td>0.162621</td>\n",
       "      <td>4361.0</td>\n",
       "      <td>11.0</td>\n",
       "      <td>10.3000</td>\n",
       "    </tr>\n",
       "    <tr>\n",
       "      <th>2010-01</th>\n",
       "      <td>2.0</td>\n",
       "      <td>-0.018932</td>\n",
       "      <td>4361.0</td>\n",
       "      <td>11.0</td>\n",
       "      <td>10.0600</td>\n",
       "    </tr>\n",
       "    <tr>\n",
       "      <th>2010-02</th>\n",
       "      <td>2.0</td>\n",
       "      <td>-0.000656</td>\n",
       "      <td>4361.0</td>\n",
       "      <td>11.0</td>\n",
       "      <td>10.0084</td>\n",
       "    </tr>\n",
       "    <tr>\n",
       "      <th>2010-03</th>\n",
       "      <td>2.0</td>\n",
       "      <td>0.020643</td>\n",
       "      <td>4361.0</td>\n",
       "      <td>11.0</td>\n",
       "      <td>10.1700</td>\n",
       "    </tr>\n",
       "    <tr>\n",
       "      <th>2010-04</th>\n",
       "      <td>2.0</td>\n",
       "      <td>0.124385</td>\n",
       "      <td>6070.0</td>\n",
       "      <td>11.0</td>\n",
       "      <td>11.3900</td>\n",
       "    </tr>\n",
       "  </tbody>\n",
       "</table>\n",
       "</div>"
      ],
      "text/plain": [
       "                 exchcd       ret  shrout  shrcd      prc\n",
       "permno  date                                             \n",
       "10001.0 2009-12     2.0  0.162621  4361.0   11.0  10.3000\n",
       "        2010-01     2.0 -0.018932  4361.0   11.0  10.0600\n",
       "        2010-02     2.0 -0.000656  4361.0   11.0  10.0084\n",
       "        2010-03     2.0  0.020643  4361.0   11.0  10.1700\n",
       "        2010-04     2.0  0.124385  6070.0   11.0  11.3900"
      ]
     },
     "execution_count": 438,
     "metadata": {},
     "output_type": "execute_result"
    }
   ],
   "source": [
    "# We set also date as index for having a nice output\n",
    "stocks_output = stocks.reset_index()\n",
    "stocks_output = stocks_output.set_index(['permno','date'])\n",
    "stocks_output.head()"
   ]
  },
  {
   "cell_type": "markdown",
   "metadata": {},
   "source": [
    "We have to delete all the stocks which have less than 240 observations. In order to do that, we can group all the stocks on permno (which identify one stock) and then count how many observations we have for each stock:"
   ]
  },
  {
   "cell_type": "code",
   "execution_count": 439,
   "metadata": {},
   "outputs": [
    {
     "name": "stdout",
     "output_type": "stream",
     "text": [
      "We have 4118 different stocks. Each has a certain number of observations:\n"
     ]
    },
    {
     "data": {
      "text/html": [
       "<div>\n",
       "<style scoped>\n",
       "    .dataframe tbody tr th:only-of-type {\n",
       "        vertical-align: middle;\n",
       "    }\n",
       "\n",
       "    .dataframe tbody tr th {\n",
       "        vertical-align: top;\n",
       "    }\n",
       "\n",
       "    .dataframe thead th {\n",
       "        text-align: right;\n",
       "    }\n",
       "</style>\n",
       "<table border=\"1\" class=\"dataframe\">\n",
       "  <thead>\n",
       "    <tr style=\"text-align: right;\">\n",
       "      <th></th>\n",
       "      <th>number of observations</th>\n",
       "    </tr>\n",
       "    <tr>\n",
       "      <th>permno</th>\n",
       "      <th></th>\n",
       "    </tr>\n",
       "  </thead>\n",
       "  <tbody>\n",
       "    <tr>\n",
       "      <th>10001.0</th>\n",
       "      <td>92</td>\n",
       "    </tr>\n",
       "    <tr>\n",
       "      <th>10028.0</th>\n",
       "      <td>140</td>\n",
       "    </tr>\n",
       "    <tr>\n",
       "      <th>10042.0</th>\n",
       "      <td>98</td>\n",
       "    </tr>\n",
       "    <tr>\n",
       "      <th>10051.0</th>\n",
       "      <td>233</td>\n",
       "    </tr>\n",
       "    <tr>\n",
       "      <th>10066.0</th>\n",
       "      <td>28</td>\n",
       "    </tr>\n",
       "  </tbody>\n",
       "</table>\n",
       "</div>"
      ],
      "text/plain": [
       "         number of observations\n",
       "permno                         \n",
       "10001.0                      92\n",
       "10028.0                     140\n",
       "10042.0                      98\n",
       "10051.0                     233\n",
       "10066.0                      28"
      ]
     },
     "execution_count": 439,
     "metadata": {},
     "output_type": "execute_result"
    }
   ],
   "source": [
    "count = []\n",
    "count = stocks.groupby('permno').count()\n",
    "# now in each column we have the number of observations. We can rename one of them\n",
    "count = count.rename(columns={\"date\":\"number of observations\"})\n",
    "count = count[['number of observations']]\n",
    "print(f\"We have {count.shape[0]} different stocks. Each has a certain number of observations:\")\n",
    "count.head()"
   ]
  },
  {
   "cell_type": "markdown",
   "metadata": {},
   "source": [
    "Now we delete  stocks with less than 240 observations:\n",
    "\n",
    "Note: This is equal to have only stocks with preciselt 240 observations. Because we want that they are traded EVERY mounth for 20 years: \n",
    "\n",
    "20 years*12 mounths = 240 observation. "
   ]
  },
  {
   "cell_type": "code",
   "execution_count": 440,
   "metadata": {},
   "outputs": [
    {
     "data": {
      "text/html": [
       "<div>\n",
       "<style scoped>\n",
       "    .dataframe tbody tr th:only-of-type {\n",
       "        vertical-align: middle;\n",
       "    }\n",
       "\n",
       "    .dataframe tbody tr th {\n",
       "        vertical-align: top;\n",
       "    }\n",
       "\n",
       "    .dataframe thead th {\n",
       "        text-align: right;\n",
       "    }\n",
       "</style>\n",
       "<table border=\"1\" class=\"dataframe\">\n",
       "  <thead>\n",
       "    <tr style=\"text-align: right;\">\n",
       "      <th></th>\n",
       "      <th>number of observations</th>\n",
       "    </tr>\n",
       "    <tr>\n",
       "      <th>permno</th>\n",
       "      <th></th>\n",
       "    </tr>\n",
       "  </thead>\n",
       "  <tbody>\n",
       "    <tr>\n",
       "      <th>10001.0</th>\n",
       "      <td>True</td>\n",
       "    </tr>\n",
       "    <tr>\n",
       "      <th>10028.0</th>\n",
       "      <td>True</td>\n",
       "    </tr>\n",
       "    <tr>\n",
       "      <th>10042.0</th>\n",
       "      <td>True</td>\n",
       "    </tr>\n",
       "    <tr>\n",
       "      <th>10051.0</th>\n",
       "      <td>True</td>\n",
       "    </tr>\n",
       "    <tr>\n",
       "      <th>10066.0</th>\n",
       "      <td>True</td>\n",
       "    </tr>\n",
       "  </tbody>\n",
       "</table>\n",
       "</div>"
      ],
      "text/plain": [
       "         number of observations\n",
       "permno                         \n",
       "10001.0                    True\n",
       "10028.0                    True\n",
       "10042.0                    True\n",
       "10051.0                    True\n",
       "10066.0                    True"
      ]
     },
     "execution_count": 440,
     "metadata": {},
     "output_type": "execute_result"
    }
   ],
   "source": [
    "decision = count[['number of observations']]!=240 # delete if true\n",
    "decision = decision.dropna() # drop NaN\n",
    "decision.head()"
   ]
  },
  {
   "cell_type": "code",
   "execution_count": 441,
   "metadata": {},
   "outputs": [
    {
     "name": "stdout",
     "output_type": "stream",
     "text": [
      "We delete 3479 stocks.\n"
     ]
    },
    {
     "data": {
      "text/html": [
       "<div>\n",
       "<style scoped>\n",
       "    .dataframe tbody tr th:only-of-type {\n",
       "        vertical-align: middle;\n",
       "    }\n",
       "\n",
       "    .dataframe tbody tr th {\n",
       "        vertical-align: top;\n",
       "    }\n",
       "\n",
       "    .dataframe thead th {\n",
       "        text-align: right;\n",
       "    }\n",
       "</style>\n",
       "<table border=\"1\" class=\"dataframe\">\n",
       "  <thead>\n",
       "    <tr style=\"text-align: right;\">\n",
       "      <th></th>\n",
       "      <th>date</th>\n",
       "      <th>exchcd</th>\n",
       "      <th>ret</th>\n",
       "      <th>shrout</th>\n",
       "      <th>shrcd</th>\n",
       "      <th>prc</th>\n",
       "    </tr>\n",
       "    <tr>\n",
       "      <th>permno</th>\n",
       "      <th></th>\n",
       "      <th></th>\n",
       "      <th></th>\n",
       "      <th></th>\n",
       "      <th></th>\n",
       "      <th></th>\n",
       "    </tr>\n",
       "  </thead>\n",
       "  <tbody>\n",
       "    <tr>\n",
       "      <th>10145.0</th>\n",
       "      <td>2000-01</td>\n",
       "      <td>1.0</td>\n",
       "      <td>-0.167931</td>\n",
       "      <td>789233.0</td>\n",
       "      <td>11.0</td>\n",
       "      <td>48.000000</td>\n",
       "    </tr>\n",
       "    <tr>\n",
       "      <th>10145.0</th>\n",
       "      <td>2001-07</td>\n",
       "      <td>1.0</td>\n",
       "      <td>0.059088</td>\n",
       "      <td>809281.0</td>\n",
       "      <td>11.0</td>\n",
       "      <td>36.869999</td>\n",
       "    </tr>\n",
       "    <tr>\n",
       "      <th>10145.0</th>\n",
       "      <td>2001-08</td>\n",
       "      <td>1.0</td>\n",
       "      <td>0.015663</td>\n",
       "      <td>811616.0</td>\n",
       "      <td>11.0</td>\n",
       "      <td>37.259998</td>\n",
       "    </tr>\n",
       "    <tr>\n",
       "      <th>10145.0</th>\n",
       "      <td>2001-09</td>\n",
       "      <td>1.0</td>\n",
       "      <td>-0.291465</td>\n",
       "      <td>811616.0</td>\n",
       "      <td>11.0</td>\n",
       "      <td>26.400000</td>\n",
       "    </tr>\n",
       "    <tr>\n",
       "      <th>10145.0</th>\n",
       "      <td>2001-10</td>\n",
       "      <td>1.0</td>\n",
       "      <td>0.119318</td>\n",
       "      <td>811619.0</td>\n",
       "      <td>11.0</td>\n",
       "      <td>29.549999</td>\n",
       "    </tr>\n",
       "  </tbody>\n",
       "</table>\n",
       "</div>"
      ],
      "text/plain": [
       "            date  exchcd       ret    shrout  shrcd        prc\n",
       "permno                                                        \n",
       "10145.0  2000-01     1.0 -0.167931  789233.0   11.0  48.000000\n",
       "10145.0  2001-07     1.0  0.059088  809281.0   11.0  36.869999\n",
       "10145.0  2001-08     1.0  0.015663  811616.0   11.0  37.259998\n",
       "10145.0  2001-09     1.0 -0.291465  811616.0   11.0  26.400000\n",
       "10145.0  2001-10     1.0  0.119318  811619.0   11.0  29.549999"
      ]
     },
     "execution_count": 441,
     "metadata": {},
     "output_type": "execute_result"
    }
   ],
   "source": [
    "decision_true = decision[decision['number of observations']] # keep only true\n",
    "print(f\"We delete {decision_true.shape[0]} stocks.\")\n",
    "stocks_del = stocks.drop(index=decision_true.index) # drop the stocks that have < 240 observations\n",
    "stocks_del.head()"
   ]
  },
  {
   "cell_type": "markdown",
   "metadata": {},
   "source": [
    "We should have 639 stocks:"
   ]
  },
  {
   "cell_type": "code",
   "execution_count": 442,
   "metadata": {},
   "outputs": [
    {
     "name": "stdout",
     "output_type": "stream",
     "text": [
      "We have deleted 3479 and we are left with 639 stocks\n"
     ]
    }
   ],
   "source": [
    "# we have deleted decision_true\n",
    "# we are left with the rest of decision\n",
    "num_deleted = int(decision_true.count())\n",
    "num_left = int(decision.count()-decision_true.count())\n",
    "print(f\"We have deleted {num_deleted} and we are left with {num_left} stocks\")"
   ]
  },
  {
   "cell_type": "markdown",
   "metadata": {},
   "source": [
    "Delete 3 NaN stocks: fisrt we delete null returns. This operation doesn not remove all the stock obersavations, but only the null ones. In order to cancel all the observations of stocks with NaN values, we re-check that stocks actually have 240 obersations."
   ]
  },
  {
   "cell_type": "code",
   "execution_count": 443,
   "metadata": {},
   "outputs": [
    {
     "name": "stdout",
     "output_type": "stream",
     "text": [
      "3 returns are NaN\n"
     ]
    }
   ],
   "source": [
    "is_na = stocks_del.ret.isna()\n",
    "num_before = len(stocks_del.index)\n",
    "stocks_del = stocks_del[~is_na] # delete null returns\n",
    "num_then = len(stocks_del.index)\n",
    "if any(is_na) == True:\n",
    "    print(f\"{num_before-num_then} returns are NaN\")"
   ]
  },
  {
   "cell_type": "markdown",
   "metadata": {},
   "source": [
    "We are to cancel not only the row with nan return, but allthe stock, which now it has not 240 observations."
   ]
  },
  {
   "cell_type": "code",
   "execution_count": 444,
   "metadata": {},
   "outputs": [],
   "source": [
    "count = []\n",
    "count = stocks_del.groupby('permno').count()\n",
    "\n",
    "# now in each column we have the number of observations. \n",
    "#We can rename one of them\n",
    "count = count.rename(columns={\"date\":\"number of observations\"})\n",
    "count = count[['number of observations']]\n",
    "\n",
    "decision = count[['number of observations']]!=240 # delete if true\n",
    "#decision = decision.dropna() # drop NaN"
   ]
  },
  {
   "cell_type": "code",
   "execution_count": 445,
   "metadata": {},
   "outputs": [
    {
     "name": "stdout",
     "output_type": "stream",
     "text": [
      "We delete 3 stocks.\n"
     ]
    },
    {
     "data": {
      "text/html": [
       "<div>\n",
       "<style scoped>\n",
       "    .dataframe tbody tr th:only-of-type {\n",
       "        vertical-align: middle;\n",
       "    }\n",
       "\n",
       "    .dataframe tbody tr th {\n",
       "        vertical-align: top;\n",
       "    }\n",
       "\n",
       "    .dataframe thead th {\n",
       "        text-align: right;\n",
       "    }\n",
       "</style>\n",
       "<table border=\"1\" class=\"dataframe\">\n",
       "  <thead>\n",
       "    <tr style=\"text-align: right;\">\n",
       "      <th></th>\n",
       "      <th>date</th>\n",
       "      <th>exchcd</th>\n",
       "      <th>ret</th>\n",
       "      <th>shrout</th>\n",
       "      <th>shrcd</th>\n",
       "      <th>prc</th>\n",
       "    </tr>\n",
       "    <tr>\n",
       "      <th>permno</th>\n",
       "      <th></th>\n",
       "      <th></th>\n",
       "      <th></th>\n",
       "      <th></th>\n",
       "      <th></th>\n",
       "      <th></th>\n",
       "    </tr>\n",
       "  </thead>\n",
       "  <tbody>\n",
       "    <tr>\n",
       "      <th>10145.0</th>\n",
       "      <td>2000-01</td>\n",
       "      <td>1.0</td>\n",
       "      <td>-0.167931</td>\n",
       "      <td>789233.0</td>\n",
       "      <td>11.0</td>\n",
       "      <td>48.000000</td>\n",
       "    </tr>\n",
       "    <tr>\n",
       "      <th>10145.0</th>\n",
       "      <td>2001-07</td>\n",
       "      <td>1.0</td>\n",
       "      <td>0.059088</td>\n",
       "      <td>809281.0</td>\n",
       "      <td>11.0</td>\n",
       "      <td>36.869999</td>\n",
       "    </tr>\n",
       "    <tr>\n",
       "      <th>10145.0</th>\n",
       "      <td>2001-08</td>\n",
       "      <td>1.0</td>\n",
       "      <td>0.015663</td>\n",
       "      <td>811616.0</td>\n",
       "      <td>11.0</td>\n",
       "      <td>37.259998</td>\n",
       "    </tr>\n",
       "    <tr>\n",
       "      <th>10145.0</th>\n",
       "      <td>2001-09</td>\n",
       "      <td>1.0</td>\n",
       "      <td>-0.291465</td>\n",
       "      <td>811616.0</td>\n",
       "      <td>11.0</td>\n",
       "      <td>26.400000</td>\n",
       "    </tr>\n",
       "    <tr>\n",
       "      <th>10145.0</th>\n",
       "      <td>2001-10</td>\n",
       "      <td>1.0</td>\n",
       "      <td>0.119318</td>\n",
       "      <td>811619.0</td>\n",
       "      <td>11.0</td>\n",
       "      <td>29.549999</td>\n",
       "    </tr>\n",
       "  </tbody>\n",
       "</table>\n",
       "</div>"
      ],
      "text/plain": [
       "            date  exchcd       ret    shrout  shrcd        prc\n",
       "permno                                                        \n",
       "10145.0  2000-01     1.0 -0.167931  789233.0   11.0  48.000000\n",
       "10145.0  2001-07     1.0  0.059088  809281.0   11.0  36.869999\n",
       "10145.0  2001-08     1.0  0.015663  811616.0   11.0  37.259998\n",
       "10145.0  2001-09     1.0 -0.291465  811616.0   11.0  26.400000\n",
       "10145.0  2001-10     1.0  0.119318  811619.0   11.0  29.549999"
      ]
     },
     "execution_count": 445,
     "metadata": {},
     "output_type": "execute_result"
    }
   ],
   "source": [
    "decision_true = decision[decision['number of observations']] # keep only true\n",
    "print(f\"We delete {decision_true.shape[0]} stocks.\")\n",
    "stocks_del = stocks_del.drop(index=decision_true.index) # drop the stocks that have < 240 observations\n",
    "stocks_del.head()"
   ]
  },
  {
   "cell_type": "code",
   "execution_count": 446,
   "metadata": {},
   "outputs": [
    {
     "name": "stdout",
     "output_type": "stream",
     "text": [
      "We have deleted 3 and we are left with 636 stocks\n"
     ]
    }
   ],
   "source": [
    "# we have deleted decision_true\n",
    "# we are left with the rest of decision\n",
    "num_deleted = int(decision_true.count())\n",
    "num_left = int(decision.count()-decision_true.count())\n",
    "print(f\"We have deleted {num_deleted} and we are left with {num_left} stocks\")"
   ]
  },
  {
   "cell_type": "code",
   "execution_count": 447,
   "metadata": {},
   "outputs": [
    {
     "name": "stdout",
     "output_type": "stream",
     "text": [
      "Now we do not have NaN returns\n"
     ]
    }
   ],
   "source": [
    "is_na = stocks_del.ret.isna()\n",
    "num_before = len(stocks_del.index)\n",
    "stocks_del = stocks_del[~is_na] # delete null returns\n",
    "num_then = len(stocks_del.index)\n",
    "if any(is_na) == True:\n",
    "    print(f\"{num_before-num_then} returns are NaN\")\n",
    "else:\n",
    "    print(\"Now we do not have NaN returns\")"
   ]
  },
  {
   "cell_type": "markdown",
   "metadata": {},
   "source": [
    "Now, we can add the risk free rate and market returns. "
   ]
  },
  {
   "cell_type": "code",
   "execution_count": 448,
   "metadata": {},
   "outputs": [],
   "source": [
    "# import risk free rate\n",
    "risk_free = db.raw_sql(\"select mcaldt as date, tmytm as rf from crsp.tfz_mth_rf where kytreasnox = 2000001 and mcaldt>='2000-01-01' and mcaldt<='2019-12-31'\")\n",
    "risk_free_m = np.exp(np.divide(risk_free.rf, 1200)) -1\n",
    "rf = pd.DataFrame([risk_free.date, risk_free_m], index=['date', 'rf']).T\n",
    "\n",
    "# import market\n",
    "market = db.raw_sql(\"select date, vwretd from crsp.msi where date>='2000-01-01' and date<='2019-12-31'\")\n",
    "market_m = pd.DataFrame([market.date, market.vwretd.values], index=['date', 'mkt_ret']).T\n",
    "rm = market_m.set_index('date')"
   ]
  },
  {
   "cell_type": "code",
   "execution_count": 449,
   "metadata": {},
   "outputs": [
    {
     "data": {
      "text/html": [
       "<div>\n",
       "<style scoped>\n",
       "    .dataframe tbody tr th:only-of-type {\n",
       "        vertical-align: middle;\n",
       "    }\n",
       "\n",
       "    .dataframe tbody tr th {\n",
       "        vertical-align: top;\n",
       "    }\n",
       "\n",
       "    .dataframe thead th {\n",
       "        text-align: right;\n",
       "    }\n",
       "</style>\n",
       "<table border=\"1\" class=\"dataframe\">\n",
       "  <thead>\n",
       "    <tr style=\"text-align: right;\">\n",
       "      <th></th>\n",
       "      <th>rf</th>\n",
       "    </tr>\n",
       "    <tr>\n",
       "      <th>date</th>\n",
       "      <th></th>\n",
       "    </tr>\n",
       "  </thead>\n",
       "  <tbody>\n",
       "    <tr>\n",
       "      <th>2000-01</th>\n",
       "      <td>0.00449835</td>\n",
       "    </tr>\n",
       "    <tr>\n",
       "      <th>2000-02</th>\n",
       "      <td>0.00443834</td>\n",
       "    </tr>\n",
       "    <tr>\n",
       "      <th>2000-03</th>\n",
       "      <td>0.00489188</td>\n",
       "    </tr>\n",
       "    <tr>\n",
       "      <th>2000-04</th>\n",
       "      <td>0.00440126</td>\n",
       "    </tr>\n",
       "    <tr>\n",
       "      <th>2000-05</th>\n",
       "      <td>0.00390314</td>\n",
       "    </tr>\n",
       "  </tbody>\n",
       "</table>\n",
       "</div>"
      ],
      "text/plain": [
       "                 rf\n",
       "date               \n",
       "2000-01  0.00449835\n",
       "2000-02  0.00443834\n",
       "2000-03  0.00489188\n",
       "2000-04  0.00440126\n",
       "2000-05  0.00390314"
      ]
     },
     "execution_count": 449,
     "metadata": {},
     "output_type": "execute_result"
    }
   ],
   "source": [
    "rf.date = pd.DatetimeIndex(rf.date) # data format\n",
    "rf.date = rf.date.dt.to_period('M') # data year-month\n",
    "rf = rf.set_index('date')\n",
    "rf.head()"
   ]
  },
  {
   "cell_type": "code",
   "execution_count": 450,
   "metadata": {},
   "outputs": [
    {
     "data": {
      "text/html": [
       "<div>\n",
       "<style scoped>\n",
       "    .dataframe tbody tr th:only-of-type {\n",
       "        vertical-align: middle;\n",
       "    }\n",
       "\n",
       "    .dataframe tbody tr th {\n",
       "        vertical-align: top;\n",
       "    }\n",
       "\n",
       "    .dataframe thead th {\n",
       "        text-align: right;\n",
       "    }\n",
       "</style>\n",
       "<table border=\"1\" class=\"dataframe\">\n",
       "  <thead>\n",
       "    <tr style=\"text-align: right;\">\n",
       "      <th></th>\n",
       "      <th>mkt_ret</th>\n",
       "    </tr>\n",
       "    <tr>\n",
       "      <th>date</th>\n",
       "      <th></th>\n",
       "    </tr>\n",
       "  </thead>\n",
       "  <tbody>\n",
       "    <tr>\n",
       "      <th>2000-01</th>\n",
       "      <td>-0.0396243</td>\n",
       "    </tr>\n",
       "    <tr>\n",
       "      <th>2000-02</th>\n",
       "      <td>0.0317784</td>\n",
       "    </tr>\n",
       "    <tr>\n",
       "      <th>2000-03</th>\n",
       "      <td>0.0535007</td>\n",
       "    </tr>\n",
       "    <tr>\n",
       "      <th>2000-04</th>\n",
       "      <td>-0.059527</td>\n",
       "    </tr>\n",
       "    <tr>\n",
       "      <th>2000-05</th>\n",
       "      <td>-0.0388696</td>\n",
       "    </tr>\n",
       "  </tbody>\n",
       "</table>\n",
       "</div>"
      ],
      "text/plain": [
       "           mkt_ret\n",
       "date              \n",
       "2000-01 -0.0396243\n",
       "2000-02  0.0317784\n",
       "2000-03  0.0535007\n",
       "2000-04  -0.059527\n",
       "2000-05 -0.0388696"
      ]
     },
     "execution_count": 450,
     "metadata": {},
     "output_type": "execute_result"
    }
   ],
   "source": [
    "rm.index = pd.DatetimeIndex(rm.index) # data format\n",
    "rm.index = rm.index.to_period('M') # data year-month\n",
    "rm.head()"
   ]
  },
  {
   "cell_type": "code",
   "execution_count": 451,
   "metadata": {},
   "outputs": [],
   "source": [
    "save = stocks_del"
   ]
  },
  {
   "cell_type": "code",
   "execution_count": 452,
   "metadata": {},
   "outputs": [],
   "source": [
    "stocks_del = save"
   ]
  },
  {
   "cell_type": "markdown",
   "metadata": {},
   "source": [
    "## b)"
   ]
  },
  {
   "cell_type": "markdown",
   "metadata": {},
   "source": [
    "Caculate market capitalization, making sure that we have absolute values of share prices:"
   ]
  },
  {
   "cell_type": "code",
   "execution_count": 453,
   "metadata": {},
   "outputs": [
    {
     "data": {
      "text/html": [
       "<div>\n",
       "<style scoped>\n",
       "    .dataframe tbody tr th:only-of-type {\n",
       "        vertical-align: middle;\n",
       "    }\n",
       "\n",
       "    .dataframe tbody tr th {\n",
       "        vertical-align: top;\n",
       "    }\n",
       "\n",
       "    .dataframe thead th {\n",
       "        text-align: right;\n",
       "    }\n",
       "</style>\n",
       "<table border=\"1\" class=\"dataframe\">\n",
       "  <thead>\n",
       "    <tr style=\"text-align: right;\">\n",
       "      <th></th>\n",
       "      <th>date</th>\n",
       "      <th>exchcd</th>\n",
       "      <th>ret</th>\n",
       "      <th>shrout</th>\n",
       "      <th>shrcd</th>\n",
       "      <th>prc</th>\n",
       "      <th>mrk_cap</th>\n",
       "    </tr>\n",
       "    <tr>\n",
       "      <th>permno</th>\n",
       "      <th></th>\n",
       "      <th></th>\n",
       "      <th></th>\n",
       "      <th></th>\n",
       "      <th></th>\n",
       "      <th></th>\n",
       "      <th></th>\n",
       "    </tr>\n",
       "  </thead>\n",
       "  <tbody>\n",
       "    <tr>\n",
       "      <th>10145.0</th>\n",
       "      <td>2000-01</td>\n",
       "      <td>1.0</td>\n",
       "      <td>-0.167931</td>\n",
       "      <td>789233.0</td>\n",
       "      <td>11.0</td>\n",
       "      <td>48.000000</td>\n",
       "      <td>3.788318e+07</td>\n",
       "    </tr>\n",
       "    <tr>\n",
       "      <th>10145.0</th>\n",
       "      <td>2001-07</td>\n",
       "      <td>1.0</td>\n",
       "      <td>0.059088</td>\n",
       "      <td>809281.0</td>\n",
       "      <td>11.0</td>\n",
       "      <td>36.869999</td>\n",
       "      <td>2.983819e+07</td>\n",
       "    </tr>\n",
       "    <tr>\n",
       "      <th>10145.0</th>\n",
       "      <td>2001-08</td>\n",
       "      <td>1.0</td>\n",
       "      <td>0.015663</td>\n",
       "      <td>811616.0</td>\n",
       "      <td>11.0</td>\n",
       "      <td>37.259998</td>\n",
       "      <td>3.024081e+07</td>\n",
       "    </tr>\n",
       "    <tr>\n",
       "      <th>10145.0</th>\n",
       "      <td>2001-09</td>\n",
       "      <td>1.0</td>\n",
       "      <td>-0.291465</td>\n",
       "      <td>811616.0</td>\n",
       "      <td>11.0</td>\n",
       "      <td>26.400000</td>\n",
       "      <td>2.142666e+07</td>\n",
       "    </tr>\n",
       "    <tr>\n",
       "      <th>10145.0</th>\n",
       "      <td>2001-10</td>\n",
       "      <td>1.0</td>\n",
       "      <td>0.119318</td>\n",
       "      <td>811619.0</td>\n",
       "      <td>11.0</td>\n",
       "      <td>29.549999</td>\n",
       "      <td>2.398334e+07</td>\n",
       "    </tr>\n",
       "  </tbody>\n",
       "</table>\n",
       "</div>"
      ],
      "text/plain": [
       "            date  exchcd       ret    shrout  shrcd        prc       mrk_cap\n",
       "permno                                                                      \n",
       "10145.0  2000-01     1.0 -0.167931  789233.0   11.0  48.000000  3.788318e+07\n",
       "10145.0  2001-07     1.0  0.059088  809281.0   11.0  36.869999  2.983819e+07\n",
       "10145.0  2001-08     1.0  0.015663  811616.0   11.0  37.259998  3.024081e+07\n",
       "10145.0  2001-09     1.0 -0.291465  811616.0   11.0  26.400000  2.142666e+07\n",
       "10145.0  2001-10     1.0  0.119318  811619.0   11.0  29.549999  2.398334e+07"
      ]
     },
     "execution_count": 453,
     "metadata": {},
     "output_type": "execute_result"
    }
   ],
   "source": [
    "stocks_del['prc'] = stocks_del['prc'].abs() # absolute value of the share price\n",
    "stocks_del['mrk_cap'] = stocks_del['prc'] * stocks_del['shrout']\n",
    "stocks_del.head()"
   ]
  },
  {
   "cell_type": "markdown",
   "metadata": {},
   "source": [
    "We calculate the beta"
   ]
  },
  {
   "cell_type": "code",
   "execution_count": 454,
   "metadata": {},
   "outputs": [
    {
     "name": "stdout",
     "output_type": "stream",
     "text": [
      "<class 'pandas.core.frame.DataFrame'>\n"
     ]
    },
    {
     "data": {
      "text/html": [
       "<div>\n",
       "<style scoped>\n",
       "    .dataframe tbody tr th:only-of-type {\n",
       "        vertical-align: middle;\n",
       "    }\n",
       "\n",
       "    .dataframe tbody tr th {\n",
       "        vertical-align: top;\n",
       "    }\n",
       "\n",
       "    .dataframe thead th {\n",
       "        text-align: right;\n",
       "    }\n",
       "</style>\n",
       "<table border=\"1\" class=\"dataframe\">\n",
       "  <thead>\n",
       "    <tr style=\"text-align: right;\">\n",
       "      <th></th>\n",
       "      <th>date</th>\n",
       "      <th>exchcd</th>\n",
       "      <th>ret</th>\n",
       "      <th>shrout</th>\n",
       "      <th>shrcd</th>\n",
       "      <th>prc</th>\n",
       "      <th>mrk_cap</th>\n",
       "      <th>beta</th>\n",
       "    </tr>\n",
       "  </thead>\n",
       "  <tbody>\n",
       "    <tr>\n",
       "      <th>10145.0</th>\n",
       "      <td>2000-01</td>\n",
       "      <td>1.0</td>\n",
       "      <td>-0.167931</td>\n",
       "      <td>789233.0</td>\n",
       "      <td>11.0</td>\n",
       "      <td>48.000000</td>\n",
       "      <td>3.788318e+07</td>\n",
       "      <td>1.20019</td>\n",
       "    </tr>\n",
       "    <tr>\n",
       "      <th>10145.0</th>\n",
       "      <td>2001-07</td>\n",
       "      <td>1.0</td>\n",
       "      <td>0.059088</td>\n",
       "      <td>809281.0</td>\n",
       "      <td>11.0</td>\n",
       "      <td>36.869999</td>\n",
       "      <td>2.983819e+07</td>\n",
       "      <td>1.20019</td>\n",
       "    </tr>\n",
       "    <tr>\n",
       "      <th>10145.0</th>\n",
       "      <td>2001-08</td>\n",
       "      <td>1.0</td>\n",
       "      <td>0.015663</td>\n",
       "      <td>811616.0</td>\n",
       "      <td>11.0</td>\n",
       "      <td>37.259998</td>\n",
       "      <td>3.024081e+07</td>\n",
       "      <td>1.20019</td>\n",
       "    </tr>\n",
       "    <tr>\n",
       "      <th>10145.0</th>\n",
       "      <td>2001-09</td>\n",
       "      <td>1.0</td>\n",
       "      <td>-0.291465</td>\n",
       "      <td>811616.0</td>\n",
       "      <td>11.0</td>\n",
       "      <td>26.400000</td>\n",
       "      <td>2.142666e+07</td>\n",
       "      <td>1.20019</td>\n",
       "    </tr>\n",
       "    <tr>\n",
       "      <th>10145.0</th>\n",
       "      <td>2001-10</td>\n",
       "      <td>1.0</td>\n",
       "      <td>0.119318</td>\n",
       "      <td>811619.0</td>\n",
       "      <td>11.0</td>\n",
       "      <td>29.549999</td>\n",
       "      <td>2.398334e+07</td>\n",
       "      <td>1.20019</td>\n",
       "    </tr>\n",
       "  </tbody>\n",
       "</table>\n",
       "</div>"
      ],
      "text/plain": [
       "            date  exchcd       ret    shrout  shrcd        prc       mrk_cap  \\\n",
       "10145.0  2000-01     1.0 -0.167931  789233.0   11.0  48.000000  3.788318e+07   \n",
       "10145.0  2001-07     1.0  0.059088  809281.0   11.0  36.869999  2.983819e+07   \n",
       "10145.0  2001-08     1.0  0.015663  811616.0   11.0  37.259998  3.024081e+07   \n",
       "10145.0  2001-09     1.0 -0.291465  811616.0   11.0  26.400000  2.142666e+07   \n",
       "10145.0  2001-10     1.0  0.119318  811619.0   11.0  29.549999  2.398334e+07   \n",
       "\n",
       "            beta  \n",
       "10145.0  1.20019  \n",
       "10145.0  1.20019  \n",
       "10145.0  1.20019  \n",
       "10145.0  1.20019  \n",
       "10145.0  1.20019  "
      ]
     },
     "execution_count": 454,
     "metadata": {},
     "output_type": "execute_result"
    }
   ],
   "source": [
    "# list of right permnos (no duplicates):\n",
    "list_permno = list(stocks_del.loc[~stocks_del.index.duplicated(keep='first')].index)\n",
    "\n",
    "market_beta = [] # market beta \n",
    "\n",
    "#cycle for each stock (639 elemets)\n",
    "for i in list_permno: # (list_permno): \n",
    "    current_stock = stocks_del.loc[i] # long 240 because we have 240 observations for each stock\n",
    "    ret_cur_stock = current_stock.ret.values.astype(float) # 240 returns for each stock\n",
    "    rm_cur_stock = rm.loc[current_stock.date].mkt_ret.astype(float)\n",
    "    covariance = np.cov(ret_cur_stock, rm_cur_stock) # Cov(R,Rm)\n",
    "    var_market = covariance[1,1] # var(Rm)\n",
    "    market_beta.append(covariance[0,1]/var_market) # add new beta\n",
    "    \n",
    "# Create a DataFrame where for each stock we have its beta\n",
    "data = pd.DataFrame(market_beta, columns={'beta'}, index=list_permno) # for each stock we have its beta\n",
    "data = data.sort_index()\n",
    "\n",
    "print(type(stocks_del))\n",
    "\n",
    "# We add to the stocks dataframe our beta, creating a new column:\n",
    "stocks_del = stocks_del.merge(data, left_index=True, right_index=True)\n",
    "#stocks_del = stocks_del.drop(stocks_del.loc[stocks_del.beta.isnull()].index)#.set_index(['permno','date']) # re-index\n",
    "stocks_del.head()"
   ]
  },
  {
   "cell_type": "markdown",
   "metadata": {},
   "source": [
    "Form 10 groups of stocks based on the market capitalization of 31 dec 2019, with first decile being group 1 on so on:"
   ]
  },
  {
   "cell_type": "code",
   "execution_count": 455,
   "metadata": {},
   "outputs": [
    {
     "data": {
      "text/html": [
       "<div>\n",
       "<style scoped>\n",
       "    .dataframe tbody tr th:only-of-type {\n",
       "        vertical-align: middle;\n",
       "    }\n",
       "\n",
       "    .dataframe tbody tr th {\n",
       "        vertical-align: top;\n",
       "    }\n",
       "\n",
       "    .dataframe thead th {\n",
       "        text-align: right;\n",
       "    }\n",
       "</style>\n",
       "<table border=\"1\" class=\"dataframe\">\n",
       "  <thead>\n",
       "    <tr style=\"text-align: right;\">\n",
       "      <th></th>\n",
       "      <th>date</th>\n",
       "      <th>exchcd</th>\n",
       "      <th>ret</th>\n",
       "      <th>shrout</th>\n",
       "      <th>shrcd</th>\n",
       "      <th>prc</th>\n",
       "      <th>mrk_cap</th>\n",
       "      <th>beta</th>\n",
       "    </tr>\n",
       "  </thead>\n",
       "  <tbody>\n",
       "    <tr>\n",
       "      <th>10145.0</th>\n",
       "      <td>2019-12</td>\n",
       "      <td>1.0</td>\n",
       "      <td>-0.008681</td>\n",
       "      <td>714533.0</td>\n",
       "      <td>11.0</td>\n",
       "      <td>177.000000</td>\n",
       "      <td>1.264723e+08</td>\n",
       "      <td>1.200190</td>\n",
       "    </tr>\n",
       "    <tr>\n",
       "      <th>10294.0</th>\n",
       "      <td>2019-12</td>\n",
       "      <td>1.0</td>\n",
       "      <td>0.006728</td>\n",
       "      <td>1535.0</td>\n",
       "      <td>11.0</td>\n",
       "      <td>20.200001</td>\n",
       "      <td>3.100700e+04</td>\n",
       "      <td>0.758752</td>\n",
       "    </tr>\n",
       "    <tr>\n",
       "      <th>10308.0</th>\n",
       "      <td>2019-12</td>\n",
       "      <td>2.0</td>\n",
       "      <td>0.054755</td>\n",
       "      <td>14940.0</td>\n",
       "      <td>11.0</td>\n",
       "      <td>91.500000</td>\n",
       "      <td>1.367010e+06</td>\n",
       "      <td>0.443625</td>\n",
       "    </tr>\n",
       "    <tr>\n",
       "      <th>10516.0</th>\n",
       "      <td>2019-12</td>\n",
       "      <td>1.0</td>\n",
       "      <td>0.079665</td>\n",
       "      <td>556686.0</td>\n",
       "      <td>11.0</td>\n",
       "      <td>46.349998</td>\n",
       "      <td>2.580240e+07</td>\n",
       "      <td>0.497710</td>\n",
       "    </tr>\n",
       "    <tr>\n",
       "      <th>10517.0</th>\n",
       "      <td>2019-12</td>\n",
       "      <td>1.0</td>\n",
       "      <td>-0.021404</td>\n",
       "      <td>67152.0</td>\n",
       "      <td>11.0</td>\n",
       "      <td>57.110001</td>\n",
       "      <td>3.835051e+06</td>\n",
       "      <td>0.642811</td>\n",
       "    </tr>\n",
       "  </tbody>\n",
       "</table>\n",
       "</div>"
      ],
      "text/plain": [
       "            date  exchcd       ret    shrout  shrcd         prc       mrk_cap  \\\n",
       "10145.0  2019-12     1.0 -0.008681  714533.0   11.0  177.000000  1.264723e+08   \n",
       "10294.0  2019-12     1.0  0.006728    1535.0   11.0   20.200001  3.100700e+04   \n",
       "10308.0  2019-12     2.0  0.054755   14940.0   11.0   91.500000  1.367010e+06   \n",
       "10516.0  2019-12     1.0  0.079665  556686.0   11.0   46.349998  2.580240e+07   \n",
       "10517.0  2019-12     1.0 -0.021404   67152.0   11.0   57.110001  3.835051e+06   \n",
       "\n",
       "             beta  \n",
       "10145.0  1.200190  \n",
       "10294.0  0.758752  \n",
       "10308.0  0.443625  \n",
       "10516.0  0.497710  \n",
       "10517.0  0.642811  "
      ]
     },
     "execution_count": 455,
     "metadata": {},
     "output_type": "execute_result"
    }
   ],
   "source": [
    "# list of right permnos (no duplicates):\n",
    "stocks_del = stocks_del.sort_index(axis = 0) \n",
    "list_permno = list(stocks_del.loc[~stocks_del.index.duplicated(keep='first')].index)\n",
    "\n",
    "# consider market capitalization on dec 2019\n",
    "stocks_dec2019 = stocks_del[stocks_del.date.astype(str).values=='2019-12']\n",
    "stocks_dec2019 = stocks_dec2019.sort_index(axis = 0) \n",
    "stocks_dec2019.head()"
   ]
  },
  {
   "cell_type": "code",
   "execution_count": 456,
   "metadata": {},
   "outputs": [
    {
     "data": {
      "text/html": [
       "<div>\n",
       "<style scoped>\n",
       "    .dataframe tbody tr th:only-of-type {\n",
       "        vertical-align: middle;\n",
       "    }\n",
       "\n",
       "    .dataframe tbody tr th {\n",
       "        vertical-align: top;\n",
       "    }\n",
       "\n",
       "    .dataframe thead th {\n",
       "        text-align: right;\n",
       "    }\n",
       "</style>\n",
       "<table border=\"1\" class=\"dataframe\">\n",
       "  <thead>\n",
       "    <tr style=\"text-align: right;\">\n",
       "      <th></th>\n",
       "      <th>decile</th>\n",
       "    </tr>\n",
       "  </thead>\n",
       "  <tbody>\n",
       "    <tr>\n",
       "      <th>10145.0</th>\n",
       "      <td>(54953204.591, 437225989.856]</td>\n",
       "    </tr>\n",
       "    <tr>\n",
       "      <th>10294.0</th>\n",
       "      <td>(2640.959, 221410.898]</td>\n",
       "    </tr>\n",
       "    <tr>\n",
       "      <th>10308.0</th>\n",
       "      <td>(848916.265, 1570788.675]</td>\n",
       "    </tr>\n",
       "    <tr>\n",
       "      <th>10516.0</th>\n",
       "      <td>(23590062.289, 54953204.591]</td>\n",
       "    </tr>\n",
       "    <tr>\n",
       "      <th>10517.0</th>\n",
       "      <td>(2728756.376, 4603126.817]</td>\n",
       "    </tr>\n",
       "  </tbody>\n",
       "</table>\n",
       "</div>"
      ],
      "text/plain": [
       "                                decile\n",
       "10145.0  (54953204.591, 437225989.856]\n",
       "10294.0         (2640.959, 221410.898]\n",
       "10308.0      (848916.265, 1570788.675]\n",
       "10516.0   (23590062.289, 54953204.591]\n",
       "10517.0     (2728756.376, 4603126.817]"
      ]
     },
     "execution_count": 456,
     "metadata": {},
     "output_type": "execute_result"
    }
   ],
   "source": [
    "# creation on 10 groups\n",
    "a = pd.qcut(stocks_dec2019.mrk_cap,10)\n",
    "decile = pd.DataFrame(pd.qcut(stocks_dec2019.mrk_cap,10))\n",
    "decile = decile.rename(columns={\"mrk_cap\":\"decile\"})\n",
    "decile.head()"
   ]
  },
  {
   "cell_type": "code",
   "execution_count": 457,
   "metadata": {},
   "outputs": [
    {
     "name": "stdout",
     "output_type": "stream",
     "text": [
      "We have 10 groups of stcoks.\n"
     ]
    }
   ],
   "source": [
    "inters = list(dict.fromkeys(a))\n",
    "#inters.sort()\n",
    "inters = [x for x in inters if str(x) != 'nan'] # drop NoN. We always put a control just to be sure\n",
    "print(f\"We have {len(inters)} groups of stcoks.\")"
   ]
  },
  {
   "cell_type": "code",
   "execution_count": 509,
   "metadata": {},
   "outputs": [
    {
     "data": {
      "text/html": [
       "<div>\n",
       "<style scoped>\n",
       "    .dataframe tbody tr th:only-of-type {\n",
       "        vertical-align: middle;\n",
       "    }\n",
       "\n",
       "    .dataframe tbody tr th {\n",
       "        vertical-align: top;\n",
       "    }\n",
       "\n",
       "    .dataframe thead th {\n",
       "        text-align: right;\n",
       "    }\n",
       "</style>\n",
       "<table border=\"1\" class=\"dataframe\">\n",
       "  <thead>\n",
       "    <tr style=\"text-align: right;\">\n",
       "      <th></th>\n",
       "      <th>index</th>\n",
       "      <th>decile</th>\n",
       "    </tr>\n",
       "  </thead>\n",
       "  <tbody>\n",
       "    <tr>\n",
       "      <th>0</th>\n",
       "      <td>74908.0</td>\n",
       "      <td>(2640.959, 221410.898]</td>\n",
       "    </tr>\n",
       "    <tr>\n",
       "      <th>1</th>\n",
       "      <td>18075.0</td>\n",
       "      <td>(2640.959, 221410.898]</td>\n",
       "    </tr>\n",
       "    <tr>\n",
       "      <th>2</th>\n",
       "      <td>59185.0</td>\n",
       "      <td>(2640.959, 221410.898]</td>\n",
       "    </tr>\n",
       "    <tr>\n",
       "      <th>3</th>\n",
       "      <td>79702.0</td>\n",
       "      <td>(2640.959, 221410.898]</td>\n",
       "    </tr>\n",
       "    <tr>\n",
       "      <th>4</th>\n",
       "      <td>29058.0</td>\n",
       "      <td>(2640.959, 221410.898]</td>\n",
       "    </tr>\n",
       "    <tr>\n",
       "      <th>64</th>\n",
       "      <td>85440.0</td>\n",
       "      <td>(221410.898, 848916.265]</td>\n",
       "    </tr>\n",
       "    <tr>\n",
       "      <th>65</th>\n",
       "      <td>65365.0</td>\n",
       "      <td>(221410.898, 848916.265]</td>\n",
       "    </tr>\n",
       "    <tr>\n",
       "      <th>66</th>\n",
       "      <td>34673.0</td>\n",
       "      <td>(221410.898, 848916.265]</td>\n",
       "    </tr>\n",
       "    <tr>\n",
       "      <th>67</th>\n",
       "      <td>45728.0</td>\n",
       "      <td>(221410.898, 848916.265]</td>\n",
       "    </tr>\n",
       "    <tr>\n",
       "      <th>68</th>\n",
       "      <td>41217.0</td>\n",
       "      <td>(221410.898, 848916.265]</td>\n",
       "    </tr>\n",
       "    <tr>\n",
       "      <th>128</th>\n",
       "      <td>67467.0</td>\n",
       "      <td>(848916.265, 1570788.675]</td>\n",
       "    </tr>\n",
       "    <tr>\n",
       "      <th>129</th>\n",
       "      <td>83671.0</td>\n",
       "      <td>(848916.265, 1570788.675]</td>\n",
       "    </tr>\n",
       "    <tr>\n",
       "      <th>130</th>\n",
       "      <td>86547.0</td>\n",
       "      <td>(848916.265, 1570788.675]</td>\n",
       "    </tr>\n",
       "    <tr>\n",
       "      <th>131</th>\n",
       "      <td>12211.0</td>\n",
       "      <td>(848916.265, 1570788.675]</td>\n",
       "    </tr>\n",
       "    <tr>\n",
       "      <th>132</th>\n",
       "      <td>82859.0</td>\n",
       "      <td>(848916.265, 1570788.675]</td>\n",
       "    </tr>\n",
       "    <tr>\n",
       "      <th>191</th>\n",
       "      <td>76708.0</td>\n",
       "      <td>(1570788.675, 2728756.376]</td>\n",
       "    </tr>\n",
       "    <tr>\n",
       "      <th>192</th>\n",
       "      <td>83989.0</td>\n",
       "      <td>(1570788.675, 2728756.376]</td>\n",
       "    </tr>\n",
       "    <tr>\n",
       "      <th>193</th>\n",
       "      <td>58318.0</td>\n",
       "      <td>(1570788.675, 2728756.376]</td>\n",
       "    </tr>\n",
       "    <tr>\n",
       "      <th>194</th>\n",
       "      <td>46690.0</td>\n",
       "      <td>(1570788.675, 2728756.376]</td>\n",
       "    </tr>\n",
       "    <tr>\n",
       "      <th>195</th>\n",
       "      <td>77366.0</td>\n",
       "      <td>(1570788.675, 2728756.376]</td>\n",
       "    </tr>\n",
       "    <tr>\n",
       "      <th>255</th>\n",
       "      <td>55511.0</td>\n",
       "      <td>(2728756.376, 4603126.817]</td>\n",
       "    </tr>\n",
       "    <tr>\n",
       "      <th>256</th>\n",
       "      <td>20765.0</td>\n",
       "      <td>(2728756.376, 4603126.817]</td>\n",
       "    </tr>\n",
       "    <tr>\n",
       "      <th>257</th>\n",
       "      <td>85789.0</td>\n",
       "      <td>(2728756.376, 4603126.817]</td>\n",
       "    </tr>\n",
       "    <tr>\n",
       "      <th>258</th>\n",
       "      <td>56223.0</td>\n",
       "      <td>(2728756.376, 4603126.817]</td>\n",
       "    </tr>\n",
       "    <tr>\n",
       "      <th>259</th>\n",
       "      <td>76081.0</td>\n",
       "      <td>(2728756.376, 4603126.817]</td>\n",
       "    </tr>\n",
       "    <tr>\n",
       "      <th>318</th>\n",
       "      <td>85067.0</td>\n",
       "      <td>(4603126.817, 7423977.329]</td>\n",
       "    </tr>\n",
       "    <tr>\n",
       "      <th>319</th>\n",
       "      <td>77462.0</td>\n",
       "      <td>(4603126.817, 7423977.329]</td>\n",
       "    </tr>\n",
       "    <tr>\n",
       "      <th>320</th>\n",
       "      <td>65402.0</td>\n",
       "      <td>(4603126.817, 7423977.329]</td>\n",
       "    </tr>\n",
       "    <tr>\n",
       "      <th>321</th>\n",
       "      <td>86810.0</td>\n",
       "      <td>(4603126.817, 7423977.329]</td>\n",
       "    </tr>\n",
       "    <tr>\n",
       "      <th>322</th>\n",
       "      <td>10874.0</td>\n",
       "      <td>(4603126.817, 7423977.329]</td>\n",
       "    </tr>\n",
       "    <tr>\n",
       "      <th>382</th>\n",
       "      <td>77606.0</td>\n",
       "      <td>(7423977.329, 12924077.926]</td>\n",
       "    </tr>\n",
       "    <tr>\n",
       "      <th>383</th>\n",
       "      <td>52329.0</td>\n",
       "      <td>(7423977.329, 12924077.926]</td>\n",
       "    </tr>\n",
       "    <tr>\n",
       "      <th>384</th>\n",
       "      <td>51625.0</td>\n",
       "      <td>(7423977.329, 12924077.926]</td>\n",
       "    </tr>\n",
       "    <tr>\n",
       "      <th>385</th>\n",
       "      <td>27334.0</td>\n",
       "      <td>(7423977.329, 12924077.926]</td>\n",
       "    </tr>\n",
       "    <tr>\n",
       "      <th>386</th>\n",
       "      <td>52898.0</td>\n",
       "      <td>(7423977.329, 12924077.926]</td>\n",
       "    </tr>\n",
       "    <tr>\n",
       "      <th>445</th>\n",
       "      <td>46674.0</td>\n",
       "      <td>(12924077.926, 23590062.289]</td>\n",
       "    </tr>\n",
       "    <tr>\n",
       "      <th>446</th>\n",
       "      <td>79698.0</td>\n",
       "      <td>(12924077.926, 23590062.289]</td>\n",
       "    </tr>\n",
       "    <tr>\n",
       "      <th>447</th>\n",
       "      <td>24985.0</td>\n",
       "      <td>(12924077.926, 23590062.289]</td>\n",
       "    </tr>\n",
       "    <tr>\n",
       "      <th>448</th>\n",
       "      <td>25953.0</td>\n",
       "      <td>(12924077.926, 23590062.289]</td>\n",
       "    </tr>\n",
       "    <tr>\n",
       "      <th>449</th>\n",
       "      <td>12062.0</td>\n",
       "      <td>(12924077.926, 23590062.289]</td>\n",
       "    </tr>\n",
       "    <tr>\n",
       "      <th>509</th>\n",
       "      <td>48506.0</td>\n",
       "      <td>(23590062.289, 54953204.591]</td>\n",
       "    </tr>\n",
       "    <tr>\n",
       "      <th>510</th>\n",
       "      <td>43553.0</td>\n",
       "      <td>(23590062.289, 54953204.591]</td>\n",
       "    </tr>\n",
       "    <tr>\n",
       "      <th>511</th>\n",
       "      <td>25785.0</td>\n",
       "      <td>(23590062.289, 54953204.591]</td>\n",
       "    </tr>\n",
       "    <tr>\n",
       "      <th>512</th>\n",
       "      <td>43350.0</td>\n",
       "      <td>(23590062.289, 54953204.591]</td>\n",
       "    </tr>\n",
       "    <tr>\n",
       "      <th>513</th>\n",
       "      <td>27887.0</td>\n",
       "      <td>(23590062.289, 54953204.591]</td>\n",
       "    </tr>\n",
       "    <tr>\n",
       "      <th>572</th>\n",
       "      <td>86868.0</td>\n",
       "      <td>(54953204.591, 437225989.856]</td>\n",
       "    </tr>\n",
       "    <tr>\n",
       "      <th>573</th>\n",
       "      <td>87447.0</td>\n",
       "      <td>(54953204.591, 437225989.856]</td>\n",
       "    </tr>\n",
       "    <tr>\n",
       "      <th>574</th>\n",
       "      <td>87267.0</td>\n",
       "      <td>(54953204.591, 437225989.856]</td>\n",
       "    </tr>\n",
       "    <tr>\n",
       "      <th>575</th>\n",
       "      <td>10145.0</td>\n",
       "      <td>(54953204.591, 437225989.856]</td>\n",
       "    </tr>\n",
       "    <tr>\n",
       "      <th>576</th>\n",
       "      <td>77605.0</td>\n",
       "      <td>(54953204.591, 437225989.856]</td>\n",
       "    </tr>\n",
       "  </tbody>\n",
       "</table>\n",
       "</div>"
      ],
      "text/plain": [
       "       index                         decile\n",
       "0    74908.0         (2640.959, 221410.898]\n",
       "1    18075.0         (2640.959, 221410.898]\n",
       "2    59185.0         (2640.959, 221410.898]\n",
       "3    79702.0         (2640.959, 221410.898]\n",
       "4    29058.0         (2640.959, 221410.898]\n",
       "64   85440.0       (221410.898, 848916.265]\n",
       "65   65365.0       (221410.898, 848916.265]\n",
       "66   34673.0       (221410.898, 848916.265]\n",
       "67   45728.0       (221410.898, 848916.265]\n",
       "68   41217.0       (221410.898, 848916.265]\n",
       "128  67467.0      (848916.265, 1570788.675]\n",
       "129  83671.0      (848916.265, 1570788.675]\n",
       "130  86547.0      (848916.265, 1570788.675]\n",
       "131  12211.0      (848916.265, 1570788.675]\n",
       "132  82859.0      (848916.265, 1570788.675]\n",
       "191  76708.0     (1570788.675, 2728756.376]\n",
       "192  83989.0     (1570788.675, 2728756.376]\n",
       "193  58318.0     (1570788.675, 2728756.376]\n",
       "194  46690.0     (1570788.675, 2728756.376]\n",
       "195  77366.0     (1570788.675, 2728756.376]\n",
       "255  55511.0     (2728756.376, 4603126.817]\n",
       "256  20765.0     (2728756.376, 4603126.817]\n",
       "257  85789.0     (2728756.376, 4603126.817]\n",
       "258  56223.0     (2728756.376, 4603126.817]\n",
       "259  76081.0     (2728756.376, 4603126.817]\n",
       "318  85067.0     (4603126.817, 7423977.329]\n",
       "319  77462.0     (4603126.817, 7423977.329]\n",
       "320  65402.0     (4603126.817, 7423977.329]\n",
       "321  86810.0     (4603126.817, 7423977.329]\n",
       "322  10874.0     (4603126.817, 7423977.329]\n",
       "382  77606.0    (7423977.329, 12924077.926]\n",
       "383  52329.0    (7423977.329, 12924077.926]\n",
       "384  51625.0    (7423977.329, 12924077.926]\n",
       "385  27334.0    (7423977.329, 12924077.926]\n",
       "386  52898.0    (7423977.329, 12924077.926]\n",
       "445  46674.0   (12924077.926, 23590062.289]\n",
       "446  79698.0   (12924077.926, 23590062.289]\n",
       "447  24985.0   (12924077.926, 23590062.289]\n",
       "448  25953.0   (12924077.926, 23590062.289]\n",
       "449  12062.0   (12924077.926, 23590062.289]\n",
       "509  48506.0   (23590062.289, 54953204.591]\n",
       "510  43553.0   (23590062.289, 54953204.591]\n",
       "511  25785.0   (23590062.289, 54953204.591]\n",
       "512  43350.0   (23590062.289, 54953204.591]\n",
       "513  27887.0   (23590062.289, 54953204.591]\n",
       "572  86868.0  (54953204.591, 437225989.856]\n",
       "573  87447.0  (54953204.591, 437225989.856]\n",
       "574  87267.0  (54953204.591, 437225989.856]\n",
       "575  10145.0  (54953204.591, 437225989.856]\n",
       "576  77605.0  (54953204.591, 437225989.856]"
      ]
     },
     "execution_count": 509,
     "metadata": {},
     "output_type": "execute_result"
    }
   ],
   "source": [
    "# for each portfolio we have the decile to which it belongs\n",
    "group_decile = decile.sort_values(by=\"decile\") # sort for decile\n",
    "group_decile.reset_index(inplace=True)\n",
    "group_decile = group_decile.dropna() # drop NaN\n",
    "group_decile = group_decile.groupby(\"decile\")\n",
    "group_decile.head()"
   ]
  },
  {
   "cell_type": "markdown",
   "metadata": {},
   "source": [
    "**EQUALLY WEIGHTED RETURNS**"
   ]
  },
  {
   "cell_type": "code",
   "execution_count": 536,
   "metadata": {},
   "outputs": [],
   "source": [
    "month_list = stocks_del.date.drop_duplicates(keep='first').values\n",
    "stocks_del = stocks_del.sort_values('date') #sort for date\n",
    "ew_ret = []\n",
    "\n",
    "for month in month_list[0:100]: # for each month \n",
    "    stocks_del_month = stocks_del[stocks_del.date.values==month]\n",
    "    \n",
    "    ew_ret_month = [] # returns of equally weighted portfolios\n",
    "    for i in inters: # each decile\n",
    "        stock_interval = group_decile.get_group(i)[\"index\"]\n",
    "        temp = stocks_del_month.loc[stock_interval] \n",
    "        #group_date = temp.groupby('date').mean()\n",
    "        ew_ret_month.append(temp.ret.mean()) # equal weighted => mean\n",
    "        \n",
    "    ew_ret.append(ew_ret_month)\n",
    "    \n",
    "for month in month_list[100:240]: # for each month \n",
    "    stocks_del_month = stocks_del[stocks_del.date.values==month]\n",
    "    \n",
    "    ew_ret_month = [] # returns of equally weighted portfolios\n",
    "    for i in inters: # each decile\n",
    "        stock_interval = group_decile.get_group(i)[\"index\"]\n",
    "        temp = stocks_del_month.loc[stock_interval] \n",
    "        #group_date = temp.groupby('date').mean()\n",
    "        ew_ret_month.append(temp.ret.mean()) # equal weighted => mean\n",
    "        \n",
    "    ew_ret.append(ew_ret_month)"
   ]
  },
  {
   "cell_type": "code",
   "execution_count": 537,
   "metadata": {},
   "outputs": [
    {
     "data": {
      "text/plain": [
       "'ew_ret = []\\n\\ndef alphaa(x):\\n        ew_ret_month = [] # returns of equally weighted portfolios\\n        for i in inters: # each decile\\n            stock_interval = group_decile.get_group(i)[\"index\"]\\n            temp = x.loc[stock_interval] \\n            ew_ret_month.append(temp.ret.mean()) # equal weighted => mean\\n        ew_ret.append(ew_ret_month)\\n        return ew_ret\\n\\new_ret = stocks_del.groupby(\\'date\\').apply( lambda x: alphaa(x))\\new_ret'"
      ]
     },
     "execution_count": 537,
     "metadata": {},
     "output_type": "execute_result"
    }
   ],
   "source": [
    "'''ew_ret = []\n",
    "\n",
    "def alphaa(x):\n",
    "        ew_ret_month = [] # returns of equally weighted portfolios\n",
    "        for i in inters: # each decile\n",
    "            stock_interval = group_decile.get_group(i)[\"index\"]\n",
    "            temp = x.loc[stock_interval] \n",
    "            ew_ret_month.append(temp.ret.mean()) # equal weighted => mean\n",
    "        ew_ret.append(ew_ret_month)\n",
    "        return ew_ret\n",
    "\n",
    "ew_ret = stocks_del.groupby('date').apply( lambda x: alphaa(x))\n",
    "ew_ret'''"
   ]
  },
  {
   "cell_type": "markdown",
   "metadata": {},
   "source": [
    "**EQUALLY: AVERAGE EXCESS RETURN**"
   ]
  },
  {
   "cell_type": "code",
   "execution_count": 546,
   "metadata": {},
   "outputs": [],
   "source": [
    "exc_ret_ew = []\n",
    "\n",
    "for i in range(len(month_list)): # for each month\n",
    "    risk_free = rf.rf[i] # rf of that month\n",
    "    risk_free_list = [risk_free]*10 \n",
    "    exc_ret_ew.append(np.asarray(ew_ret[i])-risk_free)"
   ]
  },
  {
   "cell_type": "markdown",
   "metadata": {},
   "source": [
    "**REGRESSION EQUALLY WEIGHTED**"
   ]
  },
  {
   "cell_type": "code",
   "execution_count": 549,
   "metadata": {},
   "outputs": [],
   "source": [
    "# trasform exc_ret_ew in a matrix to work more easily\n",
    "exc_ret_ew = np.array(exc_ret_ew).T #trasponse in order to have one all month returns for each row (10 rows)"
   ]
  },
  {
   "cell_type": "code",
   "execution_count": 547,
   "metadata": {},
   "outputs": [],
   "source": [
    "# market risk premium: one value for each month\n",
    "risk_premium = rm.mkt_ret.values-rf.rf.values "
   ]
  },
  {
   "cell_type": "code",
   "execution_count": 575,
   "metadata": {},
   "outputs": [
    {
     "name": "stdout",
     "output_type": "stream",
     "text": [
      "EQUALLY WEIGHTED\n",
      "For the portfolio number 1: alpha = 0.005526461520534489 and beta = 0.7522466344740595 \n",
      "For the portfolio number 2: alpha = 0.0039984364559489715 and beta = 1.0926689380054895 \n",
      "For the portfolio number 3: alpha = 0.006182602494830462 and beta = 1.2241802290330401 \n",
      "For the portfolio number 4: alpha = 0.007354076111061279 and beta = 0.8161863484522853 \n",
      "For the portfolio number 5: alpha = 0.006797315979374467 and beta = 1.004511094055438 \n",
      "For the portfolio number 6: alpha = 0.0068675198899691 and beta = 1.1150553864264108 \n",
      "For the portfolio number 7: alpha = 0.004750814059756168 and beta = 1.2182205842789953 \n",
      "For the portfolio number 8: alpha = 0.006656126058695293 and beta = 0.9094538228215591 \n",
      "For the portfolio number 9: alpha = 0.005916259427847004 and beta = 1.2314514871652358 \n",
      "For the portfolio number 10: alpha = 0.007469925163068141 and beta = 1.0252500689358865 \n"
     ]
    }
   ],
   "source": [
    "alpha_ew = []\n",
    "beta_ew = []\n",
    "\n",
    "print(\"EQUALLY WEIGHTED\")\n",
    "for i in range(10):\n",
    "    Y = np.array(exc_ret_ew[i], dtype=float)\n",
    "    X = np.array(risk_premium, dtype=float)\n",
    "    X = sm.add_constant(X)\n",
    "    model_parameters = sm.OLS(Y,X).fit().params\n",
    "    alpha_ew.append(model_parameters[0])\n",
    "    beta_ew.append(model_parameters[1])\n",
    "    print (f\"For the portfolio number {i+1}: alpha = {model_parameters[0]} and beta = {model_parameters[1]} \")"
   ]
  },
  {
   "cell_type": "markdown",
   "metadata": {},
   "source": [
    "**VALUE WEIGHTED**"
   ]
  },
  {
   "cell_type": "code",
   "execution_count": 576,
   "metadata": {},
   "outputs": [
    {
     "name": "stdout",
     "output_type": "stream",
     "text": [
      "We can see that lagged mark_cap for each stock is NaN for the first month\n"
     ]
    },
    {
     "data": {
      "text/html": [
       "<div>\n",
       "<style scoped>\n",
       "    .dataframe tbody tr th:only-of-type {\n",
       "        vertical-align: middle;\n",
       "    }\n",
       "\n",
       "    .dataframe tbody tr th {\n",
       "        vertical-align: top;\n",
       "    }\n",
       "\n",
       "    .dataframe thead th {\n",
       "        text-align: right;\n",
       "    }\n",
       "</style>\n",
       "<table border=\"1\" class=\"dataframe\">\n",
       "  <thead>\n",
       "    <tr style=\"text-align: right;\">\n",
       "      <th></th>\n",
       "      <th>date</th>\n",
       "      <th>exchcd</th>\n",
       "      <th>ret</th>\n",
       "      <th>shrout</th>\n",
       "      <th>shrcd</th>\n",
       "      <th>prc</th>\n",
       "      <th>mrk_cap</th>\n",
       "      <th>beta</th>\n",
       "      <th>lagged_mrk_cap</th>\n",
       "    </tr>\n",
       "  </thead>\n",
       "  <tbody>\n",
       "    <tr>\n",
       "      <th>10145.0</th>\n",
       "      <td>2000-01</td>\n",
       "      <td>1.0</td>\n",
       "      <td>-0.167931</td>\n",
       "      <td>789233.0</td>\n",
       "      <td>11.0</td>\n",
       "      <td>48.0000</td>\n",
       "      <td>3.788318e+07</td>\n",
       "      <td>1.200190</td>\n",
       "      <td>NaN</td>\n",
       "    </tr>\n",
       "    <tr>\n",
       "      <th>61946.0</th>\n",
       "      <td>2000-01</td>\n",
       "      <td>1.0</td>\n",
       "      <td>0.078873</td>\n",
       "      <td>21350.0</td>\n",
       "      <td>11.0</td>\n",
       "      <td>23.9375</td>\n",
       "      <td>5.110656e+05</td>\n",
       "      <td>0.662492</td>\n",
       "      <td>NaN</td>\n",
       "    </tr>\n",
       "    <tr>\n",
       "      <th>21055.0</th>\n",
       "      <td>2000-01</td>\n",
       "      <td>1.0</td>\n",
       "      <td>-0.326923</td>\n",
       "      <td>22002.0</td>\n",
       "      <td>11.0</td>\n",
       "      <td>8.7500</td>\n",
       "      <td>1.925175e+05</td>\n",
       "      <td>1.280285</td>\n",
       "      <td>NaN</td>\n",
       "    </tr>\n",
       "    <tr>\n",
       "      <th>78950.0</th>\n",
       "      <td>2000-01</td>\n",
       "      <td>1.0</td>\n",
       "      <td>0.072927</td>\n",
       "      <td>9736.0</td>\n",
       "      <td>11.0</td>\n",
       "      <td>10.9375</td>\n",
       "      <td>1.064875e+05</td>\n",
       "      <td>0.904525</td>\n",
       "      <td>NaN</td>\n",
       "    </tr>\n",
       "    <tr>\n",
       "      <th>80303.0</th>\n",
       "      <td>2000-01</td>\n",
       "      <td>1.0</td>\n",
       "      <td>-0.456954</td>\n",
       "      <td>103057.0</td>\n",
       "      <td>11.0</td>\n",
       "      <td>10.1250</td>\n",
       "      <td>1.043452e+06</td>\n",
       "      <td>2.427263</td>\n",
       "      <td>NaN</td>\n",
       "    </tr>\n",
       "  </tbody>\n",
       "</table>\n",
       "</div>"
      ],
      "text/plain": [
       "            date  exchcd       ret    shrout  shrcd      prc       mrk_cap  \\\n",
       "10145.0  2000-01     1.0 -0.167931  789233.0   11.0  48.0000  3.788318e+07   \n",
       "61946.0  2000-01     1.0  0.078873   21350.0   11.0  23.9375  5.110656e+05   \n",
       "21055.0  2000-01     1.0 -0.326923   22002.0   11.0   8.7500  1.925175e+05   \n",
       "78950.0  2000-01     1.0  0.072927    9736.0   11.0  10.9375  1.064875e+05   \n",
       "80303.0  2000-01     1.0 -0.456954  103057.0   11.0  10.1250  1.043452e+06   \n",
       "\n",
       "             beta  lagged_mrk_cap  \n",
       "10145.0  1.200190             NaN  \n",
       "61946.0  0.662492             NaN  \n",
       "21055.0  1.280285             NaN  \n",
       "78950.0  0.904525             NaN  \n",
       "80303.0  2.427263             NaN  "
      ]
     },
     "execution_count": 576,
     "metadata": {},
     "output_type": "execute_result"
    }
   ],
   "source": [
    "# LAGGED market capitalization:\n",
    "stocks_del['lagged_mrk_cap'] =  stocks_del.groupby(stocks_del.index)['mrk_cap'].shift(1) # lagged market cap\n",
    "print(\"We can see that lagged mark_cap for each stock is NaN for the first month:\")\n",
    "stocks_del.head()"
   ]
  },
  {
   "cell_type": "code",
   "execution_count": 577,
   "metadata": {},
   "outputs": [],
   "source": [
    "stocks_del.lagged_mrk_cap = stocks_del.lagged_mrk_cap.fillna(0) # fill nan with zero (zero weight)\n",
    "month_list = stocks_del.date.drop_duplicates(keep='first').values\n",
    "stocks_del = stocks_del.sort_values('date') #sort for date\n",
    "vw_ret = []\n",
    "\n",
    "for month in month_list: # for each month \n",
    "    stocks_del_month = stocks_del[stocks_del.date.values==month]\n",
    "    \n",
    "    vw_ret_month = [] # returns of equally weighted portfolios\n",
    "    for i in inters: # each decile\n",
    "        \n",
    "        stock_interval = group_decile.get_group(i)[\"index\"]\n",
    "        temp = stocks_del_month.loc[stock_interval] # stocks for that month for that decile \n",
    "        \n",
    "        # calculate weights\n",
    "        weight_sum = temp.lagged_mrk_cap.sum() # sum of mark_cap\n",
    "        weights = temp.lagged_mrk_cap / weight_sum #weights\n",
    "        \n",
    "        # calulate value weighted ret\n",
    "        ret = (temp.ret*weights).sum()\n",
    "        \n",
    "        vw_ret_month.append(vw_ret)\n",
    "        \n",
    "\n",
    "    vw_ret.append(ew_ret_month)"
   ]
  },
  {
   "cell_type": "code",
   "execution_count": 578,
   "metadata": {},
   "outputs": [
    {
     "data": {
      "text/plain": [
       "[[0.026050946693430888,\n",
       "  0.04495055804613911,\n",
       "  0.06608705632647291,\n",
       "  0.03183513583748467,\n",
       "  0.03461249389395577,\n",
       "  0.03278840009670603,\n",
       "  0.06548393547927842,\n",
       "  0.024895685248338864,\n",
       "  0.054230784586252405,\n",
       "  0.031417000050991885],\n",
       " [0.026050946693430888,\n",
       "  0.04495055804613911,\n",
       "  0.06608705632647291,\n",
       "  0.03183513583748467,\n",
       "  0.03461249389395577,\n",
       "  0.03278840009670603,\n",
       "  0.06548393547927842,\n",
       "  0.024895685248338864,\n",
       "  0.054230784586252405,\n",
       "  0.031417000050991885]]"
      ]
     },
     "execution_count": 578,
     "metadata": {},
     "output_type": "execute_result"
    }
   ],
   "source": [
    "vw_ret[0:2]"
   ]
  },
  {
   "cell_type": "markdown",
   "metadata": {},
   "source": [
    "**VALUE: AVERAGE EXCESS RETURN**"
   ]
  },
  {
   "cell_type": "code",
   "execution_count": 579,
   "metadata": {},
   "outputs": [],
   "source": [
    "exc_ret_vw = []\n",
    "\n",
    "for i in range(len(month_list)): # for each month\n",
    "    risk_free = rf.rf[i] # rf of that month\n",
    "    risk_free_list = [risk_free]*10 \n",
    "    exc_ret_vw.append(np.asarray(vw_ret[i])-risk_free)"
   ]
  },
  {
   "cell_type": "code",
   "execution_count": 580,
   "metadata": {},
   "outputs": [],
   "source": [
    "# trasform vw_ret in a matrix to work more easily\n",
    "exc_ret_vw = np.array(exc_ret_vw).T #trasponse in order to have one all month returns for each row (10 rows)"
   ]
  },
  {
   "cell_type": "markdown",
   "metadata": {},
   "source": [
    "**REGRESSION VALUE WEIGHTED**"
   ]
  },
  {
   "cell_type": "code",
   "execution_count": 582,
   "metadata": {},
   "outputs": [
    {
     "name": "stdout",
     "output_type": "stream",
     "text": [
      "VALUE WEIGHTED\n",
      "For the portfolio number 1: alpha = 0.024717847103682265 and beta = 0.003946712212038763\n",
      "For the portfolio number 2: alpha = 0.043617458456390486 and beta = 0.0039467122120387665\n",
      "For the portfolio number 3: alpha = 0.06475395673672428 and beta = 0.003946712212038697\n",
      "For the portfolio number 4: alpha = 0.030502036247736057 and beta = 0.003946712212038794\n",
      "For the portfolio number 5: alpha = 0.03327939430420715 and beta = 0.0039467122120387735\n",
      "For the portfolio number 6: alpha = 0.031455300506957405 and beta = 0.00394671221203878\n",
      "For the portfolio number 7: alpha = 0.0641508358895298 and beta = 0.003946712212038753\n",
      "For the portfolio number 8: alpha = 0.023562585658590242 and beta = 0.003946712212038787\n",
      "For the portfolio number 9: alpha = 0.05289768499650378 and beta = 0.003946712212038725\n",
      "For the portfolio number 10: alpha = 0.030083900461243263 and beta = 0.00394671221203878\n"
     ]
    }
   ],
   "source": [
    "alpha_vw = []\n",
    "beta_vw = []\n",
    "\n",
    "print(\"VALUE WEIGHTED\")\n",
    "for i in range(10):\n",
    "    Y= np.array(exc_ret_vw[i], dtype=float)\n",
    "    X= np.array(risk_premium, dtype=float)\n",
    "    X = sm.add_constant(X)\n",
    "    model_parameters = sm.OLS(Y,X).fit().params\n",
    "    alpha_vw.append(model_parameters[0])\n",
    "    beta_vw.append(model_parameters[1])\n",
    "    print (f\"For the portfolio number {i+1}: alpha = {model_parameters[0]} and beta = {model_parameters[1]}\")\n",
    " "
   ]
  },
  {
   "cell_type": "markdown",
   "metadata": {},
   "source": [
    "**PLOT**"
   ]
  },
  {
   "cell_type": "code",
   "execution_count": 587,
   "metadata": {},
   "outputs": [
    {
     "data": {
      "image/png": "[encoded data removed]",
      "text/plain": [
       "<Figure size 432x288 with 1 Axes>"
      ]
     },
     "metadata": {
      "needs_background": "light"
     },
     "output_type": "display_data"
    },
    {
     "data": {
      "image/png": "[encoded data removed]",
      "text/plain": [
       "<Figure size 432x288 with 1 Axes>"
      ]
     },
     "metadata": {
      "needs_background": "light"
     },
     "output_type": "display_data"
    },
    {
     "data": {
      "image/png": "[encoded data removed]",
      "text/plain": [
       "<Figure size 432x288 with 1 Axes>"
      ]
     },
     "metadata": {
      "needs_background": "light"
     },
     "output_type": "display_data"
    },
    {
     "data": {
      "image/png": "[encoded data removed]",
      "text/plain": [
       "<Figure size 432x288 with 1 Axes>"
      ]
     },
     "metadata": {
      "needs_background": "light"
     },
     "output_type": "display_data"
    },
    {
     "data": {
      "image/png": "[encoded data removed]",
      "text/plain": [
       "<Figure size 432x288 with 1 Axes>"
      ]
     },
     "metadata": {
      "needs_background": "light"
     },
     "output_type": "display_data"
    },
    {
     "data": {
      "image/png": "[encoded data removed]",
      "text/plain": [
       "<Figure size 432x288 with 1 Axes>"
      ]
     },
     "metadata": {
      "needs_background": "light"
     },
     "output_type": "display_data"
    },
    {
     "data": {
      "image/png": "[encoded data removed]",
      "text/plain": [
       "<Figure size 432x288 with 1 Axes>"
      ]
     },
     "metadata": {
      "needs_background": "light"
     },
     "output_type": "display_data"
    },
    {
     "data": {
      "image/png": "[encoded data removed]",
      "text/plain": [
       "<Figure size 432x288 with 1 Axes>"
      ]
     },
     "metadata": {
      "needs_background": "light"
     },
     "output_type": "display_data"
    },
    {
     "data": {
      "image/png": "[encoded data removed]",
      "text/plain": [
       "<Figure size 432x288 with 1 Axes>"
      ]
     },
     "metadata": {
      "needs_background": "light"
     },
     "output_type": "display_data"
    },
    {
     "data": {
      "image/png": "[encoded data removed]",
      "text/plain": [
       "<Figure size 432x288 with 1 Axes>"
      ]
     },
     "metadata": {
      "needs_background": "light"
     },
     "output_type": "display_data"
    }
   ],
   "source": [
    "for i in range(10):\n",
    "    \n",
    "    # equally\n",
    "    plt.scatter(risk_premium, exc_ret_ew[i], s=10, c='c')\n",
    "    axes = plt.gca()\n",
    "    x_vals = np.array(axes.get_xlim())\n",
    "    intercept= alpha_ew[i]\n",
    "    slope = beta_ew[i]\n",
    "    y_vals = intercept + slope * x_vals\n",
    "    plt.plot(x_vals, y_vals, 'b')\n",
    "    plt.title('Regression for portolio n*'+ str(i+1))\n",
    "    \n",
    "    #value\n",
    "    plt.scatter(risk_premium, exc_ret_vw[i], s=10, c='y')\n",
    "    axes = plt.gca()\n",
    "    x_vals = np.array(axes.get_xlim())\n",
    "    intercept= alpha_vw[i]\n",
    "    slope = beta_vw[i]\n",
    "    y_vals = intercept + slope * x_vals\n",
    "    plt.plot(x_vals, y_vals, 'r')\n",
    "    \n",
    "    plt.legend([ 'EW regression line', 'VW regression line', 'EW points','VW points'])\n",
    "    plt.title('Regression for portolio n*'+ str(i+1))\n",
    "    plt.xlabel('risk premium')\n",
    "    plt.ylabel('excess return')\n",
    "    plt.show()"
   ]
  },
  {
   "cell_type": "markdown",
   "metadata": {},
   "source": [
    "## C)"
   ]
  },
  {
   "cell_type": "code",
   "execution_count": null,
   "metadata": {},
   "outputs": [],
   "source": []
  },
  {
   "cell_type": "markdown",
   "metadata": {},
   "source": [
    "## D)"
   ]
  },
  {
   "cell_type": "code",
   "execution_count": 335,
   "metadata": {},
   "outputs": [],
   "source": [
    "def create_decile(df):\n",
    "    a = pd.qcut(df.mrk_cap,10)\n",
    "    decile = pd.DataFrame([df.date, pd.qcut(df.mrk_cap,10)])\n",
    "    #decile = pd.DataFrame(pd.qcut(df.mrk_cap,10))\n",
    "    decile = decile.rename(columns={\"mrk_cap\":\"decile\"})\n",
    "    return decile\n",
    "\n",
    "decile_each_month = stocks_del.groupby('date').apply(create_decile)"
   ]
  },
  {
   "cell_type": "code",
   "execution_count": 336,
   "metadata": {},
   "outputs": [],
   "source": [
    "stocks_del_lagged = stocks_del # ora lo duplichi poi sostituisci la colonna mark cap con la sua laggata  \n",
    "stocks_del_lagged['mrk_cap'] =  stocks_del.groupby(stocks_del.index)['mrk_cap'].shift(1) # lagged market cap\n",
    "\n",
    "\n",
    "decile_each_month = stocks_del_lagged.groupby('date').apply(lambda x : pd.qcut(x.mrk_cap,10) )"
   ]
  },
  {
   "cell_type": "code",
   "execution_count": 337,
   "metadata": {},
   "outputs": [
    {
     "data": {
      "text/plain": [
       "date     permno \n",
       "2000-01  10145.0                              NaN\n",
       "         10294.0                              NaN\n",
       "         10308.0                              NaN\n",
       "         10516.0      (9223655.125, 18010610.134]\n",
       "         10517.0                              NaN\n",
       "                                ...              \n",
       "2019-12  87432.0     (22629577.929, 53449667.616]\n",
       "         87437.0         (212784.701, 813286.325]\n",
       "         89317.0         (212784.701, 813286.325]\n",
       "         92583.0           (1975.217, 212784.701]\n",
       "         92655.0    (53449667.616, 413263246.371]\n",
       "Name: mrk_cap, Length: 152640, dtype: object"
      ]
     },
     "execution_count": 337,
     "metadata": {},
     "output_type": "execute_result"
    }
   ],
   "source": [
    "decile_each_month"
   ]
  },
  {
   "cell_type": "code",
   "execution_count": null,
   "metadata": {},
   "outputs": [],
   "source": []
  }
 ],
 "metadata": {
  "kernelspec": {
   "display_name": "Python 3",
   "language": "python",
   "name": "python3"
  },
  "language_info": {
   "codemirror_mode": {
    "name": "ipython",
    "version": 3
   },
   "file_extension": ".py",
   "mimetype": "text/x-python",
   "name": "python",
   "nbconvert_exporter": "python",
   "pygments_lexer": "ipython3",
   "version": "3.7.7"
  }
 },
 "nbformat": 4,
 "nbformat_minor": 4
}
