{
 "cells": [
  {
   "cell_type": "markdown",
   "metadata": {},
   "source": [
    "## Investments Assignment 7\n",
    "\n",
    "#### Anita Mezzetti, Hien Le, Francesco Maizza"
   ]
  },
  {
   "cell_type": "code",
   "execution_count": 1,
   "metadata": {},
   "outputs": [
    {
     "name": "stdout",
     "output_type": "stream",
     "text": [
      "Loading library list...\n",
      "Done\n"
     ]
    }
   ],
   "source": [
    "import numpy as np\n",
    "import pandas as pd\n",
    "pd.options.mode.chained_assignment = None  # default='warn'\n",
    "import random as random\n",
    "import matplotlib.pyplot as plt\n",
    "from datetime import datetime\n",
    "import statsmodels.api as sm\n",
    "import wrds\n",
    "import warnings\n",
    "from scipy import stats\n",
    "warnings.simplefilter(action='ignore', category=FutureWarning)\n",
    "#warnings.simplefilter(action='ignore', category=SettingWithCopyWarning)\n",
    "db = wrds.Connection(wrds_username = 'anita97') "
   ]
  },
  {
   "cell_type": "markdown",
   "metadata": {},
   "source": [
    "## a)"
   ]
  },
  {
   "cell_type": "code",
   "execution_count": 2,
   "metadata": {},
   "outputs": [],
   "source": [
    "#import stocks\n",
    "'''s = db.raw_sql(\"select a.permno, a.date, b.exchcd, \\\n",
    "                  a.ret, b.shrcd, a.shrout, a.prc \\\n",
    "                  from crsp.msf as a \\\n",
    "                  join crsp.msenames as b \\\n",
    "                  on a.permno = b.permno and b.namedt<=a.date \\\n",
    "                  and a.date<=b.nameendt \\\n",
    "                  where b.shrcd between (10) and (11) and \\\n",
    "                  a.date >='2000-01-01' and a.date<='2019-12-31'\\\n",
    "                  and b.exchcd between 1 and 2\")'''\n",
    "\n",
    "#s.to_csv('as7.csv')\n",
    "stocks = pd.read_csv('as7.csv', index_col=0) # read the file"
   ]
  },
  {
   "cell_type": "markdown",
   "metadata": {},
   "source": [
    "For each value we want one value for each month. Firstly we trasform data column in month-year(format). Then, for each stock we chack that there is only one value for each month:"
   ]
  },
  {
   "cell_type": "code",
   "execution_count": 3,
   "metadata": {},
   "outputs": [],
   "source": [
    "stocks.date = pd.DatetimeIndex(stocks.date) # data format\n",
    "stocks.date = stocks.date.dt.to_period('M') # data year-month\n",
    "stocks = stocks.drop_duplicates(['permno','date']) # delete duplicates\n",
    "stocks.sort_values(by=['permno','date'])\n",
    "stocks = stocks.set_index('permno') # set permno as index"
   ]
  },
  {
   "cell_type": "code",
   "execution_count": 4,
   "metadata": {},
   "outputs": [
    {
     "data": {
      "text/html": [
       "<div>\n",
       "<style scoped>\n",
       "    .dataframe tbody tr th:only-of-type {\n",
       "        vertical-align: middle;\n",
       "    }\n",
       "\n",
       "    .dataframe tbody tr th {\n",
       "        vertical-align: top;\n",
       "    }\n",
       "\n",
       "    .dataframe thead th {\n",
       "        text-align: right;\n",
       "    }\n",
       "</style>\n",
       "<table border=\"1\" class=\"dataframe\">\n",
       "  <thead>\n",
       "    <tr style=\"text-align: right;\">\n",
       "      <th></th>\n",
       "      <th></th>\n",
       "      <th>exchcd</th>\n",
       "      <th>ret</th>\n",
       "      <th>shrout</th>\n",
       "      <th>shrcd</th>\n",
       "      <th>prc</th>\n",
       "    </tr>\n",
       "    <tr>\n",
       "      <th>permno</th>\n",
       "      <th>date</th>\n",
       "      <th></th>\n",
       "      <th></th>\n",
       "      <th></th>\n",
       "      <th></th>\n",
       "      <th></th>\n",
       "    </tr>\n",
       "  </thead>\n",
       "  <tbody>\n",
       "    <tr>\n",
       "      <th rowspan=\"5\" valign=\"top\">10001.0</th>\n",
       "      <th>2009-12</th>\n",
       "      <td>2.0</td>\n",
       "      <td>0.162621</td>\n",
       "      <td>4361.0</td>\n",
       "      <td>11.0</td>\n",
       "      <td>10.3000</td>\n",
       "    </tr>\n",
       "    <tr>\n",
       "      <th>2010-01</th>\n",
       "      <td>2.0</td>\n",
       "      <td>-0.018932</td>\n",
       "      <td>4361.0</td>\n",
       "      <td>11.0</td>\n",
       "      <td>10.0600</td>\n",
       "    </tr>\n",
       "    <tr>\n",
       "      <th>2010-02</th>\n",
       "      <td>2.0</td>\n",
       "      <td>-0.000656</td>\n",
       "      <td>4361.0</td>\n",
       "      <td>11.0</td>\n",
       "      <td>10.0084</td>\n",
       "    </tr>\n",
       "    <tr>\n",
       "      <th>2010-03</th>\n",
       "      <td>2.0</td>\n",
       "      <td>0.020643</td>\n",
       "      <td>4361.0</td>\n",
       "      <td>11.0</td>\n",
       "      <td>10.1700</td>\n",
       "    </tr>\n",
       "    <tr>\n",
       "      <th>2010-04</th>\n",
       "      <td>2.0</td>\n",
       "      <td>0.124385</td>\n",
       "      <td>6070.0</td>\n",
       "      <td>11.0</td>\n",
       "      <td>11.3900</td>\n",
       "    </tr>\n",
       "  </tbody>\n",
       "</table>\n",
       "</div>"
      ],
      "text/plain": [
       "                 exchcd       ret  shrout  shrcd      prc\n",
       "permno  date                                             \n",
       "10001.0 2009-12     2.0  0.162621  4361.0   11.0  10.3000\n",
       "        2010-01     2.0 -0.018932  4361.0   11.0  10.0600\n",
       "        2010-02     2.0 -0.000656  4361.0   11.0  10.0084\n",
       "        2010-03     2.0  0.020643  4361.0   11.0  10.1700\n",
       "        2010-04     2.0  0.124385  6070.0   11.0  11.3900"
      ]
     },
     "execution_count": 4,
     "metadata": {},
     "output_type": "execute_result"
    }
   ],
   "source": [
    "# We set also date as index for having a nice output\n",
    "stocks_output = stocks.reset_index()\n",
    "stocks_output = stocks_output.set_index(['permno','date'])\n",
    "stocks_output.head()"
   ]
  },
  {
   "cell_type": "markdown",
   "metadata": {},
   "source": [
    "We have to delete all the stocks which have less than 240 observations. In order to do that, we can group all the stocks on permno (which identify one stock) and then count how many observations we have for each stock:"
   ]
  },
  {
   "cell_type": "code",
   "execution_count": 5,
   "metadata": {},
   "outputs": [
    {
     "name": "stdout",
     "output_type": "stream",
     "text": [
      "We have 4118 different stocks. Each has a certain number of observations:\n"
     ]
    },
    {
     "data": {
      "text/html": [
       "<div>\n",
       "<style scoped>\n",
       "    .dataframe tbody tr th:only-of-type {\n",
       "        vertical-align: middle;\n",
       "    }\n",
       "\n",
       "    .dataframe tbody tr th {\n",
       "        vertical-align: top;\n",
       "    }\n",
       "\n",
       "    .dataframe thead th {\n",
       "        text-align: right;\n",
       "    }\n",
       "</style>\n",
       "<table border=\"1\" class=\"dataframe\">\n",
       "  <thead>\n",
       "    <tr style=\"text-align: right;\">\n",
       "      <th></th>\n",
       "      <th>number of observations</th>\n",
       "    </tr>\n",
       "    <tr>\n",
       "      <th>permno</th>\n",
       "      <th></th>\n",
       "    </tr>\n",
       "  </thead>\n",
       "  <tbody>\n",
       "    <tr>\n",
       "      <th>10001.0</th>\n",
       "      <td>92</td>\n",
       "    </tr>\n",
       "    <tr>\n",
       "      <th>10028.0</th>\n",
       "      <td>140</td>\n",
       "    </tr>\n",
       "    <tr>\n",
       "      <th>10042.0</th>\n",
       "      <td>98</td>\n",
       "    </tr>\n",
       "    <tr>\n",
       "      <th>10051.0</th>\n",
       "      <td>233</td>\n",
       "    </tr>\n",
       "    <tr>\n",
       "      <th>10066.0</th>\n",
       "      <td>28</td>\n",
       "    </tr>\n",
       "  </tbody>\n",
       "</table>\n",
       "</div>"
      ],
      "text/plain": [
       "         number of observations\n",
       "permno                         \n",
       "10001.0                      92\n",
       "10028.0                     140\n",
       "10042.0                      98\n",
       "10051.0                     233\n",
       "10066.0                      28"
      ]
     },
     "execution_count": 5,
     "metadata": {},
     "output_type": "execute_result"
    }
   ],
   "source": [
    "count = []\n",
    "count = stocks.groupby('permno').count()\n",
    "# now in each column we have the number of observations. We can rename one of them\n",
    "count = count.rename(columns={\"date\":\"number of observations\"})\n",
    "count = count[['number of observations']]\n",
    "print(f\"We have {count.shape[0]} different stocks. Each has a certain number of observations:\")\n",
    "count.head()"
   ]
  },
  {
   "cell_type": "markdown",
   "metadata": {},
   "source": [
    "Now we delete  stocks with less than 240 observations:\n",
    "\n",
    "Note: This is equal to have only stocks with preciselt 240 observations. Because we want that they are traded EVERY mounth for 20 years: \n",
    "\n",
    "20 years*12 mounths = 240 observation. "
   ]
  },
  {
   "cell_type": "code",
   "execution_count": 6,
   "metadata": {},
   "outputs": [
    {
     "data": {
      "text/html": [
       "<div>\n",
       "<style scoped>\n",
       "    .dataframe tbody tr th:only-of-type {\n",
       "        vertical-align: middle;\n",
       "    }\n",
       "\n",
       "    .dataframe tbody tr th {\n",
       "        vertical-align: top;\n",
       "    }\n",
       "\n",
       "    .dataframe thead th {\n",
       "        text-align: right;\n",
       "    }\n",
       "</style>\n",
       "<table border=\"1\" class=\"dataframe\">\n",
       "  <thead>\n",
       "    <tr style=\"text-align: right;\">\n",
       "      <th></th>\n",
       "      <th>number of observations</th>\n",
       "    </tr>\n",
       "    <tr>\n",
       "      <th>permno</th>\n",
       "      <th></th>\n",
       "    </tr>\n",
       "  </thead>\n",
       "  <tbody>\n",
       "    <tr>\n",
       "      <th>10001.0</th>\n",
       "      <td>True</td>\n",
       "    </tr>\n",
       "    <tr>\n",
       "      <th>10028.0</th>\n",
       "      <td>True</td>\n",
       "    </tr>\n",
       "    <tr>\n",
       "      <th>10042.0</th>\n",
       "      <td>True</td>\n",
       "    </tr>\n",
       "    <tr>\n",
       "      <th>10051.0</th>\n",
       "      <td>True</td>\n",
       "    </tr>\n",
       "    <tr>\n",
       "      <th>10066.0</th>\n",
       "      <td>True</td>\n",
       "    </tr>\n",
       "  </tbody>\n",
       "</table>\n",
       "</div>"
      ],
      "text/plain": [
       "         number of observations\n",
       "permno                         \n",
       "10001.0                    True\n",
       "10028.0                    True\n",
       "10042.0                    True\n",
       "10051.0                    True\n",
       "10066.0                    True"
      ]
     },
     "execution_count": 6,
     "metadata": {},
     "output_type": "execute_result"
    }
   ],
   "source": [
    "decision = count[['number of observations']]!=240 # delete if true\n",
    "decision = decision.dropna() # drop NaN\n",
    "decision.head()"
   ]
  },
  {
   "cell_type": "code",
   "execution_count": 7,
   "metadata": {},
   "outputs": [
    {
     "name": "stdout",
     "output_type": "stream",
     "text": [
      "We delete 3479 stocks.\n"
     ]
    },
    {
     "data": {
      "text/html": [
       "<div>\n",
       "<style scoped>\n",
       "    .dataframe tbody tr th:only-of-type {\n",
       "        vertical-align: middle;\n",
       "    }\n",
       "\n",
       "    .dataframe tbody tr th {\n",
       "        vertical-align: top;\n",
       "    }\n",
       "\n",
       "    .dataframe thead th {\n",
       "        text-align: right;\n",
       "    }\n",
       "</style>\n",
       "<table border=\"1\" class=\"dataframe\">\n",
       "  <thead>\n",
       "    <tr style=\"text-align: right;\">\n",
       "      <th></th>\n",
       "      <th>date</th>\n",
       "      <th>exchcd</th>\n",
       "      <th>ret</th>\n",
       "      <th>shrout</th>\n",
       "      <th>shrcd</th>\n",
       "      <th>prc</th>\n",
       "    </tr>\n",
       "    <tr>\n",
       "      <th>permno</th>\n",
       "      <th></th>\n",
       "      <th></th>\n",
       "      <th></th>\n",
       "      <th></th>\n",
       "      <th></th>\n",
       "      <th></th>\n",
       "    </tr>\n",
       "  </thead>\n",
       "  <tbody>\n",
       "    <tr>\n",
       "      <th>10145.0</th>\n",
       "      <td>2000-01</td>\n",
       "      <td>1.0</td>\n",
       "      <td>-0.167931</td>\n",
       "      <td>789233.0</td>\n",
       "      <td>11.0</td>\n",
       "      <td>48.000000</td>\n",
       "    </tr>\n",
       "    <tr>\n",
       "      <th>10145.0</th>\n",
       "      <td>2001-07</td>\n",
       "      <td>1.0</td>\n",
       "      <td>0.059088</td>\n",
       "      <td>809281.0</td>\n",
       "      <td>11.0</td>\n",
       "      <td>36.869999</td>\n",
       "    </tr>\n",
       "    <tr>\n",
       "      <th>10145.0</th>\n",
       "      <td>2001-08</td>\n",
       "      <td>1.0</td>\n",
       "      <td>0.015663</td>\n",
       "      <td>811616.0</td>\n",
       "      <td>11.0</td>\n",
       "      <td>37.259998</td>\n",
       "    </tr>\n",
       "    <tr>\n",
       "      <th>10145.0</th>\n",
       "      <td>2001-09</td>\n",
       "      <td>1.0</td>\n",
       "      <td>-0.291465</td>\n",
       "      <td>811616.0</td>\n",
       "      <td>11.0</td>\n",
       "      <td>26.400000</td>\n",
       "    </tr>\n",
       "    <tr>\n",
       "      <th>10145.0</th>\n",
       "      <td>2001-10</td>\n",
       "      <td>1.0</td>\n",
       "      <td>0.119318</td>\n",
       "      <td>811619.0</td>\n",
       "      <td>11.0</td>\n",
       "      <td>29.549999</td>\n",
       "    </tr>\n",
       "  </tbody>\n",
       "</table>\n",
       "</div>"
      ],
      "text/plain": [
       "            date  exchcd       ret    shrout  shrcd        prc\n",
       "permno                                                        \n",
       "10145.0  2000-01     1.0 -0.167931  789233.0   11.0  48.000000\n",
       "10145.0  2001-07     1.0  0.059088  809281.0   11.0  36.869999\n",
       "10145.0  2001-08     1.0  0.015663  811616.0   11.0  37.259998\n",
       "10145.0  2001-09     1.0 -0.291465  811616.0   11.0  26.400000\n",
       "10145.0  2001-10     1.0  0.119318  811619.0   11.0  29.549999"
      ]
     },
     "execution_count": 7,
     "metadata": {},
     "output_type": "execute_result"
    }
   ],
   "source": [
    "decision_true = decision[decision['number of observations']] # keep only true\n",
    "print(f\"We delete {decision_true.shape[0]} stocks.\")\n",
    "stocks_del = stocks.drop(index=decision_true.index) # drop the stocks that have < 240 observations\n",
    "stocks_del.head()"
   ]
  },
  {
   "cell_type": "markdown",
   "metadata": {},
   "source": [
    "We should have 639 stocks:"
   ]
  },
  {
   "cell_type": "code",
   "execution_count": 8,
   "metadata": {},
   "outputs": [
    {
     "name": "stdout",
     "output_type": "stream",
     "text": [
      "We have deleted 3479 and we are left with 639 stocks\n"
     ]
    }
   ],
   "source": [
    "# we have deleted decision_true\n",
    "# we are left with the rest of decision\n",
    "num_deleted = int(decision_true.count())\n",
    "num_left = int(decision.count()-decision_true.count())\n",
    "print(f\"We have deleted {num_deleted} and we are left with {num_left} stocks\")"
   ]
  },
  {
   "cell_type": "markdown",
   "metadata": {},
   "source": [
    "Delete 3 NaN stocks: fisrt we delete null returns. This operation doesn not remove all the stock obersavations, but only the null ones. In order to cancel all the observations of stocks with NaN values, we re-check that stocks actually have 240 obersations."
   ]
  },
  {
   "cell_type": "code",
   "execution_count": 9,
   "metadata": {},
   "outputs": [],
   "source": [
    "stocks_del = stocks_del[~stocks_del.ret.isna()] # delete null returns"
   ]
  },
  {
   "cell_type": "code",
   "execution_count": 10,
   "metadata": {},
   "outputs": [
    {
     "name": "stdout",
     "output_type": "stream",
     "text": [
      "We have 639 different stocks. Each has a certain number of observations:\n"
     ]
    },
    {
     "data": {
      "text/html": [
       "<div>\n",
       "<style scoped>\n",
       "    .dataframe tbody tr th:only-of-type {\n",
       "        vertical-align: middle;\n",
       "    }\n",
       "\n",
       "    .dataframe tbody tr th {\n",
       "        vertical-align: top;\n",
       "    }\n",
       "\n",
       "    .dataframe thead th {\n",
       "        text-align: right;\n",
       "    }\n",
       "</style>\n",
       "<table border=\"1\" class=\"dataframe\">\n",
       "  <thead>\n",
       "    <tr style=\"text-align: right;\">\n",
       "      <th></th>\n",
       "      <th>number of observations</th>\n",
       "    </tr>\n",
       "    <tr>\n",
       "      <th>permno</th>\n",
       "      <th></th>\n",
       "    </tr>\n",
       "  </thead>\n",
       "  <tbody>\n",
       "    <tr>\n",
       "      <th>10145.0</th>\n",
       "      <td>240</td>\n",
       "    </tr>\n",
       "    <tr>\n",
       "      <th>10294.0</th>\n",
       "      <td>240</td>\n",
       "    </tr>\n",
       "    <tr>\n",
       "      <th>10308.0</th>\n",
       "      <td>240</td>\n",
       "    </tr>\n",
       "    <tr>\n",
       "      <th>10516.0</th>\n",
       "      <td>240</td>\n",
       "    </tr>\n",
       "    <tr>\n",
       "      <th>10517.0</th>\n",
       "      <td>240</td>\n",
       "    </tr>\n",
       "  </tbody>\n",
       "</table>\n",
       "</div>"
      ],
      "text/plain": [
       "         number of observations\n",
       "permno                         \n",
       "10145.0                     240\n",
       "10294.0                     240\n",
       "10308.0                     240\n",
       "10516.0                     240\n",
       "10517.0                     240"
      ]
     },
     "execution_count": 10,
     "metadata": {},
     "output_type": "execute_result"
    }
   ],
   "source": [
    "count = []\n",
    "count = stocks_del.groupby('permno').count()\n",
    "# now in each column we have the number of observations. We can rename one of them\n",
    "count = count.rename(columns={\"date\":\"number of observations\"})\n",
    "count = count[['number of observations']]\n",
    "print(f\"We have {count.shape[0]} different stocks. Each has a certain number of observations:\")\n",
    "count.head()"
   ]
  },
  {
   "cell_type": "code",
   "execution_count": 11,
   "metadata": {},
   "outputs": [
    {
     "data": {
      "text/html": [
       "<div>\n",
       "<style scoped>\n",
       "    .dataframe tbody tr th:only-of-type {\n",
       "        vertical-align: middle;\n",
       "    }\n",
       "\n",
       "    .dataframe tbody tr th {\n",
       "        vertical-align: top;\n",
       "    }\n",
       "\n",
       "    .dataframe thead th {\n",
       "        text-align: right;\n",
       "    }\n",
       "</style>\n",
       "<table border=\"1\" class=\"dataframe\">\n",
       "  <thead>\n",
       "    <tr style=\"text-align: right;\">\n",
       "      <th></th>\n",
       "      <th>number of observations</th>\n",
       "    </tr>\n",
       "    <tr>\n",
       "      <th>permno</th>\n",
       "      <th></th>\n",
       "    </tr>\n",
       "  </thead>\n",
       "  <tbody>\n",
       "    <tr>\n",
       "      <th>10145.0</th>\n",
       "      <td>False</td>\n",
       "    </tr>\n",
       "    <tr>\n",
       "      <th>10294.0</th>\n",
       "      <td>False</td>\n",
       "    </tr>\n",
       "    <tr>\n",
       "      <th>10308.0</th>\n",
       "      <td>False</td>\n",
       "    </tr>\n",
       "    <tr>\n",
       "      <th>10516.0</th>\n",
       "      <td>False</td>\n",
       "    </tr>\n",
       "    <tr>\n",
       "      <th>10517.0</th>\n",
       "      <td>False</td>\n",
       "    </tr>\n",
       "  </tbody>\n",
       "</table>\n",
       "</div>"
      ],
      "text/plain": [
       "         number of observations\n",
       "permno                         \n",
       "10145.0                   False\n",
       "10294.0                   False\n",
       "10308.0                   False\n",
       "10516.0                   False\n",
       "10517.0                   False"
      ]
     },
     "execution_count": 11,
     "metadata": {},
     "output_type": "execute_result"
    }
   ],
   "source": [
    "decision = count[['number of observations']]!=240 # delete if true\n",
    "decision = decision.dropna() # drop NaN\n",
    "decision.head()"
   ]
  },
  {
   "cell_type": "code",
   "execution_count": 12,
   "metadata": {},
   "outputs": [
    {
     "name": "stdout",
     "output_type": "stream",
     "text": [
      "We delete 3 stocks.\n"
     ]
    },
    {
     "data": {
      "text/html": [
       "<div>\n",
       "<style scoped>\n",
       "    .dataframe tbody tr th:only-of-type {\n",
       "        vertical-align: middle;\n",
       "    }\n",
       "\n",
       "    .dataframe tbody tr th {\n",
       "        vertical-align: top;\n",
       "    }\n",
       "\n",
       "    .dataframe thead th {\n",
       "        text-align: right;\n",
       "    }\n",
       "</style>\n",
       "<table border=\"1\" class=\"dataframe\">\n",
       "  <thead>\n",
       "    <tr style=\"text-align: right;\">\n",
       "      <th></th>\n",
       "      <th>date</th>\n",
       "      <th>exchcd</th>\n",
       "      <th>ret</th>\n",
       "      <th>shrout</th>\n",
       "      <th>shrcd</th>\n",
       "      <th>prc</th>\n",
       "    </tr>\n",
       "    <tr>\n",
       "      <th>permno</th>\n",
       "      <th></th>\n",
       "      <th></th>\n",
       "      <th></th>\n",
       "      <th></th>\n",
       "      <th></th>\n",
       "      <th></th>\n",
       "    </tr>\n",
       "  </thead>\n",
       "  <tbody>\n",
       "    <tr>\n",
       "      <th>10001.0</th>\n",
       "      <td>2009-12</td>\n",
       "      <td>2.0</td>\n",
       "      <td>0.162621</td>\n",
       "      <td>4361.0</td>\n",
       "      <td>11.0</td>\n",
       "      <td>10.3000</td>\n",
       "    </tr>\n",
       "    <tr>\n",
       "      <th>10001.0</th>\n",
       "      <td>2010-01</td>\n",
       "      <td>2.0</td>\n",
       "      <td>-0.018932</td>\n",
       "      <td>4361.0</td>\n",
       "      <td>11.0</td>\n",
       "      <td>10.0600</td>\n",
       "    </tr>\n",
       "    <tr>\n",
       "      <th>10001.0</th>\n",
       "      <td>2010-02</td>\n",
       "      <td>2.0</td>\n",
       "      <td>-0.000656</td>\n",
       "      <td>4361.0</td>\n",
       "      <td>11.0</td>\n",
       "      <td>10.0084</td>\n",
       "    </tr>\n",
       "    <tr>\n",
       "      <th>10001.0</th>\n",
       "      <td>2010-03</td>\n",
       "      <td>2.0</td>\n",
       "      <td>0.020643</td>\n",
       "      <td>4361.0</td>\n",
       "      <td>11.0</td>\n",
       "      <td>10.1700</td>\n",
       "    </tr>\n",
       "    <tr>\n",
       "      <th>10001.0</th>\n",
       "      <td>2010-04</td>\n",
       "      <td>2.0</td>\n",
       "      <td>0.124385</td>\n",
       "      <td>6070.0</td>\n",
       "      <td>11.0</td>\n",
       "      <td>11.3900</td>\n",
       "    </tr>\n",
       "  </tbody>\n",
       "</table>\n",
       "</div>"
      ],
      "text/plain": [
       "            date  exchcd       ret  shrout  shrcd      prc\n",
       "permno                                                    \n",
       "10001.0  2009-12     2.0  0.162621  4361.0   11.0  10.3000\n",
       "10001.0  2010-01     2.0 -0.018932  4361.0   11.0  10.0600\n",
       "10001.0  2010-02     2.0 -0.000656  4361.0   11.0  10.0084\n",
       "10001.0  2010-03     2.0  0.020643  4361.0   11.0  10.1700\n",
       "10001.0  2010-04     2.0  0.124385  6070.0   11.0  11.3900"
      ]
     },
     "execution_count": 12,
     "metadata": {},
     "output_type": "execute_result"
    }
   ],
   "source": [
    "decision_true = decision[decision['number of observations']] # keep only true\n",
    "print(f\"We delete {decision_true.shape[0]} stocks.\")\n",
    "stocks_del = stocks.drop(index=decision_true.index) # drop the stocks that have < 240 observations\n",
    "stocks_del.head()"
   ]
  },
  {
   "cell_type": "code",
   "execution_count": 13,
   "metadata": {},
   "outputs": [
    {
     "name": "stdout",
     "output_type": "stream",
     "text": [
      "We have deleted 3 and we are left with 636 stocks\n"
     ]
    }
   ],
   "source": [
    "# we have deleted decision_true\n",
    "# we are left with the rest of decision\n",
    "num_deleted = int(decision_true.count())\n",
    "num_left = int(decision.count()-decision_true.count())\n",
    "print(f\"We have deleted {num_deleted} and we are left with {num_left} stocks\")"
   ]
  },
  {
   "cell_type": "markdown",
   "metadata": {},
   "source": [
    "Now, we can add the risk free rate and market returns. "
   ]
  },
  {
   "cell_type": "code",
   "execution_count": 14,
   "metadata": {},
   "outputs": [],
   "source": [
    "# import risk free rate\n",
    "risk_free = db.raw_sql(\"select mcaldt as date, tmytm as rf from crsp.tfz_mth_rf where kytreasnox = 2000001 and mcaldt>='2000-01-01' and mcaldt<='2019-12-31'\")\n",
    "risk_free_m = np.exp(np.divide(risk_free.rf, 1200)) -1\n",
    "rf = pd.DataFrame([risk_free.date, risk_free_m], index=['date', 'rf']).T\n",
    "\n",
    "# import market\n",
    "market = db.raw_sql(\"select date, vwretd from crsp.msi where date>='2000-01-01' and date<='2019-12-31'\")\n",
    "market_m = pd.DataFrame([market.date, market.vwretd.values], index=['date', 'mkt_ret']).T\n",
    "rm = market_m.set_index('date')"
   ]
  },
  {
   "cell_type": "code",
   "execution_count": 15,
   "metadata": {},
   "outputs": [
    {
     "data": {
      "text/html": [
       "<div>\n",
       "<style scoped>\n",
       "    .dataframe tbody tr th:only-of-type {\n",
       "        vertical-align: middle;\n",
       "    }\n",
       "\n",
       "    .dataframe tbody tr th {\n",
       "        vertical-align: top;\n",
       "    }\n",
       "\n",
       "    .dataframe thead th {\n",
       "        text-align: right;\n",
       "    }\n",
       "</style>\n",
       "<table border=\"1\" class=\"dataframe\">\n",
       "  <thead>\n",
       "    <tr style=\"text-align: right;\">\n",
       "      <th></th>\n",
       "      <th>rf</th>\n",
       "    </tr>\n",
       "    <tr>\n",
       "      <th>date</th>\n",
       "      <th></th>\n",
       "    </tr>\n",
       "  </thead>\n",
       "  <tbody>\n",
       "    <tr>\n",
       "      <th>2000-01</th>\n",
       "      <td>0.00449835</td>\n",
       "    </tr>\n",
       "    <tr>\n",
       "      <th>2000-02</th>\n",
       "      <td>0.00443834</td>\n",
       "    </tr>\n",
       "    <tr>\n",
       "      <th>2000-03</th>\n",
       "      <td>0.00489188</td>\n",
       "    </tr>\n",
       "    <tr>\n",
       "      <th>2000-04</th>\n",
       "      <td>0.00440126</td>\n",
       "    </tr>\n",
       "    <tr>\n",
       "      <th>2000-05</th>\n",
       "      <td>0.00390314</td>\n",
       "    </tr>\n",
       "  </tbody>\n",
       "</table>\n",
       "</div>"
      ],
      "text/plain": [
       "                 rf\n",
       "date               \n",
       "2000-01  0.00449835\n",
       "2000-02  0.00443834\n",
       "2000-03  0.00489188\n",
       "2000-04  0.00440126\n",
       "2000-05  0.00390314"
      ]
     },
     "execution_count": 15,
     "metadata": {},
     "output_type": "execute_result"
    }
   ],
   "source": [
    "rf.date = pd.DatetimeIndex(rf.date) # data format\n",
    "rf.date = rf.date.dt.to_period('M') # data year-month\n",
    "rf = rf.set_index('date')\n",
    "rf.head()"
   ]
  },
  {
   "cell_type": "code",
   "execution_count": 16,
   "metadata": {},
   "outputs": [
    {
     "data": {
      "text/html": [
       "<div>\n",
       "<style scoped>\n",
       "    .dataframe tbody tr th:only-of-type {\n",
       "        vertical-align: middle;\n",
       "    }\n",
       "\n",
       "    .dataframe tbody tr th {\n",
       "        vertical-align: top;\n",
       "    }\n",
       "\n",
       "    .dataframe thead th {\n",
       "        text-align: right;\n",
       "    }\n",
       "</style>\n",
       "<table border=\"1\" class=\"dataframe\">\n",
       "  <thead>\n",
       "    <tr style=\"text-align: right;\">\n",
       "      <th></th>\n",
       "      <th>mkt_ret</th>\n",
       "    </tr>\n",
       "    <tr>\n",
       "      <th>date</th>\n",
       "      <th></th>\n",
       "    </tr>\n",
       "  </thead>\n",
       "  <tbody>\n",
       "    <tr>\n",
       "      <th>2000-01</th>\n",
       "      <td>-0.0396243</td>\n",
       "    </tr>\n",
       "    <tr>\n",
       "      <th>2000-02</th>\n",
       "      <td>0.0317784</td>\n",
       "    </tr>\n",
       "    <tr>\n",
       "      <th>2000-03</th>\n",
       "      <td>0.0535007</td>\n",
       "    </tr>\n",
       "    <tr>\n",
       "      <th>2000-04</th>\n",
       "      <td>-0.059527</td>\n",
       "    </tr>\n",
       "    <tr>\n",
       "      <th>2000-05</th>\n",
       "      <td>-0.0388696</td>\n",
       "    </tr>\n",
       "  </tbody>\n",
       "</table>\n",
       "</div>"
      ],
      "text/plain": [
       "           mkt_ret\n",
       "date              \n",
       "2000-01 -0.0396243\n",
       "2000-02  0.0317784\n",
       "2000-03  0.0535007\n",
       "2000-04  -0.059527\n",
       "2000-05 -0.0388696"
      ]
     },
     "execution_count": 16,
     "metadata": {},
     "output_type": "execute_result"
    }
   ],
   "source": [
    "rm.index = pd.DatetimeIndex(rm.index) # data format\n",
    "rm.index = rm.index.to_period('M') # data year-month\n",
    "rm.head()"
   ]
  },
  {
   "cell_type": "markdown",
   "metadata": {},
   "source": [
    "## b)"
   ]
  },
  {
   "cell_type": "markdown",
   "metadata": {},
   "source": [
    "Caculate market capitalization, making sure that we have absolute values of share prices:"
   ]
  },
  {
   "cell_type": "code",
   "execution_count": 17,
   "metadata": {},
   "outputs": [
    {
     "data": {
      "text/html": [
       "<div>\n",
       "<style scoped>\n",
       "    .dataframe tbody tr th:only-of-type {\n",
       "        vertical-align: middle;\n",
       "    }\n",
       "\n",
       "    .dataframe tbody tr th {\n",
       "        vertical-align: top;\n",
       "    }\n",
       "\n",
       "    .dataframe thead th {\n",
       "        text-align: right;\n",
       "    }\n",
       "</style>\n",
       "<table border=\"1\" class=\"dataframe\">\n",
       "  <thead>\n",
       "    <tr style=\"text-align: right;\">\n",
       "      <th></th>\n",
       "      <th>date</th>\n",
       "      <th>exchcd</th>\n",
       "      <th>ret</th>\n",
       "      <th>shrout</th>\n",
       "      <th>shrcd</th>\n",
       "      <th>prc</th>\n",
       "      <th>mrk_cap</th>\n",
       "    </tr>\n",
       "    <tr>\n",
       "      <th>permno</th>\n",
       "      <th></th>\n",
       "      <th></th>\n",
       "      <th></th>\n",
       "      <th></th>\n",
       "      <th></th>\n",
       "      <th></th>\n",
       "      <th></th>\n",
       "    </tr>\n",
       "  </thead>\n",
       "  <tbody>\n",
       "    <tr>\n",
       "      <th>10001.0</th>\n",
       "      <td>2009-12</td>\n",
       "      <td>2.0</td>\n",
       "      <td>0.162621</td>\n",
       "      <td>4361.0</td>\n",
       "      <td>11.0</td>\n",
       "      <td>10.3000</td>\n",
       "      <td>44918.300832</td>\n",
       "    </tr>\n",
       "    <tr>\n",
       "      <th>10001.0</th>\n",
       "      <td>2010-01</td>\n",
       "      <td>2.0</td>\n",
       "      <td>-0.018932</td>\n",
       "      <td>4361.0</td>\n",
       "      <td>11.0</td>\n",
       "      <td>10.0600</td>\n",
       "      <td>43871.661830</td>\n",
       "    </tr>\n",
       "    <tr>\n",
       "      <th>10001.0</th>\n",
       "      <td>2010-02</td>\n",
       "      <td>2.0</td>\n",
       "      <td>-0.000656</td>\n",
       "      <td>4361.0</td>\n",
       "      <td>11.0</td>\n",
       "      <td>10.0084</td>\n",
       "      <td>43646.632240</td>\n",
       "    </tr>\n",
       "    <tr>\n",
       "      <th>10001.0</th>\n",
       "      <td>2010-03</td>\n",
       "      <td>2.0</td>\n",
       "      <td>0.020643</td>\n",
       "      <td>4361.0</td>\n",
       "      <td>11.0</td>\n",
       "      <td>10.1700</td>\n",
       "      <td>44351.370333</td>\n",
       "    </tr>\n",
       "    <tr>\n",
       "      <th>10001.0</th>\n",
       "      <td>2010-04</td>\n",
       "      <td>2.0</td>\n",
       "      <td>0.124385</td>\n",
       "      <td>6070.0</td>\n",
       "      <td>11.0</td>\n",
       "      <td>11.3900</td>\n",
       "      <td>69137.302084</td>\n",
       "    </tr>\n",
       "  </tbody>\n",
       "</table>\n",
       "</div>"
      ],
      "text/plain": [
       "            date  exchcd       ret  shrout  shrcd      prc       mrk_cap\n",
       "permno                                                                  \n",
       "10001.0  2009-12     2.0  0.162621  4361.0   11.0  10.3000  44918.300832\n",
       "10001.0  2010-01     2.0 -0.018932  4361.0   11.0  10.0600  43871.661830\n",
       "10001.0  2010-02     2.0 -0.000656  4361.0   11.0  10.0084  43646.632240\n",
       "10001.0  2010-03     2.0  0.020643  4361.0   11.0  10.1700  44351.370333\n",
       "10001.0  2010-04     2.0  0.124385  6070.0   11.0  11.3900  69137.302084"
      ]
     },
     "execution_count": 17,
     "metadata": {},
     "output_type": "execute_result"
    }
   ],
   "source": [
    "stocks_del['prc'] = stocks_del['prc'].abs() # absolute value of the share price\n",
    "stocks_del['mrk_cap'] = stocks_del['prc'] * stocks_del['shrout']\n",
    "stocks_del.head()"
   ]
  },
  {
   "cell_type": "markdown",
   "metadata": {},
   "source": [
    "Form 10 groups of stocks based on the market capitalization of 31 dec 2019, with first decile being group 1 on so on:"
   ]
  },
  {
   "cell_type": "code",
   "execution_count": 18,
   "metadata": {},
   "outputs": [
    {
     "data": {
      "text/html": [
       "<div>\n",
       "<style scoped>\n",
       "    .dataframe tbody tr th:only-of-type {\n",
       "        vertical-align: middle;\n",
       "    }\n",
       "\n",
       "    .dataframe tbody tr th {\n",
       "        vertical-align: top;\n",
       "    }\n",
       "\n",
       "    .dataframe thead th {\n",
       "        text-align: right;\n",
       "    }\n",
       "</style>\n",
       "<table border=\"1\" class=\"dataframe\">\n",
       "  <thead>\n",
       "    <tr style=\"text-align: right;\">\n",
       "      <th></th>\n",
       "      <th>date</th>\n",
       "      <th>exchcd</th>\n",
       "      <th>ret</th>\n",
       "      <th>shrout</th>\n",
       "      <th>shrcd</th>\n",
       "      <th>prc</th>\n",
       "      <th>mrk_cap</th>\n",
       "    </tr>\n",
       "    <tr>\n",
       "      <th>permno</th>\n",
       "      <th></th>\n",
       "      <th></th>\n",
       "      <th></th>\n",
       "      <th></th>\n",
       "      <th></th>\n",
       "      <th></th>\n",
       "      <th></th>\n",
       "    </tr>\n",
       "  </thead>\n",
       "  <tbody>\n",
       "    <tr>\n",
       "      <th>10028.0</th>\n",
       "      <td>2019-12</td>\n",
       "      <td>2.0</td>\n",
       "      <td>-0.035714</td>\n",
       "      <td>26924.0</td>\n",
       "      <td>11.0</td>\n",
       "      <td>1.350000</td>\n",
       "      <td>3.634740e+04</td>\n",
       "    </tr>\n",
       "    <tr>\n",
       "      <th>10051.0</th>\n",
       "      <td>2019-12</td>\n",
       "      <td>1.0</td>\n",
       "      <td>0.053817</td>\n",
       "      <td>37338.0</td>\n",
       "      <td>11.0</td>\n",
       "      <td>27.610001</td>\n",
       "      <td>1.030902e+06</td>\n",
       "    </tr>\n",
       "    <tr>\n",
       "      <th>10104.0</th>\n",
       "      <td>2019-12</td>\n",
       "      <td>1.0</td>\n",
       "      <td>-0.056288</td>\n",
       "      <td>3207649.0</td>\n",
       "      <td>11.0</td>\n",
       "      <td>52.980000</td>\n",
       "      <td>1.699412e+08</td>\n",
       "    </tr>\n",
       "    <tr>\n",
       "      <th>10145.0</th>\n",
       "      <td>2019-12</td>\n",
       "      <td>1.0</td>\n",
       "      <td>-0.008681</td>\n",
       "      <td>714533.0</td>\n",
       "      <td>11.0</td>\n",
       "      <td>177.000000</td>\n",
       "      <td>1.264723e+08</td>\n",
       "    </tr>\n",
       "    <tr>\n",
       "      <th>10158.0</th>\n",
       "      <td>2019-12</td>\n",
       "      <td>1.0</td>\n",
       "      <td>0.070336</td>\n",
       "      <td>29033.0</td>\n",
       "      <td>11.0</td>\n",
       "      <td>17.500000</td>\n",
       "      <td>5.080775e+05</td>\n",
       "    </tr>\n",
       "  </tbody>\n",
       "</table>\n",
       "</div>"
      ],
      "text/plain": [
       "            date  exchcd       ret     shrout  shrcd         prc       mrk_cap\n",
       "permno                                                                        \n",
       "10028.0  2019-12     2.0 -0.035714    26924.0   11.0    1.350000  3.634740e+04\n",
       "10051.0  2019-12     1.0  0.053817    37338.0   11.0   27.610001  1.030902e+06\n",
       "10104.0  2019-12     1.0 -0.056288  3207649.0   11.0   52.980000  1.699412e+08\n",
       "10145.0  2019-12     1.0 -0.008681   714533.0   11.0  177.000000  1.264723e+08\n",
       "10158.0  2019-12     1.0  0.070336    29033.0   11.0   17.500000  5.080775e+05"
      ]
     },
     "execution_count": 18,
     "metadata": {},
     "output_type": "execute_result"
    }
   ],
   "source": [
    "# list of right permnos (no duplicates):\n",
    "stocks_del = stocks_del.sort_values('permno')\n",
    "list_permno = list(stocks_del.loc[~stocks_del.index.duplicated(keep='first')].index)\n",
    "\n",
    "# consider market capitalization on dec 2019\n",
    "stocks_dec2019 = stocks_del[stocks_del.date.astype(str).values=='2019-12']\n",
    "stocks_dec2019 = stocks_dec2019.sort_values('permno')\n",
    "stocks_dec2019.head()"
   ]
  },
  {
   "cell_type": "code",
   "execution_count": 19,
   "metadata": {},
   "outputs": [
    {
     "data": {
      "text/html": [
       "<div>\n",
       "<style scoped>\n",
       "    .dataframe tbody tr th:only-of-type {\n",
       "        vertical-align: middle;\n",
       "    }\n",
       "\n",
       "    .dataframe tbody tr th {\n",
       "        vertical-align: top;\n",
       "    }\n",
       "\n",
       "    .dataframe thead th {\n",
       "        text-align: right;\n",
       "    }\n",
       "</style>\n",
       "<table border=\"1\" class=\"dataframe\">\n",
       "  <thead>\n",
       "    <tr style=\"text-align: right;\">\n",
       "      <th></th>\n",
       "      <th>decile</th>\n",
       "    </tr>\n",
       "    <tr>\n",
       "      <th>permno</th>\n",
       "      <th></th>\n",
       "    </tr>\n",
       "  </thead>\n",
       "  <tbody>\n",
       "    <tr>\n",
       "      <th>10028.0</th>\n",
       "      <td>(1434.059, 93979.937]</td>\n",
       "    </tr>\n",
       "    <tr>\n",
       "      <th>10051.0</th>\n",
       "      <td>(745103.053, 1332629.841]</td>\n",
       "    </tr>\n",
       "    <tr>\n",
       "      <th>10104.0</th>\n",
       "      <td>(28751079.177, 437225989.856]</td>\n",
       "    </tr>\n",
       "    <tr>\n",
       "      <th>10145.0</th>\n",
       "      <td>(28751079.177, 437225989.856]</td>\n",
       "    </tr>\n",
       "    <tr>\n",
       "      <th>10158.0</th>\n",
       "      <td>(323716.198, 745103.053]</td>\n",
       "    </tr>\n",
       "  </tbody>\n",
       "</table>\n",
       "</div>"
      ],
      "text/plain": [
       "                                decile\n",
       "permno                                \n",
       "10028.0          (1434.059, 93979.937]\n",
       "10051.0      (745103.053, 1332629.841]\n",
       "10104.0  (28751079.177, 437225989.856]\n",
       "10145.0  (28751079.177, 437225989.856]\n",
       "10158.0       (323716.198, 745103.053]"
      ]
     },
     "execution_count": 19,
     "metadata": {},
     "output_type": "execute_result"
    }
   ],
   "source": [
    "a = pd.qcut(stocks_dec2019.mrk_cap,10)\n",
    "decile = pd.DataFrame(pd.qcut(stocks_dec2019.mrk_cap,10))\n",
    "decile = decile.rename(columns={\"mrk_cap\":\"decile\"})\n",
    "decile.head()"
   ]
  },
  {
   "cell_type": "code",
   "execution_count": 20,
   "metadata": {},
   "outputs": [],
   "source": [
    "# compute the size-wheighted returns for a given month \n",
    "def wavg(group, avg_name, weight_name):\n",
    "    d = group[avg_name]\n",
    "    w = group[weight_name]\n",
    "    try:\n",
    "        return (d * w).sum() / w.sum()\n",
    "    except ZeroDivisionError:\n",
    "        return np.nan"
   ]
  },
  {
   "cell_type": "code",
   "execution_count": 21,
   "metadata": {},
   "outputs": [
    {
     "name": "stdout",
     "output_type": "stream",
     "text": [
      "We have 10 groups of stcoks.\n"
     ]
    }
   ],
   "source": [
    "inters = list(dict.fromkeys(a))\n",
    "#inters.sort()\n",
    "inters = [x for x in inters if str(x) != 'nan'] # drop NoN. We always put a control just to be sure\n",
    "print(f\"We have {len(inters)} groups of stcoks.\")"
   ]
  },
  {
   "cell_type": "markdown",
   "metadata": {},
   "source": [
    "**EQUALLY WEIGHTED**"
   ]
  },
  {
   "cell_type": "code",
   "execution_count": 22,
   "metadata": {},
   "outputs": [],
   "source": [
    "group_decile = decile.sort_values(by=\"decile\") # sort for decile\n",
    "group_decile.reset_index(inplace=True)\n",
    "group_decile = group_decile.dropna() # drop NaN\n",
    "group_decile = group_decile.groupby(\"decile\")"
   ]
  },
  {
   "cell_type": "code",
   "execution_count": 25,
   "metadata": {},
   "outputs": [],
   "source": [
    "ew_ret = [] # returns of equally weighted portfolios\n",
    "for i in inters:\n",
    "    stock_interval = group_decile.get_group(i)[\"permno\"]\n",
    "    temp = stocks_del.loc[stock_interval] \n",
    "    group_date = temp.groupby('date').mean()\n",
    "    ew_ret.append(group_date.ret.mean()) # equal weighted => mean"
   ]
  },
  {
   "cell_type": "code",
   "execution_count": 28,
   "metadata": {},
   "outputs": [
    {
     "name": "stdout",
     "output_type": "stream",
     "text": [
      "Equally weighted returns:\n",
      "[0.006369841902665764, 0.012620283628252309, 0.011865161286275865, 0.011525543277403415, 0.0140944995986324, 0.012685612596048465, 0.013792344127603974, 0.013302337625005751, 0.014125188780589205, 0.010854069315573927]\n"
     ]
    }
   ],
   "source": [
    "print(\"Equally weighted returns:\")\n",
    "print(ew_ret)"
   ]
  },
  {
   "cell_type": "markdown",
   "metadata": {},
   "source": [
    "For the regression, we need the market risk premium:"
   ]
  },
  {
   "cell_type": "code",
   "execution_count": 30,
   "metadata": {},
   "outputs": [
    {
     "data": {
      "text/html": [
       "<div>\n",
       "<style scoped>\n",
       "    .dataframe tbody tr th:only-of-type {\n",
       "        vertical-align: middle;\n",
       "    }\n",
       "\n",
       "    .dataframe tbody tr th {\n",
       "        vertical-align: top;\n",
       "    }\n",
       "\n",
       "    .dataframe thead th {\n",
       "        text-align: right;\n",
       "    }\n",
       "</style>\n",
       "<table border=\"1\" class=\"dataframe\">\n",
       "  <thead>\n",
       "    <tr style=\"text-align: right;\">\n",
       "      <th></th>\n",
       "      <th>date</th>\n",
       "      <th>exchcd</th>\n",
       "      <th>ret</th>\n",
       "      <th>shrout</th>\n",
       "      <th>shrcd</th>\n",
       "      <th>prc</th>\n",
       "      <th>mrk_cap</th>\n",
       "    </tr>\n",
       "    <tr>\n",
       "      <th>permno</th>\n",
       "      <th></th>\n",
       "      <th></th>\n",
       "      <th></th>\n",
       "      <th></th>\n",
       "      <th></th>\n",
       "      <th></th>\n",
       "      <th></th>\n",
       "    </tr>\n",
       "  </thead>\n",
       "  <tbody>\n",
       "    <tr>\n",
       "      <th>49322.0</th>\n",
       "      <td>2010-03</td>\n",
       "      <td>1.0</td>\n",
       "      <td>0.135164</td>\n",
       "      <td>11237.0</td>\n",
       "      <td>11.0</td>\n",
       "      <td>10.75</td>\n",
       "      <td>120797.750000</td>\n",
       "    </tr>\n",
       "    <tr>\n",
       "      <th>49322.0</th>\n",
       "      <td>2010-02</td>\n",
       "      <td>1.0</td>\n",
       "      <td>-0.144535</td>\n",
       "      <td>11237.0</td>\n",
       "      <td>11.0</td>\n",
       "      <td>9.47</td>\n",
       "      <td>106414.393001</td>\n",
       "    </tr>\n",
       "    <tr>\n",
       "      <th>49322.0</th>\n",
       "      <td>2010-01</td>\n",
       "      <td>1.0</td>\n",
       "      <td>-0.096327</td>\n",
       "      <td>11237.0</td>\n",
       "      <td>11.0</td>\n",
       "      <td>11.07</td>\n",
       "      <td>124393.586571</td>\n",
       "    </tr>\n",
       "    <tr>\n",
       "      <th>49322.0</th>\n",
       "      <td>2009-12</td>\n",
       "      <td>1.0</td>\n",
       "      <td>0.202159</td>\n",
       "      <td>11237.0</td>\n",
       "      <td>11.0</td>\n",
       "      <td>12.25</td>\n",
       "      <td>137653.250000</td>\n",
       "    </tr>\n",
       "    <tr>\n",
       "      <th>49322.0</th>\n",
       "      <td>2009-10</td>\n",
       "      <td>1.0</td>\n",
       "      <td>-0.146067</td>\n",
       "      <td>11237.0</td>\n",
       "      <td>11.0</td>\n",
       "      <td>9.88</td>\n",
       "      <td>111021.561286</td>\n",
       "    </tr>\n",
       "    <tr>\n",
       "      <th>...</th>\n",
       "      <td>...</td>\n",
       "      <td>...</td>\n",
       "      <td>...</td>\n",
       "      <td>...</td>\n",
       "      <td>...</td>\n",
       "      <td>...</td>\n",
       "      <td>...</td>\n",
       "    </tr>\n",
       "    <tr>\n",
       "      <th>14137.0</th>\n",
       "      <td>2019-02</td>\n",
       "      <td>2.0</td>\n",
       "      <td>0.049320</td>\n",
       "      <td>63200.0</td>\n",
       "      <td>11.0</td>\n",
       "      <td>6.17</td>\n",
       "      <td>389944.004822</td>\n",
       "    </tr>\n",
       "    <tr>\n",
       "      <th>14137.0</th>\n",
       "      <td>2019-01</td>\n",
       "      <td>2.0</td>\n",
       "      <td>0.157480</td>\n",
       "      <td>60541.0</td>\n",
       "      <td>11.0</td>\n",
       "      <td>5.88</td>\n",
       "      <td>355981.086928</td>\n",
       "    </tr>\n",
       "    <tr>\n",
       "      <th>14137.0</th>\n",
       "      <td>2018-12</td>\n",
       "      <td>2.0</td>\n",
       "      <td>-0.273247</td>\n",
       "      <td>60541.0</td>\n",
       "      <td>11.0</td>\n",
       "      <td>5.08</td>\n",
       "      <td>307548.275381</td>\n",
       "    </tr>\n",
       "    <tr>\n",
       "      <th>14137.0</th>\n",
       "      <td>2019-07</td>\n",
       "      <td>2.0</td>\n",
       "      <td>-0.246154</td>\n",
       "      <td>67811.0</td>\n",
       "      <td>11.0</td>\n",
       "      <td>2.45</td>\n",
       "      <td>166136.953233</td>\n",
       "    </tr>\n",
       "    <tr>\n",
       "      <th>14137.0</th>\n",
       "      <td>2017-12</td>\n",
       "      <td>2.0</td>\n",
       "      <td>-0.019746</td>\n",
       "      <td>54160.0</td>\n",
       "      <td>11.0</td>\n",
       "      <td>13.90</td>\n",
       "      <td>752823.979340</td>\n",
       "    </tr>\n",
       "  </tbody>\n",
       "</table>\n",
       "<p>16495 rows × 7 columns</p>\n",
       "</div>"
      ],
      "text/plain": [
       "            date  exchcd       ret   shrout  shrcd    prc        mrk_cap\n",
       "permno                                                                  \n",
       "49322.0  2010-03     1.0  0.135164  11237.0   11.0  10.75  120797.750000\n",
       "49322.0  2010-02     1.0 -0.144535  11237.0   11.0   9.47  106414.393001\n",
       "49322.0  2010-01     1.0 -0.096327  11237.0   11.0  11.07  124393.586571\n",
       "49322.0  2009-12     1.0  0.202159  11237.0   11.0  12.25  137653.250000\n",
       "49322.0  2009-10     1.0 -0.146067  11237.0   11.0   9.88  111021.561286\n",
       "...          ...     ...       ...      ...    ...    ...            ...\n",
       "14137.0  2019-02     2.0  0.049320  63200.0   11.0   6.17  389944.004822\n",
       "14137.0  2019-01     2.0  0.157480  60541.0   11.0   5.88  355981.086928\n",
       "14137.0  2018-12     2.0 -0.273247  60541.0   11.0   5.08  307548.275381\n",
       "14137.0  2019-07     2.0 -0.246154  67811.0   11.0   2.45  166136.953233\n",
       "14137.0  2017-12     2.0 -0.019746  54160.0   11.0  13.90  752823.979340\n",
       "\n",
       "[16495 rows x 7 columns]"
      ]
     },
     "execution_count": 30,
     "metadata": {},
     "output_type": "execute_result"
    }
   ],
   "source": [
    "group_date"
   ]
  },
  {
   "cell_type": "code",
   "execution_count": null,
   "metadata": {},
   "outputs": [],
   "source": []
  },
  {
   "cell_type": "code",
   "execution_count": null,
   "metadata": {},
   "outputs": [],
   "source": []
  },
  {
   "cell_type": "code",
   "execution_count": null,
   "metadata": {},
   "outputs": [],
   "source": []
  },
  {
   "cell_type": "code",
   "execution_count": 15,
   "metadata": {},
   "outputs": [],
   "source": [
    "# list of right permnos (no duplicates):\n",
    "list_permno = list(stocks_del.loc[~stocks_del.index.duplicated(keep='first')].index)"
   ]
  },
  {
   "cell_type": "markdown",
   "metadata": {},
   "source": [
    "Create a DataFrame where for each stock we have its beta"
   ]
  },
  {
   "cell_type": "code",
   "execution_count": 17,
   "metadata": {},
   "outputs": [
    {
     "data": {
      "text/html": [
       "<div>\n",
       "<style scoped>\n",
       "    .dataframe tbody tr th:only-of-type {\n",
       "        vertical-align: middle;\n",
       "    }\n",
       "\n",
       "    .dataframe tbody tr th {\n",
       "        vertical-align: top;\n",
       "    }\n",
       "\n",
       "    .dataframe thead th {\n",
       "        text-align: right;\n",
       "    }\n",
       "</style>\n",
       "<table border=\"1\" class=\"dataframe\">\n",
       "  <thead>\n",
       "    <tr style=\"text-align: right;\">\n",
       "      <th></th>\n",
       "      <th>beta</th>\n",
       "    </tr>\n",
       "  </thead>\n",
       "  <tbody>\n",
       "    <tr>\n",
       "      <th>10145.0</th>\n",
       "      <td>1.200190</td>\n",
       "    </tr>\n",
       "    <tr>\n",
       "      <th>10294.0</th>\n",
       "      <td>0.758752</td>\n",
       "    </tr>\n",
       "    <tr>\n",
       "      <th>10308.0</th>\n",
       "      <td>0.443625</td>\n",
       "    </tr>\n",
       "    <tr>\n",
       "      <th>10516.0</th>\n",
       "      <td>0.497710</td>\n",
       "    </tr>\n",
       "    <tr>\n",
       "      <th>10517.0</th>\n",
       "      <td>0.642811</td>\n",
       "    </tr>\n",
       "  </tbody>\n",
       "</table>\n",
       "</div>"
      ],
      "text/plain": [
       "             beta\n",
       "10145.0  1.200190\n",
       "10294.0  0.758752\n",
       "10308.0  0.443625\n",
       "10516.0  0.497710\n",
       "10517.0  0.642811"
      ]
     },
     "execution_count": 17,
     "metadata": {},
     "output_type": "execute_result"
    }
   ],
   "source": [
    "data = pd.DataFrame(market_beta, columns={'beta'}, index=list_permno) # for each stock we have its beta\n",
    "data = data.sort_index()\n",
    "data.head()"
   ]
  },
  {
   "cell_type": "code",
   "execution_count": 18,
   "metadata": {},
   "outputs": [
    {
     "data": {
      "text/plain": [
       "(639, 1)"
      ]
     },
     "execution_count": 18,
     "metadata": {},
     "output_type": "execute_result"
    }
   ],
   "source": [
    "data.shape"
   ]
  },
  {
   "cell_type": "markdown",
   "metadata": {},
   "source": [
    "We add to the stocks dataframe our beta, creating a new column:"
   ]
  },
  {
   "cell_type": "code",
   "execution_count": 19,
   "metadata": {},
   "outputs": [
    {
     "data": {
      "text/html": [
       "<div>\n",
       "<style scoped>\n",
       "    .dataframe tbody tr th:only-of-type {\n",
       "        vertical-align: middle;\n",
       "    }\n",
       "\n",
       "    .dataframe tbody tr th {\n",
       "        vertical-align: top;\n",
       "    }\n",
       "\n",
       "    .dataframe thead th {\n",
       "        text-align: right;\n",
       "    }\n",
       "</style>\n",
       "<table border=\"1\" class=\"dataframe\">\n",
       "  <thead>\n",
       "    <tr style=\"text-align: right;\">\n",
       "      <th></th>\n",
       "      <th></th>\n",
       "      <th>ret</th>\n",
       "      <th>shrout</th>\n",
       "      <th>prc</th>\n",
       "      <th>beta</th>\n",
       "    </tr>\n",
       "    <tr>\n",
       "      <th>permno</th>\n",
       "      <th>date</th>\n",
       "      <th></th>\n",
       "      <th></th>\n",
       "      <th></th>\n",
       "      <th></th>\n",
       "    </tr>\n",
       "  </thead>\n",
       "  <tbody>\n",
       "    <tr>\n",
       "      <th rowspan=\"5\" valign=\"top\">10145.0</th>\n",
       "      <th>2000-01</th>\n",
       "      <td>-0.167931</td>\n",
       "      <td>789233.0</td>\n",
       "      <td>48.0000</td>\n",
       "      <td>1.20019</td>\n",
       "    </tr>\n",
       "    <tr>\n",
       "      <th>2000-02</th>\n",
       "      <td>0.006510</td>\n",
       "      <td>795134.0</td>\n",
       "      <td>48.1250</td>\n",
       "      <td>1.20019</td>\n",
       "    </tr>\n",
       "    <tr>\n",
       "      <th>2000-03</th>\n",
       "      <td>0.094805</td>\n",
       "      <td>796591.0</td>\n",
       "      <td>52.6875</td>\n",
       "      <td>1.20019</td>\n",
       "    </tr>\n",
       "    <tr>\n",
       "      <th>2000-04</th>\n",
       "      <td>0.062871</td>\n",
       "      <td>796591.0</td>\n",
       "      <td>56.0000</td>\n",
       "      <td>1.20019</td>\n",
       "    </tr>\n",
       "    <tr>\n",
       "      <th>2000-05</th>\n",
       "      <td>-0.020089</td>\n",
       "      <td>798161.0</td>\n",
       "      <td>54.6875</td>\n",
       "      <td>1.20019</td>\n",
       "    </tr>\n",
       "  </tbody>\n",
       "</table>\n",
       "</div>"
      ],
      "text/plain": [
       "                      ret    shrout      prc     beta\n",
       "permno  date                                         \n",
       "10145.0 2000-01 -0.167931  789233.0  48.0000  1.20019\n",
       "        2000-02  0.006510  795134.0  48.1250  1.20019\n",
       "        2000-03  0.094805  796591.0  52.6875  1.20019\n",
       "        2000-04  0.062871  796591.0  56.0000  1.20019\n",
       "        2000-05 -0.020089  798161.0  54.6875  1.20019"
      ]
     },
     "execution_count": 19,
     "metadata": {},
     "output_type": "execute_result"
    }
   ],
   "source": [
    "stocks_del = stocks_del.merge(data, left_index=True, right_index=True)\n",
    "stocks_del['permno'] = stocks_del.index\n",
    "stocks_with_beta = stocks_del.drop(stocks_del.loc[stocks_del.beta.isnull()].index).set_index(['permno','date']) # re-index\n",
    "stocks_with_beta.head()"
   ]
  },
  {
   "cell_type": "markdown",
   "metadata": {},
   "source": [
    "Sort stocks by beta into 10 decile portfolios"
   ]
  },
  {
   "cell_type": "code",
   "execution_count": 20,
   "metadata": {},
   "outputs": [
    {
     "data": {
      "text/html": [
       "<div>\n",
       "<style scoped>\n",
       "    .dataframe tbody tr th:only-of-type {\n",
       "        vertical-align: middle;\n",
       "    }\n",
       "\n",
       "    .dataframe tbody tr th {\n",
       "        vertical-align: top;\n",
       "    }\n",
       "\n",
       "    .dataframe thead th {\n",
       "        text-align: right;\n",
       "    }\n",
       "</style>\n",
       "<table border=\"1\" class=\"dataframe\">\n",
       "  <thead>\n",
       "    <tr style=\"text-align: right;\">\n",
       "      <th></th>\n",
       "      <th>decile</th>\n",
       "    </tr>\n",
       "  </thead>\n",
       "  <tbody>\n",
       "    <tr>\n",
       "      <th>10145.0</th>\n",
       "      <td>(1.151, 1.296]</td>\n",
       "    </tr>\n",
       "    <tr>\n",
       "      <th>10294.0</th>\n",
       "      <td>(0.744, 0.882]</td>\n",
       "    </tr>\n",
       "    <tr>\n",
       "      <th>10308.0</th>\n",
       "      <td>(0.425, 0.607]</td>\n",
       "    </tr>\n",
       "    <tr>\n",
       "      <th>10516.0</th>\n",
       "      <td>(0.425, 0.607]</td>\n",
       "    </tr>\n",
       "    <tr>\n",
       "      <th>10517.0</th>\n",
       "      <td>(0.607, 0.744]</td>\n",
       "    </tr>\n",
       "  </tbody>\n",
       "</table>\n",
       "</div>"
      ],
      "text/plain": [
       "                 decile\n",
       "10145.0  (1.151, 1.296]\n",
       "10294.0  (0.744, 0.882]\n",
       "10308.0  (0.425, 0.607]\n",
       "10516.0  (0.425, 0.607]\n",
       "10517.0  (0.607, 0.744]"
      ]
     },
     "execution_count": 20,
     "metadata": {},
     "output_type": "execute_result"
    }
   ],
   "source": [
    "decile = pd.DataFrame(pd.qcut(data.beta,10),index=list_permno, columns=[\"beta\"])\n",
    "decile = decile.rename(columns={'beta':'decile'})\n",
    "decile.head()"
   ]
  },
  {
   "cell_type": "markdown",
   "metadata": {},
   "source": [
    "At this point we should have 10 porfolios:"
   ]
  },
  {
   "cell_type": "code",
   "execution_count": 21,
   "metadata": {},
   "outputs": [
    {
     "name": "stdout",
     "output_type": "stream",
     "text": [
      "We have 10 portfolios\n"
     ]
    }
   ],
   "source": [
    "inters = pd.qcut(data.beta,10).values\n",
    "inters = list(dict.fromkeys(inters))\n",
    "#inters.sort()\n",
    "inters = [x for x in inters if str(x) != 'nan'] # drop NoN. We always put a control just to be sure\n",
    "print(f\"We have {len(inters)} portfolios\")"
   ]
  },
  {
   "cell_type": "code",
   "execution_count": 22,
   "metadata": {},
   "outputs": [],
   "source": [
    "group_decile = decile.sort_values(by=\"decile\") # sort for decile\n",
    "group_decile.reset_index(inplace=True)\n",
    "group_decile = group_decile.dropna() # drop NaN\n",
    "group_decile = group_decile.groupby(\"decile\")"
   ]
  },
  {
   "cell_type": "markdown",
   "metadata": {},
   "source": [
    "Equal weighted average return for each portfolio:"
   ]
  },
  {
   "cell_type": "code",
   "execution_count": 23,
   "metadata": {},
   "outputs": [],
   "source": [
    "ew_ret = [] # returns of equally weighted portfolios\n",
    "avg_beta = [] # avg beta of equally weighted portfolios\n",
    "for i in inters:\n",
    "    stock_interval = group_decile.get_group(i)[\"index\"]\n",
    "    temp = stocks_with_beta.loc[stock_interval] \n",
    "    group_date = temp.groupby('date').mean()\n",
    "    ew_ret.append(group_date.ret.mean()) # equal weighted => mean\n",
    "    avg_beta.append(data.loc[stock_interval].mean()[0])"
   ]
  },
  {
   "cell_type": "markdown",
   "metadata": {},
   "source": [
    "We create a dataframe to show the relation between beta and returns of our 10 portfolios"
   ]
  },
  {
   "cell_type": "code",
   "execution_count": 24,
   "metadata": {},
   "outputs": [
    {
     "data": {
      "text/html": [
       "<div>\n",
       "<style scoped>\n",
       "    .dataframe tbody tr th:only-of-type {\n",
       "        vertical-align: middle;\n",
       "    }\n",
       "\n",
       "    .dataframe tbody tr th {\n",
       "        vertical-align: top;\n",
       "    }\n",
       "\n",
       "    .dataframe thead th {\n",
       "        text-align: right;\n",
       "    }\n",
       "</style>\n",
       "<table border=\"1\" class=\"dataframe\">\n",
       "  <thead>\n",
       "    <tr style=\"text-align: right;\">\n",
       "      <th></th>\n",
       "      <th>ew_ret</th>\n",
       "      <th>avg_beta</th>\n",
       "    </tr>\n",
       "  </thead>\n",
       "  <tbody>\n",
       "    <tr>\n",
       "      <th>0</th>\n",
       "      <td>0.010578</td>\n",
       "      <td>0.285315</td>\n",
       "    </tr>\n",
       "    <tr>\n",
       "      <th>1</th>\n",
       "      <td>0.011674</td>\n",
       "      <td>0.515390</td>\n",
       "    </tr>\n",
       "    <tr>\n",
       "      <th>2</th>\n",
       "      <td>0.011796</td>\n",
       "      <td>0.685130</td>\n",
       "    </tr>\n",
       "    <tr>\n",
       "      <th>3</th>\n",
       "      <td>0.012387</td>\n",
       "      <td>0.818324</td>\n",
       "    </tr>\n",
       "    <tr>\n",
       "      <th>4</th>\n",
       "      <td>0.012547</td>\n",
       "      <td>0.944647</td>\n",
       "    </tr>\n",
       "    <tr>\n",
       "      <th>5</th>\n",
       "      <td>0.011389</td>\n",
       "      <td>1.072443</td>\n",
       "    </tr>\n",
       "    <tr>\n",
       "      <th>6</th>\n",
       "      <td>0.011606</td>\n",
       "      <td>1.221790</td>\n",
       "    </tr>\n",
       "    <tr>\n",
       "      <th>7</th>\n",
       "      <td>0.013521</td>\n",
       "      <td>1.361476</td>\n",
       "    </tr>\n",
       "    <tr>\n",
       "      <th>8</th>\n",
       "      <td>0.012934</td>\n",
       "      <td>1.539029</td>\n",
       "    </tr>\n",
       "    <tr>\n",
       "      <th>9</th>\n",
       "      <td>0.013058</td>\n",
       "      <td>1.975603</td>\n",
       "    </tr>\n",
       "  </tbody>\n",
       "</table>\n",
       "</div>"
      ],
      "text/plain": [
       "     ew_ret  avg_beta\n",
       "0  0.010578  0.285315\n",
       "1  0.011674  0.515390\n",
       "2  0.011796  0.685130\n",
       "3  0.012387  0.818324\n",
       "4  0.012547  0.944647\n",
       "5  0.011389  1.072443\n",
       "6  0.011606  1.221790\n",
       "7  0.013521  1.361476\n",
       "8  0.012934  1.539029\n",
       "9  0.013058  1.975603"
      ]
     },
     "execution_count": 24,
     "metadata": {},
     "output_type": "execute_result"
    }
   ],
   "source": [
    "ret = pd.DataFrame([ew_ret,avg_beta]).transpose() \n",
    "ret = ret.rename(columns={0:'ew_ret',1:'avg_beta'})\n",
    "ret = ret.sort_values(by='avg_beta').reset_index(drop=True)\n",
    "#ret = ret.set_index('avg_beta')\n",
    "ret.head(10)"
   ]
  },
  {
   "cell_type": "code",
   "execution_count": 25,
   "metadata": {},
   "outputs": [
    {
     "name": "stdout",
     "output_type": "stream",
     "text": [
      "The market has a mean return of 0.005825365536250002 and \n",
      "the risk-free portfolio of 0.0013152996576685284.\n"
     ]
    }
   ],
   "source": [
    "rm_mean = rm.mkt_ret.mean() \n",
    "rf_mean = rf.rf.mean()\n",
    "excess_rm_rf = rm_mean - rf_mean\n",
    "print(f\"The market has a mean return of {rm_mean} and \\nthe risk-free portfolio of {rf_mean}.\")"
   ]
  },
  {
   "cell_type": "code",
   "execution_count": 26,
   "metadata": {},
   "outputs": [
    {
     "data": {
      "image/png": "[encoded data removed]",
      "text/plain": [
       "<Figure size 720x432 with 1 Axes>"
      ]
     },
     "metadata": {
      "needs_background": "light"
     },
     "output_type": "display_data"
    }
   ],
   "source": [
    "slope, intercept, r_value, p_value, std_err =  stats.linregress([avg_beta[i] for i in range(len(avg_beta))], ew_ret)\n",
    "plt.figure(figsize=(10,6))\n",
    "plt.plot(avg_beta, ew_ret, 'rx', label='Portfolios')\n",
    "plt.plot(np.linspace(0,2.5,100),np.linspace(0,2.5,100)*slope+intercept,label = 'Slope')\n",
    "plt.title('Return vs Beta')\n",
    "plt.xlabel('Average beta')\n",
    "plt.ylabel('Average return')\n",
    "plt.grid()\n",
    "plt.legend(loc='best')\n",
    "plt.show()"
   ]
  },
  {
   "cell_type": "code",
   "execution_count": 27,
   "metadata": {},
   "outputs": [
    {
     "data": {
      "image/png": "[encoded data removed]",
      "text/plain": [
       "<Figure size 720x432 with 1 Axes>"
      ]
     },
     "metadata": {
      "needs_background": "light"
     },
     "output_type": "display_data"
    }
   ],
   "source": [
    "# now compare the slope above with CAPM\n",
    "slope, intercept, r_value, p_value, std_err =  stats.linregress(avg_beta, ew_ret)\n",
    "capm_rets = rf_mean + np.array(avg_beta)*excess_rm_rf\n",
    "\n",
    "plt.figure(figsize=(10,6))\n",
    "\n",
    "plt.plot(avg_beta, ew_ret, 'bx', label='Portfolios EW') # plot betas against equally weighted returns\n",
    "plt.plot(avg_beta, capm_rets, 'rx', label='Portfolios SML') \n",
    "\n",
    "plt.plot(np.linspace(0,2.5,100), np.linspace(0,2.5,100)*slope+intercept,label = 'Slope')\n",
    "plt.plot(np.linspace(0,2.5,100), rf_mean + np.linspace(0,2.5,100)*excess_rm_rf, label='SML')\n",
    "\n",
    "plt.title('Return vs Beta')\n",
    "plt.xlabel('Average beta')\n",
    "plt.ylabel('Average return')\n",
    "plt.grid()\n",
    "plt.legend(loc='best')\n",
    "plt.show()"
   ]
  },
  {
   "cell_type": "markdown",
   "metadata": {},
   "source": [
    "## c)\n",
    "Notice that the previous results are forward looking in the sense that the strategy\n",
    "could not have been implemented in real time, since we used the full-sample to\n",
    "estimate the betas. Instead, we would like to have a test that does not suffer from\n",
    "look ahead bias. To that end, compute market betas using the period from 2000\n",
    "to December 31, 2010. Then, starting in 2010, form 10 portfolios as in point b),\n",
    "but using the betas based on the period from 2000 to 2010. Compute the average\n",
    "returns (for the sample starting in 2000) and betas (for both samples: the first\n",
    "one, starting in 2000 and the second one, starting in 2010) for those portfolios.\n",
    "Plot the average return to these ‘out-of-sample-beta’ decile portfolios in the second\n",
    "sample period versus their average beta in the first sample period. Also plot the\n",
    "portfolios’ betas in the second sample period against the portfolios’ betas in the first sample period.\n",
    "\n",
    "$\\textbf{NOTE:}$ I assume that the $\\textit{sample starting in 2000}$ means the sample from 2000 to 2010!\n"
   ]
  },
  {
   "cell_type": "code",
   "execution_count": 27,
   "metadata": {},
   "outputs": [],
   "source": [
    "# compute market betas from 2000 to 2010 (WARNING: ugly code coming up)\n",
    "\n",
    "stocks_first_10y = stocks_del[(stocks_del.date >= \"2000-1\") & (stocks_del.date < \"2011-01\")]\n",
    "stocks_next_9y = stocks_del[(stocks_del.date >= \"2011-01\")]\n",
    "\n",
    "for num_id in stocks_first_10y.index.unique(): # (list_permno): \n",
    "    current_stock = stocks_first_10y.loc[num_id] # long 240 because we have 240 observations for each stock\n",
    "    ret_cur_stock = current_stock.ret.values.astype(float) # 240 returns for each stock\n",
    "    rm_cur_stock = rm.loc[current_stock.date].mkt_ret.astype(float)\n",
    "    covariance = np.cov(ret_cur_stock, rm_cur_stock) # Cov(R,Rm)\n",
    "    var_market = covariance[1,1]\n",
    "    stocks_first_10y.at[num_id, \"beta\"] = covariance[0,1]/var_market\n",
    "stocks_first_10y = stocks_first_10y.drop(stocks_first_10y.loc[stocks_first_10y.beta.isnull()].index).\\\n",
    "                        set_index([\"permno\", \"date\"])\n",
    "\n",
    "# market betas from 2011 to 2019\n",
    "for num_id in stocks_next_9y.index.unique(): # (list_permno): \n",
    "    current_stock = stocks_next_9y.loc[num_id] # long 240 because we have 240 observations for each stock\n",
    "    ret_cur_stock = current_stock.ret.values.astype(float) # 240 returns for each stock\n",
    "    rm_cur_stock = rm.loc[current_stock.date].mkt_ret.astype(float)\n",
    "    covariance = np.cov(ret_cur_stock, rm_cur_stock) # Cov(R,Rm)\n",
    "    var_market = covariance[1,1]\n",
    "    stocks_next_9y.at[num_id, \"beta\"] = covariance[0,1]/var_market\n",
    "stocks_next_9y = stocks_next_9y.drop(stocks_next_9y.loc[stocks_next_9y.beta.isnull()].index).\\\n",
    "                        set_index([\"permno\", \"date\"])"
   ]
  },
  {
   "cell_type": "code",
   "execution_count": 28,
   "metadata": {},
   "outputs": [
    {
     "data": {
      "text/plain": [
       "beta\n",
       "(-0.123, 0.367]    [10308.0, 10516.0, 10933.0, 11404.0, 11674.0, ...\n",
       "(0.367, 0.532]     [11144.0, 11308.0, 11850.0, 11955.0, 13901.0, ...\n",
       "(0.532, 0.676]     [10294.0, 10517.0, 14541.0, 14816.0, 17005.0, ...\n",
       "(0.676, 0.82]      [10606.0, 12570.0, 13303.0, 17478.0, 18091.0, ...\n",
       "(0.82, 0.928]      [11644.0, 12052.0, 13610.0, 13928.0, 15069.0, ...\n",
       "(0.928, 1.058]     [11018.0, 12211.0, 13769.0, 15202.0, 17961.0, ...\n",
       "(1.058, 1.229]     [10145.0, 11533.0, 12036.0, 12060.0, 12490.0, ...\n",
       "(1.229, 1.46]      [11581.0, 11731.0, 13936.0, 14795.0, 17726.0, ...\n",
       "(1.46, 1.76]       [10866.0, 20618.0, 21055.0, 21573.0, 22779.0, ...\n",
       "(1.76, 2.938]      [10874.0, 10890.0, 11208.0, 11891.0, 12008.0, ...\n",
       "Name: permno, dtype: object"
      ]
     },
     "execution_count": 28,
     "metadata": {},
     "output_type": "execute_result"
    }
   ],
   "source": [
    "# the naming of the following variable can be misleading, but it contains the deciles formed by \n",
    "# the first-10-years' betas\n",
    "\n",
    "deciles_next_9y = pd.DataFrame(pd.qcut(stocks_first_10y.beta.unique(),10),index=stocks_first_10y.index.levels[0], \n",
    "                               columns=[\"beta\"]) \n",
    "\n",
    "# now we get the ten portfolios based on the deciles\n",
    "portfolios_next_9y = deciles_next_9y.reset_index().groupby([\"beta\"])[\"permno\"].apply(list)\n",
    "portfolios_next_9y"
   ]
  },
  {
   "cell_type": "code",
   "execution_count": 29,
   "metadata": {},
   "outputs": [],
   "source": [
    "insamp_rets = [] # i.e rets the first 10 years - insample rets\n",
    "outsamp_rets = [] # i.e rets the last 9 years - outsample rets\n",
    "\n",
    "avg_beta_insamp = [] # i.e avg beta of all ten portfolios from 2000 to 2010\n",
    "avg_beta_outsamp = [] # i.e avg beta of all ten portfolios from 2011 to 2019\n",
    "\n",
    "for beta_range in portfolios_next_9y.index:\n",
    "    stocks = portfolios_next_9y.loc[beta_range] # get the deciles\n",
    "    avg_beta_insamp.append(stocks_first_10y.beta.loc[stocks].unique().mean()) # stocks_with_beta is the whole sample\n",
    "    avg_beta_outsamp.append(stocks_next_9y.beta.loc[stocks].unique().mean()) \n",
    "    \n",
    "    # insample calculation first\n",
    "    insamp = stocks_first_10y.loc[stocks]\n",
    "    group_date_insamp = insamp.groupby('date').mean()\n",
    "    insamp_rets.append(group_date_insamp.ret.mean()) # equal weighted => mean\n",
    "    \n",
    "    # outsample calculation\n",
    "    outsamp = stocks_next_9y.loc[stocks]\n",
    "    group_date_outsamp = outsamp.groupby('date').mean()\n",
    "    outsamp_rets.append(group_date_outsamp.ret.mean()) # equal weighted => mean"
   ]
  },
  {
   "cell_type": "code",
   "execution_count": 30,
   "metadata": {},
   "outputs": [
    {
     "data": {
      "image/png": "[encoded data removed]",
      "text/plain": [
       "<Figure size 720x432 with 1 Axes>"
      ]
     },
     "metadata": {
      "needs_background": "light"
     },
     "output_type": "display_data"
    }
   ],
   "source": [
    "# Plot the average return to these ‘out-of-sample-beta’ decile portfolios in the second\n",
    "# sample period versus their average beta in the first sample period. \n",
    "\n",
    "slope_in, intercept_in, _, _, _ =  stats.linregress(avg_beta_insamp, insamp_rets)\n",
    "slope_out, intercept_out, _, _, _ =  stats.linregress(avg_beta_insamp, outsamp_rets)\n",
    "\n",
    "\n",
    "plt.figure(figsize=(10,6))\n",
    "plt.plot(avg_beta_insamp, insamp_rets, 'bx', label='Portfolios In-sample')\n",
    "plt.plot(avg_beta_insamp, outsamp_rets, 'rx', label='Portfolios Out-sample')\n",
    "\n",
    "plt.plot(np.linspace(0,2.5,100), np.linspace(0,2.5,100)*slope_in + intercept_in,label = 'Slope In-sample')\n",
    "plt.plot(np.linspace(0,2.5,100), np.linspace(0,2.5,100)*slope_out + intercept_out, label='Slope Out-sample')\n",
    "plt.title('Return vs Beta')\n",
    "plt.xlabel('Average beta')\n",
    "plt.ylabel('Average return')\n",
    "plt.grid()\n",
    "plt.legend(loc='best')\n",
    "plt.show()"
   ]
  },
  {
   "cell_type": "code",
   "execution_count": 33,
   "metadata": {},
   "outputs": [
    {
     "data": {
      "image/png": "[encoded data removed]",
      "text/plain": [
       "<Figure size 720x432 with 1 Axes>"
      ]
     },
     "metadata": {
      "needs_background": "light"
     },
     "output_type": "display_data"
    }
   ],
   "source": [
    "# Also plot the portfolios’ betas in the second sample period against the portfolios’ betas in the\n",
    "# first sample period.\n",
    "\n",
    "slope_beta, intercept_beta, _, _, _ =  stats.linregress(avg_beta_insamp, avg_beta_outsamp)\n",
    "\n",
    "plt.figure(figsize=(10,6))\n",
    "plt.plot(avg_beta_insamp, avg_beta_outsamp, 'bo')\n",
    "plt.plot(np.linspace(0,2.5,100), np.linspace(0,2.5,100)*slope_beta + intercept_beta, label = 'Slope Avg Betas')\n",
    "plt.xlabel('Average beta out-sample')\n",
    "plt.ylabel('Average beta in-sample')\n",
    "plt.show()"
   ]
  },
  {
   "cell_type": "code",
   "execution_count": null,
   "metadata": {},
   "outputs": [],
   "source": []
  }
 ],
 "metadata": {
  "kernelspec": {
   "display_name": "Python 3",
   "language": "python",
   "name": "python3"
  },
  "language_info": {
   "codemirror_mode": {
    "name": "ipython",
    "version": 3
   },
   "file_extension": ".py",
   "mimetype": "text/x-python",
   "name": "python",
   "nbconvert_exporter": "python",
   "pygments_lexer": "ipython3",
   "version": "3.7.7"
  }
 },
 "nbformat": 4,
 "nbformat_minor": 4
}
