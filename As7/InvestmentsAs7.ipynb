{
 "cells": [
  {
   "cell_type": "markdown",
   "metadata": {},
   "source": [
    "## Investments Assignment 7\n",
    "\n",
    "#### Anita Mezzetti, Hien Le, Francesco Maizza"
   ]
  },
  {
   "cell_type": "code",
   "execution_count": 66,
   "metadata": {},
   "outputs": [
    {
     "name": "stdout",
     "output_type": "stream",
     "text": [
      "Loading library list...\n",
      "Done\n"
     ]
    }
   ],
   "source": [
    "import numpy as np\n",
    "import pandas as pd\n",
    "pd.options.mode.chained_assignment = None  # default='warn'\n",
    "import random as random\n",
    "import matplotlib.pyplot as plt\n",
    "from datetime import datetime\n",
    "import statsmodels.api as sm\n",
    "import wrds\n",
    "import warnings\n",
    "from scipy import stats\n",
    "warnings.simplefilter(action='ignore', category=FutureWarning)\n",
    "#warnings.simplefilter(action='ignore', category=SettingWithCopyWarning)\n",
    "db = wrds.Connection(wrds_username = 'anita97') "
   ]
  },
  {
   "cell_type": "markdown",
   "metadata": {},
   "source": [
    "## a)"
   ]
  },
  {
   "cell_type": "code",
   "execution_count": 95,
   "metadata": {},
   "outputs": [],
   "source": [
    "#import stocks\n",
    "'''s = db.raw_sql(\"select a.permno, a.date, b.exchcd, \\\n",
    "                  a.ret, b.shrcd, a.shrout, a.prc \\\n",
    "                  from crsp.msf as a \\\n",
    "                  join crsp.msenames as b \\\n",
    "                  on a.permno = b.permno and b.namedt<=a.date \\\n",
    "                  and a.date<=b.nameendt \\\n",
    "                  where b.shrcd between (10) and (11) and \\\n",
    "                  a.date >='2000-01-01' and a.date<='2019-12-31'\\\n",
    "                  and b.exchcd between 1 and 2\")'''\n",
    "\n",
    "#s.to_csv('as7.csv')\n",
    "stocks = pd.read_csv('as7.csv', index_col=0) # read the file"
   ]
  },
  {
   "cell_type": "markdown",
   "metadata": {},
   "source": [
    "For each value we want one value for each month. Firstly we trasform data column in month-year(format). Then, for each stock we chack that there is only one value for each month:"
   ]
  },
  {
   "cell_type": "code",
   "execution_count": 96,
   "metadata": {},
   "outputs": [],
   "source": [
    "stocks.date = pd.DatetimeIndex(stocks.date) # data format\n",
    "stocks.date = stocks.date.dt.to_period('M') # data year-month\n",
    "stocks = stocks.drop_duplicates(['permno','date']) # delete duplicates\n",
    "stocks.sort_values(by=['permno','date'])\n",
    "stocks = stocks.set_index('permno') # set permno as index"
   ]
  },
  {
   "cell_type": "code",
   "execution_count": 97,
   "metadata": {},
   "outputs": [
    {
     "data": {
      "text/html": [
       "<div>\n",
       "<style scoped>\n",
       "    .dataframe tbody tr th:only-of-type {\n",
       "        vertical-align: middle;\n",
       "    }\n",
       "\n",
       "    .dataframe tbody tr th {\n",
       "        vertical-align: top;\n",
       "    }\n",
       "\n",
       "    .dataframe thead th {\n",
       "        text-align: right;\n",
       "    }\n",
       "</style>\n",
       "<table border=\"1\" class=\"dataframe\">\n",
       "  <thead>\n",
       "    <tr style=\"text-align: right;\">\n",
       "      <th></th>\n",
       "      <th></th>\n",
       "      <th>exchcd</th>\n",
       "      <th>ret</th>\n",
       "      <th>shrout</th>\n",
       "      <th>shrcd</th>\n",
       "      <th>prc</th>\n",
       "    </tr>\n",
       "    <tr>\n",
       "      <th>permno</th>\n",
       "      <th>date</th>\n",
       "      <th></th>\n",
       "      <th></th>\n",
       "      <th></th>\n",
       "      <th></th>\n",
       "      <th></th>\n",
       "    </tr>\n",
       "  </thead>\n",
       "  <tbody>\n",
       "    <tr>\n",
       "      <th rowspan=\"5\" valign=\"top\">10001.0</th>\n",
       "      <th>2009-12</th>\n",
       "      <td>2.0</td>\n",
       "      <td>0.162621</td>\n",
       "      <td>4361.0</td>\n",
       "      <td>11.0</td>\n",
       "      <td>10.3000</td>\n",
       "    </tr>\n",
       "    <tr>\n",
       "      <th>2010-01</th>\n",
       "      <td>2.0</td>\n",
       "      <td>-0.018932</td>\n",
       "      <td>4361.0</td>\n",
       "      <td>11.0</td>\n",
       "      <td>10.0600</td>\n",
       "    </tr>\n",
       "    <tr>\n",
       "      <th>2010-02</th>\n",
       "      <td>2.0</td>\n",
       "      <td>-0.000656</td>\n",
       "      <td>4361.0</td>\n",
       "      <td>11.0</td>\n",
       "      <td>10.0084</td>\n",
       "    </tr>\n",
       "    <tr>\n",
       "      <th>2010-03</th>\n",
       "      <td>2.0</td>\n",
       "      <td>0.020643</td>\n",
       "      <td>4361.0</td>\n",
       "      <td>11.0</td>\n",
       "      <td>10.1700</td>\n",
       "    </tr>\n",
       "    <tr>\n",
       "      <th>2010-04</th>\n",
       "      <td>2.0</td>\n",
       "      <td>0.124385</td>\n",
       "      <td>6070.0</td>\n",
       "      <td>11.0</td>\n",
       "      <td>11.3900</td>\n",
       "    </tr>\n",
       "  </tbody>\n",
       "</table>\n",
       "</div>"
      ],
      "text/plain": [
       "                 exchcd       ret  shrout  shrcd      prc\n",
       "permno  date                                             \n",
       "10001.0 2009-12     2.0  0.162621  4361.0   11.0  10.3000\n",
       "        2010-01     2.0 -0.018932  4361.0   11.0  10.0600\n",
       "        2010-02     2.0 -0.000656  4361.0   11.0  10.0084\n",
       "        2010-03     2.0  0.020643  4361.0   11.0  10.1700\n",
       "        2010-04     2.0  0.124385  6070.0   11.0  11.3900"
      ]
     },
     "execution_count": 97,
     "metadata": {},
     "output_type": "execute_result"
    }
   ],
   "source": [
    "# We set also date as index for having a nice output\n",
    "stocks_output = stocks.reset_index()\n",
    "stocks_output = stocks_output.set_index(['permno','date'])\n",
    "stocks_output.head()"
   ]
  },
  {
   "cell_type": "markdown",
   "metadata": {},
   "source": [
    "We have to delete all the stocks which have less than 240 observations. In order to do that, we can group all the stocks on permno (which identify one stock) and then count how many observations we have for each stock:"
   ]
  },
  {
   "cell_type": "code",
   "execution_count": 98,
   "metadata": {},
   "outputs": [
    {
     "name": "stdout",
     "output_type": "stream",
     "text": [
      "We have 4118 different stocks. Each has a certain number of observations:\n"
     ]
    },
    {
     "data": {
      "text/html": [
       "<div>\n",
       "<style scoped>\n",
       "    .dataframe tbody tr th:only-of-type {\n",
       "        vertical-align: middle;\n",
       "    }\n",
       "\n",
       "    .dataframe tbody tr th {\n",
       "        vertical-align: top;\n",
       "    }\n",
       "\n",
       "    .dataframe thead th {\n",
       "        text-align: right;\n",
       "    }\n",
       "</style>\n",
       "<table border=\"1\" class=\"dataframe\">\n",
       "  <thead>\n",
       "    <tr style=\"text-align: right;\">\n",
       "      <th></th>\n",
       "      <th>number of observations</th>\n",
       "    </tr>\n",
       "    <tr>\n",
       "      <th>permno</th>\n",
       "      <th></th>\n",
       "    </tr>\n",
       "  </thead>\n",
       "  <tbody>\n",
       "    <tr>\n",
       "      <th>10001.0</th>\n",
       "      <td>92</td>\n",
       "    </tr>\n",
       "    <tr>\n",
       "      <th>10028.0</th>\n",
       "      <td>140</td>\n",
       "    </tr>\n",
       "    <tr>\n",
       "      <th>10042.0</th>\n",
       "      <td>98</td>\n",
       "    </tr>\n",
       "    <tr>\n",
       "      <th>10051.0</th>\n",
       "      <td>233</td>\n",
       "    </tr>\n",
       "    <tr>\n",
       "      <th>10066.0</th>\n",
       "      <td>28</td>\n",
       "    </tr>\n",
       "  </tbody>\n",
       "</table>\n",
       "</div>"
      ],
      "text/plain": [
       "         number of observations\n",
       "permno                         \n",
       "10001.0                      92\n",
       "10028.0                     140\n",
       "10042.0                      98\n",
       "10051.0                     233\n",
       "10066.0                      28"
      ]
     },
     "execution_count": 98,
     "metadata": {},
     "output_type": "execute_result"
    }
   ],
   "source": [
    "count = []\n",
    "count = stocks.groupby('permno').count()\n",
    "# now in each column we have the number of observations. We can rename one of them\n",
    "count = count.rename(columns={\"date\":\"number of observations\"})\n",
    "count = count[['number of observations']]\n",
    "print(f\"We have {count.shape[0]} different stocks. Each has a certain number of observations:\")\n",
    "count.head()"
   ]
  },
  {
   "cell_type": "markdown",
   "metadata": {},
   "source": [
    "Now we delete  stocks with less than 240 observations:\n",
    "\n",
    "Note: This is equal to have only stocks with preciselt 240 observations. Because we want that they are traded EVERY mounth for 20 years: \n",
    "\n",
    "20 years*12 mounths = 240 observation. "
   ]
  },
  {
   "cell_type": "code",
   "execution_count": 99,
   "metadata": {},
   "outputs": [
    {
     "data": {
      "text/html": [
       "<div>\n",
       "<style scoped>\n",
       "    .dataframe tbody tr th:only-of-type {\n",
       "        vertical-align: middle;\n",
       "    }\n",
       "\n",
       "    .dataframe tbody tr th {\n",
       "        vertical-align: top;\n",
       "    }\n",
       "\n",
       "    .dataframe thead th {\n",
       "        text-align: right;\n",
       "    }\n",
       "</style>\n",
       "<table border=\"1\" class=\"dataframe\">\n",
       "  <thead>\n",
       "    <tr style=\"text-align: right;\">\n",
       "      <th></th>\n",
       "      <th>number of observations</th>\n",
       "    </tr>\n",
       "    <tr>\n",
       "      <th>permno</th>\n",
       "      <th></th>\n",
       "    </tr>\n",
       "  </thead>\n",
       "  <tbody>\n",
       "    <tr>\n",
       "      <th>10001.0</th>\n",
       "      <td>True</td>\n",
       "    </tr>\n",
       "    <tr>\n",
       "      <th>10028.0</th>\n",
       "      <td>True</td>\n",
       "    </tr>\n",
       "    <tr>\n",
       "      <th>10042.0</th>\n",
       "      <td>True</td>\n",
       "    </tr>\n",
       "    <tr>\n",
       "      <th>10051.0</th>\n",
       "      <td>True</td>\n",
       "    </tr>\n",
       "    <tr>\n",
       "      <th>10066.0</th>\n",
       "      <td>True</td>\n",
       "    </tr>\n",
       "  </tbody>\n",
       "</table>\n",
       "</div>"
      ],
      "text/plain": [
       "         number of observations\n",
       "permno                         \n",
       "10001.0                    True\n",
       "10028.0                    True\n",
       "10042.0                    True\n",
       "10051.0                    True\n",
       "10066.0                    True"
      ]
     },
     "execution_count": 99,
     "metadata": {},
     "output_type": "execute_result"
    }
   ],
   "source": [
    "decision = count[['number of observations']]!=240 # delete if true\n",
    "decision = decision.dropna() # drop NaN\n",
    "decision.head()"
   ]
  },
  {
   "cell_type": "code",
   "execution_count": 100,
   "metadata": {},
   "outputs": [
    {
     "name": "stdout",
     "output_type": "stream",
     "text": [
      "We delete 3479 stocks.\n"
     ]
    },
    {
     "data": {
      "text/html": [
       "<div>\n",
       "<style scoped>\n",
       "    .dataframe tbody tr th:only-of-type {\n",
       "        vertical-align: middle;\n",
       "    }\n",
       "\n",
       "    .dataframe tbody tr th {\n",
       "        vertical-align: top;\n",
       "    }\n",
       "\n",
       "    .dataframe thead th {\n",
       "        text-align: right;\n",
       "    }\n",
       "</style>\n",
       "<table border=\"1\" class=\"dataframe\">\n",
       "  <thead>\n",
       "    <tr style=\"text-align: right;\">\n",
       "      <th></th>\n",
       "      <th>date</th>\n",
       "      <th>exchcd</th>\n",
       "      <th>ret</th>\n",
       "      <th>shrout</th>\n",
       "      <th>shrcd</th>\n",
       "      <th>prc</th>\n",
       "    </tr>\n",
       "    <tr>\n",
       "      <th>permno</th>\n",
       "      <th></th>\n",
       "      <th></th>\n",
       "      <th></th>\n",
       "      <th></th>\n",
       "      <th></th>\n",
       "      <th></th>\n",
       "    </tr>\n",
       "  </thead>\n",
       "  <tbody>\n",
       "    <tr>\n",
       "      <th>10145.0</th>\n",
       "      <td>2000-01</td>\n",
       "      <td>1.0</td>\n",
       "      <td>-0.167931</td>\n",
       "      <td>789233.0</td>\n",
       "      <td>11.0</td>\n",
       "      <td>48.000000</td>\n",
       "    </tr>\n",
       "    <tr>\n",
       "      <th>10145.0</th>\n",
       "      <td>2001-07</td>\n",
       "      <td>1.0</td>\n",
       "      <td>0.059088</td>\n",
       "      <td>809281.0</td>\n",
       "      <td>11.0</td>\n",
       "      <td>36.869999</td>\n",
       "    </tr>\n",
       "    <tr>\n",
       "      <th>10145.0</th>\n",
       "      <td>2001-08</td>\n",
       "      <td>1.0</td>\n",
       "      <td>0.015663</td>\n",
       "      <td>811616.0</td>\n",
       "      <td>11.0</td>\n",
       "      <td>37.259998</td>\n",
       "    </tr>\n",
       "    <tr>\n",
       "      <th>10145.0</th>\n",
       "      <td>2001-09</td>\n",
       "      <td>1.0</td>\n",
       "      <td>-0.291465</td>\n",
       "      <td>811616.0</td>\n",
       "      <td>11.0</td>\n",
       "      <td>26.400000</td>\n",
       "    </tr>\n",
       "    <tr>\n",
       "      <th>10145.0</th>\n",
       "      <td>2001-10</td>\n",
       "      <td>1.0</td>\n",
       "      <td>0.119318</td>\n",
       "      <td>811619.0</td>\n",
       "      <td>11.0</td>\n",
       "      <td>29.549999</td>\n",
       "    </tr>\n",
       "  </tbody>\n",
       "</table>\n",
       "</div>"
      ],
      "text/plain": [
       "            date  exchcd       ret    shrout  shrcd        prc\n",
       "permno                                                        \n",
       "10145.0  2000-01     1.0 -0.167931  789233.0   11.0  48.000000\n",
       "10145.0  2001-07     1.0  0.059088  809281.0   11.0  36.869999\n",
       "10145.0  2001-08     1.0  0.015663  811616.0   11.0  37.259998\n",
       "10145.0  2001-09     1.0 -0.291465  811616.0   11.0  26.400000\n",
       "10145.0  2001-10     1.0  0.119318  811619.0   11.0  29.549999"
      ]
     },
     "execution_count": 100,
     "metadata": {},
     "output_type": "execute_result"
    }
   ],
   "source": [
    "decision_true = decision[decision['number of observations']] # keep only true\n",
    "print(f\"We delete {decision_true.shape[0]} stocks.\")\n",
    "stocks_del = stocks.drop(index=decision_true.index) # drop the stocks that have < 240 observations\n",
    "stocks_del.head()"
   ]
  },
  {
   "cell_type": "markdown",
   "metadata": {},
   "source": [
    "We should have 639 stocks:"
   ]
  },
  {
   "cell_type": "code",
   "execution_count": 101,
   "metadata": {},
   "outputs": [
    {
     "name": "stdout",
     "output_type": "stream",
     "text": [
      "We have deleted 3479 and we are left with 639 stocks\n"
     ]
    }
   ],
   "source": [
    "# we have deleted decision_true\n",
    "# we are left with the rest of decision\n",
    "num_deleted = int(decision_true.count())\n",
    "num_left = int(decision.count()-decision_true.count())\n",
    "print(f\"We have deleted {num_deleted} and we are left with {num_left} stocks\")"
   ]
  },
  {
   "cell_type": "markdown",
   "metadata": {},
   "source": [
    "Delete 3 NaN stocks: fisrt we delete null returns. This operation doesn not remove all the stock obersavations, but only the null ones. In order to cancel all the observations of stocks with NaN values, we re-check that stocks actually have 240 obersations."
   ]
  },
  {
   "cell_type": "code",
   "execution_count": 102,
   "metadata": {},
   "outputs": [
    {
     "name": "stdout",
     "output_type": "stream",
     "text": [
      "3 returns are NaN\n"
     ]
    }
   ],
   "source": [
    "is_na = stocks_del.ret.isna()\n",
    "num_before = len(stocks_del.index)\n",
    "stocks_del = stocks_del[~is_na] # delete null returns\n",
    "num_then = len(stocks_del.index)\n",
    "if any(is_na) == True:\n",
    "    print(f\"{num_before-num_then} returns are NaN\")"
   ]
  },
  {
   "cell_type": "markdown",
   "metadata": {},
   "source": [
    "We are to cancel not only the row with nan return, but allthe stock, which now it has not 240 observations."
   ]
  },
  {
   "cell_type": "code",
   "execution_count": 103,
   "metadata": {},
   "outputs": [],
   "source": [
    "count = []\n",
    "count = stocks_del.groupby('permno').count()\n",
    "\n",
    "# now in each column we have the number of observations. \n",
    "#We can rename one of them\n",
    "count = count.rename(columns={\"date\":\"number of observations\"})\n",
    "count = count[['number of observations']]\n",
    "\n",
    "decision = count[['number of observations']]!=240 # delete if true\n",
    "#decision = decision.dropna() # drop NaN"
   ]
  },
  {
   "cell_type": "code",
   "execution_count": 104,
   "metadata": {},
   "outputs": [
    {
     "name": "stdout",
     "output_type": "stream",
     "text": [
      "We delete 3 stocks.\n"
     ]
    },
    {
     "data": {
      "text/html": [
       "<div>\n",
       "<style scoped>\n",
       "    .dataframe tbody tr th:only-of-type {\n",
       "        vertical-align: middle;\n",
       "    }\n",
       "\n",
       "    .dataframe tbody tr th {\n",
       "        vertical-align: top;\n",
       "    }\n",
       "\n",
       "    .dataframe thead th {\n",
       "        text-align: right;\n",
       "    }\n",
       "</style>\n",
       "<table border=\"1\" class=\"dataframe\">\n",
       "  <thead>\n",
       "    <tr style=\"text-align: right;\">\n",
       "      <th></th>\n",
       "      <th>date</th>\n",
       "      <th>exchcd</th>\n",
       "      <th>ret</th>\n",
       "      <th>shrout</th>\n",
       "      <th>shrcd</th>\n",
       "      <th>prc</th>\n",
       "    </tr>\n",
       "    <tr>\n",
       "      <th>permno</th>\n",
       "      <th></th>\n",
       "      <th></th>\n",
       "      <th></th>\n",
       "      <th></th>\n",
       "      <th></th>\n",
       "      <th></th>\n",
       "    </tr>\n",
       "  </thead>\n",
       "  <tbody>\n",
       "    <tr>\n",
       "      <th>10145.0</th>\n",
       "      <td>2000-01</td>\n",
       "      <td>1.0</td>\n",
       "      <td>-0.167931</td>\n",
       "      <td>789233.0</td>\n",
       "      <td>11.0</td>\n",
       "      <td>48.000000</td>\n",
       "    </tr>\n",
       "    <tr>\n",
       "      <th>10145.0</th>\n",
       "      <td>2001-07</td>\n",
       "      <td>1.0</td>\n",
       "      <td>0.059088</td>\n",
       "      <td>809281.0</td>\n",
       "      <td>11.0</td>\n",
       "      <td>36.869999</td>\n",
       "    </tr>\n",
       "    <tr>\n",
       "      <th>10145.0</th>\n",
       "      <td>2001-08</td>\n",
       "      <td>1.0</td>\n",
       "      <td>0.015663</td>\n",
       "      <td>811616.0</td>\n",
       "      <td>11.0</td>\n",
       "      <td>37.259998</td>\n",
       "    </tr>\n",
       "    <tr>\n",
       "      <th>10145.0</th>\n",
       "      <td>2001-09</td>\n",
       "      <td>1.0</td>\n",
       "      <td>-0.291465</td>\n",
       "      <td>811616.0</td>\n",
       "      <td>11.0</td>\n",
       "      <td>26.400000</td>\n",
       "    </tr>\n",
       "    <tr>\n",
       "      <th>10145.0</th>\n",
       "      <td>2001-10</td>\n",
       "      <td>1.0</td>\n",
       "      <td>0.119318</td>\n",
       "      <td>811619.0</td>\n",
       "      <td>11.0</td>\n",
       "      <td>29.549999</td>\n",
       "    </tr>\n",
       "  </tbody>\n",
       "</table>\n",
       "</div>"
      ],
      "text/plain": [
       "            date  exchcd       ret    shrout  shrcd        prc\n",
       "permno                                                        \n",
       "10145.0  2000-01     1.0 -0.167931  789233.0   11.0  48.000000\n",
       "10145.0  2001-07     1.0  0.059088  809281.0   11.0  36.869999\n",
       "10145.0  2001-08     1.0  0.015663  811616.0   11.0  37.259998\n",
       "10145.0  2001-09     1.0 -0.291465  811616.0   11.0  26.400000\n",
       "10145.0  2001-10     1.0  0.119318  811619.0   11.0  29.549999"
      ]
     },
     "execution_count": 104,
     "metadata": {},
     "output_type": "execute_result"
    }
   ],
   "source": [
    "decision_true = decision[decision['number of observations']] # keep only true\n",
    "print(f\"We delete {decision_true.shape[0]} stocks.\")\n",
    "stocks_del = stocks_del.drop(index=decision_true.index) # drop the stocks that have < 240 observations\n",
    "stocks_del.head()"
   ]
  },
  {
   "cell_type": "code",
   "execution_count": 105,
   "metadata": {},
   "outputs": [
    {
     "name": "stdout",
     "output_type": "stream",
     "text": [
      "We have deleted 3 and we are left with 636 stocks\n"
     ]
    }
   ],
   "source": [
    "# we have deleted decision_true\n",
    "# we are left with the rest of decision\n",
    "num_deleted = int(decision_true.count())\n",
    "num_left = int(decision.count()-decision_true.count())\n",
    "print(f\"We have deleted {num_deleted} and we are left with {num_left} stocks\")"
   ]
  },
  {
   "cell_type": "code",
   "execution_count": 106,
   "metadata": {},
   "outputs": [
    {
     "name": "stdout",
     "output_type": "stream",
     "text": [
      "Now we do not have NaN returns\n"
     ]
    }
   ],
   "source": [
    "is_na = stocks_del.ret.isna()\n",
    "num_before = len(stocks_del.index)\n",
    "stocks_del = stocks_del[~is_na] # delete null returns\n",
    "num_then = len(stocks_del.index)\n",
    "if any(is_na) == True:\n",
    "    print(f\"{num_before-num_then} returns are NaN\")\n",
    "else:\n",
    "    print(\"Now we do not have NaN returns\")"
   ]
  },
  {
   "cell_type": "markdown",
   "metadata": {},
   "source": [
    "Now, we can add the risk free rate and market returns. "
   ]
  },
  {
   "cell_type": "code",
   "execution_count": 107,
   "metadata": {},
   "outputs": [],
   "source": [
    "# import risk free rate\n",
    "risk_free = db.raw_sql(\"select mcaldt as date, tmytm as rf from crsp.tfz_mth_rf where kytreasnox = 2000001 and mcaldt>='2000-01-01' and mcaldt<='2019-12-31'\")\n",
    "risk_free_m = np.exp(np.divide(risk_free.rf, 1200)) -1\n",
    "rf = pd.DataFrame([risk_free.date, risk_free_m], index=['date', 'rf']).T\n",
    "\n",
    "# import market\n",
    "market = db.raw_sql(\"select date, vwretd from crsp.msi where date>='2000-01-01' and date<='2019-12-31'\")\n",
    "market_m = pd.DataFrame([market.date, market.vwretd.values], index=['date', 'mkt_ret']).T\n",
    "rm = market_m.set_index('date')"
   ]
  },
  {
   "cell_type": "code",
   "execution_count": 108,
   "metadata": {},
   "outputs": [
    {
     "data": {
      "text/html": [
       "<div>\n",
       "<style scoped>\n",
       "    .dataframe tbody tr th:only-of-type {\n",
       "        vertical-align: middle;\n",
       "    }\n",
       "\n",
       "    .dataframe tbody tr th {\n",
       "        vertical-align: top;\n",
       "    }\n",
       "\n",
       "    .dataframe thead th {\n",
       "        text-align: right;\n",
       "    }\n",
       "</style>\n",
       "<table border=\"1\" class=\"dataframe\">\n",
       "  <thead>\n",
       "    <tr style=\"text-align: right;\">\n",
       "      <th></th>\n",
       "      <th>rf</th>\n",
       "    </tr>\n",
       "    <tr>\n",
       "      <th>date</th>\n",
       "      <th></th>\n",
       "    </tr>\n",
       "  </thead>\n",
       "  <tbody>\n",
       "    <tr>\n",
       "      <th>2000-01</th>\n",
       "      <td>0.00449835</td>\n",
       "    </tr>\n",
       "    <tr>\n",
       "      <th>2000-02</th>\n",
       "      <td>0.00443834</td>\n",
       "    </tr>\n",
       "    <tr>\n",
       "      <th>2000-03</th>\n",
       "      <td>0.00489188</td>\n",
       "    </tr>\n",
       "    <tr>\n",
       "      <th>2000-04</th>\n",
       "      <td>0.00440126</td>\n",
       "    </tr>\n",
       "    <tr>\n",
       "      <th>2000-05</th>\n",
       "      <td>0.00390314</td>\n",
       "    </tr>\n",
       "  </tbody>\n",
       "</table>\n",
       "</div>"
      ],
      "text/plain": [
       "                 rf\n",
       "date               \n",
       "2000-01  0.00449835\n",
       "2000-02  0.00443834\n",
       "2000-03  0.00489188\n",
       "2000-04  0.00440126\n",
       "2000-05  0.00390314"
      ]
     },
     "execution_count": 108,
     "metadata": {},
     "output_type": "execute_result"
    }
   ],
   "source": [
    "rf.date = pd.DatetimeIndex(rf.date) # data format\n",
    "rf.date = rf.date.dt.to_period('M') # data year-month\n",
    "rf = rf.set_index('date')\n",
    "rf.head()"
   ]
  },
  {
   "cell_type": "code",
   "execution_count": 109,
   "metadata": {},
   "outputs": [
    {
     "data": {
      "text/html": [
       "<div>\n",
       "<style scoped>\n",
       "    .dataframe tbody tr th:only-of-type {\n",
       "        vertical-align: middle;\n",
       "    }\n",
       "\n",
       "    .dataframe tbody tr th {\n",
       "        vertical-align: top;\n",
       "    }\n",
       "\n",
       "    .dataframe thead th {\n",
       "        text-align: right;\n",
       "    }\n",
       "</style>\n",
       "<table border=\"1\" class=\"dataframe\">\n",
       "  <thead>\n",
       "    <tr style=\"text-align: right;\">\n",
       "      <th></th>\n",
       "      <th>mkt_ret</th>\n",
       "    </tr>\n",
       "    <tr>\n",
       "      <th>date</th>\n",
       "      <th></th>\n",
       "    </tr>\n",
       "  </thead>\n",
       "  <tbody>\n",
       "    <tr>\n",
       "      <th>2000-01</th>\n",
       "      <td>-0.0396243</td>\n",
       "    </tr>\n",
       "    <tr>\n",
       "      <th>2000-02</th>\n",
       "      <td>0.0317784</td>\n",
       "    </tr>\n",
       "    <tr>\n",
       "      <th>2000-03</th>\n",
       "      <td>0.0535007</td>\n",
       "    </tr>\n",
       "    <tr>\n",
       "      <th>2000-04</th>\n",
       "      <td>-0.059527</td>\n",
       "    </tr>\n",
       "    <tr>\n",
       "      <th>2000-05</th>\n",
       "      <td>-0.0388696</td>\n",
       "    </tr>\n",
       "  </tbody>\n",
       "</table>\n",
       "</div>"
      ],
      "text/plain": [
       "           mkt_ret\n",
       "date              \n",
       "2000-01 -0.0396243\n",
       "2000-02  0.0317784\n",
       "2000-03  0.0535007\n",
       "2000-04  -0.059527\n",
       "2000-05 -0.0388696"
      ]
     },
     "execution_count": 109,
     "metadata": {},
     "output_type": "execute_result"
    }
   ],
   "source": [
    "rm.index = pd.DatetimeIndex(rm.index) # data format\n",
    "rm.index = rm.index.to_period('M') # data year-month\n",
    "rm.head()"
   ]
  },
  {
   "cell_type": "code",
   "execution_count": 110,
   "metadata": {},
   "outputs": [],
   "source": [
    "save = stocks_del"
   ]
  },
  {
   "cell_type": "code",
   "execution_count": 250,
   "metadata": {},
   "outputs": [],
   "source": [
    "stocks_del = save"
   ]
  },
  {
   "cell_type": "markdown",
   "metadata": {},
   "source": [
    "## b)"
   ]
  },
  {
   "cell_type": "markdown",
   "metadata": {},
   "source": [
    "Caculate market capitalization, making sure that we have absolute values of share prices:"
   ]
  },
  {
   "cell_type": "code",
   "execution_count": 251,
   "metadata": {},
   "outputs": [
    {
     "data": {
      "text/html": [
       "<div>\n",
       "<style scoped>\n",
       "    .dataframe tbody tr th:only-of-type {\n",
       "        vertical-align: middle;\n",
       "    }\n",
       "\n",
       "    .dataframe tbody tr th {\n",
       "        vertical-align: top;\n",
       "    }\n",
       "\n",
       "    .dataframe thead th {\n",
       "        text-align: right;\n",
       "    }\n",
       "</style>\n",
       "<table border=\"1\" class=\"dataframe\">\n",
       "  <thead>\n",
       "    <tr style=\"text-align: right;\">\n",
       "      <th></th>\n",
       "      <th>date</th>\n",
       "      <th>exchcd</th>\n",
       "      <th>ret</th>\n",
       "      <th>shrout</th>\n",
       "      <th>shrcd</th>\n",
       "      <th>prc</th>\n",
       "      <th>mrk_cap</th>\n",
       "    </tr>\n",
       "    <tr>\n",
       "      <th>permno</th>\n",
       "      <th></th>\n",
       "      <th></th>\n",
       "      <th></th>\n",
       "      <th></th>\n",
       "      <th></th>\n",
       "      <th></th>\n",
       "      <th></th>\n",
       "    </tr>\n",
       "  </thead>\n",
       "  <tbody>\n",
       "    <tr>\n",
       "      <th>10145.0</th>\n",
       "      <td>2000-01</td>\n",
       "      <td>1.0</td>\n",
       "      <td>-0.167931</td>\n",
       "      <td>789233.0</td>\n",
       "      <td>11.0</td>\n",
       "      <td>48.000000</td>\n",
       "      <td>3.788318e+07</td>\n",
       "    </tr>\n",
       "    <tr>\n",
       "      <th>10145.0</th>\n",
       "      <td>2001-07</td>\n",
       "      <td>1.0</td>\n",
       "      <td>0.059088</td>\n",
       "      <td>809281.0</td>\n",
       "      <td>11.0</td>\n",
       "      <td>36.869999</td>\n",
       "      <td>2.983819e+07</td>\n",
       "    </tr>\n",
       "    <tr>\n",
       "      <th>10145.0</th>\n",
       "      <td>2001-08</td>\n",
       "      <td>1.0</td>\n",
       "      <td>0.015663</td>\n",
       "      <td>811616.0</td>\n",
       "      <td>11.0</td>\n",
       "      <td>37.259998</td>\n",
       "      <td>3.024081e+07</td>\n",
       "    </tr>\n",
       "    <tr>\n",
       "      <th>10145.0</th>\n",
       "      <td>2001-09</td>\n",
       "      <td>1.0</td>\n",
       "      <td>-0.291465</td>\n",
       "      <td>811616.0</td>\n",
       "      <td>11.0</td>\n",
       "      <td>26.400000</td>\n",
       "      <td>2.142666e+07</td>\n",
       "    </tr>\n",
       "    <tr>\n",
       "      <th>10145.0</th>\n",
       "      <td>2001-10</td>\n",
       "      <td>1.0</td>\n",
       "      <td>0.119318</td>\n",
       "      <td>811619.0</td>\n",
       "      <td>11.0</td>\n",
       "      <td>29.549999</td>\n",
       "      <td>2.398334e+07</td>\n",
       "    </tr>\n",
       "  </tbody>\n",
       "</table>\n",
       "</div>"
      ],
      "text/plain": [
       "            date  exchcd       ret    shrout  shrcd        prc       mrk_cap\n",
       "permno                                                                      \n",
       "10145.0  2000-01     1.0 -0.167931  789233.0   11.0  48.000000  3.788318e+07\n",
       "10145.0  2001-07     1.0  0.059088  809281.0   11.0  36.869999  2.983819e+07\n",
       "10145.0  2001-08     1.0  0.015663  811616.0   11.0  37.259998  3.024081e+07\n",
       "10145.0  2001-09     1.0 -0.291465  811616.0   11.0  26.400000  2.142666e+07\n",
       "10145.0  2001-10     1.0  0.119318  811619.0   11.0  29.549999  2.398334e+07"
      ]
     },
     "execution_count": 251,
     "metadata": {},
     "output_type": "execute_result"
    }
   ],
   "source": [
    "stocks_del['prc'] = stocks_del['prc'].abs() # absolute value of the share price\n",
    "stocks_del['mrk_cap'] = stocks_del['prc'] * stocks_del['shrout']\n",
    "stocks_del.head()"
   ]
  },
  {
   "cell_type": "markdown",
   "metadata": {},
   "source": [
    "We calculate the beta"
   ]
  },
  {
   "cell_type": "code",
   "execution_count": 252,
   "metadata": {},
   "outputs": [
    {
     "name": "stdout",
     "output_type": "stream",
     "text": [
      "<class 'pandas.core.frame.DataFrame'>\n"
     ]
    },
    {
     "data": {
      "text/html": [
       "<div>\n",
       "<style scoped>\n",
       "    .dataframe tbody tr th:only-of-type {\n",
       "        vertical-align: middle;\n",
       "    }\n",
       "\n",
       "    .dataframe tbody tr th {\n",
       "        vertical-align: top;\n",
       "    }\n",
       "\n",
       "    .dataframe thead th {\n",
       "        text-align: right;\n",
       "    }\n",
       "</style>\n",
       "<table border=\"1\" class=\"dataframe\">\n",
       "  <thead>\n",
       "    <tr style=\"text-align: right;\">\n",
       "      <th></th>\n",
       "      <th>date</th>\n",
       "      <th>exchcd</th>\n",
       "      <th>ret</th>\n",
       "      <th>shrout</th>\n",
       "      <th>shrcd</th>\n",
       "      <th>prc</th>\n",
       "      <th>mrk_cap</th>\n",
       "      <th>beta</th>\n",
       "    </tr>\n",
       "  </thead>\n",
       "  <tbody>\n",
       "    <tr>\n",
       "      <th>10145.0</th>\n",
       "      <td>2000-01</td>\n",
       "      <td>1.0</td>\n",
       "      <td>-0.167931</td>\n",
       "      <td>789233.0</td>\n",
       "      <td>11.0</td>\n",
       "      <td>48.000000</td>\n",
       "      <td>3.788318e+07</td>\n",
       "      <td>1.20019</td>\n",
       "    </tr>\n",
       "    <tr>\n",
       "      <th>10145.0</th>\n",
       "      <td>2001-07</td>\n",
       "      <td>1.0</td>\n",
       "      <td>0.059088</td>\n",
       "      <td>809281.0</td>\n",
       "      <td>11.0</td>\n",
       "      <td>36.869999</td>\n",
       "      <td>2.983819e+07</td>\n",
       "      <td>1.20019</td>\n",
       "    </tr>\n",
       "    <tr>\n",
       "      <th>10145.0</th>\n",
       "      <td>2001-08</td>\n",
       "      <td>1.0</td>\n",
       "      <td>0.015663</td>\n",
       "      <td>811616.0</td>\n",
       "      <td>11.0</td>\n",
       "      <td>37.259998</td>\n",
       "      <td>3.024081e+07</td>\n",
       "      <td>1.20019</td>\n",
       "    </tr>\n",
       "    <tr>\n",
       "      <th>10145.0</th>\n",
       "      <td>2001-09</td>\n",
       "      <td>1.0</td>\n",
       "      <td>-0.291465</td>\n",
       "      <td>811616.0</td>\n",
       "      <td>11.0</td>\n",
       "      <td>26.400000</td>\n",
       "      <td>2.142666e+07</td>\n",
       "      <td>1.20019</td>\n",
       "    </tr>\n",
       "    <tr>\n",
       "      <th>10145.0</th>\n",
       "      <td>2001-10</td>\n",
       "      <td>1.0</td>\n",
       "      <td>0.119318</td>\n",
       "      <td>811619.0</td>\n",
       "      <td>11.0</td>\n",
       "      <td>29.549999</td>\n",
       "      <td>2.398334e+07</td>\n",
       "      <td>1.20019</td>\n",
       "    </tr>\n",
       "  </tbody>\n",
       "</table>\n",
       "</div>"
      ],
      "text/plain": [
       "            date  exchcd       ret    shrout  shrcd        prc       mrk_cap  \\\n",
       "10145.0  2000-01     1.0 -0.167931  789233.0   11.0  48.000000  3.788318e+07   \n",
       "10145.0  2001-07     1.0  0.059088  809281.0   11.0  36.869999  2.983819e+07   \n",
       "10145.0  2001-08     1.0  0.015663  811616.0   11.0  37.259998  3.024081e+07   \n",
       "10145.0  2001-09     1.0 -0.291465  811616.0   11.0  26.400000  2.142666e+07   \n",
       "10145.0  2001-10     1.0  0.119318  811619.0   11.0  29.549999  2.398334e+07   \n",
       "\n",
       "            beta  \n",
       "10145.0  1.20019  \n",
       "10145.0  1.20019  \n",
       "10145.0  1.20019  \n",
       "10145.0  1.20019  \n",
       "10145.0  1.20019  "
      ]
     },
     "execution_count": 252,
     "metadata": {},
     "output_type": "execute_result"
    }
   ],
   "source": [
    "# list of right permnos (no duplicates):\n",
    "list_permno = list(stocks_del.loc[~stocks_del.index.duplicated(keep='first')].index)\n",
    "\n",
    "market_beta = [] # market beta \n",
    "\n",
    "#cycle for each stock (639 elemets)\n",
    "for i in list_permno: # (list_permno): \n",
    "    current_stock = stocks_del.loc[i] # long 240 because we have 240 observations for each stock\n",
    "    ret_cur_stock = current_stock.ret.values.astype(float) # 240 returns for each stock\n",
    "    rm_cur_stock = rm.loc[current_stock.date].mkt_ret.astype(float)\n",
    "    covariance = np.cov(ret_cur_stock, rm_cur_stock) # Cov(R,Rm)\n",
    "    var_market = covariance[1,1] # var(Rm)\n",
    "    market_beta.append(covariance[0,1]/var_market) # add new beta\n",
    "    \n",
    "# Create a DataFrame where for each stock we have its beta\n",
    "data = pd.DataFrame(market_beta, columns={'beta'}, index=list_permno) # for each stock we have its beta\n",
    "data = data.sort_index()\n",
    "\n",
    "print(type(stocks_del))\n",
    "\n",
    "# We add to the stocks dataframe our beta, creating a new column:\n",
    "stocks_del = stocks_del.merge(data, left_index=True, right_index=True)\n",
    "#stocks_del = stocks_del.drop(stocks_del.loc[stocks_del.beta.isnull()].index)#.set_index(['permno','date']) # re-index\n",
    "stocks_del.head()"
   ]
  },
  {
   "cell_type": "markdown",
   "metadata": {},
   "source": [
    "Form 10 groups of stocks based on the market capitalization of 31 dec 2019, with first decile being group 1 on so on:"
   ]
  },
  {
   "cell_type": "code",
   "execution_count": 253,
   "metadata": {},
   "outputs": [
    {
     "data": {
      "text/html": [
       "<div>\n",
       "<style scoped>\n",
       "    .dataframe tbody tr th:only-of-type {\n",
       "        vertical-align: middle;\n",
       "    }\n",
       "\n",
       "    .dataframe tbody tr th {\n",
       "        vertical-align: top;\n",
       "    }\n",
       "\n",
       "    .dataframe thead th {\n",
       "        text-align: right;\n",
       "    }\n",
       "</style>\n",
       "<table border=\"1\" class=\"dataframe\">\n",
       "  <thead>\n",
       "    <tr style=\"text-align: right;\">\n",
       "      <th></th>\n",
       "      <th>date</th>\n",
       "      <th>exchcd</th>\n",
       "      <th>ret</th>\n",
       "      <th>shrout</th>\n",
       "      <th>shrcd</th>\n",
       "      <th>prc</th>\n",
       "      <th>mrk_cap</th>\n",
       "      <th>beta</th>\n",
       "    </tr>\n",
       "  </thead>\n",
       "  <tbody>\n",
       "    <tr>\n",
       "      <th>10145.0</th>\n",
       "      <td>2019-12</td>\n",
       "      <td>1.0</td>\n",
       "      <td>-0.008681</td>\n",
       "      <td>714533.0</td>\n",
       "      <td>11.0</td>\n",
       "      <td>177.000000</td>\n",
       "      <td>1.264723e+08</td>\n",
       "      <td>1.200190</td>\n",
       "    </tr>\n",
       "    <tr>\n",
       "      <th>10294.0</th>\n",
       "      <td>2019-12</td>\n",
       "      <td>1.0</td>\n",
       "      <td>0.006728</td>\n",
       "      <td>1535.0</td>\n",
       "      <td>11.0</td>\n",
       "      <td>20.200001</td>\n",
       "      <td>3.100700e+04</td>\n",
       "      <td>0.758752</td>\n",
       "    </tr>\n",
       "    <tr>\n",
       "      <th>10308.0</th>\n",
       "      <td>2019-12</td>\n",
       "      <td>2.0</td>\n",
       "      <td>0.054755</td>\n",
       "      <td>14940.0</td>\n",
       "      <td>11.0</td>\n",
       "      <td>91.500000</td>\n",
       "      <td>1.367010e+06</td>\n",
       "      <td>0.443625</td>\n",
       "    </tr>\n",
       "    <tr>\n",
       "      <th>10516.0</th>\n",
       "      <td>2019-12</td>\n",
       "      <td>1.0</td>\n",
       "      <td>0.079665</td>\n",
       "      <td>556686.0</td>\n",
       "      <td>11.0</td>\n",
       "      <td>46.349998</td>\n",
       "      <td>2.580240e+07</td>\n",
       "      <td>0.497710</td>\n",
       "    </tr>\n",
       "    <tr>\n",
       "      <th>10517.0</th>\n",
       "      <td>2019-12</td>\n",
       "      <td>1.0</td>\n",
       "      <td>-0.021404</td>\n",
       "      <td>67152.0</td>\n",
       "      <td>11.0</td>\n",
       "      <td>57.110001</td>\n",
       "      <td>3.835051e+06</td>\n",
       "      <td>0.642811</td>\n",
       "    </tr>\n",
       "  </tbody>\n",
       "</table>\n",
       "</div>"
      ],
      "text/plain": [
       "            date  exchcd       ret    shrout  shrcd         prc       mrk_cap  \\\n",
       "10145.0  2019-12     1.0 -0.008681  714533.0   11.0  177.000000  1.264723e+08   \n",
       "10294.0  2019-12     1.0  0.006728    1535.0   11.0   20.200001  3.100700e+04   \n",
       "10308.0  2019-12     2.0  0.054755   14940.0   11.0   91.500000  1.367010e+06   \n",
       "10516.0  2019-12     1.0  0.079665  556686.0   11.0   46.349998  2.580240e+07   \n",
       "10517.0  2019-12     1.0 -0.021404   67152.0   11.0   57.110001  3.835051e+06   \n",
       "\n",
       "             beta  \n",
       "10145.0  1.200190  \n",
       "10294.0  0.758752  \n",
       "10308.0  0.443625  \n",
       "10516.0  0.497710  \n",
       "10517.0  0.642811  "
      ]
     },
     "execution_count": 253,
     "metadata": {},
     "output_type": "execute_result"
    }
   ],
   "source": [
    "# list of right permnos (no duplicates):\n",
    "stocks_del = stocks_del.sort_index(axis = 0) \n",
    "list_permno = list(stocks_del.loc[~stocks_del.index.duplicated(keep='first')].index)\n",
    "\n",
    "# consider market capitalization on dec 2019\n",
    "stocks_dec2019 = stocks_del[stocks_del.date.astype(str).values=='2019-12']\n",
    "stocks_dec2019 = stocks_dec2019.sort_index(axis = 0) \n",
    "stocks_dec2019.head()"
   ]
  },
  {
   "cell_type": "code",
   "execution_count": 254,
   "metadata": {},
   "outputs": [
    {
     "data": {
      "text/html": [
       "<div>\n",
       "<style scoped>\n",
       "    .dataframe tbody tr th:only-of-type {\n",
       "        vertical-align: middle;\n",
       "    }\n",
       "\n",
       "    .dataframe tbody tr th {\n",
       "        vertical-align: top;\n",
       "    }\n",
       "\n",
       "    .dataframe thead th {\n",
       "        text-align: right;\n",
       "    }\n",
       "</style>\n",
       "<table border=\"1\" class=\"dataframe\">\n",
       "  <thead>\n",
       "    <tr style=\"text-align: right;\">\n",
       "      <th></th>\n",
       "      <th>decile</th>\n",
       "    </tr>\n",
       "  </thead>\n",
       "  <tbody>\n",
       "    <tr>\n",
       "      <th>10145.0</th>\n",
       "      <td>(54953204.591, 437225989.856]</td>\n",
       "    </tr>\n",
       "    <tr>\n",
       "      <th>10294.0</th>\n",
       "      <td>(2640.959, 221410.898]</td>\n",
       "    </tr>\n",
       "    <tr>\n",
       "      <th>10308.0</th>\n",
       "      <td>(848916.265, 1570788.675]</td>\n",
       "    </tr>\n",
       "    <tr>\n",
       "      <th>10516.0</th>\n",
       "      <td>(23590062.289, 54953204.591]</td>\n",
       "    </tr>\n",
       "    <tr>\n",
       "      <th>10517.0</th>\n",
       "      <td>(2728756.376, 4603126.817]</td>\n",
       "    </tr>\n",
       "  </tbody>\n",
       "</table>\n",
       "</div>"
      ],
      "text/plain": [
       "                                decile\n",
       "10145.0  (54953204.591, 437225989.856]\n",
       "10294.0         (2640.959, 221410.898]\n",
       "10308.0      (848916.265, 1570788.675]\n",
       "10516.0   (23590062.289, 54953204.591]\n",
       "10517.0     (2728756.376, 4603126.817]"
      ]
     },
     "execution_count": 254,
     "metadata": {},
     "output_type": "execute_result"
    }
   ],
   "source": [
    "# creation on 10 groups\n",
    "a = pd.qcut(stocks_dec2019.mrk_cap,10)\n",
    "decile = pd.DataFrame(pd.qcut(stocks_dec2019.mrk_cap,10))\n",
    "decile = decile.rename(columns={\"mrk_cap\":\"decile\"})\n",
    "decile.head()"
   ]
  },
  {
   "cell_type": "code",
   "execution_count": 255,
   "metadata": {},
   "outputs": [
    {
     "name": "stdout",
     "output_type": "stream",
     "text": [
      "We have 10 groups of stcoks.\n"
     ]
    }
   ],
   "source": [
    "inters = list(dict.fromkeys(a))\n",
    "#inters.sort()\n",
    "inters = [x for x in inters if str(x) != 'nan'] # drop NoN. We always put a control just to be sure\n",
    "print(f\"We have {len(inters)} groups of stcoks.\")"
   ]
  },
  {
   "cell_type": "code",
   "execution_count": 256,
   "metadata": {},
   "outputs": [],
   "source": [
    "# for each portfolio we have the decile to which it belongs\n",
    "group_decile = decile.sort_values(by=\"decile\") # sort for decile\n",
    "group_decile.reset_index(inplace=True)\n",
    "group_decile = group_decile.dropna() # drop NaN\n",
    "group_decile = group_decile.groupby(\"decile\")"
   ]
  },
  {
   "cell_type": "markdown",
   "metadata": {},
   "source": [
    "**EQUALLY WEIGHTED**"
   ]
  },
  {
   "cell_type": "code",
   "execution_count": 267,
   "metadata": {},
   "outputs": [],
   "source": [
    "month_list = stocks_del.date.drop_duplicates(keep='first').values\n",
    "stocks_del = stocks_del.sort_values('date') #sort for date\n",
    "ew_ret = []\n",
    "\n",
    "for month in month_list: # for each month \n",
    "    stocks_del_month = stocks_del[stocks_del.date.values==month]\n",
    "    \n",
    "    ew_ret_month = [] # returns of equally weighted portfolios\n",
    "    for i in inters: # each decile\n",
    "        stock_interval = group_decile.get_group(i)[\"index\"]\n",
    "        temp = stocks_del_month.loc[stock_interval] \n",
    "        #group_date = temp.groupby('date').mean()\n",
    "        ew_ret_month.append(temp.ret.mean()) # equal weighted => mean\n",
    "        \n",
    "\n",
    "    ew_ret.append(ew_ret_month)"
   ]
  },
  {
   "cell_type": "code",
   "execution_count": 307,
   "metadata": {},
   "outputs": [
    {
     "data": {
      "text/plain": [
       "[[-0.04503637546804384,\n",
       "  0.05014570678395103,\n",
       "  -0.050526173873102306,\n",
       "  -0.04881972574170615,\n",
       "  -0.04556045373753895,\n",
       "  -0.057254742496297695,\n",
       "  -0.010908959535299793,\n",
       "  -0.05112946718872989,\n",
       "  -0.04494867054927455,\n",
       "  -0.05209665686365154],\n",
       " [-0.08797004241750986,\n",
       "  0.08340600237715982,\n",
       "  0.01052988952557954,\n",
       "  -0.06958276130968616,\n",
       "  -0.01442203855526355,\n",
       "  -0.03083706038160021,\n",
       "  0.03245743512889023,\n",
       "  -0.057213702462831834,\n",
       "  0.0014417665615837783,\n",
       "  -0.05650094339978836]]"
      ]
     },
     "execution_count": 307,
     "metadata": {},
     "output_type": "execute_result"
    }
   ],
   "source": [
    "ew_ret[0:2]"
   ]
  },
  {
   "cell_type": "code",
   "execution_count": 309,
   "metadata": {},
   "outputs": [
    {
     "data": {
      "text/plain": [
       "array([[-0.04503638,  0.05014571, -0.05052617, ..., -0.05112947,\n",
       "        -0.04494867, -0.05209666],\n",
       "       [-0.08797004,  0.083406  ,  0.01052989, ..., -0.0572137 ,\n",
       "         0.00144177, -0.05650094],\n",
       "       [ 0.12939913, -0.00061157,  0.07157198, ...,  0.13783316,\n",
       "         0.05838366,  0.12982176],\n",
       "       ...,\n",
       "       [ 0.02605095,  0.04495056,  0.06608706, ...,  0.02489569,\n",
       "         0.05423078,  0.031417  ],\n",
       "       [ 0.02605095,  0.04495056,  0.06608706, ...,  0.02489569,\n",
       "         0.05423078,  0.031417  ],\n",
       "       [ 0.02605095,  0.04495056,  0.06608706, ...,  0.02489569,\n",
       "         0.05423078,  0.031417  ]])"
      ]
     },
     "execution_count": 309,
     "metadata": {},
     "output_type": "execute_result"
    }
   ],
   "source": [
    "x = np.array(ew_ret)\n",
    "x"
   ]
  },
  {
   "cell_type": "markdown",
   "metadata": {},
   "source": [
    "now we have an array where for each month we have 10 ew returns. we want the excess return on rf:"
   ]
  },
  {
   "cell_type": "code",
   "execution_count": 270,
   "metadata": {},
   "outputs": [],
   "source": [
    "month_exc_ret_ew = []\n",
    "\n",
    "for i in range(len(month_list)): # for each month\n",
    "    risk_free = rf.rf[i] # rf of that month\n",
    "    risk_free_list = [risk_free]*10 \n",
    "    month_exc_ret_ew.append(np.asarray(ew_ret[i])-risk_free)"
   ]
  },
  {
   "cell_type": "markdown",
   "metadata": {},
   "source": [
    "In month_exc_ret we have 10 excess returns for each month. Now we want I excess return for each decile, then we do the mean over all months:"
   ]
  },
  {
   "cell_type": "code",
   "execution_count": null,
   "metadata": {},
   "outputs": [],
   "source": [
    " "
   ]
  },
  {
   "cell_type": "code",
   "execution_count": null,
   "metadata": {},
   "outputs": [],
   "source": []
  },
  {
   "cell_type": "markdown",
   "metadata": {},
   "source": [
    "**VALUE WEIGHTED**"
   ]
  },
  {
   "cell_type": "code",
   "execution_count": 305,
   "metadata": {},
   "outputs": [
    {
     "name": "stdout",
     "output_type": "stream",
     "text": [
      "wùWe can see that lagged mark_cap for each stock is NaN for the first month\n"
     ]
    },
    {
     "data": {
      "text/html": [
       "<div>\n",
       "<style scoped>\n",
       "    .dataframe tbody tr th:only-of-type {\n",
       "        vertical-align: middle;\n",
       "    }\n",
       "\n",
       "    .dataframe tbody tr th {\n",
       "        vertical-align: top;\n",
       "    }\n",
       "\n",
       "    .dataframe thead th {\n",
       "        text-align: right;\n",
       "    }\n",
       "</style>\n",
       "<table border=\"1\" class=\"dataframe\">\n",
       "  <thead>\n",
       "    <tr style=\"text-align: right;\">\n",
       "      <th></th>\n",
       "      <th>date</th>\n",
       "      <th>exchcd</th>\n",
       "      <th>ret</th>\n",
       "      <th>shrout</th>\n",
       "      <th>shrcd</th>\n",
       "      <th>prc</th>\n",
       "      <th>mrk_cap</th>\n",
       "      <th>beta</th>\n",
       "      <th>lagged_mrk_cap_formonth</th>\n",
       "      <th>lagged_mrk_cap</th>\n",
       "    </tr>\n",
       "  </thead>\n",
       "  <tbody>\n",
       "    <tr>\n",
       "      <th>10145.0</th>\n",
       "      <td>2000-01</td>\n",
       "      <td>1.0</td>\n",
       "      <td>-0.167931</td>\n",
       "      <td>789233.0</td>\n",
       "      <td>11.0</td>\n",
       "      <td>48.0000</td>\n",
       "      <td>3.788318e+07</td>\n",
       "      <td>1.200190</td>\n",
       "      <td>NaN</td>\n",
       "      <td>NaN</td>\n",
       "    </tr>\n",
       "    <tr>\n",
       "      <th>22103.0</th>\n",
       "      <td>2000-01</td>\n",
       "      <td>1.0</td>\n",
       "      <td>-0.040305</td>\n",
       "      <td>432199.0</td>\n",
       "      <td>11.0</td>\n",
       "      <td>55.0625</td>\n",
       "      <td>2.379796e+07</td>\n",
       "      <td>1.092722</td>\n",
       "      <td>NaN</td>\n",
       "      <td>NaN</td>\n",
       "    </tr>\n",
       "    <tr>\n",
       "      <th>21055.0</th>\n",
       "      <td>2000-01</td>\n",
       "      <td>1.0</td>\n",
       "      <td>-0.326923</td>\n",
       "      <td>22002.0</td>\n",
       "      <td>11.0</td>\n",
       "      <td>8.7500</td>\n",
       "      <td>1.925175e+05</td>\n",
       "      <td>1.280285</td>\n",
       "      <td>NaN</td>\n",
       "      <td>NaN</td>\n",
       "    </tr>\n",
       "    <tr>\n",
       "      <th>78950.0</th>\n",
       "      <td>2000-01</td>\n",
       "      <td>1.0</td>\n",
       "      <td>0.072927</td>\n",
       "      <td>9736.0</td>\n",
       "      <td>11.0</td>\n",
       "      <td>10.9375</td>\n",
       "      <td>1.064875e+05</td>\n",
       "      <td>0.904525</td>\n",
       "      <td>NaN</td>\n",
       "      <td>NaN</td>\n",
       "    </tr>\n",
       "    <tr>\n",
       "      <th>80303.0</th>\n",
       "      <td>2000-01</td>\n",
       "      <td>1.0</td>\n",
       "      <td>-0.456954</td>\n",
       "      <td>103057.0</td>\n",
       "      <td>11.0</td>\n",
       "      <td>10.1250</td>\n",
       "      <td>1.043452e+06</td>\n",
       "      <td>2.427263</td>\n",
       "      <td>NaN</td>\n",
       "      <td>NaN</td>\n",
       "    </tr>\n",
       "  </tbody>\n",
       "</table>\n",
       "</div>"
      ],
      "text/plain": [
       "            date  exchcd       ret    shrout  shrcd      prc       mrk_cap  \\\n",
       "10145.0  2000-01     1.0 -0.167931  789233.0   11.0  48.0000  3.788318e+07   \n",
       "22103.0  2000-01     1.0 -0.040305  432199.0   11.0  55.0625  2.379796e+07   \n",
       "21055.0  2000-01     1.0 -0.326923   22002.0   11.0   8.7500  1.925175e+05   \n",
       "78950.0  2000-01     1.0  0.072927    9736.0   11.0  10.9375  1.064875e+05   \n",
       "80303.0  2000-01     1.0 -0.456954  103057.0   11.0  10.1250  1.043452e+06   \n",
       "\n",
       "             beta  lagged_mrk_cap_formonth  lagged_mrk_cap  \n",
       "10145.0  1.200190                      NaN             NaN  \n",
       "22103.0  1.092722                      NaN             NaN  \n",
       "21055.0  1.280285                      NaN             NaN  \n",
       "78950.0  0.904525                      NaN             NaN  \n",
       "80303.0  2.427263                      NaN             NaN  "
      ]
     },
     "execution_count": 305,
     "metadata": {},
     "output_type": "execute_result"
    }
   ],
   "source": [
    "# LAGGED market capitalization:\n",
    "stocks_del['lagged_mrk_cap'] =  stocks_del.groupby(stocks_del.index)['mrk_cap'].shift(1) # lagged market cap\n",
    "print(\"wùWe can see that lagged mark_cap for each stock is NaN for the first month\")\n",
    "stocks_del.head()"
   ]
  },
  {
   "cell_type": "code",
   "execution_count": 295,
   "metadata": {},
   "outputs": [],
   "source": [
    "stocks_del.lagged_mrk_cap = stocks_del.lagged_mrk_cap.fillna(0) # fill nan with zero (zero weight)\n",
    "month_list = stocks_del.date.drop_duplicates(keep='first').values\n",
    "stocks_del = stocks_del.sort_values('date') #sort for date\n",
    "vw_ret = []\n",
    "\n",
    "for month in month_list: # for each month \n",
    "    stocks_del_month = stocks_del[stocks_del.date.values==month]\n",
    "    \n",
    "    vw_ret_month = [] # returns of equally weighted portfolios\n",
    "    for i in inters: # each decile\n",
    "        \n",
    "        stock_interval = group_decile.get_group(i)[\"index\"]\n",
    "        temp = stocks_del_month.loc[stock_interval] # stocks for that month for that decile \n",
    "        \n",
    "        # calculate weights\n",
    "        weight_sum = temp.lagged_mrk_cap.sum() # sum of mark_cap\n",
    "        weights = temp.lagged_mrk_cap / weight_sum #weights\n",
    "        \n",
    "        # calulate value weighted ret\n",
    "        ret = (temp.ret*weights).sum()\n",
    "        \n",
    "        vw_ret_month.append(vw_ret)\n",
    "        \n",
    "\n",
    "    vw_ret.append(ew_ret_month)"
   ]
  },
  {
   "cell_type": "code",
   "execution_count": 310,
   "metadata": {},
   "outputs": [
    {
     "data": {
      "text/plain": [
       "[[0.026050946693430888,\n",
       "  0.04495055804613911,\n",
       "  0.06608705632647291,\n",
       "  0.03183513583748467,\n",
       "  0.03461249389395577,\n",
       "  0.03278840009670603,\n",
       "  0.06548393547927842,\n",
       "  0.024895685248338864,\n",
       "  0.054230784586252405,\n",
       "  0.031417000050991885],\n",
       " [0.026050946693430888,\n",
       "  0.04495055804613911,\n",
       "  0.06608705632647291,\n",
       "  0.03183513583748467,\n",
       "  0.03461249389395577,\n",
       "  0.03278840009670603,\n",
       "  0.06548393547927842,\n",
       "  0.024895685248338864,\n",
       "  0.054230784586252405,\n",
       "  0.031417000050991885]]"
      ]
     },
     "execution_count": 310,
     "metadata": {},
     "output_type": "execute_result"
    }
   ],
   "source": [
    "vw_ret[0:2]"
   ]
  },
  {
   "cell_type": "markdown",
   "metadata": {},
   "source": [
    "now we have an array where for each month we have 10 ew returns. we want the excess return on rf:"
   ]
  },
  {
   "cell_type": "code",
   "execution_count": 299,
   "metadata": {},
   "outputs": [],
   "source": [
    "month_exc_ret_vw = []\n",
    "\n",
    "for i in range(len(month_list)): # for each month\n",
    "    risk_free = rf.rf[i] # rf of that month\n",
    "    risk_free_list = [risk_free]*10 \n",
    "    month_exc_ret_vw.append(np.asarray(vw_ret[i])-risk_free)"
   ]
  },
  {
   "cell_type": "code",
   "execution_count": 311,
   "metadata": {},
   "outputs": [
    {
     "data": {
      "text/plain": [
       "[array([0.0215526 , 0.04045221, 0.06158871, 0.02733679, 0.03011415,\n",
       "        0.02829005, 0.06098559, 0.02039734, 0.04973244, 0.02691865]),\n",
       " array([0.0216126 , 0.04051221, 0.06164871, 0.02739679, 0.03017415,\n",
       "        0.02835006, 0.06104559, 0.02045734, 0.04979244, 0.02697866])]"
      ]
     },
     "execution_count": 311,
     "metadata": {},
     "output_type": "execute_result"
    }
   ],
   "source": [
    "month_exc_ret_vw[0:2]"
   ]
  },
  {
   "cell_type": "code",
   "execution_count": null,
   "metadata": {},
   "outputs": [],
   "source": [
    "C"
   ]
  },
  {
   "cell_type": "markdown",
   "metadata": {},
   "source": [
    "## C)"
   ]
  },
  {
   "cell_type": "code",
   "execution_count": null,
   "metadata": {},
   "outputs": [],
   "source": []
  },
  {
   "cell_type": "markdown",
   "metadata": {},
   "source": [
    "## D)"
   ]
  },
  {
   "cell_type": "code",
   "execution_count": null,
   "metadata": {},
   "outputs": [],
   "source": [
    "stocks_dec2019 = stocks_del[stocks_del.date.astype(str).values=='2019-12']\n",
    "stocks_dec2019 = stocks_dec2019.sort_index(axis = 0) \n",
    "stocks_dec2019.head()\n",
    "\n",
    "\n",
    "# creation on 10 groups\n",
    "a = pd.qcut(stocks_dec2019.mrk_cap,10)\n",
    "decile = pd.DataFrame(pd.qcut(stocks_dec2019.mrk_cap,10))\n",
    "decile = decile.rename(columns={\"mrk_cap\":\"decile\"})\n",
    "decile.head()"
   ]
  },
  {
   "cell_type": "code",
   "execution_count": null,
   "metadata": {},
   "outputs": [],
   "source": [
    "def create_decile(df):\n",
    "    a = pd.qcut(df.mrk_cap,10)\n",
    "    decile = pd.DataFrame([df.date, pd.qcut(df.mrk_cap,10)])\n",
    "    #decile = pd.DataFrame(pd.qcut(df.mrk_cap,10))\n",
    "    decile = decile.rename(columns={\"mrk_cap\":\"decile\"})\n",
    "    return decile\n",
    "\n",
    "decile_each_month = stocks_del.groupby('date').apply(create_decile)"
   ]
  },
  {
   "cell_type": "code",
   "execution_count": null,
   "metadata": {},
   "outputs": [],
   "source": []
  }
 ],
 "metadata": {
  "kernelspec": {
   "display_name": "Python 3",
   "language": "python",
   "name": "python3"
  },
  "language_info": {
   "codemirror_mode": {
    "name": "ipython",
    "version": 3
   },
   "file_extension": ".py",
   "mimetype": "text/x-python",
   "name": "python",
   "nbconvert_exporter": "python",
   "pygments_lexer": "ipython3",
   "version": "3.7.7"
  }
 },
 "nbformat": 4,
 "nbformat_minor": 4
}
