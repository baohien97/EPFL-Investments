{
 "cells": [
  {
   "cell_type": "code",
   "execution_count": 109,
   "metadata": {},
   "outputs": [],
   "source": [
    "import numpy as np\n",
    "import pandas as pd\n",
    "import random as random\n",
    "import matplotlib.pyplot as plt\n",
    "from scipy import stats \n",
    "from datetime import datetime\n",
    "import wrds\n",
    "import statsmodels.api as sm\n",
    "# import statsmodels.api as sm\n",
    "#db = wrds.Connection(wrds_username = 'hienle') \n"
   ]
  },
  {
   "cell_type": "code",
   "execution_count": 142,
   "metadata": {},
   "outputs": [
    {
     "data": {
      "text/html": "<div>\n<style scoped>\n    .dataframe tbody tr th:only-of-type {\n        vertical-align: middle;\n    }\n\n    .dataframe tbody tr th {\n        vertical-align: top;\n    }\n\n    .dataframe thead th {\n        text-align: right;\n    }\n</style>\n<table border=\"1\" class=\"dataframe\">\n  <thead>\n    <tr style=\"text-align: right;\">\n      <th></th>\n      <th>Unnamed: 0</th>\n      <th>Mkt-RF</th>\n      <th>SMB</th>\n      <th>HML</th>\n      <th>RF</th>\n    </tr>\n  </thead>\n  <tbody>\n    <tr>\n      <td>0</td>\n      <td>1976.01</td>\n      <td>0.1216</td>\n      <td>0.0480</td>\n      <td>0.0858</td>\n      <td>0.0047</td>\n    </tr>\n    <tr>\n      <td>1</td>\n      <td>1976.02</td>\n      <td>0.0032</td>\n      <td>0.0703</td>\n      <td>0.0578</td>\n      <td>0.0034</td>\n    </tr>\n    <tr>\n      <td>2</td>\n      <td>1976.03</td>\n      <td>0.0232</td>\n      <td>-0.0117</td>\n      <td>-0.0004</td>\n      <td>0.0040</td>\n    </tr>\n    <tr>\n      <td>3</td>\n      <td>1976.04</td>\n      <td>-0.0149</td>\n      <td>-0.0003</td>\n      <td>-0.0006</td>\n      <td>0.0042</td>\n    </tr>\n    <tr>\n      <td>4</td>\n      <td>1976.05</td>\n      <td>-0.0134</td>\n      <td>-0.0124</td>\n      <td>-0.0132</td>\n      <td>0.0037</td>\n    </tr>\n  </tbody>\n</table>\n</div>",
      "text/plain": "   Unnamed: 0  Mkt-RF     SMB     HML      RF\n0     1976.01  0.1216  0.0480  0.0858  0.0047\n1     1976.02  0.0032  0.0703  0.0578  0.0034\n2     1976.03  0.0232 -0.0117 -0.0004  0.0040\n3     1976.04 -0.0149 -0.0003 -0.0006  0.0042\n4     1976.05 -0.0134 -0.0124 -0.0132  0.0037"
     },
     "execution_count": 142,
     "metadata": {},
     "output_type": "execute_result"
    }
   ],
   "source": [
    "# Berkshire Hathaway \n",
    "#BRK = db.raw_sql(\"select date,ret from crsp.dsf where permno in (17778) and date >='1976-01-01' and date<='2019-12-31'\")\n",
    "ff_100=pd.read_csv(\"F-F_Research_Data_Factors.csv\", sep=\",\")\n",
    "ff=ff_100/100\n",
    "ff_mom=(pd.read_csv(\"ffm.CSV\", sep=\",\"))/100\n",
    "average_rf=(np.mean(ff['RF'])*12)\n",
    "ff.head()\n",
    "#len(BRK)\n",
    "\n",
    "#BRK"
   ]
  },
  {
   "cell_type": "code",
   "execution_count": 143,
   "metadata": {},
   "outputs": [],
   "source": [
    "#BRK.to_csv(\"brk_as5_ex3.csv\")\n",
    "BRK = pd.read_csv(\"brk_as5_ex3.csv\").set_index([\"date\"]).sort_index()[[\"ret\"]]#.dropna()\n"
   ]
  },
  {
   "cell_type": "markdown",
   "metadata": {},
   "source": [
    "## PART B"
   ]
  },
  {
   "cell_type": "code",
   "execution_count": 144,
   "metadata": {},
   "outputs": [
    {
     "name": "stdout",
     "output_type": "stream",
     "text": "Berkshire Hathaway:\nBerkshire Hathaway's annualized excess returns mean: ret    0.182903\ndtype: float64\nBerkshire Hathaway's execss annualized returns' standard deviation: ret    0.241099\ndtype: float64\nBerkshire's annualized returns' Sharpe Ratio: ret    0.758621\ndtype: float64\n \nMarket:\nThe Market's annualized excess returns mean 0.08009149338374288\nThe Market's annualized excess returns' standard deviation 0.15118876622527921\nThe Market's annualized returns' Sharpe Ratio 0.5297450027762137\n \nSMB:\nThe SMB's annualized excess returns mean 0.0231833648393195\nThe SMB's annualized excess returns' standard deviation 0.10267887836666106\nThe SMB's annualized returns' Sharpe Ratio 0.22578513914549084\n \nHML:\nThe HML's annualized excess returns mean 0.02913799621928169\nThe HML's annualized excess returns' standard deviation 0.09994134805358647\nThe HML's annualized returns' Sharpe Ratio 0.29155096250711465\n \nMOM:\nThe MOM's annualized excess returns mean Mom       0.074268\ndtype: float64\nThe MOM's annualized excess returns' standard deviation Mom       0.150003\ndtype: float64\nThe MOM's annualized returns' Sharpe Ratio Mom       0.495112\ndtype: float64\n"
    }
   ],
   "source": [
    "print(\"Berkshire Hathaway:\")\n",
    "print(\"Berkshire Hathaway's annualized excess returns mean:\",np.mean(BRK)*252-average_rf)\n",
    "print(\"Berkshire Hathaway's execss annualized returns' standard deviation:\",np.std(BRK)*np.sqrt(252))\n",
    "print(\"Berkshire's annualized returns' Sharpe Ratio:\",((np.mean(BRK)*252)-average_rf)/(np.std(BRK)*np.sqrt(252)))\n",
    "print(\" \")\n",
    "print(\"Market:\")\n",
    "print(\"The Market's annualized excess returns mean\",np.mean(ff['Mkt-RF'])*12)\n",
    "print(\"The Market's annualized excess returns' standard deviation\",np.std(ff['Mkt-RF'])*np.sqrt(12))\n",
    "print(\"The Market's annualized returns' Sharpe Ratio\",np.mean(ff['Mkt-RF'])/np.std(ff['Mkt-RF'])*np.sqrt(12))\n",
    "print(\" \")\n",
    "print(\"SMB:\")\n",
    "print(\"The SMB's annualized excess returns mean\",np.mean(ff['SMB'])*12)\n",
    "print(\"The SMB's annualized excess returns' standard deviation\",np.std(ff['SMB'])*np.sqrt(12))\n",
    "print(\"The SMB's annualized returns' Sharpe Ratio\",np.mean(ff['SMB'])/np.std(ff['SMB'])*np.sqrt(12))\n",
    "print(\" \")\n",
    "print(\"HML:\")\n",
    "print(\"The HML's annualized excess returns mean\",np.mean(ff['HML'])*12)\n",
    "print(\"The HML's annualized excess returns' standard deviation\",np.std(ff['HML'])*np.sqrt(12))\n",
    "print(\"The HML's annualized returns' Sharpe Ratio\",np.mean(ff['HML'])/np.std(ff['HML'])*np.sqrt(12))\n",
    "print(\" \")\n",
    "print(\"MOM:\")\n",
    "print(\"The MOM's annualized excess returns mean\",np.mean((ff_mom)*12))\n",
    "print(\"The MOM's annualized excess returns' standard deviation\",np.std(ff_mom)*np.sqrt(12))\n",
    "print(\"The MOM's annualized returns' Sharpe Ratio\",np.mean(ff_mom)/np.std(ff_mom)*np.sqrt(12))"
   ]
  },
  {
   "cell_type": "markdown",
   "metadata": {},
   "source": [
    "## PART C"
   ]
  },
  {
   "cell_type": "code",
   "execution_count": 157,
   "metadata": {},
   "outputs": [],
   "source": [
    "BRK.index = pd.DatetimeIndex(BRK.index)\n",
    "BRK_monthly = BRK.resample(\"1m\").mean()*21 #take the first or last return of each month, or choose another function\n",
    "BRK_monthly.index = BRK_monthly.index.to_period(\"m\")\n",
    "\n",
    "\n"
   ]
  },
  {
   "cell_type": "code",
   "execution_count": 159,
   "metadata": {},
   "outputs": [
    {
     "data": {
      "text/plain": "ret    0.020351\ndtype: float64"
     },
     "execution_count": 159,
     "metadata": {},
     "output_type": "execute_result"
    }
   ],
   "source": [
    "np.mean(BRK_monthly)"
   ]
  },
  {
   "cell_type": "code",
   "execution_count": 146,
   "metadata": {},
   "outputs": [],
   "source": [
    "\n",
    "ff = ff.iloc[9:528]\n",
    "len(ff)"
   ]
  },
  {
   "cell_type": "code",
   "execution_count": 160,
   "metadata": {},
   "outputs": [],
   "source": [
    "def ols(covariates):\n",
    "    y=R_e_brk\n",
    "    X=ff[covariates]\n",
    "    X=list(X)\n",
    "    X=sm.add_constant(X)\n",
    "    reg=sm.OLS(y,X).fit()\n",
    "    print(reg.summary())\n",
    "    print(\"The corresponding Information Ratio is\",np.divide(reg.params[0],np.sqrt(reg.mse_resid))*np.sqrt(12))"
   ]
  },
  {
   "cell_type": "code",
   "execution_count": 161,
   "metadata": {},
   "outputs": [
    {
     "name": "stdout",
     "output_type": "stream",
     "text": "OLS Regression Results                            \n==============================================================================\nDep. Variable:                      y   R-squared:                       0.160\nModel:                            OLS   Adj. R-squared:                  0.158\nMethod:                 Least Squares   F-statistic:                     98.19\nDate:                Wed, 18 Mar 2020   Prob (F-statistic):           2.62e-21\nTime:                        19:08:43   Log-Likelihood:                 673.82\nNo. Observations:                 519   AIC:                            -1344.\nDf Residuals:                     517   BIC:                            -1335.\nDf Model:                           1                                         \nCovariance Type:            nonrobust                                         \n==============================================================================\n                 coef    std err          t      P>|t|      [0.025      0.975]\n------------------------------------------------------------------------------\nconst          0.0124      0.003      4.234      0.000       0.007       0.018\nx1             0.6586      0.066      9.909      0.000       0.528       0.789\n==============================================================================\nOmnibus:                      376.984   Durbin-Watson:                   1.638\nProb(Omnibus):                  0.000   Jarque-Bera (JB):            11979.170\nSkew:                           2.744   Prob(JB):                         0.00\nKurtosis:                      25.888   Cond. No.                         22.9\n==============================================================================\n\nWarnings:\n[1] Standard Errors assume that the covariance matrix of the errors is correctly specified.\nThe corresponding Information Ratio is 0.6508124085770653\n"
    }
   ],
   "source": [
    "R_e_brk=list(np.array(BRK_monthly['ret']) - ff['RF'])\n",
    "ols('Mkt-RF')"
   ]
  },
  {
   "cell_type": "code",
   "execution_count": null,
   "metadata": {},
   "outputs": [],
   "source": []
  }
 ],
 "metadata": {
  "kernelspec": {
   "display_name": "Python 3",
   "language": "python",
   "name": "python3"
  },
  "language_info": {
   "codemirror_mode": {
    "name": "ipython",
    "version": 3
   },
   "file_extension": ".py",
   "mimetype": "text/x-python",
   "name": "python",
   "nbconvert_exporter": "python",
   "pygments_lexer": "ipython3",
   "version": "3.7.4-final"
  }
 },
 "nbformat": 4,
 "nbformat_minor": 2
}